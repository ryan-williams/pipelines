{
 "cells": [
  {
   "cell_type": "code",
   "execution_count": 64,
   "metadata": {},
   "outputs": [],
   "source": [
    "from io import BytesIO\n",
    "from kfp.components import load_component\n",
    "from os.path import join as path\n",
    "from requests import get as GET\n",
    "import tarfile\n",
    "from tarfile import TarError\n",
    "from urllib.parse import urlparse\n",
    "import zipfile\n",
    "\n",
    "import kfp"
   ]
  },
  {
   "cell_type": "code",
   "execution_count": 65,
   "metadata": {},
   "outputs": [],
   "source": [
    "url = 'gs://ml-pipeline-playground/coin.tar.gz'\n",
    "http = 'https://storage.googleapis.com/ml-pipeline-playground/coin.tar.gz'\n",
    "dir = '/Users/ryan/c/pipelines/backend'\n",
    "tar_gz = path(dir, 'coin.tar.gz')\n",
    "tar = path(dir, 'coin.tar')\n",
    "zip = path(dir, 'coin.zip')\n",
    "yaml = path(dir, 'pipeline.yaml')"
   ]
  },
  {
   "cell_type": "code",
   "execution_count": 117,
   "metadata": {},
   "outputs": [],
   "source": [
    "file = '/Users/ryan/c/pipelines/samples/core/condition/condition.py.zip'"
   ]
  },
  {
   "cell_type": "code",
   "execution_count": 66,
   "metadata": {},
   "outputs": [
    {
     "data": {
      "text/plain": [
       "<Response [200]>"
      ]
     },
     "execution_count": 66,
     "metadata": {},
     "output_type": "execute_result"
    }
   ],
   "source": [
    "resp = GET(http); resp"
   ]
  },
  {
   "cell_type": "code",
   "execution_count": 67,
   "metadata": {
    "scrolled": true
   },
   "outputs": [
    {
     "data": {
      "text/plain": [
       "b'\\x1f\\x8b\\x08\\x08\\xc3\\xbc\\xe4[\\x02\\xffcondition.py.tar\\x00\\xed\\x18\\xbbn\\xdb0\\xd0\\xb3\\xbf\\x82\\xc8\\xe2\\x14\\xa8d=\\xea\\x18U\\x90\\xa1K\\x97\\x02]\\n\\xb4C\\xd1\\x81\\xa1\\x18\\x9b\\xb1D\\xb2$\\x95\\xc0M\\xf3\\xef=K\\xb2L\\xc5\\x92\\xe0$\\x8e\\x9b\\x87\\xce\\x83%\\xf2xo\\xdd\\x83\\x92I\\x9a0N\\xdd%N\\x93\\xc1\\xd3\\x80\\x07p\\xe2y\\x03\\xdf\\xf3\\xc2\\x89\\xe7\\x0f\\xbc`2\\x9d\\x04a\\xbe\\xeey\\xfe\\xf4\\x83\\x1f\\x0e\\xfc0\\x9c\\xfa~x\\x12z\\xb0\\xeeO\\xa6\\xd3\\xc9\\x00y\\x83\\x03@\\xa6\\rV\\x08\\r~\\xb3\\x94\\xf1\\xd9e+\\x9eT,\\xc5j9S\"\\x93mJ\\x02T\\xff/\\x04\\xb0d\\xdf\\xa9\\xd2L\\xf0\\x08a5\\x13R\\x89K\\x97\\x89\\xf1\\x95\\x8f\\x139\\xc7\\xfep\\xc1x\\x1c\\xa1\\x1fB-.\\x12q=L\\xa9\\xc1168\\x1a\"4\\xa3\\x9c*l\\xe8W\\x9c\\xd2\\x08\\xc92\\x92\\x9c\\x8b\\x84I\\x87\\x08\\xc6\\x9d\\xa1\\x96\\x94\\xac0\\x81r\\x96Rn\\xf4\\xea\\x05!\\x89\\x15\\x1c1\\xc07B?\\x7f\\xc1\\x12l\\xa9\\xa5\\x84#\\xa6\\x89\\x0e h\\xaa\\xae\\x18\\xa1\\x9f\\x08\\x11\\x197w\\x18\\xaa\\x8c\\x83 \\x80eh*\\x13\\x10(g\\xe3 \\xc6e\\xb6fYcZ\\xae8\\x88\\xe7\\x84rF\"3\\x80\\x9d\\xef\\x14\\xabD\\xf0\\x98\\x190\\x8c\\xe3\\xe7\\xab\\xdaPY\\x1eu\\xe0wG\\xa56\\x1e]|\\xd6p\\x85\\x93\\x0c\\xb6G77\\x85\\xc4\\xee\\x86\\x8ck\\x9d\\xb9\\xbd\\x1dU\\xc7\\xb6Dt\\xc8\\x9c%q\\xb5\\xbf\\xb6D\\x17\\xce\\xf5\\x9c\\xf2]\\xb8\\xa2\\xb334\\xa78\\xd6\\xa3\\xdc\\xaa1\\x9e\\xad\\x953X/,k>\\xd4$x\\x86!X:\\r\\x93sr7\\xd8n\\x81\\xbd-\\xb4M\\xcb6\\xd8\\x93x!\\xa6\\x92\\xf2\\x98r\\xc2\\xa8\\xa5\\x9dci\\xd5\\xea\\xb0\\xa0\\xd3U\\xc1\\xa3m\\xba\\xcf0kPg#\\xf4\\x9d\\xcd\\xbd}sU\\xb0\\xde\\xf3;n\\x08\\xa6]y\\x06\\xfb\\xfc\\xcew\\x08\\xea\\x167\\x1c4\\x84\\xb7l\\xb0C\"\\t\\xee\\x99H\\xea\\n\\xad\\xd2\\x89\\xc1,\\xf9\\x9f\\xe9\\xe4\\xf9X\\x1e\\xda\\nn\\xfc\\x06s[\\x1b\\x07\\x8b\\xff\\x87~s\\x1d4\\xc3\\xe7_;\\xc3\\x1dB>|D\\xed|\\xd2`\\xdf{,\\x06m\\xb1\\x18\\xec5\\xbf\\x87V\\xac\\xc1*\\xd8\\x08Z\\xb85\\x110\\x86EP.\\xcd\\\\p\\xe4\\x10t\\xc4R)\\x94A\\n\\xf3X\\xa4\\xa7HQ\\x9d%\\x06\\x9d\\xa1Q\\xd1\\x9f vQ\\xee\\xb9\\xab?\\x10\\xfa\\xd8{\\xef\\xbf[9\\xc1C4\\xd1\\xb4\\xd2mT8\\xe5\\xb4P\\xed\\xb8 \\xf4\\xee\\x08\\xfd\\x05\\xad)\\x1a\\x9bT\\x8ek\\x96%\"M\\x81\\xe2F(=\\xaf\\x1e\\x1dR>\\xc2\\x800[Y+\\x977\\x82\\xfe\\x19t\\n\\xdd\\x93a\\xbd\\x92\\xe6\\xafe\\xfb\\xb2Q\\xd8\\xb0\\x0bL\\xcc\\x96\\x19\\xd3\\xa4\\xear3\\xe6\\xac\\x9b\\xef\\xe1&@\\xcc<B\\xe3f,\\xf7R\\x8bM\\xc5\\xd6\\xa1\\x1dC\\x98\\x10\\xaa\\xf5\\x17\\xba\\xfcF\\x89\\xa2&\\xaa\\x05\\xd0\\x82.\\xa3\\x12\\x03\\x1ek[[R\\xc1\\xd0\\xc4\\x84\\xb3\\x96\\xdf\\xc2=\\xcf\\xc8\\x02\\x08[\\xb8\\xd6&tMe\\xb7_\\x9c/\\xdb{w\\x91\\x9d\\xd3\\xd5\\x98\\x11}\\x84\\x11\\xca\\xc2g\\\\S\\x92)`mTf\\x13\\xcaE\\x85\\xfe_\\x8fon\\xae\\xcb\\x19\\xc5\\xcdX|{\\x0b\\x0bR\\xc4\\xeeJ`xi\\xb1\\x90\\x99\\xfd\\xb1\\x88\\xe9\\xdc\\x16]F)0\\x1ef\\x94\\x06\\x97\\x82\\x1c\\x8a\\x11\\xdd\\xe1\\xce\\x12\\xa3we\\xa3+\\xd7\\xd69\\xa4\\x1bwOyU.\\xfe\\xacDZO\\xeb\\xb9\\x9bkI\\xe6\\xadeAkd\\xe8sa\\x9f\\x0b\\xfb\\\\\\xf8\\nsa\\xe3 v\\x8f\\x8cx\\xe0nys\\xc7\\xd4z\\xbbt\\xbf+\\xa0\\xf6\\xdb\\xba\\xee{\\xba\\xd7\\xa2f\\xd8=R5\\x84L\\xcb\\xfd\\x92U;\\x1ao\\x87\\x1b\\x8a\\xe7V\\xa9\\xa2d.\\xaa\\x97\\xd1\\x113\\xe8\\x1a\\xeb|6;\\x1a\\xd5+WQ\\xb2\\xa2z\\xcd\\xb2\\xc6\\xf1\\xbe^\\xf5\\xf5\\xaa\\xafW/\\xad^\\x1d*G\\x04}\\x8e\\xe8sD\\x9f#^`\\x8e\\x18\\xf4\\xd0C\\x0f=\\xf4\\xd0\\xc3[\\x81\\x7f\\x0b\\xfe<R\\x00(\\x00\\x00'"
      ]
     },
     "execution_count": 67,
     "metadata": {},
     "output_type": "execute_result"
    }
   ],
   "source": [
    "resp.content"
   ]
  },
  {
   "cell_type": "code",
   "execution_count": 68,
   "metadata": {},
   "outputs": [
    {
     "data": {
      "text/plain": [
       "True"
      ]
     },
     "execution_count": 68,
     "metadata": {},
     "output_type": "execute_result"
    }
   ],
   "source": [
    "resp.ok"
   ]
  },
  {
   "cell_type": "code",
   "execution_count": 98,
   "metadata": {},
   "outputs": [],
   "source": [
    "def url_or_file_to_bytes(url):\n",
    "  parsed = urlparse(url)\n",
    "  if not parsed.scheme:\n",
    "    with open(url, 'rb') as f:\n",
    "        return f.read()\n",
    "  else:\n",
    "    resp = GET(url)\n",
    "    assert resp.ok\n",
    "    return resp.content"
   ]
  },
  {
   "cell_type": "code",
   "execution_count": 105,
   "metadata": {},
   "outputs": [],
   "source": [
    "from kfp import components"
   ]
  },
  {
   "cell_type": "code",
   "execution_count": 162,
   "metadata": {},
   "outputs": [],
   "source": [
    "swf_yaml_path = '/Users/ryan/c/pipelines/backend/src/crd/samples/scheduledworkflow/kfp.yaml'"
   ]
  },
  {
   "cell_type": "code",
   "execution_count": 163,
   "metadata": {},
   "outputs": [],
   "source": [
    "import yaml"
   ]
  },
  {
   "cell_type": "code",
   "execution_count": 182,
   "metadata": {},
   "outputs": [],
   "source": [
    "with open(swf_yaml_path, 'r') as f:\n",
    "    swf_spec = yaml.safe_load(f)"
   ]
  },
  {
   "cell_type": "code",
   "execution_count": 165,
   "metadata": {},
   "outputs": [
    {
     "data": {
      "text/plain": [
       "{'apiVersion': 'kubeflow.org/v1beta1',\n",
       " 'kind': 'ScheduledWorkflow',\n",
       " 'metadata': {'name': 'kfp-test-coin-1x'},\n",
       " 'spec': {'description': 'kfp test (coin.tar.gz, once)',\n",
       "  'enabled': True,\n",
       "  'maxHistory': 10,\n",
       "  'trigger': {'cronSchedule': {'cron': '1 * * * * *'}},\n",
       "  'workflow': {'parameters': [{'name': 'datetime',\n",
       "     'value': '[[ScheduledTime.20060102-15:04:05]]'}],\n",
       "   'spec': {'arguments': {'parameters': [{'name': 'datetime'}]},\n",
       "    'entrypoint': 'kfp',\n",
       "    'templates': [{'container': {'args': ['{{inputs.parameters.datetime}}'],\n",
       "       'command': ['python', 'swf_kfp.py'],\n",
       "       'image': 'swf-kfp:3'},\n",
       "      'inputs': {'parameters': [{'name': 'datetime'}]},\n",
       "      'name': 'kfp'}]}}}}"
      ]
     },
     "execution_count": 165,
     "metadata": {},
     "output_type": "execute_result"
    }
   ],
   "source": [
    "swf_spec"
   ]
  },
  {
   "cell_type": "code",
   "execution_count": 183,
   "metadata": {},
   "outputs": [],
   "source": [
    "import json"
   ]
  },
  {
   "cell_type": "code",
   "execution_count": 185,
   "metadata": {},
   "outputs": [],
   "source": [
    "from pprint import pprint"
   ]
  },
  {
   "cell_type": "code",
   "execution_count": 186,
   "metadata": {},
   "outputs": [
    {
     "name": "stdout",
     "output_type": "stream",
     "text": [
      "{'apiVersion': 'kubeflow.org/v1beta1',\n",
      " 'kind': 'ScheduledWorkflow',\n",
      " 'metadata': {'name': ''},\n",
      " 'spec': {'description': '',\n",
      "          'enabled': True,\n",
      "          'maxHistory': 10,\n",
      "          'trigger': {'cronSchedule': {'cron': '* * * * *'}},\n",
      "          'workflow': {'parameters': [{'name': 'datetime',\n",
      "                                       'value': '[[ScheduledTime.20060102-15:04:05]]'},\n",
      "                                      {'name': 'pipeline_yaml', 'value': ''}],\n",
      "                       'spec': {'arguments': {'parameters': [{'name': 'datetime'},\n",
      "                                                             {'name': 'pipeline_yaml'}]},\n",
      "                                'entrypoint': 'kfp',\n",
      "                                'templates': [{'container': {'args': ['--datetime',\n",
      "                                                                      '{{inputs.parameters.datetime}}',\n",
      "                                                                      '--pipeline_yaml',\n",
      "                                                                      '{{inputs.parameters.pipeline_yaml}}'],\n",
      "                                                             'command': ['python',\n",
      "                                                                         'swf_kfp_runner.py'],\n",
      "                                                             'image': 'swf-kfp:3'},\n",
      "                                               'inputs': {'parameters': [{'name': 'datetime'},\n",
      "                                                                         {'name': 'pipeline_yaml'}]},\n",
      "                                               'name': 'kfp'}]}}}}\n"
     ]
    }
   ],
   "source": [
    "pprint(swf_spec)"
   ]
  },
  {
   "cell_type": "code",
   "execution_count": 192,
   "metadata": {},
   "outputs": [],
   "source": [
    "def get_metadata(pipeline):\n",
    "    if 'metadata' not in pipeline:\n",
    "        raise Exception('No \"metadata\" found in pipeline')\n",
    "    return pipeline['metadata']"
   ]
  },
  {
   "cell_type": "code",
   "execution_count": 214,
   "metadata": {},
   "outputs": [],
   "source": [
    "def get_annotations(pipeline):\n",
    "    metadata = get_metadata(pipeline)\n",
    "    if 'annotations' not in metadata:\n",
    "        raise Exception('No \"annotations\" found in pipeline \"metadata\"')\n",
    "    annotations = metadata['annotations']\n",
    "    if 'pipelines.kubeflow.org/pipeline_spec' not in annotations:\n",
    "        raise Exception('\"pipelines.kubeflow.org/pipeline_spec\" not found in pipeline metadata.annotations')\n",
    "    annotations = json.loads(annotations['pipelines.kubeflow.org/pipeline_spec'])\n",
    "    return annotations['name'], annotations['description']"
   ]
  },
  {
   "cell_type": "code",
   "execution_count": 215,
   "metadata": {},
   "outputs": [],
   "source": [
    "def get_name(pipeline):\n",
    "    metadata = get_metadata(pipeline)\n",
    "\n",
    "    if 'generateName' not in metadata:\n",
    "        raise Exception('No \"generateName\" found in pipeline metadata')\n",
    "\n",
    "    name = metadata['generateName']\n",
    "    if name[-1] == '-':\n",
    "        name = name[:-1]\n",
    "\n",
    "    return name"
   ]
  },
  {
   "cell_type": "code",
   "execution_count": 216,
   "metadata": {},
   "outputs": [],
   "source": [
    "def get_description(pipeline):\n",
    "    (_, description) = get_annotations(pipeline)\n",
    "    return description"
   ]
  },
  {
   "cell_type": "code",
   "execution_count": 217,
   "metadata": {},
   "outputs": [],
   "source": [
    "def try_extract_pipeline_tar(bytes):\n",
    "    try:\n",
    "        with tarfile.open(fileobj=BytesIO(bytes), mode='r') as f:\n",
    "            names = f.getnames()\n",
    "            if names == ['pipeline.yaml']:\n",
    "                tar_info = f.getmember('pipeline.yaml')\n",
    "                if tar_info.isfile():\n",
    "                    return f.extractfile(tar_info).read()\n",
    "                raise Exception('\"pipeline.yaml\" in TAR archive is not a regular file')\n",
    "            raise Exception('Expected TAR archive to contain only a \"pipeline.yaml\"; found %s' % names)\n",
    "    except TarError:\n",
    "        return None"
   ]
  },
  {
   "cell_type": "code",
   "execution_count": 218,
   "metadata": {},
   "outputs": [],
   "source": [
    "def try_extract_pipeline_zip(bytes):\n",
    "    try:\n",
    "        with ZipFile(BytesIO(bytes), mode='r') as f:\n",
    "            names = f.namelist()\n",
    "            if names == ['pipeline.yaml']:\n",
    "                return f.read('pipeline.yaml')\n",
    "            raise Exception('Expected ZIP archive to contain only a \"pipeline.yaml\"; found %s' % names)\n",
    "    except BadZipFile:\n",
    "        return None"
   ]
  },
  {
   "cell_type": "code",
   "execution_count": 219,
   "metadata": {},
   "outputs": [],
   "source": [
    "condition_zip_path = '/Users/ryan/c/pipelines/samples/core/condition/condition.py.zip'"
   ]
  },
  {
   "cell_type": "code",
   "execution_count": 220,
   "metadata": {},
   "outputs": [],
   "source": [
    "def load_pipeline_yaml(path):\n",
    "    bytes = url_or_file_to_bytes(path)\n",
    "    pipeline_yaml = try_extract_pipeline_tar(bytes)\n",
    "    if pipeline_yaml is None:\n",
    "        pipeline_yaml = try_extract_pipeline_zip(bytes)\n",
    "        if pipeline_yaml is None:\n",
    "            pipeline_yaml = bytes\n",
    "    return yaml.safe_load(pipeline_yaml)"
   ]
  },
  {
   "cell_type": "code",
   "execution_count": 247,
   "metadata": {},
   "outputs": [],
   "source": [
    "DEFAULT_CRON_SCHEDULE = \"/10 * * * * *\"\n",
    "def make_swf_kfp(\n",
    "    pipeline_path, \n",
    "    name=None, description=None, \n",
    "    cron=None, intervalSecond=None, \n",
    "    start=None, end=None,\n",
    "    maxHistory=10, enabled=True\n",
    "):\n",
    "    \"\"\"\"\"\"\n",
    "    pipeline = load_pipeline_yaml(pipeline_path)\n",
    "    \n",
    "    with open(swf_yaml_path, 'r') as f:\n",
    "        swf = yaml.safe_load(f)\n",
    "    \n",
    "    spec = swf['spec']\n",
    "    \n",
    "    if name is None:\n",
    "        name = get_name(pipeline)\n",
    "    \n",
    "    if description is None:\n",
    "        description = get_description(pipeline)\n",
    "    \n",
    "    if (cron is not None) and (intervalSecond is not None):\n",
    "        raise Exception('At most one of {\"cron\",\"interval\"} should be provided; received cron %s, interval %s' % (cron, intervalSecond))\n",
    "    \n",
    "    if (cron is None) and (intervalSecond is None):\n",
    "        cron = DEFAULT_CRON_SCHEDULE\n",
    "        \n",
    "    schedule = {}\n",
    "    if start is not None:\n",
    "        schedule['startTime'] = start\n",
    "    if end is not None:\n",
    "        schedule['endTime'] = end\n",
    "    \n",
    "    msg_parts = []    \n",
    "    trigger = {}\n",
    "    if cron is not None:\n",
    "        schedule['cron'] = cron\n",
    "        msg_parts.append('cron: %s' % cron)\n",
    "        trigger['cronSchedule'] = schedule\n",
    "    else:\n",
    "        schedule['intervalSecond'] = intervalSecond\n",
    "        msg_parts.append('interval: %d' % intervalSecond)\n",
    "        trigger['periodicSchedule'] = schedule\n",
    "        \n",
    "    spec['enabled'] = enabled\n",
    "    spec['maxHistory'] = maxHistory\n",
    "    spec['trigger'] = trigger\n",
    "\n",
    "    if start is not None:\n",
    "        msg_parts.append('start: %s' % str(start))\n",
    "    if end is not None:\n",
    "        msg_parts.append('end: %s' % str(end))\n",
    "\n",
    "    spec['description'] = 'ScheduledWorkflow (%s): %s' % (', '.join(msg_parts), description)\n",
    "\n",
    "    swf_name = 'swf-%s' % name\n",
    "    spec['name'] = swf_name\n",
    "    metadata = swf['metadata']\n",
    "    metadata['name'] = swf_name\n",
    "\n",
    "    workflow = spec['workflow']\n",
    "\n",
    "    parameters = workflow['parameters']\n",
    "    parameters[1]['value'] = yaml.dump(pipeline)\n",
    "    \n",
    "    workflow_spec = workflow['spec']\n",
    "    templates = workflow_spec['templates']\n",
    "    template = templates[0]\n",
    "    container = template['container']\n",
    "    args = container['args']\n",
    "    args[-1] = name\n",
    "\n",
    "    return swf"
   ]
  },
  {
   "cell_type": "code",
   "execution_count": 248,
   "metadata": {
    "scrolled": true
   },
   "outputs": [
    {
     "data": {
      "text/plain": [
       "{'apiVersion': 'kubeflow.org/v1beta1',\n",
       " 'kind': 'ScheduledWorkflow',\n",
       " 'metadata': {'name': 'swf-conditional-execution-pipeline'},\n",
       " 'spec': {'description': 'ScheduledWorkflow (cron: /10 * * * * *): Shows how to use dsl.Condition().',\n",
       "  'enabled': True,\n",
       "  'maxHistory': 10,\n",
       "  'name': 'swf-conditional-execution-pipeline',\n",
       "  'trigger': {'cronSchedule': {'cron': '/10 * * * * *'}},\n",
       "  'workflow': {'parameters': [{'name': 'datetime',\n",
       "     'value': '[[ScheduledTime.20060102-15:04:05]]'},\n",
       "    {'name': 'pipeline_yaml',\n",
       "     'value': 'apiVersion: argoproj.io/v1alpha1\\nkind: Workflow\\nmetadata:\\n  annotations: {pipelines.kubeflow.org/pipeline_spec: \\'{\"description\": \"Shows how\\n      to use dsl.Condition().\", \"name\": \"Conditional execution pipeline\"}\\'}\\n  generateName: conditional-execution-pipeline-\\nspec:\\n  arguments:\\n    parameters: []\\n  entrypoint: conditional-execution-pipeline\\n  serviceAccountName: pipeline-runner\\n  templates:\\n  - dag:\\n      tasks:\\n      - arguments:\\n          parameters:\\n          - {name: generate-random-number-output, value: \\'{{tasks.generate-random-number.outputs.parameters.generate-random-number-output}}\\'}\\n        dependencies: [generate-random-number]\\n        name: condition-2\\n        template: condition-2\\n        when: \\'{{tasks.generate-random-number.outputs.parameters.generate-random-number-output}}\\n          > 5\\'\\n      - arguments:\\n          parameters:\\n          - {name: generate-random-number-output, value: \\'{{tasks.generate-random-number.outputs.parameters.generate-random-number-output}}\\'}\\n        dependencies: [generate-random-number]\\n        name: condition-3\\n        template: condition-3\\n        when: \\'{{tasks.generate-random-number.outputs.parameters.generate-random-number-output}}\\n          <= 5\\'\\n      - {name: generate-random-number, template: generate-random-number}\\n    name: condition-1\\n  - dag:\\n      tasks:\\n      - arguments:\\n          parameters:\\n          - {name: generate-random-number-output, value: \\'{{inputs.parameters.generate-random-number-output}}\\'}\\n        name: print\\n        template: print\\n    inputs:\\n      parameters:\\n      - {name: generate-random-number-output}\\n    name: condition-2\\n  - dag:\\n      tasks:\\n      - arguments:\\n          parameters:\\n          - {name: generate-random-number-output, value: \\'{{inputs.parameters.generate-random-number-output}}\\'}\\n        name: print-2\\n        template: print-2\\n    inputs:\\n      parameters:\\n      - {name: generate-random-number-output}\\n    name: condition-3\\n  - dag:\\n      tasks:\\n      - arguments:\\n          parameters:\\n          - {name: generate-random-number-2-output, value: \\'{{tasks.generate-random-number-2.outputs.parameters.generate-random-number-2-output}}\\'}\\n        dependencies: [generate-random-number-2]\\n        name: condition-5\\n        template: condition-5\\n        when: \\'{{tasks.generate-random-number-2.outputs.parameters.generate-random-number-2-output}}\\n          > 15\\'\\n      - arguments:\\n          parameters:\\n          - {name: generate-random-number-2-output, value: \\'{{tasks.generate-random-number-2.outputs.parameters.generate-random-number-2-output}}\\'}\\n        dependencies: [generate-random-number-2]\\n        name: condition-6\\n        template: condition-6\\n        when: \\'{{tasks.generate-random-number-2.outputs.parameters.generate-random-number-2-output}}\\n          <= 15\\'\\n      - {name: generate-random-number-2, template: generate-random-number-2}\\n    name: condition-4\\n  - dag:\\n      tasks:\\n      - arguments:\\n          parameters:\\n          - {name: generate-random-number-2-output, value: \\'{{inputs.parameters.generate-random-number-2-output}}\\'}\\n        name: print-3\\n        template: print-3\\n    inputs:\\n      parameters:\\n      - {name: generate-random-number-2-output}\\n    name: condition-5\\n  - dag:\\n      tasks:\\n      - arguments:\\n          parameters:\\n          - {name: generate-random-number-2-output, value: \\'{{inputs.parameters.generate-random-number-2-output}}\\'}\\n        name: print-4\\n        template: print-4\\n    inputs:\\n      parameters:\\n      - {name: generate-random-number-2-output}\\n    name: condition-6\\n  - dag:\\n      tasks:\\n      - dependencies: [flip-coin]\\n        name: condition-1\\n        template: condition-1\\n        when: \\'\"{{tasks.flip-coin.outputs.parameters.flip-coin-output}}\" == \"heads\"\\'\\n      - dependencies: [flip-coin]\\n        name: condition-4\\n        template: condition-4\\n        when: \\'\"{{tasks.flip-coin.outputs.parameters.flip-coin-output}}\" == \"tails\"\\'\\n      - {name: flip-coin, template: flip-coin}\\n    name: conditional-execution-pipeline\\n  - container:\\n      args: [\\'python -c \"import random; result = \\'\\'heads\\'\\' if random.randint(0,1)\\n          == 0 else \\'\\'tails\\'\\'; print(result)\" | tee /tmp/output\\']\\n      command: [sh, -c]\\n      image: python:alpine3.6\\n    name: flip-coin\\n    outputs:\\n      artifacts:\\n      - {name: flip-coin-output, path: /tmp/output}\\n      parameters:\\n      - name: flip-coin-output\\n        valueFrom: {path: /tmp/output}\\n  - container:\\n      args: [\\'python -c \"import random; print(random.randint($0, $1))\" | tee $2\\',\\n        \\'0\\', \\'9\\', /tmp/output]\\n      command: [sh, -c]\\n      image: python:alpine3.6\\n    name: generate-random-number\\n    outputs:\\n      artifacts:\\n      - {name: generate-random-number-output, path: /tmp/output}\\n      parameters:\\n      - name: generate-random-number-output\\n        valueFrom: {path: /tmp/output}\\n  - container:\\n      args: [\\'python -c \"import random; print(random.randint($0, $1))\" | tee $2\\',\\n        \\'10\\', \\'19\\', /tmp/output]\\n      command: [sh, -c]\\n      image: python:alpine3.6\\n    name: generate-random-number-2\\n    outputs:\\n      artifacts:\\n      - {name: generate-random-number-2-output, path: /tmp/output}\\n      parameters:\\n      - name: generate-random-number-2-output\\n        valueFrom: {path: /tmp/output}\\n  - container:\\n      command: [echo, \\'heads and {{inputs.parameters.generate-random-number-output}}\\n          > 5!\\']\\n      image: alpine:3.6\\n    inputs:\\n      parameters:\\n      - {name: generate-random-number-output}\\n    name: print\\n  - container:\\n      command: [echo, \\'heads and {{inputs.parameters.generate-random-number-output}}\\n          <= 5!\\']\\n      image: alpine:3.6\\n    inputs:\\n      parameters:\\n      - {name: generate-random-number-output}\\n    name: print-2\\n  - container:\\n      command: [echo, \\'tails and {{inputs.parameters.generate-random-number-2-output}}\\n          > 15!\\']\\n      image: alpine:3.6\\n    inputs:\\n      parameters:\\n      - {name: generate-random-number-2-output}\\n    name: print-3\\n  - container:\\n      command: [echo, \\'tails and {{inputs.parameters.generate-random-number-2-output}}\\n          <= 15!\\']\\n      image: alpine:3.6\\n    inputs:\\n      parameters:\\n      - {name: generate-random-number-2-output}\\n    name: print-4\\n'}],\n",
       "   'spec': {'arguments': {'parameters': [{'name': 'datetime'},\n",
       "      {'name': 'pipeline_yaml'}]},\n",
       "    'entrypoint': 'kfp',\n",
       "    'templates': [{'container': {'args': ['--datetime',\n",
       "        '{{inputs.parameters.datetime}}',\n",
       "        '--pipeline_yaml',\n",
       "        '{{inputs.parameters.pipeline_yaml}}',\n",
       "        '--name',\n",
       "        'conditional-execution-pipeline'],\n",
       "       'command': ['python', 'swf_kfp_runner.py'],\n",
       "       'image': 'swf-kfp:3'},\n",
       "      'inputs': {'parameters': [{'name': 'datetime'},\n",
       "        {'name': 'pipeline_yaml'}]},\n",
       "      'name': 'kfp'}]}}}}"
      ]
     },
     "execution_count": 248,
     "metadata": {},
     "output_type": "execute_result"
    }
   ],
   "source": [
    "swf = make_swf_kfp(condition_zip_path); swf"
   ]
  },
  {
   "cell_type": "code",
   "execution_count": 244,
   "metadata": {
    "scrolled": false
   },
   "outputs": [
    {
     "name": "stdout",
     "output_type": "stream",
     "text": [
      "apiVersion: kubeflow.org/v1beta1\n",
      "kind: ScheduledWorkflow\n",
      "metadata: {name: swf-conditional-execution-pipeline}\n",
      "spec:\n",
      "  description: 'ScheduledWorkflow (cron: * * * * *): Shows how to use dsl.Condition().'\n",
      "  enabled: true\n",
      "  maxHistory: 10\n",
      "  name: swf-conditional-execution-pipeline\n",
      "  trigger:\n",
      "    cronSchedule: {cron: '* * * * *'}\n",
      "  workflow:\n",
      "    parameters:\n",
      "    - {name: datetime, value: '[[ScheduledTime.20060102-15:04:05]]'}\n",
      "    - {name: pipeline_yaml, value: \"apiVersion: argoproj.io/v1alpha1\\nkind: Workflow\\n\\\n",
      "        metadata:\\n  annotations: {pipelines.kubeflow.org/pipeline_spec: '{\\\"description\\\"\\\n",
      "        : \\\"Shows how\\n      to use dsl.Condition().\\\", \\\"name\\\": \\\"Conditional execution\\\n",
      "        \\ pipeline\\\"}'}\\n  generateName: conditional-execution-pipeline-\\nspec:\\n\\\n",
      "        \\  arguments:\\n    parameters: []\\n  entrypoint: conditional-execution-pipeline\\n\\\n",
      "        \\  serviceAccountName: pipeline-runner\\n  templates:\\n  - dag:\\n      tasks:\\n\\\n",
      "        \\      - arguments:\\n          parameters:\\n          - {name: generate-random-number-output,\\\n",
      "        \\ value: '{{tasks.generate-random-number.outputs.parameters.generate-random-number-output}}'}\\n\\\n",
      "        \\        dependencies: [generate-random-number]\\n        name: condition-2\\n\\\n",
      "        \\        template: condition-2\\n        when: '{{tasks.generate-random-number.outputs.parameters.generate-random-number-output}}\\n\\\n",
      "        \\          > 5'\\n      - arguments:\\n          parameters:\\n          - {name:\\\n",
      "        \\ generate-random-number-output, value: '{{tasks.generate-random-number.outputs.parameters.generate-random-number-output}}'}\\n\\\n",
      "        \\        dependencies: [generate-random-number]\\n        name: condition-3\\n\\\n",
      "        \\        template: condition-3\\n        when: '{{tasks.generate-random-number.outputs.parameters.generate-random-number-output}}\\n\\\n",
      "        \\          <= 5'\\n      - {name: generate-random-number, template: generate-random-number}\\n\\\n",
      "        \\    name: condition-1\\n  - dag:\\n      tasks:\\n      - arguments:\\n     \\\n",
      "        \\     parameters:\\n          - {name: generate-random-number-output, value:\\\n",
      "        \\ '{{inputs.parameters.generate-random-number-output}}'}\\n        name: print\\n\\\n",
      "        \\        template: print\\n    inputs:\\n      parameters:\\n      - {name: generate-random-number-output}\\n\\\n",
      "        \\    name: condition-2\\n  - dag:\\n      tasks:\\n      - arguments:\\n     \\\n",
      "        \\     parameters:\\n          - {name: generate-random-number-output, value:\\\n",
      "        \\ '{{inputs.parameters.generate-random-number-output}}'}\\n        name: print-2\\n\\\n",
      "        \\        template: print-2\\n    inputs:\\n      parameters:\\n      - {name:\\\n",
      "        \\ generate-random-number-output}\\n    name: condition-3\\n  - dag:\\n      tasks:\\n\\\n",
      "        \\      - arguments:\\n          parameters:\\n          - {name: generate-random-number-2-output,\\\n",
      "        \\ value: '{{tasks.generate-random-number-2.outputs.parameters.generate-random-number-2-output}}'}\\n\\\n",
      "        \\        dependencies: [generate-random-number-2]\\n        name: condition-5\\n\\\n",
      "        \\        template: condition-5\\n        when: '{{tasks.generate-random-number-2.outputs.parameters.generate-random-number-2-output}}\\n\\\n",
      "        \\          > 15'\\n      - arguments:\\n          parameters:\\n          - {name:\\\n",
      "        \\ generate-random-number-2-output, value: '{{tasks.generate-random-number-2.outputs.parameters.generate-random-number-2-output}}'}\\n\\\n",
      "        \\        dependencies: [generate-random-number-2]\\n        name: condition-6\\n\\\n",
      "        \\        template: condition-6\\n        when: '{{tasks.generate-random-number-2.outputs.parameters.generate-random-number-2-output}}\\n\\\n",
      "        \\          <= 15'\\n      - {name: generate-random-number-2, template: generate-random-number-2}\\n\\\n",
      "        \\    name: condition-4\\n  - dag:\\n      tasks:\\n      - arguments:\\n     \\\n",
      "        \\     parameters:\\n          - {name: generate-random-number-2-output, value:\\\n",
      "        \\ '{{inputs.parameters.generate-random-number-2-output}}'}\\n        name:\\\n",
      "        \\ print-3\\n        template: print-3\\n    inputs:\\n      parameters:\\n   \\\n",
      "        \\   - {name: generate-random-number-2-output}\\n    name: condition-5\\n  -\\\n",
      "        \\ dag:\\n      tasks:\\n      - arguments:\\n          parameters:\\n        \\\n",
      "        \\  - {name: generate-random-number-2-output, value: '{{inputs.parameters.generate-random-number-2-output}}'}\\n\\\n",
      "        \\        name: print-4\\n        template: print-4\\n    inputs:\\n      parameters:\\n\\\n",
      "        \\      - {name: generate-random-number-2-output}\\n    name: condition-6\\n\\\n",
      "        \\  - dag:\\n      tasks:\\n      - dependencies: [flip-coin]\\n        name:\\\n",
      "        \\ condition-1\\n        template: condition-1\\n        when: '\\\"{{tasks.flip-coin.outputs.parameters.flip-coin-output}}\\\"\\\n",
      "        \\ == \\\"heads\\\"'\\n      - dependencies: [flip-coin]\\n        name: condition-4\\n\\\n",
      "        \\        template: condition-4\\n        when: '\\\"{{tasks.flip-coin.outputs.parameters.flip-coin-output}}\\\"\\\n",
      "        \\ == \\\"tails\\\"'\\n      - {name: flip-coin, template: flip-coin}\\n    name:\\\n",
      "        \\ conditional-execution-pipeline\\n  - container:\\n      args: ['python -c\\\n",
      "        \\ \\\"import random; result = ''heads'' if random.randint(0,1)\\n          ==\\\n",
      "        \\ 0 else ''tails''; print(result)\\\" | tee /tmp/output']\\n      command: [sh,\\\n",
      "        \\ -c]\\n      image: python:alpine3.6\\n    name: flip-coin\\n    outputs:\\n\\\n",
      "        \\      artifacts:\\n      - {name: flip-coin-output, path: /tmp/output}\\n \\\n",
      "        \\     parameters:\\n      - name: flip-coin-output\\n        valueFrom: {path:\\\n",
      "        \\ /tmp/output}\\n  - container:\\n      args: ['python -c \\\"import random; print(random.randint($0,\\\n",
      "        \\ $1))\\\" | tee $2',\\n        '0', '9', /tmp/output]\\n      command: [sh, -c]\\n\\\n",
      "        \\      image: python:alpine3.6\\n    name: generate-random-number\\n    outputs:\\n\\\n",
      "        \\      artifacts:\\n      - {name: generate-random-number-output, path: /tmp/output}\\n\\\n",
      "        \\      parameters:\\n      - name: generate-random-number-output\\n        valueFrom:\\\n",
      "        \\ {path: /tmp/output}\\n  - container:\\n      args: ['python -c \\\"import random;\\\n",
      "        \\ print(random.randint($0, $1))\\\" | tee $2',\\n        '10', '19', /tmp/output]\\n\\\n",
      "        \\      command: [sh, -c]\\n      image: python:alpine3.6\\n    name: generate-random-number-2\\n\\\n",
      "        \\    outputs:\\n      artifacts:\\n      - {name: generate-random-number-2-output,\\\n",
      "        \\ path: /tmp/output}\\n      parameters:\\n      - name: generate-random-number-2-output\\n\\\n",
      "        \\        valueFrom: {path: /tmp/output}\\n  - container:\\n      command: [echo,\\\n",
      "        \\ 'heads and {{inputs.parameters.generate-random-number-output}}\\n       \\\n",
      "        \\   > 5!']\\n      image: alpine:3.6\\n    inputs:\\n      parameters:\\n    \\\n",
      "        \\  - {name: generate-random-number-output}\\n    name: print\\n  - container:\\n\\\n",
      "        \\      command: [echo, 'heads and {{inputs.parameters.generate-random-number-output}}\\n\\\n",
      "        \\          <= 5!']\\n      image: alpine:3.6\\n    inputs:\\n      parameters:\\n\\\n",
      "        \\      - {name: generate-random-number-output}\\n    name: print-2\\n  - container:\\n\\\n",
      "        \\      command: [echo, 'tails and {{inputs.parameters.generate-random-number-2-output}}\\n\\\n",
      "        \\          > 15!']\\n      image: alpine:3.6\\n    inputs:\\n      parameters:\\n\\\n",
      "        \\      - {name: generate-random-number-2-output}\\n    name: print-3\\n  - container:\\n\\\n",
      "        \\      command: [echo, 'tails and {{inputs.parameters.generate-random-number-2-output}}\\n\\\n",
      "        \\          <= 15!']\\n      image: alpine:3.6\\n    inputs:\\n      parameters:\\n\\\n",
      "        \\      - {name: generate-random-number-2-output}\\n    name: print-4\\n\"}\n",
      "    spec:\n",
      "      arguments:\n",
      "        parameters:\n",
      "        - {name: datetime}\n",
      "        - {name: pipeline_yaml}\n",
      "      entrypoint: kfp\n",
      "      templates:\n",
      "      - container:\n",
      "          args: [--datetime, '{{inputs.parameters.datetime}}', --pipeline_yaml, '{{inputs.parameters.pipeline_yaml}}',\n",
      "            --name, conditional-execution-pipeline]\n",
      "          command: [python, swf_kfp_runner.py]\n",
      "          image: swf-kfp:3\n",
      "        inputs:\n",
      "          parameters:\n",
      "          - {name: datetime}\n",
      "          - {name: pipeline_yaml}\n",
      "        name: kfp\n",
      "\n"
     ]
    }
   ],
   "source": [
    "print(yaml.dump(swf))"
   ]
  },
  {
   "cell_type": "code",
   "execution_count": 198,
   "metadata": {},
   "outputs": [],
   "source": [
    "from kubernetes import client, config\n",
    "config.load_kube_config()\n",
    "api = client.CustomObjectsApi()"
   ]
  },
  {
   "cell_type": "code",
   "execution_count": 245,
   "metadata": {},
   "outputs": [
    {
     "data": {
      "text/plain": [
       "{'apiVersion': 'kubeflow.org/v1beta1',\n",
       " 'kind': 'ScheduledWorkflow',\n",
       " 'metadata': {'creationTimestamp': '2019-09-29T02:18:15Z',\n",
       "  'generation': 1,\n",
       "  'name': 'swf-conditional-execution-pipeline',\n",
       "  'namespace': 'default',\n",
       "  'resourceVersion': '90037',\n",
       "  'selfLink': '/apis/kubeflow.org/v1beta1/namespaces/default/scheduledworkflows/swf-conditional-execution-pipeline',\n",
       "  'uid': '6595fbf4-219d-473d-9790-a4cb96036769'},\n",
       " 'spec': {'description': 'ScheduledWorkflow (cron: * * * * *): Shows how to use dsl.Condition().',\n",
       "  'enabled': True,\n",
       "  'maxHistory': 10,\n",
       "  'name': 'swf-conditional-execution-pipeline',\n",
       "  'trigger': {'cronSchedule': {'cron': '* * * * *'}},\n",
       "  'workflow': {'parameters': [{'name': 'datetime',\n",
       "     'value': '[[ScheduledTime.20060102-15:04:05]]'},\n",
       "    {'name': 'pipeline_yaml',\n",
       "     'value': 'apiVersion: argoproj.io/v1alpha1\\nkind: Workflow\\nmetadata:\\n  annotations: {pipelines.kubeflow.org/pipeline_spec: \\'{\"description\": \"Shows how\\n      to use dsl.Condition().\", \"name\": \"Conditional execution pipeline\"}\\'}\\n  generateName: conditional-execution-pipeline-\\nspec:\\n  arguments:\\n    parameters: []\\n  entrypoint: conditional-execution-pipeline\\n  serviceAccountName: pipeline-runner\\n  templates:\\n  - dag:\\n      tasks:\\n      - arguments:\\n          parameters:\\n          - {name: generate-random-number-output, value: \\'{{tasks.generate-random-number.outputs.parameters.generate-random-number-output}}\\'}\\n        dependencies: [generate-random-number]\\n        name: condition-2\\n        template: condition-2\\n        when: \\'{{tasks.generate-random-number.outputs.parameters.generate-random-number-output}}\\n          > 5\\'\\n      - arguments:\\n          parameters:\\n          - {name: generate-random-number-output, value: \\'{{tasks.generate-random-number.outputs.parameters.generate-random-number-output}}\\'}\\n        dependencies: [generate-random-number]\\n        name: condition-3\\n        template: condition-3\\n        when: \\'{{tasks.generate-random-number.outputs.parameters.generate-random-number-output}}\\n          <= 5\\'\\n      - {name: generate-random-number, template: generate-random-number}\\n    name: condition-1\\n  - dag:\\n      tasks:\\n      - arguments:\\n          parameters:\\n          - {name: generate-random-number-output, value: \\'{{inputs.parameters.generate-random-number-output}}\\'}\\n        name: print\\n        template: print\\n    inputs:\\n      parameters:\\n      - {name: generate-random-number-output}\\n    name: condition-2\\n  - dag:\\n      tasks:\\n      - arguments:\\n          parameters:\\n          - {name: generate-random-number-output, value: \\'{{inputs.parameters.generate-random-number-output}}\\'}\\n        name: print-2\\n        template: print-2\\n    inputs:\\n      parameters:\\n      - {name: generate-random-number-output}\\n    name: condition-3\\n  - dag:\\n      tasks:\\n      - arguments:\\n          parameters:\\n          - {name: generate-random-number-2-output, value: \\'{{tasks.generate-random-number-2.outputs.parameters.generate-random-number-2-output}}\\'}\\n        dependencies: [generate-random-number-2]\\n        name: condition-5\\n        template: condition-5\\n        when: \\'{{tasks.generate-random-number-2.outputs.parameters.generate-random-number-2-output}}\\n          > 15\\'\\n      - arguments:\\n          parameters:\\n          - {name: generate-random-number-2-output, value: \\'{{tasks.generate-random-number-2.outputs.parameters.generate-random-number-2-output}}\\'}\\n        dependencies: [generate-random-number-2]\\n        name: condition-6\\n        template: condition-6\\n        when: \\'{{tasks.generate-random-number-2.outputs.parameters.generate-random-number-2-output}}\\n          <= 15\\'\\n      - {name: generate-random-number-2, template: generate-random-number-2}\\n    name: condition-4\\n  - dag:\\n      tasks:\\n      - arguments:\\n          parameters:\\n          - {name: generate-random-number-2-output, value: \\'{{inputs.parameters.generate-random-number-2-output}}\\'}\\n        name: print-3\\n        template: print-3\\n    inputs:\\n      parameters:\\n      - {name: generate-random-number-2-output}\\n    name: condition-5\\n  - dag:\\n      tasks:\\n      - arguments:\\n          parameters:\\n          - {name: generate-random-number-2-output, value: \\'{{inputs.parameters.generate-random-number-2-output}}\\'}\\n        name: print-4\\n        template: print-4\\n    inputs:\\n      parameters:\\n      - {name: generate-random-number-2-output}\\n    name: condition-6\\n  - dag:\\n      tasks:\\n      - dependencies: [flip-coin]\\n        name: condition-1\\n        template: condition-1\\n        when: \\'\"{{tasks.flip-coin.outputs.parameters.flip-coin-output}}\" == \"heads\"\\'\\n      - dependencies: [flip-coin]\\n        name: condition-4\\n        template: condition-4\\n        when: \\'\"{{tasks.flip-coin.outputs.parameters.flip-coin-output}}\" == \"tails\"\\'\\n      - {name: flip-coin, template: flip-coin}\\n    name: conditional-execution-pipeline\\n  - container:\\n      args: [\\'python -c \"import random; result = \\'\\'heads\\'\\' if random.randint(0,1)\\n          == 0 else \\'\\'tails\\'\\'; print(result)\" | tee /tmp/output\\']\\n      command: [sh, -c]\\n      image: python:alpine3.6\\n    name: flip-coin\\n    outputs:\\n      artifacts:\\n      - {name: flip-coin-output, path: /tmp/output}\\n      parameters:\\n      - name: flip-coin-output\\n        valueFrom: {path: /tmp/output}\\n  - container:\\n      args: [\\'python -c \"import random; print(random.randint($0, $1))\" | tee $2\\',\\n        \\'0\\', \\'9\\', /tmp/output]\\n      command: [sh, -c]\\n      image: python:alpine3.6\\n    name: generate-random-number\\n    outputs:\\n      artifacts:\\n      - {name: generate-random-number-output, path: /tmp/output}\\n      parameters:\\n      - name: generate-random-number-output\\n        valueFrom: {path: /tmp/output}\\n  - container:\\n      args: [\\'python -c \"import random; print(random.randint($0, $1))\" | tee $2\\',\\n        \\'10\\', \\'19\\', /tmp/output]\\n      command: [sh, -c]\\n      image: python:alpine3.6\\n    name: generate-random-number-2\\n    outputs:\\n      artifacts:\\n      - {name: generate-random-number-2-output, path: /tmp/output}\\n      parameters:\\n      - name: generate-random-number-2-output\\n        valueFrom: {path: /tmp/output}\\n  - container:\\n      command: [echo, \\'heads and {{inputs.parameters.generate-random-number-output}}\\n          > 5!\\']\\n      image: alpine:3.6\\n    inputs:\\n      parameters:\\n      - {name: generate-random-number-output}\\n    name: print\\n  - container:\\n      command: [echo, \\'heads and {{inputs.parameters.generate-random-number-output}}\\n          <= 5!\\']\\n      image: alpine:3.6\\n    inputs:\\n      parameters:\\n      - {name: generate-random-number-output}\\n    name: print-2\\n  - container:\\n      command: [echo, \\'tails and {{inputs.parameters.generate-random-number-2-output}}\\n          > 15!\\']\\n      image: alpine:3.6\\n    inputs:\\n      parameters:\\n      - {name: generate-random-number-2-output}\\n    name: print-3\\n  - container:\\n      command: [echo, \\'tails and {{inputs.parameters.generate-random-number-2-output}}\\n          <= 15!\\']\\n      image: alpine:3.6\\n    inputs:\\n      parameters:\\n      - {name: generate-random-number-2-output}\\n    name: print-4\\n'}],\n",
       "   'spec': {'arguments': {'parameters': [{'name': 'datetime'},\n",
       "      {'name': 'pipeline_yaml'}]},\n",
       "    'entrypoint': 'kfp',\n",
       "    'templates': [{'container': {'args': ['--datetime',\n",
       "        '{{inputs.parameters.datetime}}',\n",
       "        '--pipeline_yaml',\n",
       "        '{{inputs.parameters.pipeline_yaml}}',\n",
       "        '--name',\n",
       "        'conditional-execution-pipeline'],\n",
       "       'command': ['python', 'swf_kfp_runner.py'],\n",
       "       'image': 'swf-kfp:3'},\n",
       "      'inputs': {'parameters': [{'name': 'datetime'},\n",
       "        {'name': 'pipeline_yaml'}]},\n",
       "      'name': 'kfp'}]}}}}"
      ]
     },
     "execution_count": 245,
     "metadata": {},
     "output_type": "execute_result"
    }
   ],
   "source": [
    "api.create_namespaced_custom_object(\n",
    "    group=\"kubeflow.org\",\n",
    "    version=\"v1beta1\",\n",
    "    namespace=\"default\",\n",
    "    plural=\"scheduledworkflows\",\n",
    "    body=swf,\n",
    ")"
   ]
  },
  {
   "cell_type": "code",
   "execution_count": 246,
   "metadata": {},
   "outputs": [
    {
     "data": {
      "text/plain": [
       "{'apiVersion': 'v1',\n",
       " 'details': {'group': 'kubeflow.org',\n",
       "  'kind': 'scheduledworkflows',\n",
       "  'name': 'swf-conditional-execution-pipeline',\n",
       "  'uid': '6595fbf4-219d-473d-9790-a4cb96036769'},\n",
       " 'kind': 'Status',\n",
       " 'metadata': {},\n",
       " 'status': 'Success'}"
      ]
     },
     "execution_count": 246,
     "metadata": {},
     "output_type": "execute_result"
    }
   ],
   "source": [
    "api.delete_namespaced_custom_object(\n",
    "    name='swf-conditional-execution-pipeline',\n",
    "    group=\"kubeflow.org\",\n",
    "    version=\"v1beta1\",\n",
    "    namespace=\"default\",\n",
    "    plural=\"scheduledworkflows\",\n",
    "    body=client.V1DeleteOptions(),\n",
    ")"
   ]
  },
  {
   "cell_type": "code",
   "execution_count": 172,
   "metadata": {},
   "outputs": [
    {
     "data": {
      "text/plain": [
       "'/var/folders/m0/mj2x82p1527349z6mn8btgtr0000gr/T/tmp8uhbrus1/condition.py.zip'"
      ]
     },
     "execution_count": 172,
     "metadata": {},
     "output_type": "execute_result"
    }
   ],
   "source": [
    "pipeline"
   ]
  },
  {
   "cell_type": "code",
   "execution_count": 175,
   "metadata": {},
   "outputs": [],
   "source": [
    "with ZipFile(pipeline, 'r') as zip:\n",
    "    pipeline_yaml = zip.read('pipeline.yaml').decode()"
   ]
  },
  {
   "cell_type": "code",
   "execution_count": 177,
   "metadata": {},
   "outputs": [
    {
     "data": {
      "text/plain": [
       "6430"
      ]
     },
     "execution_count": 177,
     "metadata": {},
     "output_type": "execute_result"
    }
   ],
   "source": [
    "len(pipeline_yaml)"
   ]
  },
  {
   "cell_type": "code",
   "execution_count": 178,
   "metadata": {},
   "outputs": [],
   "source": [
    "parameters = workflow['parameters']"
   ]
  },
  {
   "cell_type": "code",
   "execution_count": 179,
   "metadata": {},
   "outputs": [],
   "source": [
    "parameters.append({\n",
    "    'name': 'pipeline',\n",
    "    'value': pipeline_yaml\n",
    "})"
   ]
  },
  {
   "cell_type": "code",
   "execution_count": 180,
   "metadata": {},
   "outputs": [
    {
     "data": {
      "text/plain": [
       "2"
      ]
     },
     "execution_count": 180,
     "metadata": {},
     "output_type": "execute_result"
    }
   ],
   "source": [
    "len(swf_spec['spec']['workflow']['parameters'])"
   ]
  },
  {
   "cell_type": "code",
   "execution_count": 176,
   "metadata": {},
   "outputs": [
    {
     "data": {
      "text/plain": [
       "'apiVersion: argoproj.io/v1alpha1\\nkind: Workflow\\nmetadata:\\n  annotations:\\n    pipelines.kubeflow.org/pipeline_spec: \\'{\"description\": \"Shows how to use dsl.Condition().\",\\n      \"name\": \"Conditional execution pipeline\"}\\'\\n  generateName: conditional-execution-pipeline-\\nspec:\\n  arguments:\\n    parameters: []\\n  entrypoint: conditional-execution-pipeline\\n  serviceAccountName: pipeline-runner\\n  templates:\\n  - dag:\\n      tasks:\\n      - arguments:\\n          parameters:\\n          - name: generate-random-number-output\\n            value: \\'{{tasks.generate-random-number.outputs.parameters.generate-random-number-output}}\\'\\n        dependencies:\\n        - generate-random-number\\n        name: condition-2\\n        template: condition-2\\n        when: \\'{{tasks.generate-random-number.outputs.parameters.generate-random-number-output}}\\n          > 5\\'\\n      - arguments:\\n          parameters:\\n          - name: generate-random-number-output\\n            value: \\'{{tasks.generate-random-number.outputs.parameters.generate-random-number-output}}\\'\\n        dependencies:\\n        - generate-random-number\\n        name: condition-3\\n        template: condition-3\\n        when: \\'{{tasks.generate-random-number.outputs.parameters.generate-random-number-output}}\\n          <= 5\\'\\n      - name: generate-random-number\\n        template: generate-random-number\\n    name: condition-1\\n  - dag:\\n      tasks:\\n      - arguments:\\n          parameters:\\n          - name: generate-random-number-output\\n            value: \\'{{inputs.parameters.generate-random-number-output}}\\'\\n        name: print\\n        template: print\\n    inputs:\\n      parameters:\\n      - name: generate-random-number-output\\n    name: condition-2\\n  - dag:\\n      tasks:\\n      - arguments:\\n          parameters:\\n          - name: generate-random-number-output\\n            value: \\'{{inputs.parameters.generate-random-number-output}}\\'\\n        name: print-2\\n        template: print-2\\n    inputs:\\n      parameters:\\n      - name: generate-random-number-output\\n    name: condition-3\\n  - dag:\\n      tasks:\\n      - arguments:\\n          parameters:\\n          - name: generate-random-number-2-output\\n            value: \\'{{tasks.generate-random-number-2.outputs.parameters.generate-random-number-2-output}}\\'\\n        dependencies:\\n        - generate-random-number-2\\n        name: condition-5\\n        template: condition-5\\n        when: \\'{{tasks.generate-random-number-2.outputs.parameters.generate-random-number-2-output}}\\n          > 15\\'\\n      - arguments:\\n          parameters:\\n          - name: generate-random-number-2-output\\n            value: \\'{{tasks.generate-random-number-2.outputs.parameters.generate-random-number-2-output}}\\'\\n        dependencies:\\n        - generate-random-number-2\\n        name: condition-6\\n        template: condition-6\\n        when: \\'{{tasks.generate-random-number-2.outputs.parameters.generate-random-number-2-output}}\\n          <= 15\\'\\n      - name: generate-random-number-2\\n        template: generate-random-number-2\\n    name: condition-4\\n  - dag:\\n      tasks:\\n      - arguments:\\n          parameters:\\n          - name: generate-random-number-2-output\\n            value: \\'{{inputs.parameters.generate-random-number-2-output}}\\'\\n        name: print-3\\n        template: print-3\\n    inputs:\\n      parameters:\\n      - name: generate-random-number-2-output\\n    name: condition-5\\n  - dag:\\n      tasks:\\n      - arguments:\\n          parameters:\\n          - name: generate-random-number-2-output\\n            value: \\'{{inputs.parameters.generate-random-number-2-output}}\\'\\n        name: print-4\\n        template: print-4\\n    inputs:\\n      parameters:\\n      - name: generate-random-number-2-output\\n    name: condition-6\\n  - dag:\\n      tasks:\\n      - dependencies:\\n        - flip-coin\\n        name: condition-1\\n        template: condition-1\\n        when: \\'\"{{tasks.flip-coin.outputs.parameters.flip-coin-output}}\" == \"heads\"\\'\\n      - dependencies:\\n        - flip-coin\\n        name: condition-4\\n        template: condition-4\\n        when: \\'\"{{tasks.flip-coin.outputs.parameters.flip-coin-output}}\" == \"tails\"\\'\\n      - name: flip-coin\\n        template: flip-coin\\n    name: conditional-execution-pipeline\\n  - container:\\n      args:\\n      - python -c \"import random; result = \\'heads\\' if random.randint(0,1) == 0 else\\n        \\'tails\\'; print(result)\" | tee /tmp/output\\n      command:\\n      - sh\\n      - -c\\n      image: python:alpine3.6\\n    name: flip-coin\\n    outputs:\\n      artifacts:\\n      - name: flip-coin-output\\n        path: /tmp/output\\n      parameters:\\n      - name: flip-coin-output\\n        valueFrom:\\n          path: /tmp/output\\n  - container:\\n      args:\\n      - python -c \"import random; print(random.randint($0, $1))\" | tee $2\\n      - \\'0\\'\\n      - \\'9\\'\\n      - /tmp/output\\n      command:\\n      - sh\\n      - -c\\n      image: python:alpine3.6\\n    name: generate-random-number\\n    outputs:\\n      artifacts:\\n      - name: generate-random-number-output\\n        path: /tmp/output\\n      parameters:\\n      - name: generate-random-number-output\\n        valueFrom:\\n          path: /tmp/output\\n  - container:\\n      args:\\n      - python -c \"import random; print(random.randint($0, $1))\" | tee $2\\n      - \\'10\\'\\n      - \\'19\\'\\n      - /tmp/output\\n      command:\\n      - sh\\n      - -c\\n      image: python:alpine3.6\\n    name: generate-random-number-2\\n    outputs:\\n      artifacts:\\n      - name: generate-random-number-2-output\\n        path: /tmp/output\\n      parameters:\\n      - name: generate-random-number-2-output\\n        valueFrom:\\n          path: /tmp/output\\n  - container:\\n      command:\\n      - echo\\n      - heads and {{inputs.parameters.generate-random-number-output}} > 5!\\n      image: alpine:3.6\\n    inputs:\\n      parameters:\\n      - name: generate-random-number-output\\n    name: print\\n  - container:\\n      command:\\n      - echo\\n      - heads and {{inputs.parameters.generate-random-number-output}} <= 5!\\n      image: alpine:3.6\\n    inputs:\\n      parameters:\\n      - name: generate-random-number-output\\n    name: print-2\\n  - container:\\n      command:\\n      - echo\\n      - tails and {{inputs.parameters.generate-random-number-2-output}} > 15!\\n      image: alpine:3.6\\n    inputs:\\n      parameters:\\n      - name: generate-random-number-2-output\\n    name: print-3\\n  - container:\\n      command:\\n      - echo\\n      - tails and {{inputs.parameters.generate-random-number-2-output}} <= 15!\\n      image: alpine:3.6\\n    inputs:\\n      parameters:\\n      - name: generate-random-number-2-output\\n    name: print-4\\n'"
      ]
     },
     "execution_count": 176,
     "metadata": {},
     "output_type": "execute_result"
    }
   ],
   "source": [
    "pipeline_yaml"
   ]
  },
  {
   "cell_type": "code",
   "execution_count": 171,
   "metadata": {},
   "outputs": [
    {
     "ename": "ReadError",
     "evalue": "file could not be opened successfully",
     "output_type": "error",
     "traceback": [
      "\u001b[0;31m---------------------------------------------------------------------------\u001b[0m",
      "\u001b[0;31mReadError\u001b[0m                                 Traceback (most recent call last)",
      "\u001b[0;32m<ipython-input-171-c7dc0aaa32d5>\u001b[0m in \u001b[0;36m<module>\u001b[0;34m\u001b[0m\n\u001b[0;32m----> 1\u001b[0;31m \u001b[0;32mwith\u001b[0m \u001b[0mtarfile\u001b[0m\u001b[0;34m.\u001b[0m\u001b[0mopen\u001b[0m\u001b[0;34m(\u001b[0m\u001b[0mpipeline\u001b[0m\u001b[0;34m,\u001b[0m \u001b[0;34m'r'\u001b[0m\u001b[0;34m)\u001b[0m \u001b[0;32mas\u001b[0m \u001b[0mtar\u001b[0m\u001b[0;34m:\u001b[0m\u001b[0;34m\u001b[0m\u001b[0m\n\u001b[0m\u001b[1;32m      2\u001b[0m     \u001b[0mpipeline_yaml\u001b[0m \u001b[0;34m=\u001b[0m \u001b[0mtar\u001b[0m\u001b[0;34m.\u001b[0m\u001b[0mextractfile\u001b[0m\u001b[0;34m(\u001b[0m\u001b[0mtar\u001b[0m\u001b[0;34m.\u001b[0m\u001b[0mgetmember\u001b[0m\u001b[0;34m(\u001b[0m\u001b[0;34m'pipeline.yaml'\u001b[0m\u001b[0;34m)\u001b[0m\u001b[0;34m)\u001b[0m\u001b[0;34m.\u001b[0m\u001b[0mread\u001b[0m\u001b[0;34m(\u001b[0m\u001b[0;34m)\u001b[0m\u001b[0;34m\u001b[0m\u001b[0m\n",
      "\u001b[0;32m~/.pyenv/versions/3.5.6/lib/python3.5/tarfile.py\u001b[0m in \u001b[0;36mopen\u001b[0;34m(cls, name, mode, fileobj, bufsize, **kwargs)\u001b[0m\n\u001b[1;32m   1562\u001b[0m                         \u001b[0mfileobj\u001b[0m\u001b[0;34m.\u001b[0m\u001b[0mseek\u001b[0m\u001b[0;34m(\u001b[0m\u001b[0msaved_pos\u001b[0m\u001b[0;34m)\u001b[0m\u001b[0;34m\u001b[0m\u001b[0m\n\u001b[1;32m   1563\u001b[0m                     \u001b[0;32mcontinue\u001b[0m\u001b[0;34m\u001b[0m\u001b[0m\n\u001b[0;32m-> 1564\u001b[0;31m             \u001b[0;32mraise\u001b[0m \u001b[0mReadError\u001b[0m\u001b[0;34m(\u001b[0m\u001b[0;34m\"file could not be opened successfully\"\u001b[0m\u001b[0;34m)\u001b[0m\u001b[0;34m\u001b[0m\u001b[0m\n\u001b[0m\u001b[1;32m   1565\u001b[0m \u001b[0;34m\u001b[0m\u001b[0m\n\u001b[1;32m   1566\u001b[0m         \u001b[0;32melif\u001b[0m \u001b[0;34m\":\"\u001b[0m \u001b[0;32min\u001b[0m \u001b[0mmode\u001b[0m\u001b[0;34m:\u001b[0m\u001b[0;34m\u001b[0m\u001b[0m\n",
      "\u001b[0;31mReadError\u001b[0m: file could not be opened successfully"
     ]
    }
   ],
   "source": [
    "with tarfile.open(pipeline, 'r') as tar:\n",
    "    pipeline_yaml = tar.extractfile(tar.getmember('pipeline.yaml')).read()"
   ]
  },
  {
   "cell_type": "code",
   "execution_count": null,
   "metadata": {},
   "outputs": [],
   "source": []
  },
  {
   "cell_type": "code",
   "execution_count": 166,
   "metadata": {},
   "outputs": [
    {
     "data": {
      "text/plain": [
       "dict"
      ]
     },
     "execution_count": 166,
     "metadata": {},
     "output_type": "execute_result"
    }
   ],
   "source": [
    "type(swf_spec)"
   ]
  },
  {
   "cell_type": "code",
   "execution_count": 130,
   "metadata": {},
   "outputs": [],
   "source": [
    "from os.path import basename\n",
    "import sys\n",
    "from tempfile import mkdtemp"
   ]
  },
  {
   "cell_type": "code",
   "execution_count": 131,
   "metadata": {},
   "outputs": [],
   "source": [
    "tmp = mkdtemp()"
   ]
  },
  {
   "cell_type": "code",
   "execution_count": 143,
   "metadata": {},
   "outputs": [],
   "source": [
    "module_name = basename(module_url)"
   ]
  },
  {
   "cell_type": "code",
   "execution_count": 134,
   "metadata": {},
   "outputs": [],
   "source": [
    "with open(path(tmp, basename(module_url)), 'w') as f:\n",
    "    f.write(module_src)"
   ]
  },
  {
   "cell_type": "code",
   "execution_count": 136,
   "metadata": {},
   "outputs": [],
   "source": [
    "with open(path(tmp, '__init__.py'), 'w') as f:\n",
    "    f.write('')"
   ]
  },
  {
   "cell_type": "code",
   "execution_count": 137,
   "metadata": {},
   "outputs": [],
   "source": [
    "sys.path.append(tmp)\n",
    "from condition import flipcoin_pipeline\n",
    "sys.path.pop()"
   ]
  },
  {
   "cell_type": "code",
   "execution_count": 147,
   "metadata": {},
   "outputs": [],
   "source": [
    "pipeline = path(tmp, module_name + '.zip')"
   ]
  },
  {
   "cell_type": "code",
   "execution_count": 139,
   "metadata": {},
   "outputs": [],
   "source": [
    "from kfp.compiler import Compiler"
   ]
  },
  {
   "cell_type": "code",
   "execution_count": 140,
   "metadata": {},
   "outputs": [],
   "source": [
    "compiler = Compiler()\n",
    "compiler.compile(flipcoin_pipeline, pipeline)"
   ]
  },
  {
   "cell_type": "code",
   "execution_count": 150,
   "metadata": {},
   "outputs": [],
   "source": [
    "from kfp import Client"
   ]
  },
  {
   "cell_type": "code",
   "execution_count": 155,
   "metadata": {},
   "outputs": [],
   "source": [
    "client = Client()"
   ]
  },
  {
   "cell_type": "code",
   "execution_count": 156,
   "metadata": {},
   "outputs": [
    {
     "data": {
      "text/html": [
       "Experiment link <a href=\"/pipeline/#/experiments/details/b3777962-676c-41e1-a5e8-47c0fe91830b\" target=\"_blank\" >here</a>"
      ],
      "text/plain": [
       "<IPython.core.display.HTML object>"
      ]
     },
     "metadata": {},
     "output_type": "display_data"
    },
    {
     "data": {
      "text/plain": [
       "{'created_at': datetime.datetime(2019, 9, 28, 21, 51, tzinfo=tzlocal()),\n",
       " 'description': None,\n",
       " 'id': 'b3777962-676c-41e1-a5e8-47c0fe91830b',\n",
       " 'name': 'exp'}"
      ]
     },
     "execution_count": 156,
     "metadata": {},
     "output_type": "execute_result"
    }
   ],
   "source": [
    "exp = client.create_experiment('exp'); exp"
   ]
  },
  {
   "cell_type": "code",
   "execution_count": 158,
   "metadata": {},
   "outputs": [],
   "source": [
    "from datetime import datetime as dt"
   ]
  },
  {
   "cell_type": "code",
   "execution_count": 159,
   "metadata": {},
   "outputs": [
    {
     "data": {
      "text/html": [
       "Run link <a href=\"/pipeline/#/runs/details/074e8e9f-61bd-422d-a2c4-e05fbf9cfb40\" target=\"_blank\" >here</a>"
      ],
      "text/plain": [
       "<IPython.core.display.HTML object>"
      ]
     },
     "metadata": {},
     "output_type": "display_data"
    },
    {
     "data": {
      "text/plain": [
       "{'created_at': datetime.datetime(2019, 9, 28, 21, 57, 52, tzinfo=tzlocal()),\n",
       " 'description': None,\n",
       " 'error': None,\n",
       " 'finished_at': datetime.datetime(1970, 1, 1, 0, 0, tzinfo=tzlocal()),\n",
       " 'id': '074e8e9f-61bd-422d-a2c4-e05fbf9cfb40',\n",
       " 'metrics': None,\n",
       " 'name': '2019-09-28 21:57:52.602510',\n",
       " 'pipeline_spec': {'parameters': None,\n",
       "                   'pipeline_id': None,\n",
       "                   'pipeline_manifest': None,\n",
       "                   'workflow_manifest': '{\"apiVersion\": '\n",
       "                                        '\"argoproj.io/v1alpha1\", \"kind\": '\n",
       "                                        '\"Workflow\", \"spec\": '\n",
       "                                        '{\"serviceAccountName\": '\n",
       "                                        '\"pipeline-runner\", \"arguments\": '\n",
       "                                        '{\"parameters\": []}, \"entrypoint\": '\n",
       "                                        '\"conditional-execution-pipeline\", '\n",
       "                                        '\"templates\": [{\"dag\": {\"tasks\": '\n",
       "                                        '[{\"when\": '\n",
       "                                        '\"{{tasks.generate-random-number.outputs.parameters.generate-random-number-output}} '\n",
       "                                        '> 5\", \"template\": \"condition-2\", '\n",
       "                                        '\"arguments\": {\"parameters\": [{\"name\": '\n",
       "                                        '\"generate-random-number-output\", '\n",
       "                                        '\"value\": '\n",
       "                                        '\"{{tasks.generate-random-number.outputs.parameters.generate-random-number-output}}\"}]}, '\n",
       "                                        '\"dependencies\": '\n",
       "                                        '[\"generate-random-number\"], \"name\": '\n",
       "                                        '\"condition-2\"}, {\"when\": '\n",
       "                                        '\"{{tasks.generate-random-number.outputs.parameters.generate-random-number-output}} '\n",
       "                                        '<= 5\", \"template\": \"condition-3\", '\n",
       "                                        '\"arguments\": {\"parameters\": [{\"name\": '\n",
       "                                        '\"generate-random-number-output\", '\n",
       "                                        '\"value\": '\n",
       "                                        '\"{{tasks.generate-random-number.outputs.parameters.generate-random-number-output}}\"}]}, '\n",
       "                                        '\"dependencies\": '\n",
       "                                        '[\"generate-random-number\"], \"name\": '\n",
       "                                        '\"condition-3\"}, {\"template\": '\n",
       "                                        '\"generate-random-number\", \"name\": '\n",
       "                                        '\"generate-random-number\"}]}, \"name\": '\n",
       "                                        '\"condition-1\"}, {\"dag\": {\"tasks\": '\n",
       "                                        '[{\"template\": \"print\", \"arguments\": '\n",
       "                                        '{\"parameters\": [{\"name\": '\n",
       "                                        '\"generate-random-number-output\", '\n",
       "                                        '\"value\": '\n",
       "                                        '\"{{inputs.parameters.generate-random-number-output}}\"}]}, '\n",
       "                                        '\"name\": \"print\"}]}, \"name\": '\n",
       "                                        '\"condition-2\", \"inputs\": '\n",
       "                                        '{\"parameters\": [{\"name\": '\n",
       "                                        '\"generate-random-number-output\"}]}}, '\n",
       "                                        '{\"dag\": {\"tasks\": [{\"template\": '\n",
       "                                        '\"print-2\", \"arguments\": '\n",
       "                                        '{\"parameters\": [{\"name\": '\n",
       "                                        '\"generate-random-number-output\", '\n",
       "                                        '\"value\": '\n",
       "                                        '\"{{inputs.parameters.generate-random-number-output}}\"}]}, '\n",
       "                                        '\"name\": \"print-2\"}]}, \"name\": '\n",
       "                                        '\"condition-3\", \"inputs\": '\n",
       "                                        '{\"parameters\": [{\"name\": '\n",
       "                                        '\"generate-random-number-output\"}]}}, '\n",
       "                                        '{\"dag\": {\"tasks\": [{\"when\": '\n",
       "                                        '\"{{tasks.generate-random-number-2.outputs.parameters.generate-random-number-2-output}} '\n",
       "                                        '> 15\", \"template\": \"condition-5\", '\n",
       "                                        '\"arguments\": {\"parameters\": [{\"name\": '\n",
       "                                        '\"generate-random-number-2-output\", '\n",
       "                                        '\"value\": '\n",
       "                                        '\"{{tasks.generate-random-number-2.outputs.parameters.generate-random-number-2-output}}\"}]}, '\n",
       "                                        '\"dependencies\": '\n",
       "                                        '[\"generate-random-number-2\"], \"name\": '\n",
       "                                        '\"condition-5\"}, {\"when\": '\n",
       "                                        '\"{{tasks.generate-random-number-2.outputs.parameters.generate-random-number-2-output}} '\n",
       "                                        '<= 15\", \"template\": \"condition-6\", '\n",
       "                                        '\"arguments\": {\"parameters\": [{\"name\": '\n",
       "                                        '\"generate-random-number-2-output\", '\n",
       "                                        '\"value\": '\n",
       "                                        '\"{{tasks.generate-random-number-2.outputs.parameters.generate-random-number-2-output}}\"}]}, '\n",
       "                                        '\"dependencies\": '\n",
       "                                        '[\"generate-random-number-2\"], \"name\": '\n",
       "                                        '\"condition-6\"}, {\"template\": '\n",
       "                                        '\"generate-random-number-2\", \"name\": '\n",
       "                                        '\"generate-random-number-2\"}]}, '\n",
       "                                        '\"name\": \"condition-4\"}, {\"dag\": '\n",
       "                                        '{\"tasks\": [{\"template\": \"print-3\", '\n",
       "                                        '\"arguments\": {\"parameters\": [{\"name\": '\n",
       "                                        '\"generate-random-number-2-output\", '\n",
       "                                        '\"value\": '\n",
       "                                        '\"{{inputs.parameters.generate-random-number-2-output}}\"}]}, '\n",
       "                                        '\"name\": \"print-3\"}]}, \"name\": '\n",
       "                                        '\"condition-5\", \"inputs\": '\n",
       "                                        '{\"parameters\": [{\"name\": '\n",
       "                                        '\"generate-random-number-2-output\"}]}}, '\n",
       "                                        '{\"dag\": {\"tasks\": [{\"template\": '\n",
       "                                        '\"print-4\", \"arguments\": '\n",
       "                                        '{\"parameters\": [{\"name\": '\n",
       "                                        '\"generate-random-number-2-output\", '\n",
       "                                        '\"value\": '\n",
       "                                        '\"{{inputs.parameters.generate-random-number-2-output}}\"}]}, '\n",
       "                                        '\"name\": \"print-4\"}]}, \"name\": '\n",
       "                                        '\"condition-6\", \"inputs\": '\n",
       "                                        '{\"parameters\": [{\"name\": '\n",
       "                                        '\"generate-random-number-2-output\"}]}}, '\n",
       "                                        '{\"dag\": {\"tasks\": [{\"when\": '\n",
       "                                        '\"\\\\\"{{tasks.flip-coin.outputs.parameters.flip-coin-output}}\\\\\" '\n",
       "                                        '== \\\\\"heads\\\\\"\", \"template\": '\n",
       "                                        '\"condition-1\", \"dependencies\": '\n",
       "                                        '[\"flip-coin\"], \"name\": '\n",
       "                                        '\"condition-1\"}, {\"when\": '\n",
       "                                        '\"\\\\\"{{tasks.flip-coin.outputs.parameters.flip-coin-output}}\\\\\" '\n",
       "                                        '== \\\\\"tails\\\\\"\", \"template\": '\n",
       "                                        '\"condition-4\", \"dependencies\": '\n",
       "                                        '[\"flip-coin\"], \"name\": '\n",
       "                                        '\"condition-4\"}, {\"template\": '\n",
       "                                        '\"flip-coin\", \"name\": \"flip-coin\"}]}, '\n",
       "                                        '\"name\": '\n",
       "                                        '\"conditional-execution-pipeline\"}, '\n",
       "                                        '{\"container\": {\"command\": [\"sh\", '\n",
       "                                        '\"-c\"], \"image\": \"python:alpine3.6\", '\n",
       "                                        '\"args\": [\"python -c \\\\\"import random; '\n",
       "                                        \"result = 'heads' if \"\n",
       "                                        'random.randint(0,1) == 0 else '\n",
       "                                        '\\'tails\\'; print(result)\\\\\" | tee '\n",
       "                                        '/tmp/output\"]}, \"outputs\": '\n",
       "                                        '{\"artifacts\": [{\"name\": '\n",
       "                                        '\"flip-coin-output\", \"path\": '\n",
       "                                        '\"/tmp/output\"}], \"parameters\": '\n",
       "                                        '[{\"valueFrom\": {\"path\": '\n",
       "                                        '\"/tmp/output\"}, \"name\": '\n",
       "                                        '\"flip-coin-output\"}]}, \"name\": '\n",
       "                                        '\"flip-coin\"}, {\"container\": '\n",
       "                                        '{\"command\": [\"sh\", \"-c\"], \"image\": '\n",
       "                                        '\"python:alpine3.6\", \"args\": [\"python '\n",
       "                                        '-c \\\\\"import random; '\n",
       "                                        'print(random.randint($0, $1))\\\\\" | '\n",
       "                                        'tee $2\", \"0\", \"9\", \"/tmp/output\"]}, '\n",
       "                                        '\"outputs\": {\"artifacts\": [{\"name\": '\n",
       "                                        '\"generate-random-number-output\", '\n",
       "                                        '\"path\": \"/tmp/output\"}], '\n",
       "                                        '\"parameters\": [{\"valueFrom\": {\"path\": '\n",
       "                                        '\"/tmp/output\"}, \"name\": '\n",
       "                                        '\"generate-random-number-output\"}]}, '\n",
       "                                        '\"name\": \"generate-random-number\"}, '\n",
       "                                        '{\"container\": {\"command\": [\"sh\", '\n",
       "                                        '\"-c\"], \"image\": \"python:alpine3.6\", '\n",
       "                                        '\"args\": [\"python -c \\\\\"import random; '\n",
       "                                        'print(random.randint($0, $1))\\\\\" | '\n",
       "                                        'tee $2\", \"10\", \"19\", \"/tmp/output\"]}, '\n",
       "                                        '\"outputs\": {\"artifacts\": [{\"name\": '\n",
       "                                        '\"generate-random-number-2-output\", '\n",
       "                                        '\"path\": \"/tmp/output\"}], '\n",
       "                                        '\"parameters\": [{\"valueFrom\": {\"path\": '\n",
       "                                        '\"/tmp/output\"}, \"name\": '\n",
       "                                        '\"generate-random-number-2-output\"}]}, '\n",
       "                                        '\"name\": \"generate-random-number-2\"}, '\n",
       "                                        '{\"container\": {\"command\": [\"echo\", '\n",
       "                                        '\"heads and '\n",
       "                                        '{{inputs.parameters.generate-random-number-output}} '\n",
       "                                        '> 5!\"], \"image\": \"alpine:3.6\"}, '\n",
       "                                        '\"name\": \"print\", \"inputs\": '\n",
       "                                        '{\"parameters\": [{\"name\": '\n",
       "                                        '\"generate-random-number-output\"}]}}, '\n",
       "                                        '{\"container\": {\"command\": [\"echo\", '\n",
       "                                        '\"heads and '\n",
       "                                        '{{inputs.parameters.generate-random-number-output}} '\n",
       "                                        '<= 5!\"], \"image\": \"alpine:3.6\"}, '\n",
       "                                        '\"name\": \"print-2\", \"inputs\": '\n",
       "                                        '{\"parameters\": [{\"name\": '\n",
       "                                        '\"generate-random-number-output\"}]}}, '\n",
       "                                        '{\"container\": {\"command\": [\"echo\", '\n",
       "                                        '\"tails and '\n",
       "                                        '{{inputs.parameters.generate-random-number-2-output}} '\n",
       "                                        '> 15!\"], \"image\": \"alpine:3.6\"}, '\n",
       "                                        '\"name\": \"print-3\", \"inputs\": '\n",
       "                                        '{\"parameters\": [{\"name\": '\n",
       "                                        '\"generate-random-number-2-output\"}]}}, '\n",
       "                                        '{\"container\": {\"command\": [\"echo\", '\n",
       "                                        '\"tails and '\n",
       "                                        '{{inputs.parameters.generate-random-number-2-output}} '\n",
       "                                        '<= 15!\"], \"image\": \"alpine:3.6\"}, '\n",
       "                                        '\"name\": \"print-4\", \"inputs\": '\n",
       "                                        '{\"parameters\": [{\"name\": '\n",
       "                                        '\"generate-random-number-2-output\"}]}}]}, '\n",
       "                                        '\"metadata\": {\"generateName\": '\n",
       "                                        '\"conditional-execution-pipeline-\", '\n",
       "                                        '\"annotations\": '\n",
       "                                        '{\"pipelines.kubeflow.org/pipeline_spec\": '\n",
       "                                        '\"{\\\\\"description\\\\\": \\\\\"Shows how to '\n",
       "                                        'use dsl.Condition().\\\\\", \\\\\"name\\\\\": '\n",
       "                                        '\\\\\"Conditional execution '\n",
       "                                        'pipeline\\\\\"}\"}}}'},\n",
       " 'resource_references': [{'key': {'id': 'b3777962-676c-41e1-a5e8-47c0fe91830b',\n",
       "                                  'type': 'EXPERIMENT'},\n",
       "                          'relationship': 'OWNER'}],\n",
       " 'scheduled_at': datetime.datetime(1970, 1, 1, 0, 0, tzinfo=tzlocal()),\n",
       " 'status': None,\n",
       " 'storage_state': None}"
      ]
     },
     "execution_count": 159,
     "metadata": {},
     "output_type": "execute_result"
    }
   ],
   "source": [
    "client.run_pipeline(exp.id, str(dt.now()), pipeline)"
   ]
  },
  {
   "cell_type": "code",
   "execution_count": 160,
   "metadata": {},
   "outputs": [],
   "source": [
    "from kubernetes import client, config\n",
    "\n",
    "# Configs can be set in Configuration class directly or using helper utility\n",
    "config.load_kube_config()\n",
    "\n",
    "v1 = client.CoreV1Api()"
   ]
  },
  {
   "cell_type": "code",
   "execution_count": 161,
   "metadata": {},
   "outputs": [
    {
     "ename": "TypeError",
     "evalue": "'str' object is not callable",
     "output_type": "error",
     "traceback": [
      "\u001b[0;31m---------------------------------------------------------------------------\u001b[0m",
      "\u001b[0;31mTypeError\u001b[0m                                 Traceback (most recent call last)",
      "\u001b[0;32m<ipython-input-161-9fa3eb70501e>\u001b[0m in \u001b[0;36m<module>\u001b[0;34m\u001b[0m\n\u001b[0;32m----> 1\u001b[0;31m \u001b[0mdir\u001b[0m\u001b[0;34m(\u001b[0m\u001b[0mv1\u001b[0m\u001b[0;34m)\u001b[0m\u001b[0;34m\u001b[0m\u001b[0m\n\u001b[0m",
      "\u001b[0;31mTypeError\u001b[0m: 'str' object is not callable"
     ]
    }
   ],
   "source": [
    "dir(v1)"
   ]
  },
  {
   "cell_type": "code",
   "execution_count": 146,
   "metadata": {},
   "outputs": [
    {
     "data": {
      "text/plain": [
       "'/var/folders/m0/mj2x82p1527349z6mn8btgtr0000gr/T/tmp8uhbrus1'"
      ]
     },
     "execution_count": 146,
     "metadata": {},
     "output_type": "execute_result"
    }
   ],
   "source": [
    "tmp"
   ]
  },
  {
   "cell_type": "code",
   "execution_count": 20,
   "metadata": {},
   "outputs": [
    {
     "data": {
      "text/plain": [
       "'/Users/ryan/.pyenv/versions/kf-pipelines-py3/lib/python3.5/site-packages/kfp/__init__.py'"
      ]
     },
     "execution_count": 20,
     "metadata": {},
     "output_type": "execute_result"
    }
   ],
   "source": [
    "kfp.__file__"
   ]
  }
 ],
 "metadata": {
  "kernelspec": {
   "display_name": "kf-pipelines-py3",
   "language": "python",
   "name": "kf-pipelines-py3"
  },
  "language_info": {
   "codemirror_mode": {
    "name": "ipython",
    "version": 3
   },
   "file_extension": ".py",
   "mimetype": "text/x-python",
   "name": "python",
   "nbconvert_exporter": "python",
   "pygments_lexer": "ipython3",
   "version": "3.5.6"
  }
 },
 "nbformat": 4,
 "nbformat_minor": 2
}
