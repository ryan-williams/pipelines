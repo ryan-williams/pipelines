{
 "cells": [
  {
   "cell_type": "code",
   "execution_count": 64,
   "metadata": {},
   "outputs": [],
   "source": [
    "from dateutil.parser import parse\n",
    "from kubernetes import client, config\n",
    "from io import BytesIO\n",
    "from os.path import join as path\n",
    "from requests import get as GET\n",
    "import tarfile\n",
    "from tarfile import TarError\n",
    "from urllib.parse import urlparse\n",
    "import yaml\n",
    "import zipfile\n",
    "\n",
    "import kfp\n",
    "from kfp.components import load_component\n",
    "\n",
    "config.load_kube_config()\n",
    "api = client.CustomObjectsApi()"
   ]
  },
  {
   "cell_type": "code",
   "execution_count": 65,
   "metadata": {},
   "outputs": [],
   "source": [
    "url = 'gs://ml-pipeline-playground/coin.tar.gz'\n",
    "http = 'https://storage.googleapis.com/ml-pipeline-playground/coin.tar.gz'\n",
    "dir = '/Users/ryan/c/pipelines/backend'\n",
    "tar_gz = path(dir, 'coin.tar.gz')\n",
    "tar = path(dir, 'coin.tar')\n",
    "zip = path(dir, 'coin.zip')\n",
    "yaml = path(dir, 'pipeline.yaml')"
   ]
  },
  {
   "cell_type": "code",
   "execution_count": 278,
   "metadata": {},
   "outputs": [],
   "source": [
    "def url_or_file_to_bytes(url):\n",
    "    parsed = urlparse(url)\n",
    "    if not parsed.scheme:\n",
    "        with open(url, 'rb') as f:\n",
    "            return f.read()\n",
    "    else:\n",
    "        resp = GET(url)\n",
    "        assert resp.ok\n",
    "        return resp.content"
   ]
  },
  {
   "cell_type": "code",
   "execution_count": 217,
   "metadata": {},
   "outputs": [],
   "source": [
    "def try_extract_pipeline_tar(bytes):\n",
    "    try:\n",
    "        with tarfile.open(fileobj=BytesIO(bytes), mode='r') as f:\n",
    "            names = f.getnames()\n",
    "            if names == ['pipeline.yaml']:\n",
    "                tar_info = f.getmember('pipeline.yaml')\n",
    "                if tar_info.isfile():\n",
    "                    return f.extractfile(tar_info).read()\n",
    "                raise Exception('\"pipeline.yaml\" in TAR archive is not a regular file')\n",
    "            raise Exception('Expected TAR archive to contain only a \"pipeline.yaml\"; found %s' % names)\n",
    "    except TarError:\n",
    "        return None"
   ]
  },
  {
   "cell_type": "code",
   "execution_count": 218,
   "metadata": {},
   "outputs": [],
   "source": [
    "def try_extract_pipeline_zip(bytes):\n",
    "    try:\n",
    "        with ZipFile(BytesIO(bytes), mode='r') as f:\n",
    "            names = f.namelist()\n",
    "            if names == ['pipeline.yaml']:\n",
    "                return f.read('pipeline.yaml')\n",
    "            raise Exception('Expected ZIP archive to contain only a \"pipeline.yaml\"; found %s' % names)\n",
    "    except BadZipFile:\n",
    "        return None"
   ]
  },
  {
   "cell_type": "code",
   "execution_count": 192,
   "metadata": {},
   "outputs": [],
   "source": [
    "def get_metadata(pipeline):\n",
    "    if 'metadata' not in pipeline:\n",
    "        raise Exception('No \"metadata\" found in pipeline')\n",
    "    return pipeline['metadata']"
   ]
  },
  {
   "cell_type": "code",
   "execution_count": 214,
   "metadata": {},
   "outputs": [],
   "source": [
    "def get_annotations(pipeline):\n",
    "    metadata = get_metadata(pipeline)\n",
    "    if 'annotations' not in metadata:\n",
    "        raise Exception('No \"annotations\" found in pipeline \"metadata\"')\n",
    "    annotations = metadata['annotations']\n",
    "    if 'pipelines.kubeflow.org/pipeline_spec' not in annotations:\n",
    "        raise Exception('\"pipelines.kubeflow.org/pipeline_spec\" not found in pipeline metadata.annotations')\n",
    "    annotations = json.loads(annotations['pipelines.kubeflow.org/pipeline_spec'])\n",
    "    return annotations['name'], annotations['description']"
   ]
  },
  {
   "cell_type": "code",
   "execution_count": 215,
   "metadata": {},
   "outputs": [],
   "source": [
    "def get_name(pipeline):\n",
    "    metadata = get_metadata(pipeline)\n",
    "\n",
    "    if 'generateName' not in metadata:\n",
    "        raise Exception('No \"generateName\" found in pipeline metadata')\n",
    "\n",
    "    name = metadata['generateName']\n",
    "    if name[-1] == '-':\n",
    "        name = name[:-1]\n",
    "\n",
    "    return name"
   ]
  },
  {
   "cell_type": "code",
   "execution_count": 216,
   "metadata": {},
   "outputs": [],
   "source": [
    "def get_description(pipeline):\n",
    "    (_, description) = get_annotations(pipeline)\n",
    "    return description"
   ]
  },
  {
   "cell_type": "code",
   "execution_count": 220,
   "metadata": {},
   "outputs": [],
   "source": [
    "def load_pipeline_yaml(path):\n",
    "    bytes = url_or_file_to_bytes(path)\n",
    "    pipeline_yaml = try_extract_pipeline_tar(bytes)\n",
    "    if pipeline_yaml is None:\n",
    "        pipeline_yaml = try_extract_pipeline_zip(bytes)\n",
    "        if pipeline_yaml is None:\n",
    "            pipeline_yaml = bytes\n",
    "    return yaml.safe_load(pipeline_yaml)"
   ]
  },
  {
   "cell_type": "code",
   "execution_count": 279,
   "metadata": {},
   "outputs": [],
   "source": [
    "def load_yaml(path):\n",
    "    return yaml.safe_load(url_or_file_to_bytes(path))"
   ]
  },
  {
   "cell_type": "code",
   "execution_count": 280,
   "metadata": {},
   "outputs": [],
   "source": [
    "SWF_TEMPLATE_PATH = '/Users/ryan/c/pipelines/backend/src/crd/samples/scheduledworkflow/kfp.yaml'\n",
    "SWF_TEMPLATE_YAML = load_yaml(SWF_TEMPLATE_PATH)"
   ]
  },
  {
   "cell_type": "code",
   "execution_count": 297,
   "metadata": {},
   "outputs": [],
   "source": [
    "DEFAULT_CRON_SCHEDULE = \"1 * * * * *\"\n",
    "def make_swf_kfp(\n",
    "    pipeline_path, \n",
    "    name=None, description=None, \n",
    "    cron=None, intervalSecond=None, \n",
    "    start=None, end=None,\n",
    "    maxHistory=10, enabled=True\n",
    "):\n",
    "    \"\"\"Create a ScheduledWorkflow resource that will run a given pipeline on a desired schedule.\n",
    "    \n",
    "    :param str pipeline_path Path to a file or (zip or TAR) archive containing the pipeline's YAML specification. It can be a local file or \"gs\"- or \"http\"-schemed URL.\n",
    "    :param str name Name of the ScheduledWorkflow resource to create; constructed from the underlying pipeline's name by default.\n",
    "    :param str description Description of the ScheduledWorkflow resource to create; constructed from the underlying pipeline's description by default.\n",
    "    :param str cron Crontab-formatted string specifying the schedule the pipeline should be run on; if neither `cron` nor `intervalSecond` is provided, the `DEFAULT_CRON_SCHEDULE` above is used. At most one of `cron` and `intervalSecond` should be provided.\n",
    "    :param int intervalSecond Interval at which to trigger runs of the provided pipeline. At most one of `cron` and `intervalSecond` should be provided.\n",
    "    :param datetime|str start If provided, begin scheduling pipelines at this date+time\n",
    "    :param datetime|str end If provided, stop scheduling pipelines at this date+time\n",
    "    :param int maxHistory Limit stored run-history to this many runs of the pipeline (default: 10)\n",
    "    :param bool enabled Whether the generated ScheduledWorkflow should be enabled when it is created (default: True)    \n",
    "    \"\"\"\n",
    "    pipeline = load_pipeline_yaml(pipeline_path)\n",
    "    \n",
    "    with open(SWF_TEMPLATE_PATH, 'r') as f:\n",
    "        swf = yaml.safe_load(f)\n",
    "    \n",
    "    spec = swf['spec']\n",
    "    \n",
    "    if name is None:\n",
    "        name = get_name(pipeline)\n",
    "    \n",
    "    if description is None:\n",
    "        description = get_description(pipeline)\n",
    "    \n",
    "    if (cron is not None) and (intervalSecond is not None):\n",
    "        raise Exception('At most one of {\"cron\",\"interval\"} should be provided; received cron %s, interval %s' % (cron, intervalSecond))\n",
    "    \n",
    "    if (cron is None) and (intervalSecond is None):\n",
    "        cron = DEFAULT_CRON_SCHEDULE\n",
    "        \n",
    "    schedule = {}\n",
    "    if start is not None:\n",
    "        if isinstance(start, str):\n",
    "            start = parse(start)\n",
    "        schedule['startTime'] = start\n",
    "    else:\n",
    "        schedule['startTime'] = ''\n",
    "    if end is not None:\n",
    "        if isinstance(end, str):\n",
    "            end = parse(end)\n",
    "        schedule['endTime'] = end\n",
    "    else:\n",
    "        schedule['endTime'] = ''\n",
    "    \n",
    "    msg_parts = []  # store pieces of scheduling metadata for inclusion in the ScheduledWorkflow's description\n",
    "    trigger = {}\n",
    "    if cron is not None:\n",
    "        schedule['cron'] = cron\n",
    "        msg_parts.append('cron: %s' % cron)\n",
    "        trigger['cronSchedule'] = schedule\n",
    "    else:\n",
    "        schedule['intervalSecond'] = intervalSecond\n",
    "        msg_parts.append('interval: %d' % intervalSecond)\n",
    "        trigger['periodicSchedule'] = schedule\n",
    "        \n",
    "    spec['enabled'] = enabled\n",
    "    spec['maxHistory'] = maxHistory\n",
    "    spec['trigger'] = trigger\n",
    "\n",
    "    if start is not None:\n",
    "        msg_parts.append('start: %s' % str(start))\n",
    "    if end is not None:\n",
    "        msg_parts.append('end: %s' % str(end))\n",
    "\n",
    "    spec['description'] = 'ScheduledWorkflow (%s): %s' % (', '.join(msg_parts), description)\n",
    "\n",
    "    swf_name = 'swf-%s' % name\n",
    "    spec['name'] = swf_name\n",
    "    metadata = swf['metadata']\n",
    "    metadata['name'] = swf_name\n",
    "\n",
    "    workflow = spec['workflow']\n",
    "\n",
    "    parameters = workflow['parameters']\n",
    "    parameters[1]['value'] = yaml.dump(pipeline)\n",
    "    \n",
    "    workflow_spec = workflow['spec']\n",
    "    templates = workflow_spec['templates']\n",
    "    template = templates[0]\n",
    "    container = template['container']\n",
    "    args = container['args']\n",
    "    args[-1] = name\n",
    "\n",
    "    return swf"
   ]
  },
  {
   "cell_type": "code",
   "execution_count": 219,
   "metadata": {},
   "outputs": [],
   "source": [
    "condition_zip_path = '/Users/ryan/c/pipelines/samples/core/condition/condition.py.zip'"
   ]
  },
  {
   "cell_type": "code",
   "execution_count": 312,
   "metadata": {
    "scrolled": true
   },
   "outputs": [],
   "source": [
    "swf = make_swf_kfp(condition_zip_path, cron=\"0 * * * * *\", start='2019-09-28T00:00:00Z00:00', end='2019-09-29T04:40:00Z00:00')"
   ]
  },
  {
   "cell_type": "code",
   "execution_count": 313,
   "metadata": {},
   "outputs": [],
   "source": [
    "args = dict(\n",
    "    group=\"kubeflow.org\",\n",
    "    version=\"v1beta1\",\n",
    "    namespace=\"default\",\n",
    "    plural=\"scheduledworkflows\",\n",
    "    body=swf,\n",
    ")"
   ]
  },
  {
   "cell_type": "code",
   "execution_count": 314,
   "metadata": {
    "scrolled": true
   },
   "outputs": [
    {
     "data": {
      "text/plain": [
       "{'apiVersion': 'kubeflow.org/v1beta1',\n",
       " 'kind': 'ScheduledWorkflow',\n",
       " 'metadata': {'creationTimestamp': '2019-09-29T02:43:59Z',\n",
       "  'generation': 323,\n",
       "  'labels': {'scheduledworkflows.kubeflow.org/enabled': 'true',\n",
       "   'scheduledworkflows.kubeflow.org/status': 'Enabled'},\n",
       "  'name': 'swf-conditional-execution-pipeline',\n",
       "  'namespace': 'default',\n",
       "  'resourceVersion': '111462',\n",
       "  'selfLink': '/apis/kubeflow.org/v1beta1/namespaces/default/scheduledworkflows/swf-conditional-execution-pipeline',\n",
       "  'uid': '1d7b3943-795f-4b65-b67d-865c8ac10e3f'},\n",
       " 'spec': {'description': 'ScheduledWorkflow (cron: 0 * * * * *, start: 2019-09-28 00:00:00+00:00, end: 2019-09-29 00:00:00+00:00): Shows how to use dsl.Condition().',\n",
       "  'enabled': True,\n",
       "  'maxHistory': 10,\n",
       "  'name': 'swf-conditional-execution-pipeline',\n",
       "  'trigger': {'cronSchedule': {'cron': '0 * * * * *',\n",
       "    'endTime': '2019-09-29T00:00:00+00:00',\n",
       "    'startTime': '2019-09-28T00:00:00+00:00'}},\n",
       "  'workflow': {'parameters': [{'name': 'datetime',\n",
       "     'value': '[[ScheduledTime.20060102-15:04:05]]'},\n",
       "    {'name': 'pipeline_yaml',\n",
       "     'value': 'apiVersion: argoproj.io/v1alpha1\\nkind: Workflow\\nmetadata:\\n  annotations: {pipelines.kubeflow.org/pipeline_spec: \\'{\"description\": \"Shows how\\n      to use dsl.Condition().\", \"name\": \"Conditional execution pipeline\"}\\'}\\n  generateName: conditional-execution-pipeline-\\nspec:\\n  arguments:\\n    parameters: []\\n  entrypoint: conditional-execution-pipeline\\n  serviceAccountName: pipeline-runner\\n  templates:\\n  - dag:\\n      tasks:\\n      - arguments:\\n          parameters:\\n          - {name: generate-random-number-output, value: \\'{{tasks.generate-random-number.outputs.parameters.generate-random-number-output}}\\'}\\n        dependencies: [generate-random-number]\\n        name: condition-2\\n        template: condition-2\\n        when: \\'{{tasks.generate-random-number.outputs.parameters.generate-random-number-output}}\\n          > 5\\'\\n      - arguments:\\n          parameters:\\n          - {name: generate-random-number-output, value: \\'{{tasks.generate-random-number.outputs.parameters.generate-random-number-output}}\\'}\\n        dependencies: [generate-random-number]\\n        name: condition-3\\n        template: condition-3\\n        when: \\'{{tasks.generate-random-number.outputs.parameters.generate-random-number-output}}\\n          <= 5\\'\\n      - {name: generate-random-number, template: generate-random-number}\\n    name: condition-1\\n  - dag:\\n      tasks:\\n      - arguments:\\n          parameters:\\n          - {name: generate-random-number-output, value: \\'{{inputs.parameters.generate-random-number-output}}\\'}\\n        name: print\\n        template: print\\n    inputs:\\n      parameters:\\n      - {name: generate-random-number-output}\\n    name: condition-2\\n  - dag:\\n      tasks:\\n      - arguments:\\n          parameters:\\n          - {name: generate-random-number-output, value: \\'{{inputs.parameters.generate-random-number-output}}\\'}\\n        name: print-2\\n        template: print-2\\n    inputs:\\n      parameters:\\n      - {name: generate-random-number-output}\\n    name: condition-3\\n  - dag:\\n      tasks:\\n      - arguments:\\n          parameters:\\n          - {name: generate-random-number-2-output, value: \\'{{tasks.generate-random-number-2.outputs.parameters.generate-random-number-2-output}}\\'}\\n        dependencies: [generate-random-number-2]\\n        name: condition-5\\n        template: condition-5\\n        when: \\'{{tasks.generate-random-number-2.outputs.parameters.generate-random-number-2-output}}\\n          > 15\\'\\n      - arguments:\\n          parameters:\\n          - {name: generate-random-number-2-output, value: \\'{{tasks.generate-random-number-2.outputs.parameters.generate-random-number-2-output}}\\'}\\n        dependencies: [generate-random-number-2]\\n        name: condition-6\\n        template: condition-6\\n        when: \\'{{tasks.generate-random-number-2.outputs.parameters.generate-random-number-2-output}}\\n          <= 15\\'\\n      - {name: generate-random-number-2, template: generate-random-number-2}\\n    name: condition-4\\n  - dag:\\n      tasks:\\n      - arguments:\\n          parameters:\\n          - {name: generate-random-number-2-output, value: \\'{{inputs.parameters.generate-random-number-2-output}}\\'}\\n        name: print-3\\n        template: print-3\\n    inputs:\\n      parameters:\\n      - {name: generate-random-number-2-output}\\n    name: condition-5\\n  - dag:\\n      tasks:\\n      - arguments:\\n          parameters:\\n          - {name: generate-random-number-2-output, value: \\'{{inputs.parameters.generate-random-number-2-output}}\\'}\\n        name: print-4\\n        template: print-4\\n    inputs:\\n      parameters:\\n      - {name: generate-random-number-2-output}\\n    name: condition-6\\n  - dag:\\n      tasks:\\n      - dependencies: [flip-coin]\\n        name: condition-1\\n        template: condition-1\\n        when: \\'\"{{tasks.flip-coin.outputs.parameters.flip-coin-output}}\" == \"heads\"\\'\\n      - dependencies: [flip-coin]\\n        name: condition-4\\n        template: condition-4\\n        when: \\'\"{{tasks.flip-coin.outputs.parameters.flip-coin-output}}\" == \"tails\"\\'\\n      - {name: flip-coin, template: flip-coin}\\n    name: conditional-execution-pipeline\\n  - container:\\n      args: [\\'python -c \"import random; result = \\'\\'heads\\'\\' if random.randint(0,1)\\n          == 0 else \\'\\'tails\\'\\'; print(result)\" | tee /tmp/output\\']\\n      command: [sh, -c]\\n      image: python:alpine3.6\\n    name: flip-coin\\n    outputs:\\n      artifacts:\\n      - {name: flip-coin-output, path: /tmp/output}\\n      parameters:\\n      - name: flip-coin-output\\n        valueFrom: {path: /tmp/output}\\n  - container:\\n      args: [\\'python -c \"import random; print(random.randint($0, $1))\" | tee $2\\',\\n        \\'0\\', \\'9\\', /tmp/output]\\n      command: [sh, -c]\\n      image: python:alpine3.6\\n    name: generate-random-number\\n    outputs:\\n      artifacts:\\n      - {name: generate-random-number-output, path: /tmp/output}\\n      parameters:\\n      - name: generate-random-number-output\\n        valueFrom: {path: /tmp/output}\\n  - container:\\n      args: [\\'python -c \"import random; print(random.randint($0, $1))\" | tee $2\\',\\n        \\'10\\', \\'19\\', /tmp/output]\\n      command: [sh, -c]\\n      image: python:alpine3.6\\n    name: generate-random-number-2\\n    outputs:\\n      artifacts:\\n      - {name: generate-random-number-2-output, path: /tmp/output}\\n      parameters:\\n      - name: generate-random-number-2-output\\n        valueFrom: {path: /tmp/output}\\n  - container:\\n      command: [echo, \\'heads and {{inputs.parameters.generate-random-number-output}}\\n          > 5!\\']\\n      image: alpine:3.6\\n    inputs:\\n      parameters:\\n      - {name: generate-random-number-output}\\n    name: print\\n  - container:\\n      command: [echo, \\'heads and {{inputs.parameters.generate-random-number-output}}\\n          <= 5!\\']\\n      image: alpine:3.6\\n    inputs:\\n      parameters:\\n      - {name: generate-random-number-output}\\n    name: print-2\\n  - container:\\n      command: [echo, \\'tails and {{inputs.parameters.generate-random-number-2-output}}\\n          > 15!\\']\\n      image: alpine:3.6\\n    inputs:\\n      parameters:\\n      - {name: generate-random-number-2-output}\\n    name: print-3\\n  - container:\\n      command: [echo, \\'tails and {{inputs.parameters.generate-random-number-2-output}}\\n          <= 15!\\']\\n      image: alpine:3.6\\n    inputs:\\n      parameters:\\n      - {name: generate-random-number-2-output}\\n    name: print-4\\n'}],\n",
       "   'spec': {'arguments': {'parameters': [{'name': 'datetime'},\n",
       "      {'name': 'pipeline_yaml'}]},\n",
       "    'entrypoint': 'kfp',\n",
       "    'templates': [{'container': {'args': ['--datetime',\n",
       "        '{{inputs.parameters.datetime}}',\n",
       "        '--pipeline_yaml',\n",
       "        '{{inputs.parameters.pipeline_yaml}}',\n",
       "        '--name',\n",
       "        'conditional-execution-pipeline'],\n",
       "       'command': ['python', 'swf_kfp_runner.py'],\n",
       "       'image': 'swf-kfp:3'},\n",
       "      'inputs': {'parameters': [{'name': 'datetime'},\n",
       "        {'name': 'pipeline_yaml'}]},\n",
       "      'name': 'kfp'}]}}},\n",
       " 'status': {'conditions': [{'lastHeartbeatTime': '2019-09-29T04:37:51Z',\n",
       "    'lastTransitionTime': '2019-09-29T04:37:51Z',\n",
       "    'message': 'The schedule is enabled.',\n",
       "    'reason': 'Enabled',\n",
       "    'status': 'True',\n",
       "    'type': 'Enabled'}],\n",
       "  'trigger': {'lastTriggeredTime': '2019-09-29T04:01:00Z',\n",
       "   'lastWorkflowIndex': 51,\n",
       "   'nextTriggeredTime': '2019-09-29T04:02:00Z'},\n",
       "  'workflowHistory': {'active': [{'createdAt': '2019-09-29T04:37:41Z',\n",
       "     'finishedAt': None,\n",
       "     'index': 51,\n",
       "     'name': 'swf-conditional-execution-pipeline-51-1569719015',\n",
       "     'namespace': 'default',\n",
       "     'phase': 'Running',\n",
       "     'scheduledAt': '2019-09-29T04:01:00Z',\n",
       "     'selfLink': '/apis/argoproj.io/v1alpha1/namespaces/default/workflows/swf-conditional-execution-pipeline-51-1569719015',\n",
       "     'startedAt': '2019-09-29T04:37:41Z',\n",
       "     'uid': 'e7cee323-ecf0-478d-9b0e-132dd1ba4b58'}],\n",
       "   'completed': [{'createdAt': '2019-09-29T04:00:07Z',\n",
       "     'finishedAt': '2019-09-29T04:00:41Z',\n",
       "     'index': 49,\n",
       "     'name': 'swf-conditional-execution-pipeline-49-1502755634',\n",
       "     'namespace': 'default',\n",
       "     'phase': 'Succeeded',\n",
       "     'scheduledAt': '2019-09-29T04:00:00Z',\n",
       "     'selfLink': '/apis/argoproj.io/v1alpha1/namespaces/default/workflows/swf-conditional-execution-pipeline-49-1502755634',\n",
       "     'startedAt': '2019-09-29T04:00:07Z',\n",
       "     'uid': 'cbe0eb4d-45b1-48eb-bedd-e31c15e63fdd'},\n",
       "    {'createdAt': '2019-09-29T04:36:57Z',\n",
       "     'finishedAt': '2019-09-29T04:37:31Z',\n",
       "     'index': 50,\n",
       "     'name': 'swf-conditional-execution-pipeline-50-1552941396',\n",
       "     'namespace': 'default',\n",
       "     'phase': 'Succeeded',\n",
       "     'scheduledAt': '2019-09-29T04:00:00Z',\n",
       "     'selfLink': '/apis/argoproj.io/v1alpha1/namespaces/default/workflows/swf-conditional-execution-pipeline-50-1552941396',\n",
       "     'startedAt': '2019-09-29T04:36:57Z',\n",
       "     'uid': '3de67cc6-323b-4dbd-931c-e628928ce6e5'},\n",
       "    {'createdAt': '2019-09-29T03:58:17Z',\n",
       "     'finishedAt': '2019-09-29T03:58:50Z',\n",
       "     'index': 48,\n",
       "     'name': 'swf-conditional-execution-pipeline-48-1519533253',\n",
       "     'namespace': 'default',\n",
       "     'phase': 'Succeeded',\n",
       "     'scheduledAt': '2019-09-29T03:58:00Z',\n",
       "     'selfLink': '/apis/argoproj.io/v1alpha1/namespaces/default/workflows/swf-conditional-execution-pipeline-48-1519533253',\n",
       "     'startedAt': '2019-09-29T03:58:17Z',\n",
       "     'uid': '20057a49-5852-4fc4-9d57-9fade308e346'},\n",
       "    {'createdAt': '2019-09-29T03:56:07Z',\n",
       "     'finishedAt': '2019-09-29T03:56:41Z',\n",
       "     'index': 47,\n",
       "     'name': 'swf-conditional-execution-pipeline-47-1536310872',\n",
       "     'namespace': 'default',\n",
       "     'phase': 'Succeeded',\n",
       "     'scheduledAt': '2019-09-29T03:56:00Z',\n",
       "     'selfLink': '/apis/argoproj.io/v1alpha1/namespaces/default/workflows/swf-conditional-execution-pipeline-47-1536310872',\n",
       "     'startedAt': '2019-09-29T03:56:07Z',\n",
       "     'uid': '5e57ad85-4c6b-41b3-9031-0fd8c119b149'},\n",
       "    {'createdAt': '2019-09-29T03:54:17Z',\n",
       "     'finishedAt': '2019-09-29T03:54:51Z',\n",
       "     'index': 46,\n",
       "     'name': 'swf-conditional-execution-pipeline-46-1553088491',\n",
       "     'namespace': 'default',\n",
       "     'phase': 'Succeeded',\n",
       "     'scheduledAt': '2019-09-29T03:54:00Z',\n",
       "     'selfLink': '/apis/argoproj.io/v1alpha1/namespaces/default/workflows/swf-conditional-execution-pipeline-46-1553088491',\n",
       "     'startedAt': '2019-09-29T03:54:17Z',\n",
       "     'uid': 'c9dbcc1a-93ad-4b10-91ad-77d0999db1fc'},\n",
       "    {'createdAt': '2019-09-29T03:52:07Z',\n",
       "     'finishedAt': '2019-09-29T03:52:40Z',\n",
       "     'index': 45,\n",
       "     'name': 'swf-conditional-execution-pipeline-45-1569866110',\n",
       "     'namespace': 'default',\n",
       "     'phase': 'Succeeded',\n",
       "     'scheduledAt': '2019-09-29T03:52:00Z',\n",
       "     'selfLink': '/apis/argoproj.io/v1alpha1/namespaces/default/workflows/swf-conditional-execution-pipeline-45-1569866110',\n",
       "     'startedAt': '2019-09-29T03:52:07Z',\n",
       "     'uid': '04bc5616-ff2a-404f-a257-395d97fadd4d'},\n",
       "    {'createdAt': '2019-09-29T03:50:17Z',\n",
       "     'finishedAt': '2019-09-29T03:50:51Z',\n",
       "     'index': 44,\n",
       "     'name': 'swf-conditional-execution-pipeline-44-1586643729',\n",
       "     'namespace': 'default',\n",
       "     'phase': 'Succeeded',\n",
       "     'scheduledAt': '2019-09-29T03:50:00Z',\n",
       "     'selfLink': '/apis/argoproj.io/v1alpha1/namespaces/default/workflows/swf-conditional-execution-pipeline-44-1586643729',\n",
       "     'startedAt': '2019-09-29T03:50:17Z',\n",
       "     'uid': '83d9af65-ee63-43c2-b319-37eb157d8f7e'},\n",
       "    {'createdAt': '2019-09-29T03:48:17Z',\n",
       "     'finishedAt': '2019-09-29T03:48:50Z',\n",
       "     'index': 43,\n",
       "     'name': 'swf-conditional-execution-pipeline-43-1603421348',\n",
       "     'namespace': 'default',\n",
       "     'phase': 'Succeeded',\n",
       "     'scheduledAt': '2019-09-29T03:48:00Z',\n",
       "     'selfLink': '/apis/argoproj.io/v1alpha1/namespaces/default/workflows/swf-conditional-execution-pipeline-43-1603421348',\n",
       "     'startedAt': '2019-09-29T03:48:17Z',\n",
       "     'uid': '68d0403d-760d-4ed1-ab95-30e8a0c45265'},\n",
       "    {'createdAt': '2019-09-29T03:46:07Z',\n",
       "     'finishedAt': '2019-09-29T03:46:41Z',\n",
       "     'index': 42,\n",
       "     'name': 'swf-conditional-execution-pipeline-42-1620198967',\n",
       "     'namespace': 'default',\n",
       "     'phase': 'Succeeded',\n",
       "     'scheduledAt': '2019-09-29T03:46:00Z',\n",
       "     'selfLink': '/apis/argoproj.io/v1alpha1/namespaces/default/workflows/swf-conditional-execution-pipeline-42-1620198967',\n",
       "     'startedAt': '2019-09-29T03:46:07Z',\n",
       "     'uid': '062a5375-69e2-415c-9d7c-b425d3c78974'}]}}}"
      ]
     },
     "execution_count": 314,
     "metadata": {},
     "output_type": "execute_result"
    }
   ],
   "source": [
    "api.patch_namespaced_custom_object(name=name, **args)"
   ]
  },
  {
   "cell_type": "code",
   "execution_count": 254,
   "metadata": {
    "scrolled": true
   },
   "outputs": [
    {
     "data": {
      "text/plain": [
       "{'apiVersion': 'kubeflow.org/v1beta1',\n",
       " 'kind': 'ScheduledWorkflow',\n",
       " 'metadata': {'creationTimestamp': '2019-09-29T02:43:59Z',\n",
       "  'generation': 1,\n",
       "  'name': 'swf-conditional-execution-pipeline',\n",
       "  'namespace': 'default',\n",
       "  'resourceVersion': '93936',\n",
       "  'selfLink': '/apis/kubeflow.org/v1beta1/namespaces/default/scheduledworkflows/swf-conditional-execution-pipeline',\n",
       "  'uid': '1d7b3943-795f-4b65-b67d-865c8ac10e3f'},\n",
       " 'spec': {'description': 'ScheduledWorkflow (cron: 1 * * * * *): Shows how to use dsl.Condition().',\n",
       "  'enabled': True,\n",
       "  'maxHistory': 10,\n",
       "  'name': 'swf-conditional-execution-pipeline',\n",
       "  'trigger': {'cronSchedule': {'cron': '1 * * * * *'}},\n",
       "  'workflow': {'parameters': [{'name': 'datetime',\n",
       "     'value': '[[ScheduledTime.20060102-15:04:05]]'},\n",
       "    {'name': 'pipeline_yaml',\n",
       "     'value': 'apiVersion: argoproj.io/v1alpha1\\nkind: Workflow\\nmetadata:\\n  annotations: {pipelines.kubeflow.org/pipeline_spec: \\'{\"description\": \"Shows how\\n      to use dsl.Condition().\", \"name\": \"Conditional execution pipeline\"}\\'}\\n  generateName: conditional-execution-pipeline-\\nspec:\\n  arguments:\\n    parameters: []\\n  entrypoint: conditional-execution-pipeline\\n  serviceAccountName: pipeline-runner\\n  templates:\\n  - dag:\\n      tasks:\\n      - arguments:\\n          parameters:\\n          - {name: generate-random-number-output, value: \\'{{tasks.generate-random-number.outputs.parameters.generate-random-number-output}}\\'}\\n        dependencies: [generate-random-number]\\n        name: condition-2\\n        template: condition-2\\n        when: \\'{{tasks.generate-random-number.outputs.parameters.generate-random-number-output}}\\n          > 5\\'\\n      - arguments:\\n          parameters:\\n          - {name: generate-random-number-output, value: \\'{{tasks.generate-random-number.outputs.parameters.generate-random-number-output}}\\'}\\n        dependencies: [generate-random-number]\\n        name: condition-3\\n        template: condition-3\\n        when: \\'{{tasks.generate-random-number.outputs.parameters.generate-random-number-output}}\\n          <= 5\\'\\n      - {name: generate-random-number, template: generate-random-number}\\n    name: condition-1\\n  - dag:\\n      tasks:\\n      - arguments:\\n          parameters:\\n          - {name: generate-random-number-output, value: \\'{{inputs.parameters.generate-random-number-output}}\\'}\\n        name: print\\n        template: print\\n    inputs:\\n      parameters:\\n      - {name: generate-random-number-output}\\n    name: condition-2\\n  - dag:\\n      tasks:\\n      - arguments:\\n          parameters:\\n          - {name: generate-random-number-output, value: \\'{{inputs.parameters.generate-random-number-output}}\\'}\\n        name: print-2\\n        template: print-2\\n    inputs:\\n      parameters:\\n      - {name: generate-random-number-output}\\n    name: condition-3\\n  - dag:\\n      tasks:\\n      - arguments:\\n          parameters:\\n          - {name: generate-random-number-2-output, value: \\'{{tasks.generate-random-number-2.outputs.parameters.generate-random-number-2-output}}\\'}\\n        dependencies: [generate-random-number-2]\\n        name: condition-5\\n        template: condition-5\\n        when: \\'{{tasks.generate-random-number-2.outputs.parameters.generate-random-number-2-output}}\\n          > 15\\'\\n      - arguments:\\n          parameters:\\n          - {name: generate-random-number-2-output, value: \\'{{tasks.generate-random-number-2.outputs.parameters.generate-random-number-2-output}}\\'}\\n        dependencies: [generate-random-number-2]\\n        name: condition-6\\n        template: condition-6\\n        when: \\'{{tasks.generate-random-number-2.outputs.parameters.generate-random-number-2-output}}\\n          <= 15\\'\\n      - {name: generate-random-number-2, template: generate-random-number-2}\\n    name: condition-4\\n  - dag:\\n      tasks:\\n      - arguments:\\n          parameters:\\n          - {name: generate-random-number-2-output, value: \\'{{inputs.parameters.generate-random-number-2-output}}\\'}\\n        name: print-3\\n        template: print-3\\n    inputs:\\n      parameters:\\n      - {name: generate-random-number-2-output}\\n    name: condition-5\\n  - dag:\\n      tasks:\\n      - arguments:\\n          parameters:\\n          - {name: generate-random-number-2-output, value: \\'{{inputs.parameters.generate-random-number-2-output}}\\'}\\n        name: print-4\\n        template: print-4\\n    inputs:\\n      parameters:\\n      - {name: generate-random-number-2-output}\\n    name: condition-6\\n  - dag:\\n      tasks:\\n      - dependencies: [flip-coin]\\n        name: condition-1\\n        template: condition-1\\n        when: \\'\"{{tasks.flip-coin.outputs.parameters.flip-coin-output}}\" == \"heads\"\\'\\n      - dependencies: [flip-coin]\\n        name: condition-4\\n        template: condition-4\\n        when: \\'\"{{tasks.flip-coin.outputs.parameters.flip-coin-output}}\" == \"tails\"\\'\\n      - {name: flip-coin, template: flip-coin}\\n    name: conditional-execution-pipeline\\n  - container:\\n      args: [\\'python -c \"import random; result = \\'\\'heads\\'\\' if random.randint(0,1)\\n          == 0 else \\'\\'tails\\'\\'; print(result)\" | tee /tmp/output\\']\\n      command: [sh, -c]\\n      image: python:alpine3.6\\n    name: flip-coin\\n    outputs:\\n      artifacts:\\n      - {name: flip-coin-output, path: /tmp/output}\\n      parameters:\\n      - name: flip-coin-output\\n        valueFrom: {path: /tmp/output}\\n  - container:\\n      args: [\\'python -c \"import random; print(random.randint($0, $1))\" | tee $2\\',\\n        \\'0\\', \\'9\\', /tmp/output]\\n      command: [sh, -c]\\n      image: python:alpine3.6\\n    name: generate-random-number\\n    outputs:\\n      artifacts:\\n      - {name: generate-random-number-output, path: /tmp/output}\\n      parameters:\\n      - name: generate-random-number-output\\n        valueFrom: {path: /tmp/output}\\n  - container:\\n      args: [\\'python -c \"import random; print(random.randint($0, $1))\" | tee $2\\',\\n        \\'10\\', \\'19\\', /tmp/output]\\n      command: [sh, -c]\\n      image: python:alpine3.6\\n    name: generate-random-number-2\\n    outputs:\\n      artifacts:\\n      - {name: generate-random-number-2-output, path: /tmp/output}\\n      parameters:\\n      - name: generate-random-number-2-output\\n        valueFrom: {path: /tmp/output}\\n  - container:\\n      command: [echo, \\'heads and {{inputs.parameters.generate-random-number-output}}\\n          > 5!\\']\\n      image: alpine:3.6\\n    inputs:\\n      parameters:\\n      - {name: generate-random-number-output}\\n    name: print\\n  - container:\\n      command: [echo, \\'heads and {{inputs.parameters.generate-random-number-output}}\\n          <= 5!\\']\\n      image: alpine:3.6\\n    inputs:\\n      parameters:\\n      - {name: generate-random-number-output}\\n    name: print-2\\n  - container:\\n      command: [echo, \\'tails and {{inputs.parameters.generate-random-number-2-output}}\\n          > 15!\\']\\n      image: alpine:3.6\\n    inputs:\\n      parameters:\\n      - {name: generate-random-number-2-output}\\n    name: print-3\\n  - container:\\n      command: [echo, \\'tails and {{inputs.parameters.generate-random-number-2-output}}\\n          <= 15!\\']\\n      image: alpine:3.6\\n    inputs:\\n      parameters:\\n      - {name: generate-random-number-2-output}\\n    name: print-4\\n'}],\n",
       "   'spec': {'arguments': {'parameters': [{'name': 'datetime'},\n",
       "      {'name': 'pipeline_yaml'}]},\n",
       "    'entrypoint': 'kfp',\n",
       "    'templates': [{'container': {'args': ['--datetime',\n",
       "        '{{inputs.parameters.datetime}}',\n",
       "        '--pipeline_yaml',\n",
       "        '{{inputs.parameters.pipeline_yaml}}',\n",
       "        '--name',\n",
       "        'conditional-execution-pipeline'],\n",
       "       'command': ['python', 'swf_kfp_runner.py'],\n",
       "       'image': 'swf-kfp:3'},\n",
       "      'inputs': {'parameters': [{'name': 'datetime'},\n",
       "        {'name': 'pipeline_yaml'}]},\n",
       "      'name': 'kfp'}]}}}}"
      ]
     },
     "execution_count": 254,
     "metadata": {},
     "output_type": "execute_result"
    }
   ],
   "source": [
    "obj = api.create_namespaced_custom_object(**args)\n",
    "name = obj['metadata']['name']"
   ]
  },
  {
   "cell_type": "code",
   "execution_count": 303,
   "metadata": {},
   "outputs": [],
   "source": [
    "del args['body']"
   ]
  },
  {
   "cell_type": "code",
   "execution_count": 304,
   "metadata": {},
   "outputs": [
    {
     "data": {
      "text/plain": [
       "{'group': 'kubeflow.org',\n",
       " 'namespace': 'default',\n",
       " 'plural': 'scheduledworkflows',\n",
       " 'version': 'v1beta1'}"
      ]
     },
     "execution_count": 304,
     "metadata": {},
     "output_type": "execute_result"
    }
   ],
   "source": [
    "args"
   ]
  },
  {
   "cell_type": "code",
   "execution_count": 305,
   "metadata": {},
   "outputs": [
    {
     "ename": "TypeError",
     "evalue": "delete_namespaced_custom_object() missing 1 required positional argument: 'body'",
     "output_type": "error",
     "traceback": [
      "\u001b[0;31m---------------------------------------------------------------------------\u001b[0m",
      "\u001b[0;31mTypeError\u001b[0m                                 Traceback (most recent call last)",
      "\u001b[0;32m<ipython-input-305-05068c6bf15d>\u001b[0m in \u001b[0;36m<module>\u001b[0;34m\u001b[0m\n\u001b[0;32m----> 1\u001b[0;31m \u001b[0mapi\u001b[0m\u001b[0;34m.\u001b[0m\u001b[0mdelete_namespaced_custom_object\u001b[0m\u001b[0;34m(\u001b[0m\u001b[0mname\u001b[0m\u001b[0;34m=\u001b[0m\u001b[0mname\u001b[0m\u001b[0;34m,\u001b[0m \u001b[0;34m**\u001b[0m\u001b[0margs\u001b[0m\u001b[0;34m)\u001b[0m\u001b[0;34m\u001b[0m\u001b[0m\n\u001b[0m",
      "\u001b[0;31mTypeError\u001b[0m: delete_namespaced_custom_object() missing 1 required positional argument: 'body'"
     ]
    }
   ],
   "source": [
    "api.delete_namespaced_custom_object(name=name, **args)"
   ]
  },
  {
   "cell_type": "code",
   "execution_count": 172,
   "metadata": {},
   "outputs": [
    {
     "data": {
      "text/plain": [
       "'/var/folders/m0/mj2x82p1527349z6mn8btgtr0000gr/T/tmp8uhbrus1/condition.py.zip'"
      ]
     },
     "execution_count": 172,
     "metadata": {},
     "output_type": "execute_result"
    }
   ],
   "source": [
    "pipeline"
   ]
  },
  {
   "cell_type": "code",
   "execution_count": 130,
   "metadata": {},
   "outputs": [],
   "source": [
    "from os.path import basename\n",
    "import sys\n",
    "from tempfile import mkdtemp"
   ]
  },
  {
   "cell_type": "code",
   "execution_count": 131,
   "metadata": {},
   "outputs": [],
   "source": [
    "tmp = mkdtemp()"
   ]
  },
  {
   "cell_type": "code",
   "execution_count": 143,
   "metadata": {},
   "outputs": [],
   "source": [
    "module_name = basename(module_url)"
   ]
  },
  {
   "cell_type": "code",
   "execution_count": 134,
   "metadata": {},
   "outputs": [],
   "source": [
    "with open(path(tmp, basename(module_url)), 'w') as f:\n",
    "    f.write(module_src)"
   ]
  },
  {
   "cell_type": "code",
   "execution_count": 136,
   "metadata": {},
   "outputs": [],
   "source": [
    "with open(path(tmp, '__init__.py'), 'w') as f:\n",
    "    f.write('')"
   ]
  },
  {
   "cell_type": "code",
   "execution_count": 137,
   "metadata": {},
   "outputs": [],
   "source": [
    "sys.path.append(tmp)\n",
    "from condition import flipcoin_pipeline\n",
    "sys.path.pop()"
   ]
  }
 ],
 "metadata": {
  "kernelspec": {
   "display_name": "kf-pipelines-py3",
   "language": "python",
   "name": "kf-pipelines-py3"
  },
  "language_info": {
   "codemirror_mode": {
    "name": "ipython",
    "version": 3
   },
   "file_extension": ".py",
   "mimetype": "text/x-python",
   "name": "python",
   "nbconvert_exporter": "python",
   "pygments_lexer": "ipython3",
   "version": "3.5.6"
  }
 },
 "nbformat": 4,
 "nbformat_minor": 2
}
