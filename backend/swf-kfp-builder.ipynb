{
 "cells": [
  {
   "cell_type": "code",
   "execution_count": 64,
   "metadata": {},
   "outputs": [],
   "source": [
    "from io import BytesIO\n",
    "from kfp.components import load_component\n",
    "from os.path import join as path\n",
    "from requests import get as GET\n",
    "import tarfile\n",
    "from tarfile import TarError\n",
    "from urllib.parse import urlparse\n",
    "import zipfile"
   ]
  },
  {
   "cell_type": "code",
   "execution_count": 65,
   "metadata": {},
   "outputs": [],
   "source": [
    "url = 'gs://ml-pipeline-playground/coin.tar.gz'\n",
    "http = 'https://storage.googleapis.com/ml-pipeline-playground/coin.tar.gz'\n",
    "dir = '/Users/ryan/c/pipelines/backend'\n",
    "tar_gz = path(dir, 'coin.tar.gz')\n",
    "tar = path(dir, 'coin.tar')\n",
    "zip = path(dir, 'coin.zip')\n",
    "yaml = path(dir, 'pipeline.yaml')"
   ]
  },
  {
   "cell_type": "code",
   "execution_count": 117,
   "metadata": {},
   "outputs": [],
   "source": [
    "file = '/Users/ryan/c/pipelines/samples/core/condition/condition.py.zip'"
   ]
  },
  {
   "cell_type": "code",
   "execution_count": 66,
   "metadata": {},
   "outputs": [
    {
     "data": {
      "text/plain": [
       "<Response [200]>"
      ]
     },
     "execution_count": 66,
     "metadata": {},
     "output_type": "execute_result"
    }
   ],
   "source": [
    "resp = GET(http); resp"
   ]
  },
  {
   "cell_type": "code",
   "execution_count": 67,
   "metadata": {},
   "outputs": [
    {
     "data": {
      "text/plain": [
       "b'\\x1f\\x8b\\x08\\x08\\xc3\\xbc\\xe4[\\x02\\xffcondition.py.tar\\x00\\xed\\x18\\xbbn\\xdb0\\xd0\\xb3\\xbf\\x82\\xc8\\xe2\\x14\\xa8d=\\xea\\x18U\\x90\\xa1K\\x97\\x02]\\n\\xb4C\\xd1\\x81\\xa1\\x18\\x9b\\xb1D\\xb2$\\x95\\xc0M\\xf3\\xef=K\\xb2L\\xc5\\x92\\xe0$\\x8e\\x9b\\x87\\xce\\x83%\\xf2xo\\xdd\\x83\\x92I\\x9a0N\\xdd%N\\x93\\xc1\\xd3\\x80\\x07p\\xe2y\\x03\\xdf\\xf3\\xc2\\x89\\xe7\\x0f\\xbc`2\\x9d\\x04a\\xbe\\xeey\\xfe\\xf4\\x83\\x1f\\x0e\\xfc0\\x9c\\xfa~x\\x12z\\xb0\\xeeO\\xa6\\xd3\\xc9\\x00y\\x83\\x03@\\xa6\\rV\\x08\\r~\\xb3\\x94\\xf1\\xd9e+\\x9eT,\\xc5j9S\"\\x93mJ\\x02T\\xff/\\x04\\xb0d\\xdf\\xa9\\xd2L\\xf0\\x08a5\\x13R\\x89K\\x97\\x89\\xf1\\x95\\x8f\\x139\\xc7\\xfep\\xc1x\\x1c\\xa1\\x1fB-.\\x12q=L\\xa9\\xc1168\\x1a\"4\\xa3\\x9c*l\\xe8W\\x9c\\xd2\\x08\\xc92\\x92\\x9c\\x8b\\x84I\\x87\\x08\\xc6\\x9d\\xa1\\x96\\x94\\xac0\\x81r\\x96Rn\\xf4\\xea\\x05!\\x89\\x15\\x1c1\\xc07B?\\x7f\\xc1\\x12l\\xa9\\xa5\\x84#\\xa6\\x89\\x0e h\\xaa\\xae\\x18\\xa1\\x9f\\x08\\x11\\x197w\\x18\\xaa\\x8c\\x83 \\x80eh*\\x13\\x10(g\\xe3 \\xc6e\\xb6fYcZ\\xae8\\x88\\xe7\\x84rF\"3\\x80\\x9d\\xef\\x14\\xabD\\xf0\\x98\\x190\\x8c\\xe3\\xe7\\xab\\xdaPY\\x1eu\\xe0wG\\xa56\\x1e]|\\xd6p\\x85\\x93\\x0c\\xb6G77\\x85\\xc4\\xee\\x86\\x8ck\\x9d\\xb9\\xbd\\x1dU\\xc7\\xb6Dt\\xc8\\x9c%q\\xb5\\xbf\\xb6D\\x17\\xce\\xf5\\x9c\\xf2]\\xb8\\xa2\\xb334\\xa78\\xd6\\xa3\\xdc\\xaa1\\x9e\\xad\\x953X/,k>\\xd4$x\\x86!X:\\r\\x93sr7\\xd8n\\x81\\xbd-\\xb4M\\xcb6\\xd8\\x93x!\\xa6\\x92\\xf2\\x98r\\xc2\\xa8\\xa5\\x9dci\\xd5\\xea\\xb0\\xa0\\xd3U\\xc1\\xa3m\\xba\\xcf0kPg#\\xf4\\x9d\\xcd\\xbd}sU\\xb0\\xde\\xf3;n\\x08\\xa6]y\\x06\\xfb\\xfc\\xcew\\x08\\xea\\x167\\x1c4\\x84\\xb7l\\xb0C\"\\t\\xee\\x99H\\xea\\n\\xad\\xd2\\x89\\xc1,\\xf9\\x9f\\xe9\\xe4\\xf9X\\x1e\\xda\\nn\\xfc\\x06s[\\x1b\\x07\\x8b\\xff\\x87~s\\x1d4\\xc3\\xe7_;\\xc3\\x1dB>|D\\xed|\\xd2`\\xdf{,\\x06m\\xb1\\x18\\xec5\\xbf\\x87V\\xac\\xc1*\\xd8\\x08Z\\xb85\\x110\\x86EP.\\xcd\\\\p\\xe4\\x10t\\xc4R)\\x94A\\n\\xf3X\\xa4\\xa7HQ\\x9d%\\x06\\x9d\\xa1Q\\xd1\\x9f vQ\\xee\\xb9\\xab?\\x10\\xfa\\xd8{\\xef\\xbf[9\\xc1C4\\xd1\\xb4\\xd2mT8\\xe5\\xb4P\\xed\\xb8 \\xf4\\xee\\x08\\xfd\\x05\\xad)\\x1a\\x9bT\\x8ek\\x96%\"M\\x81\\xe2F(=\\xaf\\x1e\\x1dR>\\xc2\\x800[Y+\\x977\\x82\\xfe\\x19t\\n\\xdd\\x93a\\xbd\\x92\\xe6\\xafe\\xfb\\xb2Q\\xd8\\xb0\\x0bL\\xcc\\x96\\x19\\xd3\\xa4\\xear3\\xe6\\xac\\x9b\\xef\\xe1&@\\xcc<B\\xe3f,\\xf7R\\x8bM\\xc5\\xd6\\xa1\\x1dC\\x98\\x10\\xaa\\xf5\\x17\\xba\\xfcF\\x89\\xa2&\\xaa\\x05\\xd0\\x82.\\xa3\\x12\\x03\\x1ek[[R\\xc1\\xd0\\xc4\\x84\\xb3\\x96\\xdf\\xc2=\\xcf\\xc8\\x02\\x08[\\xb8\\xd6&tMe\\xb7_\\x9c/\\xdb{w\\x91\\x9d\\xd3\\xd5\\x98\\x11}\\x84\\x11\\xca\\xc2g\\\\S\\x92)`mTf\\x13\\xcaE\\x85\\xfe_\\x8fon\\xae\\xcb\\x19\\xc5\\xcdX|{\\x0b\\x0bR\\xc4\\xeeJ`xi\\xb1\\x90\\x99\\xfd\\xb1\\x88\\xe9\\xdc\\x16]F)0\\x1ef\\x94\\x06\\x97\\x82\\x1c\\x8a\\x11\\xdd\\xe1\\xce\\x12\\xa3we\\xa3+\\xd7\\xd69\\xa4\\x1bwOyU.\\xfe\\xacDZO\\xeb\\xb9\\x9bkI\\xe6\\xadeAkd\\xe8sa\\x9f\\x0b\\xfb\\\\\\xf8\\nsa\\xe3 v\\x8f\\x8cx\\xe0nys\\xc7\\xd4z\\xbbt\\xbf+\\xa0\\xf6\\xdb\\xba\\xee{\\xba\\xd7\\xa2f\\xd8=R5\\x84L\\xcb\\xfd\\x92U;\\x1ao\\x87\\x1b\\x8a\\xe7V\\xa9\\xa2d.\\xaa\\x97\\xd1\\x113\\xe8\\x1a\\xeb|6;\\x1a\\xd5+WQ\\xb2\\xa2z\\xcd\\xb2\\xc6\\xf1\\xbe^\\xf5\\xf5\\xaa\\xafW/\\xad^\\x1d*G\\x04}\\x8e\\xe8sD\\x9f#^`\\x8e\\x18\\xf4\\xd0C\\x0f=\\xf4\\xd0\\xc3[\\x81\\x7f\\x0b\\xfe<R\\x00(\\x00\\x00'"
      ]
     },
     "execution_count": 67,
     "metadata": {},
     "output_type": "execute_result"
    }
   ],
   "source": [
    "resp.content"
   ]
  },
  {
   "cell_type": "code",
   "execution_count": 68,
   "metadata": {},
   "outputs": [
    {
     "data": {
      "text/plain": [
       "True"
      ]
     },
     "execution_count": 68,
     "metadata": {},
     "output_type": "execute_result"
    }
   ],
   "source": [
    "resp.ok"
   ]
  },
  {
   "cell_type": "code",
   "execution_count": 98,
   "metadata": {},
   "outputs": [],
   "source": [
    "def url_or_file_to_bytes(url):\n",
    "  parsed = urlparse(url)\n",
    "  if not parsed.scheme:\n",
    "    with open(url, 'rb') as f:\n",
    "        return f.read()\n",
    "  else:\n",
    "    resp = GET(url)\n",
    "    assert resp.ok\n",
    "    return resp.content"
   ]
  },
  {
   "cell_type": "code",
   "execution_count": 86,
   "metadata": {},
   "outputs": [],
   "source": [
    "def try_extract_pipeline_tar(bytes):\n",
    "    try:\n",
    "        with tarfile.open(fileobj=BytesIO(bytes), mode='r') as f:\n",
    "            names = f.getnames()\n",
    "            if names == ['pipeline.yaml']:\n",
    "                tar_info = f.getmember('pipeline.yaml')\n",
    "                if tar_info.isfile():\n",
    "                    return f.extractfile(tar_info).read()\n",
    "                raise Exception('\"pipeline.yaml\" in TAR archive is not a regular file')\n",
    "            raise Exception('Expected TAR archive to contain only a \"pipeline.yaml\"; found %s' % names)\n",
    "    except TarError:\n",
    "        return None       "
   ]
  },
  {
   "cell_type": "code",
   "execution_count": 93,
   "metadata": {},
   "outputs": [],
   "source": [
    "from zipfile import BadZipFile, ZipFile"
   ]
  },
  {
   "cell_type": "code",
   "execution_count": 94,
   "metadata": {},
   "outputs": [],
   "source": [
    "def try_extract_pipeline_zip(bytes):\n",
    "    try:\n",
    "        with ZipFile(BytesIO(bytes), mode='r') as f:\n",
    "            names = f.namelist()\n",
    "            if names == ['pipeline.yaml']:\n",
    "                return f.read('pipeline.yaml')\n",
    "            raise Exception('Expected ZIP archive to contain only a \"pipeline.yaml\"; found %s' % names)\n",
    "    except BadZipFile:\n",
    "        return None            "
   ]
  },
  {
   "cell_type": "code",
   "execution_count": 105,
   "metadata": {},
   "outputs": [],
   "source": [
    "from kfp import components"
   ]
  },
  {
   "cell_type": "code",
   "execution_count": 108,
   "metadata": {},
   "outputs": [],
   "source": [
    "from kfp.components._yaml_utils import load_yaml"
   ]
  },
  {
   "cell_type": "code",
   "execution_count": 106,
   "metadata": {},
   "outputs": [
    {
     "ename": "AttributeError",
     "evalue": "module 'kfp.components' has no attribute 'load_yaml'",
     "output_type": "error",
     "traceback": [
      "\u001b[0;31m---------------------------------------------------------------------------\u001b[0m",
      "\u001b[0;31mAttributeError\u001b[0m                            Traceback (most recent call last)",
      "\u001b[0;32m<ipython-input-106-b061cd9dab31>\u001b[0m in \u001b[0;36m<module>\u001b[0;34m\u001b[0m\n\u001b[0;32m----> 1\u001b[0;31m \u001b[0mcomponents\u001b[0m\u001b[0;34m.\u001b[0m\u001b[0mload_yaml\u001b[0m\u001b[0;34m\u001b[0m\u001b[0m\n\u001b[0m",
      "\u001b[0;31mAttributeError\u001b[0m: module 'kfp.components' has no attribute 'load_yaml'"
     ]
    }
   ],
   "source": [
    "components.load_yaml"
   ]
  },
  {
   "cell_type": "code",
   "execution_count": 120,
   "metadata": {},
   "outputs": [
    {
     "ename": "SyntaxError",
     "evalue": "invalid syntax (<string>, line 16)",
     "output_type": "error",
     "traceback": [
      "Traceback \u001b[0;36m(most recent call last)\u001b[0m:\n",
      "  File \u001b[1;32m\"/Users/ryan/.pyenv/versions/kf-pipelines-py3/lib/python3.5/site-packages/IPython/core/interactiveshell.py\"\u001b[0m, line \u001b[1;32m3291\u001b[0m, in \u001b[1;35mrun_code\u001b[0m\n    exec(code_obj, self.user_global_ns, self.user_ns)\n",
      "\u001b[0;36m  File \u001b[0;32m\"<ipython-input-120-67d1f8fd5be9>\"\u001b[0;36m, line \u001b[0;32m2\u001b[0;36m, in \u001b[0;35m<module>\u001b[0;36m\u001b[0m\n\u001b[0;31m    eval(GET(module_url).content)\u001b[0m\n",
      "\u001b[0;36m  File \u001b[0;32m\"<string>\"\u001b[0;36m, line \u001b[0;32m16\u001b[0m\n\u001b[0;31m    import kfp\u001b[0m\n\u001b[0m         ^\u001b[0m\n\u001b[0;31mSyntaxError\u001b[0m\u001b[0;31m:\u001b[0m invalid syntax\n"
     ]
    }
   ],
   "source": [
    "module_url = 'https://raw.githubusercontent.com/kubeflow/pipelines/0.1.31/samples/core/condition/condition.py'\n",
    "eval()"
   ]
  },
  {
   "cell_type": "code",
   "execution_count": 127,
   "metadata": {},
   "outputs": [
    {
     "data": {
      "text/plain": [
       "'#!/usr/bin/env python3\\n# Copyright 2019 Google LLC\\n#\\n# Licensed under the Apache License, Version 2.0 (the \"License\");\\n# you may not use this file except in compliance with the License.\\n# You may obtain a copy of the License at\\n#\\n#      http://www.apache.org/licenses/LICENSE-2.0\\n#\\n# Unless required by applicable law or agreed to in writing, software\\n# distributed under the License is distributed on an \"AS IS\" BASIS,\\n# WITHOUT WARRANTIES OR CONDITIONS OF ANY KIND, either express or implied.\\n# See the License for the specific language governing permissions and\\n# limitations under the License.\\n\\nimport kfp\\nfrom kfp import dsl\\n\\n\\ndef random_num_op(low, high):\\n    \"\"\"Generate a random number between low and high.\"\"\"\\n    return dsl.ContainerOp(\\n        name=\\'Generate random number\\',\\n        image=\\'python:alpine3.6\\',\\n        command=[\\'sh\\', \\'-c\\'],\\n        arguments=[\\'python -c \"import random; print(random.randint($0, $1))\" | tee $2\\', str(low), str(high), \\'/tmp/output\\'],\\n        file_outputs={\\'output\\': \\'/tmp/output\\'}\\n    )\\n\\n\\ndef flip_coin_op():\\n    \"\"\"Flip a coin and output heads or tails randomly.\"\"\"\\n    return dsl.ContainerOp(\\n        name=\\'Flip coin\\',\\n        image=\\'python:alpine3.6\\',\\n        command=[\\'sh\\', \\'-c\\'],\\n        arguments=[\\'python -c \"import random; result = \\\\\\'heads\\\\\\' if random.randint(0,1) == 0 \\'\\n                  \\'else \\\\\\'tails\\\\\\'; print(result)\" | tee /tmp/output\\'],\\n        file_outputs={\\'output\\': \\'/tmp/output\\'}\\n    )\\n\\n\\ndef print_op(msg):\\n    \"\"\"Print a message.\"\"\"\\n    return dsl.ContainerOp(\\n        name=\\'Print\\',\\n        image=\\'alpine:3.6\\',\\n        command=[\\'echo\\', msg],\\n    )\\n    \\n\\n@dsl.pipeline(\\n    name=\\'Conditional execution pipeline\\',\\n    description=\\'Shows how to use dsl.Condition().\\'\\n)\\ndef flipcoin_pipeline():\\n    flip = flip_coin_op()\\n    with dsl.Condition(flip.output == \\'heads\\'):\\n        random_num_head = random_num_op(0, 9)\\n        with dsl.Condition(random_num_head.output > 5):\\n            print_op(\\'heads and %s > 5!\\' % random_num_head.output)\\n        with dsl.Condition(random_num_head.output <= 5):\\n            print_op(\\'heads and %s <= 5!\\' % random_num_head.output)\\n\\n    with dsl.Condition(flip.output == \\'tails\\'):\\n        random_num_tail = random_num_op(10, 19)\\n        with dsl.Condition(random_num_tail.output > 15):\\n            print_op(\\'tails and %s > 15!\\' % random_num_tail.output)\\n        with dsl.Condition(random_num_tail.output <= 15):\\n            print_op(\\'tails and %s <= 15!\\' % random_num_tail.output)\\n\\n\\nif __name__ == \\'__main__\\':\\n    kfp.compiler.Compiler().compile(flipcoin_pipeline, __file__ + \\'.zip\\')\\n'"
      ]
     },
     "execution_count": 127,
     "metadata": {},
     "output_type": "execute_result"
    }
   ],
   "source": [
    "module_src = GET(module_url).content.decode(); module_src"
   ]
  },
  {
   "cell_type": "code",
   "execution_count": 130,
   "metadata": {},
   "outputs": [],
   "source": [
    "from os.path import basename\n",
    "import sys\n",
    "from tempfile import mkdtemp"
   ]
  },
  {
   "cell_type": "code",
   "execution_count": 131,
   "metadata": {},
   "outputs": [],
   "source": [
    "tmp = mkdtemp()"
   ]
  },
  {
   "cell_type": "code",
   "execution_count": 143,
   "metadata": {},
   "outputs": [],
   "source": [
    "module_name = basename(module_url)"
   ]
  },
  {
   "cell_type": "code",
   "execution_count": 134,
   "metadata": {},
   "outputs": [],
   "source": [
    "with open(path(tmp, basename(module_url)), 'w') as f:\n",
    "    f.write(module_src)"
   ]
  },
  {
   "cell_type": "code",
   "execution_count": 136,
   "metadata": {},
   "outputs": [],
   "source": [
    "with open(path(tmp, '__init__.py'), 'w') as f:\n",
    "    f.write('')"
   ]
  },
  {
   "cell_type": "code",
   "execution_count": 137,
   "metadata": {},
   "outputs": [],
   "source": [
    "sys.path.append(tmp)\n",
    "from condition import flipcoin_pipeline\n",
    "sys.path.pop()"
   ]
  },
  {
   "cell_type": "code",
   "execution_count": 147,
   "metadata": {},
   "outputs": [],
   "source": [
    "pipeline = path(tmp, module_name + '.zip')"
   ]
  },
  {
   "cell_type": "code",
   "execution_count": 139,
   "metadata": {},
   "outputs": [],
   "source": [
    "from kfp.compiler import Compiler"
   ]
  },
  {
   "cell_type": "code",
   "execution_count": 140,
   "metadata": {},
   "outputs": [],
   "source": [
    "compiler = Compiler()\n",
    "compiler.compile(flipcoin_pipeline, pipeline)"
   ]
  },
  {
   "cell_type": "code",
   "execution_count": 146,
   "metadata": {},
   "outputs": [
    {
     "data": {
      "text/plain": [
       "'/var/folders/m0/mj2x82p1527349z6mn8btgtr0000gr/T/tmp8uhbrus1'"
      ]
     },
     "execution_count": 146,
     "metadata": {},
     "output_type": "execute_result"
    }
   ],
   "source": [
    "tmp"
   ]
  },
  {
   "cell_type": "code",
   "execution_count": 118,
   "metadata": {},
   "outputs": [],
   "source": [
    "from kfp.components import load_component_from_text, load_component"
   ]
  },
  {
   "cell_type": "code",
   "execution_count": 113,
   "metadata": {},
   "outputs": [
    {
     "data": {
      "text/plain": [
       "b'apiVersion: argoproj.io/v1alpha1\\nkind: Workflow\\nmetadata:\\n  generateName: pipeline-flip-coin-\\nspec:\\n  arguments:\\n    parameters: []\\n  entrypoint: pipeline-flip-coin\\n  serviceAccountName: pipeline-runner\\n  templates:\\n  - inputs:\\n      parameters:\\n      - name: flip-output\\n    name: condition-1\\n    steps:\\n    - - arguments:\\n          parameters:\\n          - name: flip-output\\n            value: \\'{{inputs.parameters.flip-output}}\\'\\n        name: condition-1-child\\n        template: condition-1-child\\n        when: \\'{{inputs.parameters.flip-output}} == heads\\'\\n  - dag:\\n      tasks:\\n      - arguments:\\n          parameters:\\n          - name: flip-again-output\\n            value: \\'{{tasks.flip-again.outputs.parameters.flip-again-output}}\\'\\n          - name: flip-output\\n            value: \\'{{inputs.parameters.flip-output}}\\'\\n        dependencies:\\n        - flip-again\\n        name: condition-2\\n        template: condition-2\\n      - arguments:\\n          parameters:\\n          - name: flip-output\\n            value: \\'{{inputs.parameters.flip-output}}\\'\\n        name: flip-again\\n        template: flip-again\\n    inputs:\\n      parameters:\\n      - name: flip-output\\n    name: condition-1-child\\n  - inputs:\\n      parameters:\\n      - name: flip-again-output\\n      - name: flip-output\\n    name: condition-2\\n    steps:\\n    - - arguments:\\n          parameters:\\n          - name: flip-again-output\\n            value: \\'{{inputs.parameters.flip-again-output}}\\'\\n          - name: flip-output\\n            value: \\'{{inputs.parameters.flip-output}}\\'\\n        name: condition-2-child\\n        template: condition-2-child\\n        when: \\'{{inputs.parameters.flip-again-output}} == tails\\'\\n  - dag:\\n      tasks:\\n      - arguments:\\n          parameters:\\n          - name: flip-again-output\\n            value: \\'{{inputs.parameters.flip-again-output}}\\'\\n          - name: flip-output\\n            value: \\'{{inputs.parameters.flip-output}}\\'\\n        name: print1\\n        template: print1\\n    inputs:\\n      parameters:\\n      - name: flip-again-output\\n      - name: flip-output\\n    name: condition-2-child\\n  - inputs:\\n      parameters:\\n      - name: flip-output\\n    name: condition-3\\n    steps:\\n    - - arguments:\\n          parameters:\\n          - name: flip-output\\n            value: \\'{{inputs.parameters.flip-output}}\\'\\n        name: condition-3-child\\n        template: condition-3-child\\n        when: \\'{{inputs.parameters.flip-output}} == tails\\'\\n  - dag:\\n      tasks:\\n      - arguments:\\n          parameters:\\n          - name: flip-output\\n            value: \\'{{inputs.parameters.flip-output}}\\'\\n        name: print2\\n        template: print2\\n    inputs:\\n      parameters:\\n      - name: flip-output\\n    name: condition-3-child\\n  - container:\\n      args:\\n      - python -c \"import random; result = \\'heads\\' if random.randint(0,1) == 0 else\\n        \\'tails\\'; print(result)\" | tee /tmp/output\\n      command:\\n      - sh\\n      - -c\\n      image: python:alpine3.6\\n    name: flip\\n    outputs:\\n      artifacts:\\n      - name: mlpipeline-ui-metadata\\n        path: /mlpipeline-ui-metadata.json\\n        s3:\\n          accessKeySecret:\\n            key: accesskey\\n            name: mlpipeline-minio-artifact\\n          bucket: mlpipeline\\n          endpoint: minio-service.kubeflow:9000\\n          insecure: true\\n          key: runs/{{workflow.uid}}/{{pod.name}}/mlpipeline-ui-metadata.tgz\\n          secretKeySecret:\\n            key: secretkey\\n            name: mlpipeline-minio-artifact\\n      - name: mlpipeline-metrics\\n        path: /mlpipeline-metrics.json\\n        s3:\\n          accessKeySecret:\\n            key: accesskey\\n            name: mlpipeline-minio-artifact\\n          bucket: mlpipeline\\n          endpoint: minio-service.kubeflow:9000\\n          insecure: true\\n          key: runs/{{workflow.uid}}/{{pod.name}}/mlpipeline-metrics.tgz\\n          secretKeySecret:\\n            key: secretkey\\n            name: mlpipeline-minio-artifact\\n      parameters:\\n      - name: flip-output\\n        valueFrom:\\n          path: /tmp/output\\n  - container:\\n      args:\\n      - python -c \"import random; result = \\'heads\\' if random.randint(0,1) == 0 else\\n        \\'tails\\'; print(result)\" | tee /tmp/output\\n      command:\\n      - sh\\n      - -c\\n      image: python:alpine3.6\\n    name: flip-again\\n    outputs:\\n      artifacts:\\n      - name: mlpipeline-ui-metadata\\n        path: /mlpipeline-ui-metadata.json\\n        s3:\\n          accessKeySecret:\\n            key: accesskey\\n            name: mlpipeline-minio-artifact\\n          bucket: mlpipeline\\n          endpoint: minio-service.kubeflow:9000\\n          insecure: true\\n          key: runs/{{workflow.uid}}/{{pod.name}}/mlpipeline-ui-metadata.tgz\\n          secretKeySecret:\\n            key: secretkey\\n            name: mlpipeline-minio-artifact\\n      - name: mlpipeline-metrics\\n        path: /mlpipeline-metrics.json\\n        s3:\\n          accessKeySecret:\\n            key: accesskey\\n            name: mlpipeline-minio-artifact\\n          bucket: mlpipeline\\n          endpoint: minio-service.kubeflow:9000\\n          insecure: true\\n          key: runs/{{workflow.uid}}/{{pod.name}}/mlpipeline-metrics.tgz\\n          secretKeySecret:\\n            key: secretkey\\n            name: mlpipeline-minio-artifact\\n      parameters:\\n      - name: flip-again-output\\n        valueFrom:\\n          path: /tmp/output\\n  - dag:\\n      tasks:\\n      - arguments:\\n          parameters:\\n          - name: flip-output\\n            value: \\'{{tasks.flip.outputs.parameters.flip-output}}\\'\\n        dependencies:\\n        - flip\\n        name: condition-1\\n        template: condition-1\\n      - arguments:\\n          parameters:\\n          - name: flip-output\\n            value: \\'{{tasks.flip.outputs.parameters.flip-output}}\\'\\n        dependencies:\\n        - flip\\n        name: condition-3\\n        template: condition-3\\n      - name: flip\\n        template: flip\\n    name: pipeline-flip-coin\\n  - container:\\n      command:\\n      - echo\\n      - \\'\"it was tail\"\\'\\n      image: alpine:3.6\\n    name: print1\\n    outputs:\\n      artifacts:\\n      - name: mlpipeline-ui-metadata\\n        path: /mlpipeline-ui-metadata.json\\n        s3:\\n          accessKeySecret:\\n            key: accesskey\\n            name: mlpipeline-minio-artifact\\n          bucket: mlpipeline\\n          endpoint: minio-service.kubeflow:9000\\n          insecure: true\\n          key: runs/{{workflow.uid}}/{{pod.name}}/mlpipeline-ui-metadata.tgz\\n          secretKeySecret:\\n            key: secretkey\\n            name: mlpipeline-minio-artifact\\n      - name: mlpipeline-metrics\\n        path: /mlpipeline-metrics.json\\n        s3:\\n          accessKeySecret:\\n            key: accesskey\\n            name: mlpipeline-minio-artifact\\n          bucket: mlpipeline\\n          endpoint: minio-service.kubeflow:9000\\n          insecure: true\\n          key: runs/{{workflow.uid}}/{{pod.name}}/mlpipeline-metrics.tgz\\n          secretKeySecret:\\n            key: secretkey\\n            name: mlpipeline-minio-artifact\\n  - container:\\n      command:\\n      - echo\\n      - \\'\"it was tail\"\\'\\n      image: alpine:3.6\\n    name: print2\\n    outputs:\\n      artifacts:\\n      - name: mlpipeline-ui-metadata\\n        path: /mlpipeline-ui-metadata.json\\n        s3:\\n          accessKeySecret:\\n            key: accesskey\\n            name: mlpipeline-minio-artifact\\n          bucket: mlpipeline\\n          endpoint: minio-service.kubeflow:9000\\n          insecure: true\\n          key: runs/{{workflow.uid}}/{{pod.name}}/mlpipeline-ui-metadata.tgz\\n          secretKeySecret:\\n            key: secretkey\\n            name: mlpipeline-minio-artifact\\n      - name: mlpipeline-metrics\\n        path: /mlpipeline-metrics.json\\n        s3:\\n          accessKeySecret:\\n            key: accesskey\\n            name: mlpipeline-minio-artifact\\n          bucket: mlpipeline\\n          endpoint: minio-service.kubeflow:9000\\n          insecure: true\\n          key: runs/{{workflow.uid}}/{{pod.name}}/mlpipeline-metrics.tgz\\n          secretKeySecret:\\n            key: secretkey\\n            name: mlpipeline-minio-artifact\\n'"
      ]
     },
     "execution_count": 113,
     "metadata": {},
     "output_type": "execute_result"
    }
   ],
   "source": [
    "txt = try_extract_pipeline_tar(bytes); txt"
   ]
  },
  {
   "cell_type": "code",
   "execution_count": 116,
   "metadata": {},
   "outputs": [
    {
     "ename": "TypeError",
     "evalue": "Error: Structure \"OrderedDict([('generateName', 'pipeline-flip-coin-')])\" is not None.\nError: MetadataSpec.from_dict(struct=OrderedDict([('generateName', 'pipeline-flip-coin-')])) failed with exception:\n__init__() got an unexpected keyword argument 'generateName'\nError: Structure \"OrderedDict([('generateName', 'pipeline-flip-coin-')])\" is incompatible with type \"typing.Union[kfp.components._structures.MetadataSpec, NoneType]\" - none of the types in Union are compatible.",
     "output_type": "error",
     "traceback": [
      "\u001b[0;31m---------------------------------------------------------------------------\u001b[0m",
      "\u001b[0;31mTypeError\u001b[0m                                 Traceback (most recent call last)",
      "\u001b[0;32m<ipython-input-116-f7c53fe94c74>\u001b[0m in \u001b[0;36m<module>\u001b[0;34m\u001b[0m\n\u001b[0;32m----> 1\u001b[0;31m \u001b[0mload_component\u001b[0m\u001b[0;34m(\u001b[0m\u001b[0mfilename\u001b[0m\u001b[0;34m=\u001b[0m\u001b[0myaml\u001b[0m\u001b[0;34m)\u001b[0m\u001b[0;34m\u001b[0m\u001b[0m\n\u001b[0m",
      "\u001b[0;32m~/.pyenv/versions/kf-pipelines-py3/lib/python3.5/site-packages/kfp/components/_components.py\u001b[0m in \u001b[0;36mload_component\u001b[0;34m(filename, url, text)\u001b[0m\n\u001b[1;32m     55\u001b[0m         \u001b[0;32mraise\u001b[0m \u001b[0mValueError\u001b[0m\u001b[0;34m(\u001b[0m\u001b[0;34m'Need to specify exactly one source'\u001b[0m\u001b[0;34m)\u001b[0m\u001b[0;34m\u001b[0m\u001b[0m\n\u001b[1;32m     56\u001b[0m     \u001b[0;32mif\u001b[0m \u001b[0mfilename\u001b[0m\u001b[0;34m:\u001b[0m\u001b[0;34m\u001b[0m\u001b[0m\n\u001b[0;32m---> 57\u001b[0;31m         \u001b[0;32mreturn\u001b[0m \u001b[0mload_component_from_file\u001b[0m\u001b[0;34m(\u001b[0m\u001b[0mfilename\u001b[0m\u001b[0;34m)\u001b[0m\u001b[0;34m\u001b[0m\u001b[0m\n\u001b[0m\u001b[1;32m     58\u001b[0m     \u001b[0;32melif\u001b[0m \u001b[0murl\u001b[0m\u001b[0;34m:\u001b[0m\u001b[0;34m\u001b[0m\u001b[0m\n\u001b[1;32m     59\u001b[0m         \u001b[0;32mreturn\u001b[0m \u001b[0mload_component_from_url\u001b[0m\u001b[0;34m(\u001b[0m\u001b[0murl\u001b[0m\u001b[0;34m)\u001b[0m\u001b[0;34m\u001b[0m\u001b[0m\n",
      "\u001b[0;32m~/.pyenv/versions/kf-pipelines-py3/lib/python3.5/site-packages/kfp/components/_components.py\u001b[0m in \u001b[0;36mload_component_from_file\u001b[0;34m(filename)\u001b[0m\n\u001b[1;32m    104\u001b[0m         \u001b[0;32mraise\u001b[0m \u001b[0mTypeError\u001b[0m\u001b[0;34m\u001b[0m\u001b[0m\n\u001b[1;32m    105\u001b[0m     \u001b[0;32mwith\u001b[0m \u001b[0mopen\u001b[0m\u001b[0;34m(\u001b[0m\u001b[0mfilename\u001b[0m\u001b[0;34m,\u001b[0m \u001b[0;34m'rb'\u001b[0m\u001b[0;34m)\u001b[0m \u001b[0;32mas\u001b[0m \u001b[0mcomponent_stream\u001b[0m\u001b[0;34m:\u001b[0m\u001b[0;34m\u001b[0m\u001b[0m\n\u001b[0;32m--> 106\u001b[0;31m         \u001b[0;32mreturn\u001b[0m \u001b[0m_load_component_from_yaml_or_zip_stream\u001b[0m\u001b[0;34m(\u001b[0m\u001b[0mcomponent_stream\u001b[0m\u001b[0;34m,\u001b[0m \u001b[0mfilename\u001b[0m\u001b[0;34m)\u001b[0m\u001b[0;34m\u001b[0m\u001b[0m\n\u001b[0m\u001b[1;32m    107\u001b[0m \u001b[0;34m\u001b[0m\u001b[0m\n\u001b[1;32m    108\u001b[0m \u001b[0;34m\u001b[0m\u001b[0m\n",
      "\u001b[0;32m~/.pyenv/versions/kf-pipelines-py3/lib/python3.5/site-packages/kfp/components/_components.py\u001b[0m in \u001b[0;36m_load_component_from_yaml_or_zip_stream\u001b[0;34m(stream, component_filename, component_ref)\u001b[0m\n\u001b[1;32m    145\u001b[0m     \u001b[0;32melse\u001b[0m\u001b[0;34m:\u001b[0m\u001b[0;34m\u001b[0m\u001b[0m\n\u001b[1;32m    146\u001b[0m         \u001b[0mstream\u001b[0m\u001b[0;34m.\u001b[0m\u001b[0mseek\u001b[0m\u001b[0;34m(\u001b[0m\u001b[0;36m0\u001b[0m\u001b[0;34m)\u001b[0m\u001b[0;34m\u001b[0m\u001b[0m\n\u001b[0;32m--> 147\u001b[0;31m         \u001b[0;32mreturn\u001b[0m \u001b[0m_create_task_factory_from_component_text\u001b[0m\u001b[0;34m(\u001b[0m\u001b[0mstream\u001b[0m\u001b[0;34m,\u001b[0m \u001b[0mcomponent_filename\u001b[0m\u001b[0;34m,\u001b[0m \u001b[0mcomponent_ref\u001b[0m\u001b[0;34m)\u001b[0m\u001b[0;34m\u001b[0m\u001b[0m\n\u001b[0m\u001b[1;32m    148\u001b[0m \u001b[0;34m\u001b[0m\u001b[0m\n\u001b[1;32m    149\u001b[0m \u001b[0;34m\u001b[0m\u001b[0m\n",
      "\u001b[0;32m~/.pyenv/versions/kf-pipelines-py3/lib/python3.5/site-packages/kfp/components/_components.py\u001b[0m in \u001b[0;36m_create_task_factory_from_component_text\u001b[0;34m(text_or_file, component_filename, component_ref)\u001b[0m\n\u001b[1;32m    150\u001b[0m \u001b[0;32mdef\u001b[0m \u001b[0m_create_task_factory_from_component_text\u001b[0m\u001b[0;34m(\u001b[0m\u001b[0mtext_or_file\u001b[0m\u001b[0;34m,\u001b[0m \u001b[0mcomponent_filename\u001b[0m\u001b[0;34m=\u001b[0m\u001b[0;32mNone\u001b[0m\u001b[0;34m,\u001b[0m \u001b[0mcomponent_ref\u001b[0m\u001b[0;34m:\u001b[0m \u001b[0mComponentReference\u001b[0m \u001b[0;34m=\u001b[0m \u001b[0;32mNone\u001b[0m\u001b[0;34m)\u001b[0m\u001b[0;34m:\u001b[0m\u001b[0;34m\u001b[0m\u001b[0m\n\u001b[1;32m    151\u001b[0m     \u001b[0mcomponent_dict\u001b[0m \u001b[0;34m=\u001b[0m \u001b[0mload_yaml\u001b[0m\u001b[0;34m(\u001b[0m\u001b[0mtext_or_file\u001b[0m\u001b[0;34m)\u001b[0m\u001b[0;34m\u001b[0m\u001b[0m\n\u001b[0;32m--> 152\u001b[0;31m     \u001b[0;32mreturn\u001b[0m \u001b[0m_create_task_factory_from_component_dict\u001b[0m\u001b[0;34m(\u001b[0m\u001b[0mcomponent_dict\u001b[0m\u001b[0;34m,\u001b[0m \u001b[0mcomponent_filename\u001b[0m\u001b[0;34m,\u001b[0m \u001b[0mcomponent_ref\u001b[0m\u001b[0;34m)\u001b[0m\u001b[0;34m\u001b[0m\u001b[0m\n\u001b[0m\u001b[1;32m    153\u001b[0m \u001b[0;34m\u001b[0m\u001b[0m\n\u001b[1;32m    154\u001b[0m \u001b[0;34m\u001b[0m\u001b[0m\n",
      "\u001b[0;32m~/.pyenv/versions/kf-pipelines-py3/lib/python3.5/site-packages/kfp/components/_components.py\u001b[0m in \u001b[0;36m_create_task_factory_from_component_dict\u001b[0;34m(component_dict, component_filename, component_ref)\u001b[0m\n\u001b[1;32m    154\u001b[0m \u001b[0;34m\u001b[0m\u001b[0m\n\u001b[1;32m    155\u001b[0m \u001b[0;32mdef\u001b[0m \u001b[0m_create_task_factory_from_component_dict\u001b[0m\u001b[0;34m(\u001b[0m\u001b[0mcomponent_dict\u001b[0m\u001b[0;34m,\u001b[0m \u001b[0mcomponent_filename\u001b[0m\u001b[0;34m=\u001b[0m\u001b[0;32mNone\u001b[0m\u001b[0;34m,\u001b[0m \u001b[0mcomponent_ref\u001b[0m\u001b[0;34m:\u001b[0m \u001b[0mComponentReference\u001b[0m \u001b[0;34m=\u001b[0m \u001b[0;32mNone\u001b[0m\u001b[0;34m)\u001b[0m\u001b[0;34m:\u001b[0m\u001b[0;34m\u001b[0m\u001b[0m\n\u001b[0;32m--> 156\u001b[0;31m     \u001b[0mcomponent_spec\u001b[0m \u001b[0;34m=\u001b[0m \u001b[0mComponentSpec\u001b[0m\u001b[0;34m.\u001b[0m\u001b[0mfrom_dict\u001b[0m\u001b[0;34m(\u001b[0m\u001b[0mcomponent_dict\u001b[0m\u001b[0;34m)\u001b[0m\u001b[0;34m\u001b[0m\u001b[0m\n\u001b[0m\u001b[1;32m    157\u001b[0m     \u001b[0;32mreturn\u001b[0m \u001b[0m_create_task_factory_from_component_spec\u001b[0m\u001b[0;34m(\u001b[0m\u001b[0mcomponent_spec\u001b[0m\u001b[0;34m,\u001b[0m \u001b[0mcomponent_filename\u001b[0m\u001b[0;34m,\u001b[0m \u001b[0mcomponent_ref\u001b[0m\u001b[0;34m)\u001b[0m\u001b[0;34m\u001b[0m\u001b[0m\n\u001b[1;32m    158\u001b[0m \u001b[0;34m\u001b[0m\u001b[0m\n",
      "\u001b[0;32m~/.pyenv/versions/kf-pipelines-py3/lib/python3.5/site-packages/kfp/components/modelbase.py\u001b[0m in \u001b[0;36mfrom_dict\u001b[0;34m(cls, struct)\u001b[0m\n\u001b[1;32m    271\u001b[0m     \u001b[0;34m@\u001b[0m\u001b[0mclassmethod\u001b[0m\u001b[0;34m\u001b[0m\u001b[0m\n\u001b[1;32m    272\u001b[0m     \u001b[0;32mdef\u001b[0m \u001b[0mfrom_dict\u001b[0m\u001b[0;34m(\u001b[0m\u001b[0mcls\u001b[0m\u001b[0;34m:\u001b[0m \u001b[0mType\u001b[0m\u001b[0;34m[\u001b[0m\u001b[0mT\u001b[0m\u001b[0;34m]\u001b[0m\u001b[0;34m,\u001b[0m \u001b[0mstruct\u001b[0m\u001b[0;34m:\u001b[0m \u001b[0mMapping\u001b[0m\u001b[0;34m)\u001b[0m \u001b[0;34m->\u001b[0m \u001b[0mT\u001b[0m\u001b[0;34m:\u001b[0m\u001b[0;34m\u001b[0m\u001b[0m\n\u001b[0;32m--> 273\u001b[0;31m         \u001b[0;32mreturn\u001b[0m \u001b[0mparse_object_from_struct_based_on_class_init\u001b[0m\u001b[0;34m(\u001b[0m\u001b[0mcls\u001b[0m\u001b[0;34m,\u001b[0m \u001b[0mstruct\u001b[0m\u001b[0;34m,\u001b[0m \u001b[0mserialized_names\u001b[0m\u001b[0;34m=\u001b[0m\u001b[0mcls\u001b[0m\u001b[0;34m.\u001b[0m\u001b[0m_serialized_names\u001b[0m\u001b[0;34m)\u001b[0m\u001b[0;34m\u001b[0m\u001b[0m\n\u001b[0m\u001b[1;32m    274\u001b[0m \u001b[0;34m\u001b[0m\u001b[0m\n\u001b[1;32m    275\u001b[0m     \u001b[0;32mdef\u001b[0m \u001b[0mto_dict\u001b[0m\u001b[0;34m(\u001b[0m\u001b[0mself\u001b[0m\u001b[0;34m)\u001b[0m \u001b[0;34m->\u001b[0m \u001b[0mMapping\u001b[0m\u001b[0;34m:\u001b[0m\u001b[0;34m\u001b[0m\u001b[0m\n",
      "\u001b[0;32m~/.pyenv/versions/kf-pipelines-py3/lib/python3.5/site-packages/kfp/components/modelbase.py\u001b[0m in \u001b[0;36mparse_object_from_struct_based_on_class_init\u001b[0;34m(cls, struct, serialized_names)\u001b[0m\n\u001b[1;32m    224\u001b[0m         \u001b[0mparam_type\u001b[0m \u001b[0;34m=\u001b[0m \u001b[0mparameter_types\u001b[0m\u001b[0;34m.\u001b[0m\u001b[0mget\u001b[0m\u001b[0;34m(\u001b[0m\u001b[0mpython_name\u001b[0m\u001b[0;34m,\u001b[0m \u001b[0;32mNone\u001b[0m\u001b[0;34m)\u001b[0m\u001b[0;34m\u001b[0m\u001b[0m\n\u001b[1;32m    225\u001b[0m         \u001b[0;32mif\u001b[0m \u001b[0mparam_type\u001b[0m \u001b[0;32mis\u001b[0m \u001b[0;32mnot\u001b[0m \u001b[0;32mNone\u001b[0m\u001b[0;34m:\u001b[0m\u001b[0;34m\u001b[0m\u001b[0m\n\u001b[0;32m--> 226\u001b[0;31m             \u001b[0margs\u001b[0m\u001b[0;34m[\u001b[0m\u001b[0mpython_name\u001b[0m\u001b[0;34m]\u001b[0m \u001b[0;34m=\u001b[0m \u001b[0mparse_object_from_struct_based_on_type\u001b[0m\u001b[0;34m(\u001b[0m\u001b[0mvalue\u001b[0m\u001b[0;34m,\u001b[0m \u001b[0mparam_type\u001b[0m\u001b[0;34m)\u001b[0m\u001b[0;34m\u001b[0m\u001b[0m\n\u001b[0m\u001b[1;32m    227\u001b[0m         \u001b[0;32melse\u001b[0m\u001b[0;34m:\u001b[0m\u001b[0;34m\u001b[0m\u001b[0m\n\u001b[1;32m    228\u001b[0m             \u001b[0margs\u001b[0m\u001b[0;34m[\u001b[0m\u001b[0mpython_name\u001b[0m\u001b[0;34m]\u001b[0m \u001b[0;34m=\u001b[0m \u001b[0mvalue\u001b[0m\u001b[0;34m\u001b[0m\u001b[0m\n",
      "\u001b[0;32m~/.pyenv/versions/kf-pipelines-py3/lib/python3.5/site-packages/kfp/components/modelbase.py\u001b[0m in \u001b[0;36mparse_object_from_struct_based_on_type\u001b[0;34m(struct, typ)\u001b[0m\n\u001b[1;32m    148\u001b[0m             \u001b[0mexception_lines\u001b[0m \u001b[0;34m=\u001b[0m \u001b[0;34m[\u001b[0m\u001b[0mstr\u001b[0m\u001b[0;34m(\u001b[0m\u001b[0me\u001b[0m\u001b[0;34m)\u001b[0m \u001b[0;32mfor\u001b[0m \u001b[0mt\u001b[0m\u001b[0;34m,\u001b[0m \u001b[0me\u001b[0m \u001b[0;32min\u001b[0m \u001b[0mexception_map\u001b[0m\u001b[0;34m.\u001b[0m\u001b[0mitems\u001b[0m\u001b[0;34m(\u001b[0m\u001b[0;34m)\u001b[0m\u001b[0;34m]\u001b[0m\u001b[0;34m\u001b[0m\u001b[0m\n\u001b[1;32m    149\u001b[0m             \u001b[0mexception_lines\u001b[0m\u001b[0;34m.\u001b[0m\u001b[0mappend\u001b[0m\u001b[0;34m(\u001b[0m\u001b[0;34m'Error: Structure \"{}\" is incompatible with type \"{}\" - none of the types in Union are compatible.'\u001b[0m\u001b[0;34m.\u001b[0m\u001b[0mformat\u001b[0m\u001b[0;34m(\u001b[0m\u001b[0mstruct\u001b[0m\u001b[0;34m,\u001b[0m \u001b[0mtyp\u001b[0m\u001b[0;34m)\u001b[0m\u001b[0;34m)\u001b[0m\u001b[0;34m\u001b[0m\u001b[0m\n\u001b[0;32m--> 150\u001b[0;31m             \u001b[0;32mraise\u001b[0m \u001b[0mTypeError\u001b[0m\u001b[0;34m(\u001b[0m\u001b[0;34m'\\n'\u001b[0m\u001b[0;34m.\u001b[0m\u001b[0mjoin\u001b[0m\u001b[0;34m(\u001b[0m\u001b[0mexception_lines\u001b[0m\u001b[0;34m)\u001b[0m\u001b[0;34m)\u001b[0m\u001b[0;34m\u001b[0m\u001b[0m\n\u001b[0m\u001b[1;32m    151\u001b[0m         \u001b[0;31m#not Union => not None\u001b[0m\u001b[0;34m\u001b[0m\u001b[0;34m\u001b[0m\u001b[0m\n\u001b[1;32m    152\u001b[0m         \u001b[0;32mif\u001b[0m \u001b[0mstruct\u001b[0m \u001b[0;32mis\u001b[0m \u001b[0;32mNone\u001b[0m\u001b[0;34m:\u001b[0m\u001b[0;34m\u001b[0m\u001b[0m\n",
      "\u001b[0;31mTypeError\u001b[0m: Error: Structure \"OrderedDict([('generateName', 'pipeline-flip-coin-')])\" is not None.\nError: MetadataSpec.from_dict(struct=OrderedDict([('generateName', 'pipeline-flip-coin-')])) failed with exception:\n__init__() got an unexpected keyword argument 'generateName'\nError: Structure \"OrderedDict([('generateName', 'pipeline-flip-coin-')])\" is incompatible with type \"typing.Union[kfp.components._structures.MetadataSpec, NoneType]\" - none of the types in Union are compatible."
     ]
    }
   ],
   "source": [
    "load_component(filename=yaml)"
   ]
  },
  {
   "cell_type": "code",
   "execution_count": 114,
   "metadata": {
    "scrolled": false
   },
   "outputs": [
    {
     "ename": "TypeError",
     "evalue": "Error: Structure \"OrderedDict([('generateName', 'pipeline-flip-coin-')])\" is not None.\nError: MetadataSpec.from_dict(struct=OrderedDict([('generateName', 'pipeline-flip-coin-')])) failed with exception:\n__init__() got an unexpected keyword argument 'generateName'\nError: Structure \"OrderedDict([('generateName', 'pipeline-flip-coin-')])\" is incompatible with type \"typing.Union[kfp.components._structures.MetadataSpec, NoneType]\" - none of the types in Union are compatible.",
     "output_type": "error",
     "traceback": [
      "\u001b[0;31m---------------------------------------------------------------------------\u001b[0m",
      "\u001b[0;31mTypeError\u001b[0m                                 Traceback (most recent call last)",
      "\u001b[0;32m<ipython-input-114-b7d72db1d083>\u001b[0m in \u001b[0;36m<module>\u001b[0;34m\u001b[0m\n\u001b[0;32m----> 1\u001b[0;31m \u001b[0mload_component_from_text\u001b[0m\u001b[0;34m(\u001b[0m\u001b[0mtxt\u001b[0m\u001b[0;34m)\u001b[0m\u001b[0;34m\u001b[0m\u001b[0m\n\u001b[0m",
      "\u001b[0;32m~/.pyenv/versions/kf-pipelines-py3/lib/python3.5/site-packages/kfp/components/_components.py\u001b[0m in \u001b[0;36mload_component_from_text\u001b[0;34m(text)\u001b[0m\n\u001b[1;32m    120\u001b[0m     \u001b[0;32mif\u001b[0m \u001b[0mtext\u001b[0m \u001b[0;32mis\u001b[0m \u001b[0;32mNone\u001b[0m\u001b[0;34m:\u001b[0m\u001b[0;34m\u001b[0m\u001b[0m\n\u001b[1;32m    121\u001b[0m         \u001b[0;32mraise\u001b[0m \u001b[0mTypeError\u001b[0m\u001b[0;34m\u001b[0m\u001b[0m\n\u001b[0;32m--> 122\u001b[0;31m     \u001b[0;32mreturn\u001b[0m \u001b[0m_create_task_factory_from_component_text\u001b[0m\u001b[0;34m(\u001b[0m\u001b[0mtext\u001b[0m\u001b[0;34m,\u001b[0m \u001b[0;32mNone\u001b[0m\u001b[0;34m)\u001b[0m\u001b[0;34m\u001b[0m\u001b[0m\n\u001b[0m\u001b[1;32m    123\u001b[0m \u001b[0;34m\u001b[0m\u001b[0m\n\u001b[1;32m    124\u001b[0m \u001b[0;34m\u001b[0m\u001b[0m\n",
      "\u001b[0;32m~/.pyenv/versions/kf-pipelines-py3/lib/python3.5/site-packages/kfp/components/_components.py\u001b[0m in \u001b[0;36m_create_task_factory_from_component_text\u001b[0;34m(text_or_file, component_filename, component_ref)\u001b[0m\n\u001b[1;32m    150\u001b[0m \u001b[0;32mdef\u001b[0m \u001b[0m_create_task_factory_from_component_text\u001b[0m\u001b[0;34m(\u001b[0m\u001b[0mtext_or_file\u001b[0m\u001b[0;34m,\u001b[0m \u001b[0mcomponent_filename\u001b[0m\u001b[0;34m=\u001b[0m\u001b[0;32mNone\u001b[0m\u001b[0;34m,\u001b[0m \u001b[0mcomponent_ref\u001b[0m\u001b[0;34m:\u001b[0m \u001b[0mComponentReference\u001b[0m \u001b[0;34m=\u001b[0m \u001b[0;32mNone\u001b[0m\u001b[0;34m)\u001b[0m\u001b[0;34m:\u001b[0m\u001b[0;34m\u001b[0m\u001b[0m\n\u001b[1;32m    151\u001b[0m     \u001b[0mcomponent_dict\u001b[0m \u001b[0;34m=\u001b[0m \u001b[0mload_yaml\u001b[0m\u001b[0;34m(\u001b[0m\u001b[0mtext_or_file\u001b[0m\u001b[0;34m)\u001b[0m\u001b[0;34m\u001b[0m\u001b[0m\n\u001b[0;32m--> 152\u001b[0;31m     \u001b[0;32mreturn\u001b[0m \u001b[0m_create_task_factory_from_component_dict\u001b[0m\u001b[0;34m(\u001b[0m\u001b[0mcomponent_dict\u001b[0m\u001b[0;34m,\u001b[0m \u001b[0mcomponent_filename\u001b[0m\u001b[0;34m,\u001b[0m \u001b[0mcomponent_ref\u001b[0m\u001b[0;34m)\u001b[0m\u001b[0;34m\u001b[0m\u001b[0m\n\u001b[0m\u001b[1;32m    153\u001b[0m \u001b[0;34m\u001b[0m\u001b[0m\n\u001b[1;32m    154\u001b[0m \u001b[0;34m\u001b[0m\u001b[0m\n",
      "\u001b[0;32m~/.pyenv/versions/kf-pipelines-py3/lib/python3.5/site-packages/kfp/components/_components.py\u001b[0m in \u001b[0;36m_create_task_factory_from_component_dict\u001b[0;34m(component_dict, component_filename, component_ref)\u001b[0m\n\u001b[1;32m    154\u001b[0m \u001b[0;34m\u001b[0m\u001b[0m\n\u001b[1;32m    155\u001b[0m \u001b[0;32mdef\u001b[0m \u001b[0m_create_task_factory_from_component_dict\u001b[0m\u001b[0;34m(\u001b[0m\u001b[0mcomponent_dict\u001b[0m\u001b[0;34m,\u001b[0m \u001b[0mcomponent_filename\u001b[0m\u001b[0;34m=\u001b[0m\u001b[0;32mNone\u001b[0m\u001b[0;34m,\u001b[0m \u001b[0mcomponent_ref\u001b[0m\u001b[0;34m:\u001b[0m \u001b[0mComponentReference\u001b[0m \u001b[0;34m=\u001b[0m \u001b[0;32mNone\u001b[0m\u001b[0;34m)\u001b[0m\u001b[0;34m:\u001b[0m\u001b[0;34m\u001b[0m\u001b[0m\n\u001b[0;32m--> 156\u001b[0;31m     \u001b[0mcomponent_spec\u001b[0m \u001b[0;34m=\u001b[0m \u001b[0mComponentSpec\u001b[0m\u001b[0;34m.\u001b[0m\u001b[0mfrom_dict\u001b[0m\u001b[0;34m(\u001b[0m\u001b[0mcomponent_dict\u001b[0m\u001b[0;34m)\u001b[0m\u001b[0;34m\u001b[0m\u001b[0m\n\u001b[0m\u001b[1;32m    157\u001b[0m     \u001b[0;32mreturn\u001b[0m \u001b[0m_create_task_factory_from_component_spec\u001b[0m\u001b[0;34m(\u001b[0m\u001b[0mcomponent_spec\u001b[0m\u001b[0;34m,\u001b[0m \u001b[0mcomponent_filename\u001b[0m\u001b[0;34m,\u001b[0m \u001b[0mcomponent_ref\u001b[0m\u001b[0;34m)\u001b[0m\u001b[0;34m\u001b[0m\u001b[0m\n\u001b[1;32m    158\u001b[0m \u001b[0;34m\u001b[0m\u001b[0m\n",
      "\u001b[0;32m~/.pyenv/versions/kf-pipelines-py3/lib/python3.5/site-packages/kfp/components/modelbase.py\u001b[0m in \u001b[0;36mfrom_dict\u001b[0;34m(cls, struct)\u001b[0m\n\u001b[1;32m    271\u001b[0m     \u001b[0;34m@\u001b[0m\u001b[0mclassmethod\u001b[0m\u001b[0;34m\u001b[0m\u001b[0m\n\u001b[1;32m    272\u001b[0m     \u001b[0;32mdef\u001b[0m \u001b[0mfrom_dict\u001b[0m\u001b[0;34m(\u001b[0m\u001b[0mcls\u001b[0m\u001b[0;34m:\u001b[0m \u001b[0mType\u001b[0m\u001b[0;34m[\u001b[0m\u001b[0mT\u001b[0m\u001b[0;34m]\u001b[0m\u001b[0;34m,\u001b[0m \u001b[0mstruct\u001b[0m\u001b[0;34m:\u001b[0m \u001b[0mMapping\u001b[0m\u001b[0;34m)\u001b[0m \u001b[0;34m->\u001b[0m \u001b[0mT\u001b[0m\u001b[0;34m:\u001b[0m\u001b[0;34m\u001b[0m\u001b[0m\n\u001b[0;32m--> 273\u001b[0;31m         \u001b[0;32mreturn\u001b[0m \u001b[0mparse_object_from_struct_based_on_class_init\u001b[0m\u001b[0;34m(\u001b[0m\u001b[0mcls\u001b[0m\u001b[0;34m,\u001b[0m \u001b[0mstruct\u001b[0m\u001b[0;34m,\u001b[0m \u001b[0mserialized_names\u001b[0m\u001b[0;34m=\u001b[0m\u001b[0mcls\u001b[0m\u001b[0;34m.\u001b[0m\u001b[0m_serialized_names\u001b[0m\u001b[0;34m)\u001b[0m\u001b[0;34m\u001b[0m\u001b[0m\n\u001b[0m\u001b[1;32m    274\u001b[0m \u001b[0;34m\u001b[0m\u001b[0m\n\u001b[1;32m    275\u001b[0m     \u001b[0;32mdef\u001b[0m \u001b[0mto_dict\u001b[0m\u001b[0;34m(\u001b[0m\u001b[0mself\u001b[0m\u001b[0;34m)\u001b[0m \u001b[0;34m->\u001b[0m \u001b[0mMapping\u001b[0m\u001b[0;34m:\u001b[0m\u001b[0;34m\u001b[0m\u001b[0m\n",
      "\u001b[0;32m~/.pyenv/versions/kf-pipelines-py3/lib/python3.5/site-packages/kfp/components/modelbase.py\u001b[0m in \u001b[0;36mparse_object_from_struct_based_on_class_init\u001b[0;34m(cls, struct, serialized_names)\u001b[0m\n\u001b[1;32m    224\u001b[0m         \u001b[0mparam_type\u001b[0m \u001b[0;34m=\u001b[0m \u001b[0mparameter_types\u001b[0m\u001b[0;34m.\u001b[0m\u001b[0mget\u001b[0m\u001b[0;34m(\u001b[0m\u001b[0mpython_name\u001b[0m\u001b[0;34m,\u001b[0m \u001b[0;32mNone\u001b[0m\u001b[0;34m)\u001b[0m\u001b[0;34m\u001b[0m\u001b[0m\n\u001b[1;32m    225\u001b[0m         \u001b[0;32mif\u001b[0m \u001b[0mparam_type\u001b[0m \u001b[0;32mis\u001b[0m \u001b[0;32mnot\u001b[0m \u001b[0;32mNone\u001b[0m\u001b[0;34m:\u001b[0m\u001b[0;34m\u001b[0m\u001b[0m\n\u001b[0;32m--> 226\u001b[0;31m             \u001b[0margs\u001b[0m\u001b[0;34m[\u001b[0m\u001b[0mpython_name\u001b[0m\u001b[0;34m]\u001b[0m \u001b[0;34m=\u001b[0m \u001b[0mparse_object_from_struct_based_on_type\u001b[0m\u001b[0;34m(\u001b[0m\u001b[0mvalue\u001b[0m\u001b[0;34m,\u001b[0m \u001b[0mparam_type\u001b[0m\u001b[0;34m)\u001b[0m\u001b[0;34m\u001b[0m\u001b[0m\n\u001b[0m\u001b[1;32m    227\u001b[0m         \u001b[0;32melse\u001b[0m\u001b[0;34m:\u001b[0m\u001b[0;34m\u001b[0m\u001b[0m\n\u001b[1;32m    228\u001b[0m             \u001b[0margs\u001b[0m\u001b[0;34m[\u001b[0m\u001b[0mpython_name\u001b[0m\u001b[0;34m]\u001b[0m \u001b[0;34m=\u001b[0m \u001b[0mvalue\u001b[0m\u001b[0;34m\u001b[0m\u001b[0m\n",
      "\u001b[0;32m~/.pyenv/versions/kf-pipelines-py3/lib/python3.5/site-packages/kfp/components/modelbase.py\u001b[0m in \u001b[0;36mparse_object_from_struct_based_on_type\u001b[0;34m(struct, typ)\u001b[0m\n\u001b[1;32m    148\u001b[0m             \u001b[0mexception_lines\u001b[0m \u001b[0;34m=\u001b[0m \u001b[0;34m[\u001b[0m\u001b[0mstr\u001b[0m\u001b[0;34m(\u001b[0m\u001b[0me\u001b[0m\u001b[0;34m)\u001b[0m \u001b[0;32mfor\u001b[0m \u001b[0mt\u001b[0m\u001b[0;34m,\u001b[0m \u001b[0me\u001b[0m \u001b[0;32min\u001b[0m \u001b[0mexception_map\u001b[0m\u001b[0;34m.\u001b[0m\u001b[0mitems\u001b[0m\u001b[0;34m(\u001b[0m\u001b[0;34m)\u001b[0m\u001b[0;34m]\u001b[0m\u001b[0;34m\u001b[0m\u001b[0m\n\u001b[1;32m    149\u001b[0m             \u001b[0mexception_lines\u001b[0m\u001b[0;34m.\u001b[0m\u001b[0mappend\u001b[0m\u001b[0;34m(\u001b[0m\u001b[0;34m'Error: Structure \"{}\" is incompatible with type \"{}\" - none of the types in Union are compatible.'\u001b[0m\u001b[0;34m.\u001b[0m\u001b[0mformat\u001b[0m\u001b[0;34m(\u001b[0m\u001b[0mstruct\u001b[0m\u001b[0;34m,\u001b[0m \u001b[0mtyp\u001b[0m\u001b[0;34m)\u001b[0m\u001b[0;34m)\u001b[0m\u001b[0;34m\u001b[0m\u001b[0m\n\u001b[0;32m--> 150\u001b[0;31m             \u001b[0;32mraise\u001b[0m \u001b[0mTypeError\u001b[0m\u001b[0;34m(\u001b[0m\u001b[0;34m'\\n'\u001b[0m\u001b[0;34m.\u001b[0m\u001b[0mjoin\u001b[0m\u001b[0;34m(\u001b[0m\u001b[0mexception_lines\u001b[0m\u001b[0;34m)\u001b[0m\u001b[0;34m)\u001b[0m\u001b[0;34m\u001b[0m\u001b[0m\n\u001b[0m\u001b[1;32m    151\u001b[0m         \u001b[0;31m#not Union => not None\u001b[0m\u001b[0;34m\u001b[0m\u001b[0;34m\u001b[0m\u001b[0m\n\u001b[1;32m    152\u001b[0m         \u001b[0;32mif\u001b[0m \u001b[0mstruct\u001b[0m \u001b[0;32mis\u001b[0m \u001b[0;32mNone\u001b[0m\u001b[0;34m:\u001b[0m\u001b[0;34m\u001b[0m\u001b[0m\n",
      "\u001b[0;31mTypeError\u001b[0m: Error: Structure \"OrderedDict([('generateName', 'pipeline-flip-coin-')])\" is not None.\nError: MetadataSpec.from_dict(struct=OrderedDict([('generateName', 'pipeline-flip-coin-')])) failed with exception:\n__init__() got an unexpected keyword argument 'generateName'\nError: Structure \"OrderedDict([('generateName', 'pipeline-flip-coin-')])\" is incompatible with type \"typing.Union[kfp.components._structures.MetadataSpec, NoneType]\" - none of the types in Union are compatible."
     ]
    }
   ],
   "source": [
    "load_component_from_text(txt)"
   ]
  },
  {
   "cell_type": "code",
   "execution_count": 103,
   "metadata": {
    "scrolled": true
   },
   "outputs": [],
   "source": [
    "try_extract_pipeline_zip(bytes)"
   ]
  },
  {
   "cell_type": "code",
   "execution_count": 55,
   "metadata": {},
   "outputs": [
    {
     "data": {
      "text/plain": [
       "bytes"
      ]
     },
     "execution_count": 55,
     "metadata": {},
     "output_type": "execute_result"
    }
   ],
   "source": [
    "type(ti)"
   ]
  },
  {
   "cell_type": "code",
   "execution_count": 87,
   "metadata": {},
   "outputs": [
    {
     "data": {
      "text/plain": [
       "b'apiVersion: argoproj.io/v1alpha1\\nkind: Workflow\\nmetadata:\\n  generateName: pipeline-flip-coin-\\nspec:\\n  arguments:\\n    parameters: []\\n  entrypoint: pipeline-flip-coin\\n  serviceAccountName: pipeline-runner\\n  templates:\\n  - inputs:\\n      parameters:\\n      - name: flip-output\\n    name: condition-1\\n    steps:\\n    - - arguments:\\n          parameters:\\n          - name: flip-output\\n            value: \\'{{inputs.parameters.flip-output}}\\'\\n        name: condition-1-child\\n        template: condition-1-child\\n        when: \\'{{inputs.parameters.flip-output}} == heads\\'\\n  - dag:\\n      tasks:\\n      - arguments:\\n          parameters:\\n          - name: flip-again-output\\n            value: \\'{{tasks.flip-again.outputs.parameters.flip-again-output}}\\'\\n          - name: flip-output\\n            value: \\'{{inputs.parameters.flip-output}}\\'\\n        dependencies:\\n        - flip-again\\n        name: condition-2\\n        template: condition-2\\n      - arguments:\\n          parameters:\\n          - name: flip-output\\n            value: \\'{{inputs.parameters.flip-output}}\\'\\n        name: flip-again\\n        template: flip-again\\n    inputs:\\n      parameters:\\n      - name: flip-output\\n    name: condition-1-child\\n  - inputs:\\n      parameters:\\n      - name: flip-again-output\\n      - name: flip-output\\n    name: condition-2\\n    steps:\\n    - - arguments:\\n          parameters:\\n          - name: flip-again-output\\n            value: \\'{{inputs.parameters.flip-again-output}}\\'\\n          - name: flip-output\\n            value: \\'{{inputs.parameters.flip-output}}\\'\\n        name: condition-2-child\\n        template: condition-2-child\\n        when: \\'{{inputs.parameters.flip-again-output}} == tails\\'\\n  - dag:\\n      tasks:\\n      - arguments:\\n          parameters:\\n          - name: flip-again-output\\n            value: \\'{{inputs.parameters.flip-again-output}}\\'\\n          - name: flip-output\\n            value: \\'{{inputs.parameters.flip-output}}\\'\\n        name: print1\\n        template: print1\\n    inputs:\\n      parameters:\\n      - name: flip-again-output\\n      - name: flip-output\\n    name: condition-2-child\\n  - inputs:\\n      parameters:\\n      - name: flip-output\\n    name: condition-3\\n    steps:\\n    - - arguments:\\n          parameters:\\n          - name: flip-output\\n            value: \\'{{inputs.parameters.flip-output}}\\'\\n        name: condition-3-child\\n        template: condition-3-child\\n        when: \\'{{inputs.parameters.flip-output}} == tails\\'\\n  - dag:\\n      tasks:\\n      - arguments:\\n          parameters:\\n          - name: flip-output\\n            value: \\'{{inputs.parameters.flip-output}}\\'\\n        name: print2\\n        template: print2\\n    inputs:\\n      parameters:\\n      - name: flip-output\\n    name: condition-3-child\\n  - container:\\n      args:\\n      - python -c \"import random; result = \\'heads\\' if random.randint(0,1) == 0 else\\n        \\'tails\\'; print(result)\" | tee /tmp/output\\n      command:\\n      - sh\\n      - -c\\n      image: python:alpine3.6\\n    name: flip\\n    outputs:\\n      artifacts:\\n      - name: mlpipeline-ui-metadata\\n        path: /mlpipeline-ui-metadata.json\\n        s3:\\n          accessKeySecret:\\n            key: accesskey\\n            name: mlpipeline-minio-artifact\\n          bucket: mlpipeline\\n          endpoint: minio-service.kubeflow:9000\\n          insecure: true\\n          key: runs/{{workflow.uid}}/{{pod.name}}/mlpipeline-ui-metadata.tgz\\n          secretKeySecret:\\n            key: secretkey\\n            name: mlpipeline-minio-artifact\\n      - name: mlpipeline-metrics\\n        path: /mlpipeline-metrics.json\\n        s3:\\n          accessKeySecret:\\n            key: accesskey\\n            name: mlpipeline-minio-artifact\\n          bucket: mlpipeline\\n          endpoint: minio-service.kubeflow:9000\\n          insecure: true\\n          key: runs/{{workflow.uid}}/{{pod.name}}/mlpipeline-metrics.tgz\\n          secretKeySecret:\\n            key: secretkey\\n            name: mlpipeline-minio-artifact\\n      parameters:\\n      - name: flip-output\\n        valueFrom:\\n          path: /tmp/output\\n  - container:\\n      args:\\n      - python -c \"import random; result = \\'heads\\' if random.randint(0,1) == 0 else\\n        \\'tails\\'; print(result)\" | tee /tmp/output\\n      command:\\n      - sh\\n      - -c\\n      image: python:alpine3.6\\n    name: flip-again\\n    outputs:\\n      artifacts:\\n      - name: mlpipeline-ui-metadata\\n        path: /mlpipeline-ui-metadata.json\\n        s3:\\n          accessKeySecret:\\n            key: accesskey\\n            name: mlpipeline-minio-artifact\\n          bucket: mlpipeline\\n          endpoint: minio-service.kubeflow:9000\\n          insecure: true\\n          key: runs/{{workflow.uid}}/{{pod.name}}/mlpipeline-ui-metadata.tgz\\n          secretKeySecret:\\n            key: secretkey\\n            name: mlpipeline-minio-artifact\\n      - name: mlpipeline-metrics\\n        path: /mlpipeline-metrics.json\\n        s3:\\n          accessKeySecret:\\n            key: accesskey\\n            name: mlpipeline-minio-artifact\\n          bucket: mlpipeline\\n          endpoint: minio-service.kubeflow:9000\\n          insecure: true\\n          key: runs/{{workflow.uid}}/{{pod.name}}/mlpipeline-metrics.tgz\\n          secretKeySecret:\\n            key: secretkey\\n            name: mlpipeline-minio-artifact\\n      parameters:\\n      - name: flip-again-output\\n        valueFrom:\\n          path: /tmp/output\\n  - dag:\\n      tasks:\\n      - arguments:\\n          parameters:\\n          - name: flip-output\\n            value: \\'{{tasks.flip.outputs.parameters.flip-output}}\\'\\n        dependencies:\\n        - flip\\n        name: condition-1\\n        template: condition-1\\n      - arguments:\\n          parameters:\\n          - name: flip-output\\n            value: \\'{{tasks.flip.outputs.parameters.flip-output}}\\'\\n        dependencies:\\n        - flip\\n        name: condition-3\\n        template: condition-3\\n      - name: flip\\n        template: flip\\n    name: pipeline-flip-coin\\n  - container:\\n      command:\\n      - echo\\n      - \\'\"it was tail\"\\'\\n      image: alpine:3.6\\n    name: print1\\n    outputs:\\n      artifacts:\\n      - name: mlpipeline-ui-metadata\\n        path: /mlpipeline-ui-metadata.json\\n        s3:\\n          accessKeySecret:\\n            key: accesskey\\n            name: mlpipeline-minio-artifact\\n          bucket: mlpipeline\\n          endpoint: minio-service.kubeflow:9000\\n          insecure: true\\n          key: runs/{{workflow.uid}}/{{pod.name}}/mlpipeline-ui-metadata.tgz\\n          secretKeySecret:\\n            key: secretkey\\n            name: mlpipeline-minio-artifact\\n      - name: mlpipeline-metrics\\n        path: /mlpipeline-metrics.json\\n        s3:\\n          accessKeySecret:\\n            key: accesskey\\n            name: mlpipeline-minio-artifact\\n          bucket: mlpipeline\\n          endpoint: minio-service.kubeflow:9000\\n          insecure: true\\n          key: runs/{{workflow.uid}}/{{pod.name}}/mlpipeline-metrics.tgz\\n          secretKeySecret:\\n            key: secretkey\\n            name: mlpipeline-minio-artifact\\n  - container:\\n      command:\\n      - echo\\n      - \\'\"it was tail\"\\'\\n      image: alpine:3.6\\n    name: print2\\n    outputs:\\n      artifacts:\\n      - name: mlpipeline-ui-metadata\\n        path: /mlpipeline-ui-metadata.json\\n        s3:\\n          accessKeySecret:\\n            key: accesskey\\n            name: mlpipeline-minio-artifact\\n          bucket: mlpipeline\\n          endpoint: minio-service.kubeflow:9000\\n          insecure: true\\n          key: runs/{{workflow.uid}}/{{pod.name}}/mlpipeline-ui-metadata.tgz\\n          secretKeySecret:\\n            key: secretkey\\n            name: mlpipeline-minio-artifact\\n      - name: mlpipeline-metrics\\n        path: /mlpipeline-metrics.json\\n        s3:\\n          accessKeySecret:\\n            key: accesskey\\n            name: mlpipeline-minio-artifact\\n          bucket: mlpipeline\\n          endpoint: minio-service.kubeflow:9000\\n          insecure: true\\n          key: runs/{{workflow.uid}}/{{pod.name}}/mlpipeline-metrics.tgz\\n          secretKeySecret:\\n            key: secretkey\\n            name: mlpipeline-minio-artifact\\n'"
      ]
     },
     "execution_count": 87,
     "metadata": {},
     "output_type": "execute_result"
    }
   ],
   "source": [
    "ti = try_extract_pipeline_tar(bytes); ti"
   ]
  },
  {
   "cell_type": "code",
   "execution_count": null,
   "metadata": {},
   "outputs": [],
   "source": [
    "ti."
   ]
  },
  {
   "cell_type": "code",
   "execution_count": 85,
   "metadata": {},
   "outputs": [
    {
     "ename": "ValueError",
     "evalue": "I/O operation on closed file",
     "output_type": "error",
     "traceback": [
      "\u001b[0;31m---------------------------------------------------------------------------\u001b[0m",
      "\u001b[0;31mValueError\u001b[0m                                Traceback (most recent call last)",
      "\u001b[0;32m<ipython-input-85-4b2af2c0ed29>\u001b[0m in \u001b[0;36m<module>\u001b[0;34m\u001b[0m\n\u001b[0;32m----> 1\u001b[0;31m \u001b[0mb\u001b[0m \u001b[0;34m=\u001b[0m \u001b[0mti\u001b[0m\u001b[0;34m.\u001b[0m\u001b[0mread\u001b[0m\u001b[0;34m(\u001b[0m\u001b[0;34m)\u001b[0m\u001b[0;34m;\u001b[0m \u001b[0mb\u001b[0m\u001b[0;34m\u001b[0m\u001b[0m\n\u001b[0m",
      "\u001b[0;32m~/.pyenv/versions/3.5.6/lib/python3.5/tarfile.py\u001b[0m in \u001b[0;36mread\u001b[0;34m(self, size)\u001b[0m\n\u001b[1;32m    684\u001b[0m             \u001b[0mlength\u001b[0m \u001b[0;34m=\u001b[0m \u001b[0mmin\u001b[0m\u001b[0;34m(\u001b[0m\u001b[0msize\u001b[0m\u001b[0;34m,\u001b[0m \u001b[0mstop\u001b[0m \u001b[0;34m-\u001b[0m \u001b[0mself\u001b[0m\u001b[0;34m.\u001b[0m\u001b[0mposition\u001b[0m\u001b[0;34m)\u001b[0m\u001b[0;34m\u001b[0m\u001b[0m\n\u001b[1;32m    685\u001b[0m             \u001b[0;32mif\u001b[0m \u001b[0mdata\u001b[0m\u001b[0;34m:\u001b[0m\u001b[0;34m\u001b[0m\u001b[0m\n\u001b[0;32m--> 686\u001b[0;31m                 \u001b[0mself\u001b[0m\u001b[0;34m.\u001b[0m\u001b[0mfileobj\u001b[0m\u001b[0;34m.\u001b[0m\u001b[0mseek\u001b[0m\u001b[0;34m(\u001b[0m\u001b[0moffset\u001b[0m \u001b[0;34m+\u001b[0m \u001b[0;34m(\u001b[0m\u001b[0mself\u001b[0m\u001b[0;34m.\u001b[0m\u001b[0mposition\u001b[0m \u001b[0;34m-\u001b[0m \u001b[0mstart\u001b[0m\u001b[0;34m)\u001b[0m\u001b[0;34m)\u001b[0m\u001b[0;34m\u001b[0m\u001b[0m\n\u001b[0m\u001b[1;32m    687\u001b[0m                 \u001b[0mb\u001b[0m \u001b[0;34m=\u001b[0m \u001b[0mself\u001b[0m\u001b[0;34m.\u001b[0m\u001b[0mfileobj\u001b[0m\u001b[0;34m.\u001b[0m\u001b[0mread\u001b[0m\u001b[0;34m(\u001b[0m\u001b[0mlength\u001b[0m\u001b[0;34m)\u001b[0m\u001b[0;34m\u001b[0m\u001b[0m\n\u001b[1;32m    688\u001b[0m                 \u001b[0;32mif\u001b[0m \u001b[0mlen\u001b[0m\u001b[0;34m(\u001b[0m\u001b[0mb\u001b[0m\u001b[0;34m)\u001b[0m \u001b[0;34m!=\u001b[0m \u001b[0mlength\u001b[0m\u001b[0;34m:\u001b[0m\u001b[0;34m\u001b[0m\u001b[0m\n",
      "\u001b[0;32m~/.pyenv/versions/3.5.6/lib/python3.5/gzip.py\u001b[0m in \u001b[0;36mseek\u001b[0;34m(self, offset, whence)\u001b[0m\n\u001b[1;32m    363\u001b[0m             \u001b[0mself\u001b[0m\u001b[0;34m.\u001b[0m\u001b[0mwrite\u001b[0m\u001b[0;34m(\u001b[0m\u001b[0mbytes\u001b[0m\u001b[0;34m(\u001b[0m\u001b[0mcount\u001b[0m \u001b[0;34m%\u001b[0m \u001b[0;36m1024\u001b[0m\u001b[0;34m)\u001b[0m\u001b[0;34m)\u001b[0m\u001b[0;34m\u001b[0m\u001b[0m\n\u001b[1;32m    364\u001b[0m         \u001b[0;32melif\u001b[0m \u001b[0mself\u001b[0m\u001b[0;34m.\u001b[0m\u001b[0mmode\u001b[0m \u001b[0;34m==\u001b[0m \u001b[0mREAD\u001b[0m\u001b[0;34m:\u001b[0m\u001b[0;34m\u001b[0m\u001b[0m\n\u001b[0;32m--> 365\u001b[0;31m             \u001b[0mself\u001b[0m\u001b[0;34m.\u001b[0m\u001b[0m_check_not_closed\u001b[0m\u001b[0;34m(\u001b[0m\u001b[0;34m)\u001b[0m\u001b[0;34m\u001b[0m\u001b[0m\n\u001b[0m\u001b[1;32m    366\u001b[0m             \u001b[0;32mreturn\u001b[0m \u001b[0mself\u001b[0m\u001b[0;34m.\u001b[0m\u001b[0m_buffer\u001b[0m\u001b[0;34m.\u001b[0m\u001b[0mseek\u001b[0m\u001b[0;34m(\u001b[0m\u001b[0moffset\u001b[0m\u001b[0;34m,\u001b[0m \u001b[0mwhence\u001b[0m\u001b[0;34m)\u001b[0m\u001b[0;34m\u001b[0m\u001b[0m\n\u001b[1;32m    367\u001b[0m \u001b[0;34m\u001b[0m\u001b[0m\n",
      "\u001b[0;32m~/.pyenv/versions/3.5.6/lib/python3.5/_compression.py\u001b[0m in \u001b[0;36m_check_not_closed\u001b[0;34m(self)\u001b[0m\n\u001b[1;32m     12\u001b[0m     \u001b[0;32mdef\u001b[0m \u001b[0m_check_not_closed\u001b[0m\u001b[0;34m(\u001b[0m\u001b[0mself\u001b[0m\u001b[0;34m)\u001b[0m\u001b[0;34m:\u001b[0m\u001b[0;34m\u001b[0m\u001b[0m\n\u001b[1;32m     13\u001b[0m         \u001b[0;32mif\u001b[0m \u001b[0mself\u001b[0m\u001b[0;34m.\u001b[0m\u001b[0mclosed\u001b[0m\u001b[0;34m:\u001b[0m\u001b[0;34m\u001b[0m\u001b[0m\n\u001b[0;32m---> 14\u001b[0;31m             \u001b[0;32mraise\u001b[0m \u001b[0mValueError\u001b[0m\u001b[0;34m(\u001b[0m\u001b[0;34m\"I/O operation on closed file\"\u001b[0m\u001b[0;34m)\u001b[0m\u001b[0;34m\u001b[0m\u001b[0m\n\u001b[0m\u001b[1;32m     15\u001b[0m \u001b[0;34m\u001b[0m\u001b[0m\n\u001b[1;32m     16\u001b[0m     \u001b[0;32mdef\u001b[0m \u001b[0m_check_can_read\u001b[0m\u001b[0;34m(\u001b[0m\u001b[0mself\u001b[0m\u001b[0;34m)\u001b[0m\u001b[0;34m:\u001b[0m\u001b[0;34m\u001b[0m\u001b[0m\n",
      "\u001b[0;31mValueError\u001b[0m: I/O operation on closed file"
     ]
    }
   ],
   "source": [
    "b = ti.read(); b"
   ]
  },
  {
   "cell_type": "code",
   "execution_count": 77,
   "metadata": {},
   "outputs": [
    {
     "data": {
      "text/plain": [
       "True"
      ]
     },
     "execution_count": 77,
     "metadata": {},
     "output_type": "execute_result"
    }
   ],
   "source": [
    "ti.isfile()"
   ]
  },
  {
   "cell_type": "code",
   "execution_count": 78,
   "metadata": {},
   "outputs": [
    {
     "data": {
      "text/plain": [
       "b'pipeline.yaml\\x00\\x00\\x00\\x00\\x00\\x00\\x00\\x00\\x00\\x00\\x00\\x00\\x00\\x00\\x00\\x00\\x00\\x00\\x00\\x00\\x00\\x00\\x00\\x00\\x00\\x00\\x00\\x00\\x00\\x00\\x00\\x00\\x00\\x00\\x00\\x00\\x00\\x00\\x00\\x00\\x00\\x00\\x00\\x00\\x00\\x00\\x00\\x00\\x00\\x00\\x00\\x00\\x00\\x00\\x00\\x00\\x00\\x00\\x00\\x00\\x00\\x00\\x00\\x00\\x00\\x00\\x00\\x00\\x00\\x00\\x00\\x00\\x00\\x00\\x00\\x00\\x00\\x00\\x00\\x00\\x00\\x00\\x00\\x00\\x00\\x00\\x000000600\\x001003501\\x000257523\\x0000000017413\\x0013371136303\\x00015775\\x00 0\\x00\\x00\\x00\\x00\\x00\\x00\\x00\\x00\\x00\\x00\\x00\\x00\\x00\\x00\\x00\\x00\\x00\\x00\\x00\\x00\\x00\\x00\\x00\\x00\\x00\\x00\\x00\\x00\\x00\\x00\\x00\\x00\\x00\\x00\\x00\\x00\\x00\\x00\\x00\\x00\\x00\\x00\\x00\\x00\\x00\\x00\\x00\\x00\\x00\\x00\\x00\\x00\\x00\\x00\\x00\\x00\\x00\\x00\\x00\\x00\\x00\\x00\\x00\\x00\\x00\\x00\\x00\\x00\\x00\\x00\\x00\\x00\\x00\\x00\\x00\\x00\\x00\\x00\\x00\\x00\\x00\\x00\\x00\\x00\\x00\\x00\\x00\\x00\\x00\\x00\\x00\\x00\\x00\\x00\\x00\\x00\\x00\\x00\\x00\\x00ustar  \\x00qimingj\\x00\\x00\\x00\\x00\\x00\\x00\\x00\\x00\\x00\\x00\\x00\\x00\\x00\\x00\\x00\\x00\\x00\\x00\\x00\\x00\\x00\\x00\\x00\\x00\\x00primarygroup\\x00\\x00\\x00\\x00\\x00\\x00\\x00\\x00\\x00\\x00\\x00\\x00\\x00\\x00\\x00\\x00\\x00\\x00\\x00\\x000000000\\x000000000\\x00\\x00\\x00\\x00\\x00\\x00\\x00\\x00\\x00\\x00\\x00\\x00\\x00\\x00\\x00\\x00\\x00\\x00\\x00\\x00\\x00\\x00\\x00\\x00\\x00\\x00\\x00\\x00\\x00\\x00\\x00\\x00\\x00\\x00\\x00\\x00\\x00\\x00\\x00\\x00\\x00\\x00\\x00\\x00\\x00\\x00\\x00\\x00\\x00\\x00\\x00\\x00\\x00\\x00\\x00\\x00\\x00\\x00\\x00\\x00\\x00\\x00\\x00\\x00\\x00\\x00\\x00\\x00\\x00\\x00\\x00\\x00\\x00\\x00\\x00\\x00\\x00\\x00\\x00\\x00\\x00\\x00\\x00\\x00\\x00\\x00\\x00\\x00\\x00\\x00\\x00\\x00\\x00\\x00\\x00\\x00\\x00\\x00\\x00\\x00\\x00\\x00\\x00\\x00\\x00\\x00\\x00\\x00\\x00\\x00\\x00\\x00\\x00\\x00\\x00\\x00\\x00\\x00\\x00\\x00\\x00\\x00\\x00\\x00\\x00\\x00\\x00\\x00\\x00\\x00\\x00\\x00\\x00\\x00\\x00\\x00\\x00\\x00\\x00\\x00\\x00\\x00\\x00\\x00\\x00\\x00\\x00\\x00\\x00\\x00\\x00\\x00\\x00\\x00\\x00\\x00\\x00\\x00\\x00\\x00\\x00\\x00\\x00\\x00\\x00\\x00\\x00\\x00'"
      ]
     },
     "execution_count": 78,
     "metadata": {},
     "output_type": "execute_result"
    }
   ],
   "source": [
    "ti.tobuf()"
   ]
  },
  {
   "cell_type": "code",
   "execution_count": null,
   "metadata": {},
   "outputs": [],
   "source": [
    "def load_component_from_tar()"
   ]
  },
  {
   "cell_type": "code",
   "execution_count": 14,
   "metadata": {},
   "outputs": [
    {
     "data": {
      "text/plain": [
       "True"
      ]
     },
     "execution_count": 14,
     "metadata": {},
     "output_type": "execute_result"
    }
   ],
   "source": [
    "is_zipfile(zip)"
   ]
  },
  {
   "cell_type": "code",
   "execution_count": 3,
   "metadata": {},
   "outputs": [
    {
     "ename": "ReaderError",
     "evalue": "unacceptable character #x008b: invalid start byte\n  in \"<file>\", position 1",
     "output_type": "error",
     "traceback": [
      "\u001b[0;31m---------------------------------------------------------------------------\u001b[0m",
      "\u001b[0;31mUnicodeDecodeError\u001b[0m                        Traceback (most recent call last)",
      "\u001b[0;32m~/.pyenv/versions/kf-pipelines-py3/lib/python3.5/site-packages/yaml/reader.py\u001b[0m in \u001b[0;36mupdate\u001b[0;34m(self, length)\u001b[0m\n\u001b[1;32m    156\u001b[0m                     data, converted = self.raw_decode(self.raw_buffer,\n\u001b[0;32m--> 157\u001b[0;31m                             'strict', self.eof)\n\u001b[0m\u001b[1;32m    158\u001b[0m                 \u001b[0;32mexcept\u001b[0m \u001b[0mUnicodeDecodeError\u001b[0m \u001b[0;32mas\u001b[0m \u001b[0mexc\u001b[0m\u001b[0;34m:\u001b[0m\u001b[0;34m\u001b[0m\u001b[0m\n",
      "\u001b[0;31mUnicodeDecodeError\u001b[0m: 'utf-8' codec can't decode byte 0x8b in position 1: invalid start byte",
      "\nDuring handling of the above exception, another exception occurred:\n",
      "\u001b[0;31mReaderError\u001b[0m                               Traceback (most recent call last)",
      "\u001b[0;32m<ipython-input-3-97449b6c811c>\u001b[0m in \u001b[0;36m<module>\u001b[0;34m\u001b[0m\n\u001b[0;32m----> 1\u001b[0;31m \u001b[0mload_component\u001b[0m\u001b[0;34m(\u001b[0m\u001b[0murl\u001b[0m\u001b[0;34m=\u001b[0m\u001b[0murl\u001b[0m\u001b[0;34m)\u001b[0m\u001b[0;34m\u001b[0m\u001b[0m\n\u001b[0m",
      "\u001b[0;32m~/.pyenv/versions/kf-pipelines-py3/lib/python3.5/site-packages/kfp/components/_components.py\u001b[0m in \u001b[0;36mload_component\u001b[0;34m(filename, url, text)\u001b[0m\n\u001b[1;32m     57\u001b[0m         \u001b[0;32mreturn\u001b[0m \u001b[0mload_component_from_file\u001b[0m\u001b[0;34m(\u001b[0m\u001b[0mfilename\u001b[0m\u001b[0;34m)\u001b[0m\u001b[0;34m\u001b[0m\u001b[0m\n\u001b[1;32m     58\u001b[0m     \u001b[0;32melif\u001b[0m \u001b[0murl\u001b[0m\u001b[0;34m:\u001b[0m\u001b[0;34m\u001b[0m\u001b[0m\n\u001b[0;32m---> 59\u001b[0;31m         \u001b[0;32mreturn\u001b[0m \u001b[0mload_component_from_url\u001b[0m\u001b[0;34m(\u001b[0m\u001b[0murl\u001b[0m\u001b[0;34m)\u001b[0m\u001b[0;34m\u001b[0m\u001b[0m\n\u001b[0m\u001b[1;32m     60\u001b[0m     \u001b[0;32melif\u001b[0m \u001b[0mtext\u001b[0m\u001b[0;34m:\u001b[0m\u001b[0;34m\u001b[0m\u001b[0m\n\u001b[1;32m     61\u001b[0m         \u001b[0;32mreturn\u001b[0m \u001b[0mload_component_from_text\u001b[0m\u001b[0;34m(\u001b[0m\u001b[0mtext\u001b[0m\u001b[0;34m)\u001b[0m\u001b[0;34m\u001b[0m\u001b[0m\n",
      "\u001b[0;32m~/.pyenv/versions/kf-pipelines-py3/lib/python3.5/site-packages/kfp/components/_components.py\u001b[0m in \u001b[0;36mload_component_from_url\u001b[0;34m(url)\u001b[0m\n\u001b[1;32m     87\u001b[0m     \u001b[0mresp\u001b[0m\u001b[0;34m.\u001b[0m\u001b[0mraise_for_status\u001b[0m\u001b[0;34m(\u001b[0m\u001b[0;34m)\u001b[0m\u001b[0;34m\u001b[0m\u001b[0m\n\u001b[1;32m     88\u001b[0m     \u001b[0mcomponent_ref\u001b[0m \u001b[0;34m=\u001b[0m \u001b[0mComponentReference\u001b[0m\u001b[0;34m(\u001b[0m\u001b[0murl\u001b[0m\u001b[0;34m=\u001b[0m\u001b[0murl\u001b[0m\u001b[0;34m)\u001b[0m\u001b[0;34m\u001b[0m\u001b[0m\n\u001b[0;32m---> 89\u001b[0;31m     \u001b[0;32mreturn\u001b[0m \u001b[0m_load_component_from_yaml_or_zip_bytes\u001b[0m\u001b[0;34m(\u001b[0m\u001b[0mresp\u001b[0m\u001b[0;34m.\u001b[0m\u001b[0mcontent\u001b[0m\u001b[0;34m,\u001b[0m \u001b[0murl\u001b[0m\u001b[0;34m,\u001b[0m \u001b[0mcomponent_ref\u001b[0m\u001b[0;34m)\u001b[0m\u001b[0;34m\u001b[0m\u001b[0m\n\u001b[0m\u001b[1;32m     90\u001b[0m \u001b[0;34m\u001b[0m\u001b[0m\n\u001b[1;32m     91\u001b[0m \u001b[0;34m\u001b[0m\u001b[0m\n",
      "\u001b[0;32m~/.pyenv/versions/kf-pipelines-py3/lib/python3.5/site-packages/kfp/components/_components.py\u001b[0m in \u001b[0;36m_load_component_from_yaml_or_zip_bytes\u001b[0;34m(bytes, component_filename, component_ref)\u001b[0m\n\u001b[1;32m    129\u001b[0m     \u001b[0;32mimport\u001b[0m \u001b[0mio\u001b[0m\u001b[0;34m\u001b[0m\u001b[0m\n\u001b[1;32m    130\u001b[0m     \u001b[0mcomponent_stream\u001b[0m \u001b[0;34m=\u001b[0m \u001b[0mio\u001b[0m\u001b[0;34m.\u001b[0m\u001b[0mBytesIO\u001b[0m\u001b[0;34m(\u001b[0m\u001b[0mbytes\u001b[0m\u001b[0;34m)\u001b[0m\u001b[0;34m\u001b[0m\u001b[0m\n\u001b[0;32m--> 131\u001b[0;31m     \u001b[0;32mreturn\u001b[0m \u001b[0m_load_component_from_yaml_or_zip_stream\u001b[0m\u001b[0;34m(\u001b[0m\u001b[0mcomponent_stream\u001b[0m\u001b[0;34m,\u001b[0m \u001b[0mcomponent_filename\u001b[0m\u001b[0;34m,\u001b[0m \u001b[0mcomponent_ref\u001b[0m\u001b[0;34m)\u001b[0m\u001b[0;34m\u001b[0m\u001b[0m\n\u001b[0m\u001b[1;32m    132\u001b[0m \u001b[0;34m\u001b[0m\u001b[0m\n\u001b[1;32m    133\u001b[0m \u001b[0;34m\u001b[0m\u001b[0m\n",
      "\u001b[0;32m~/.pyenv/versions/kf-pipelines-py3/lib/python3.5/site-packages/kfp/components/_components.py\u001b[0m in \u001b[0;36m_load_component_from_yaml_or_zip_stream\u001b[0;34m(stream, component_filename, component_ref)\u001b[0m\n\u001b[1;32m    145\u001b[0m     \u001b[0;32melse\u001b[0m\u001b[0;34m:\u001b[0m\u001b[0;34m\u001b[0m\u001b[0m\n\u001b[1;32m    146\u001b[0m         \u001b[0mstream\u001b[0m\u001b[0;34m.\u001b[0m\u001b[0mseek\u001b[0m\u001b[0;34m(\u001b[0m\u001b[0;36m0\u001b[0m\u001b[0;34m)\u001b[0m\u001b[0;34m\u001b[0m\u001b[0m\n\u001b[0;32m--> 147\u001b[0;31m         \u001b[0;32mreturn\u001b[0m \u001b[0m_create_task_factory_from_component_text\u001b[0m\u001b[0;34m(\u001b[0m\u001b[0mstream\u001b[0m\u001b[0;34m,\u001b[0m \u001b[0mcomponent_filename\u001b[0m\u001b[0;34m,\u001b[0m \u001b[0mcomponent_ref\u001b[0m\u001b[0;34m)\u001b[0m\u001b[0;34m\u001b[0m\u001b[0m\n\u001b[0m\u001b[1;32m    148\u001b[0m \u001b[0;34m\u001b[0m\u001b[0m\n\u001b[1;32m    149\u001b[0m \u001b[0;34m\u001b[0m\u001b[0m\n",
      "\u001b[0;32m~/.pyenv/versions/kf-pipelines-py3/lib/python3.5/site-packages/kfp/components/_components.py\u001b[0m in \u001b[0;36m_create_task_factory_from_component_text\u001b[0;34m(text_or_file, component_filename, component_ref)\u001b[0m\n\u001b[1;32m    149\u001b[0m \u001b[0;34m\u001b[0m\u001b[0m\n\u001b[1;32m    150\u001b[0m \u001b[0;32mdef\u001b[0m \u001b[0m_create_task_factory_from_component_text\u001b[0m\u001b[0;34m(\u001b[0m\u001b[0mtext_or_file\u001b[0m\u001b[0;34m,\u001b[0m \u001b[0mcomponent_filename\u001b[0m\u001b[0;34m=\u001b[0m\u001b[0;32mNone\u001b[0m\u001b[0;34m,\u001b[0m \u001b[0mcomponent_ref\u001b[0m\u001b[0;34m:\u001b[0m \u001b[0mComponentReference\u001b[0m \u001b[0;34m=\u001b[0m \u001b[0;32mNone\u001b[0m\u001b[0;34m)\u001b[0m\u001b[0;34m:\u001b[0m\u001b[0;34m\u001b[0m\u001b[0m\n\u001b[0;32m--> 151\u001b[0;31m     \u001b[0mcomponent_dict\u001b[0m \u001b[0;34m=\u001b[0m \u001b[0mload_yaml\u001b[0m\u001b[0;34m(\u001b[0m\u001b[0mtext_or_file\u001b[0m\u001b[0;34m)\u001b[0m\u001b[0;34m\u001b[0m\u001b[0m\n\u001b[0m\u001b[1;32m    152\u001b[0m     \u001b[0;32mreturn\u001b[0m \u001b[0m_create_task_factory_from_component_dict\u001b[0m\u001b[0;34m(\u001b[0m\u001b[0mcomponent_dict\u001b[0m\u001b[0;34m,\u001b[0m \u001b[0mcomponent_filename\u001b[0m\u001b[0;34m,\u001b[0m \u001b[0mcomponent_ref\u001b[0m\u001b[0;34m)\u001b[0m\u001b[0;34m\u001b[0m\u001b[0m\n\u001b[1;32m    153\u001b[0m \u001b[0;34m\u001b[0m\u001b[0m\n",
      "\u001b[0;32m~/.pyenv/versions/kf-pipelines-py3/lib/python3.5/site-packages/kfp/components/_yaml_utils.py\u001b[0m in \u001b[0;36mload_yaml\u001b[0;34m(stream)\u001b[0m\n\u001b[1;32m     29\u001b[0m             construct_mapping)\n\u001b[1;32m     30\u001b[0m         \u001b[0;32mreturn\u001b[0m \u001b[0myaml\u001b[0m\u001b[0;34m.\u001b[0m\u001b[0mload\u001b[0m\u001b[0;34m(\u001b[0m\u001b[0mstream\u001b[0m\u001b[0;34m,\u001b[0m \u001b[0mOrderedLoader\u001b[0m\u001b[0;34m)\u001b[0m\u001b[0;34m\u001b[0m\u001b[0m\n\u001b[0;32m---> 31\u001b[0;31m     \u001b[0;32mreturn\u001b[0m \u001b[0mordered_load\u001b[0m\u001b[0;34m(\u001b[0m\u001b[0mstream\u001b[0m\u001b[0;34m)\u001b[0m\u001b[0;34m\u001b[0m\u001b[0m\n\u001b[0m\u001b[1;32m     32\u001b[0m \u001b[0;34m\u001b[0m\u001b[0m\n\u001b[1;32m     33\u001b[0m \u001b[0;32mdef\u001b[0m \u001b[0mdump_yaml\u001b[0m\u001b[0;34m(\u001b[0m\u001b[0mdata\u001b[0m\u001b[0;34m)\u001b[0m\u001b[0;34m:\u001b[0m\u001b[0;34m\u001b[0m\u001b[0m\n",
      "\u001b[0;32m~/.pyenv/versions/kf-pipelines-py3/lib/python3.5/site-packages/kfp/components/_yaml_utils.py\u001b[0m in \u001b[0;36mordered_load\u001b[0;34m(stream, Loader, object_pairs_hook)\u001b[0m\n\u001b[1;32m     28\u001b[0m             \u001b[0myaml\u001b[0m\u001b[0;34m.\u001b[0m\u001b[0mresolver\u001b[0m\u001b[0;34m.\u001b[0m\u001b[0mBaseResolver\u001b[0m\u001b[0;34m.\u001b[0m\u001b[0mDEFAULT_MAPPING_TAG\u001b[0m\u001b[0;34m,\u001b[0m\u001b[0;34m\u001b[0m\u001b[0m\n\u001b[1;32m     29\u001b[0m             construct_mapping)\n\u001b[0;32m---> 30\u001b[0;31m         \u001b[0;32mreturn\u001b[0m \u001b[0myaml\u001b[0m\u001b[0;34m.\u001b[0m\u001b[0mload\u001b[0m\u001b[0;34m(\u001b[0m\u001b[0mstream\u001b[0m\u001b[0;34m,\u001b[0m \u001b[0mOrderedLoader\u001b[0m\u001b[0;34m)\u001b[0m\u001b[0;34m\u001b[0m\u001b[0m\n\u001b[0m\u001b[1;32m     31\u001b[0m     \u001b[0;32mreturn\u001b[0m \u001b[0mordered_load\u001b[0m\u001b[0;34m(\u001b[0m\u001b[0mstream\u001b[0m\u001b[0;34m)\u001b[0m\u001b[0;34m\u001b[0m\u001b[0m\n\u001b[1;32m     32\u001b[0m \u001b[0;34m\u001b[0m\u001b[0m\n",
      "\u001b[0;32m~/.pyenv/versions/kf-pipelines-py3/lib/python3.5/site-packages/yaml/__init__.py\u001b[0m in \u001b[0;36mload\u001b[0;34m(stream, Loader)\u001b[0m\n\u001b[1;32m     68\u001b[0m     \u001b[0;32mand\u001b[0m \u001b[0mproduce\u001b[0m \u001b[0mthe\u001b[0m \u001b[0mcorresponding\u001b[0m \u001b[0mPython\u001b[0m \u001b[0mobject\u001b[0m\u001b[0;34m.\u001b[0m\u001b[0;34m\u001b[0m\u001b[0m\n\u001b[1;32m     69\u001b[0m     \"\"\"\n\u001b[0;32m---> 70\u001b[0;31m     \u001b[0mloader\u001b[0m \u001b[0;34m=\u001b[0m \u001b[0mLoader\u001b[0m\u001b[0;34m(\u001b[0m\u001b[0mstream\u001b[0m\u001b[0;34m)\u001b[0m\u001b[0;34m\u001b[0m\u001b[0m\n\u001b[0m\u001b[1;32m     71\u001b[0m     \u001b[0;32mtry\u001b[0m\u001b[0;34m:\u001b[0m\u001b[0;34m\u001b[0m\u001b[0m\n\u001b[1;32m     72\u001b[0m         \u001b[0;32mreturn\u001b[0m \u001b[0mloader\u001b[0m\u001b[0;34m.\u001b[0m\u001b[0mget_single_data\u001b[0m\u001b[0;34m(\u001b[0m\u001b[0;34m)\u001b[0m\u001b[0;34m\u001b[0m\u001b[0m\n",
      "\u001b[0;32m~/.pyenv/versions/kf-pipelines-py3/lib/python3.5/site-packages/yaml/loader.py\u001b[0m in \u001b[0;36m__init__\u001b[0;34m(self, stream)\u001b[0m\n\u001b[1;32m     22\u001b[0m \u001b[0;34m\u001b[0m\u001b[0m\n\u001b[1;32m     23\u001b[0m     \u001b[0;32mdef\u001b[0m \u001b[0m__init__\u001b[0m\u001b[0;34m(\u001b[0m\u001b[0mself\u001b[0m\u001b[0;34m,\u001b[0m \u001b[0mstream\u001b[0m\u001b[0;34m)\u001b[0m\u001b[0;34m:\u001b[0m\u001b[0;34m\u001b[0m\u001b[0m\n\u001b[0;32m---> 24\u001b[0;31m         \u001b[0mReader\u001b[0m\u001b[0;34m.\u001b[0m\u001b[0m__init__\u001b[0m\u001b[0;34m(\u001b[0m\u001b[0mself\u001b[0m\u001b[0;34m,\u001b[0m \u001b[0mstream\u001b[0m\u001b[0;34m)\u001b[0m\u001b[0;34m\u001b[0m\u001b[0m\n\u001b[0m\u001b[1;32m     25\u001b[0m         \u001b[0mScanner\u001b[0m\u001b[0;34m.\u001b[0m\u001b[0m__init__\u001b[0m\u001b[0;34m(\u001b[0m\u001b[0mself\u001b[0m\u001b[0;34m)\u001b[0m\u001b[0;34m\u001b[0m\u001b[0m\n\u001b[1;32m     26\u001b[0m         \u001b[0mParser\u001b[0m\u001b[0;34m.\u001b[0m\u001b[0m__init__\u001b[0m\u001b[0;34m(\u001b[0m\u001b[0mself\u001b[0m\u001b[0;34m)\u001b[0m\u001b[0;34m\u001b[0m\u001b[0m\n",
      "\u001b[0;32m~/.pyenv/versions/kf-pipelines-py3/lib/python3.5/site-packages/yaml/reader.py\u001b[0m in \u001b[0;36m__init__\u001b[0;34m(self, stream)\u001b[0m\n\u001b[1;32m     83\u001b[0m             \u001b[0mself\u001b[0m\u001b[0;34m.\u001b[0m\u001b[0meof\u001b[0m \u001b[0;34m=\u001b[0m \u001b[0;32mFalse\u001b[0m\u001b[0;34m\u001b[0m\u001b[0m\n\u001b[1;32m     84\u001b[0m             \u001b[0mself\u001b[0m\u001b[0;34m.\u001b[0m\u001b[0mraw_buffer\u001b[0m \u001b[0;34m=\u001b[0m \u001b[0;32mNone\u001b[0m\u001b[0;34m\u001b[0m\u001b[0m\n\u001b[0;32m---> 85\u001b[0;31m             \u001b[0mself\u001b[0m\u001b[0;34m.\u001b[0m\u001b[0mdetermine_encoding\u001b[0m\u001b[0;34m(\u001b[0m\u001b[0;34m)\u001b[0m\u001b[0;34m\u001b[0m\u001b[0m\n\u001b[0m\u001b[1;32m     86\u001b[0m \u001b[0;34m\u001b[0m\u001b[0m\n\u001b[1;32m     87\u001b[0m     \u001b[0;32mdef\u001b[0m \u001b[0mpeek\u001b[0m\u001b[0;34m(\u001b[0m\u001b[0mself\u001b[0m\u001b[0;34m,\u001b[0m \u001b[0mindex\u001b[0m\u001b[0;34m=\u001b[0m\u001b[0;36m0\u001b[0m\u001b[0;34m)\u001b[0m\u001b[0;34m:\u001b[0m\u001b[0;34m\u001b[0m\u001b[0m\n",
      "\u001b[0;32m~/.pyenv/versions/kf-pipelines-py3/lib/python3.5/site-packages/yaml/reader.py\u001b[0m in \u001b[0;36mdetermine_encoding\u001b[0;34m(self)\u001b[0m\n\u001b[1;32m    133\u001b[0m                 \u001b[0mself\u001b[0m\u001b[0;34m.\u001b[0m\u001b[0mraw_decode\u001b[0m \u001b[0;34m=\u001b[0m \u001b[0mcodecs\u001b[0m\u001b[0;34m.\u001b[0m\u001b[0mutf_8_decode\u001b[0m\u001b[0;34m\u001b[0m\u001b[0m\n\u001b[1;32m    134\u001b[0m                 \u001b[0mself\u001b[0m\u001b[0;34m.\u001b[0m\u001b[0mencoding\u001b[0m \u001b[0;34m=\u001b[0m \u001b[0;34m'utf-8'\u001b[0m\u001b[0;34m\u001b[0m\u001b[0m\n\u001b[0;32m--> 135\u001b[0;31m         \u001b[0mself\u001b[0m\u001b[0;34m.\u001b[0m\u001b[0mupdate\u001b[0m\u001b[0;34m(\u001b[0m\u001b[0;36m1\u001b[0m\u001b[0;34m)\u001b[0m\u001b[0;34m\u001b[0m\u001b[0m\n\u001b[0m\u001b[1;32m    136\u001b[0m \u001b[0;34m\u001b[0m\u001b[0m\n\u001b[1;32m    137\u001b[0m     \u001b[0mNON_PRINTABLE\u001b[0m \u001b[0;34m=\u001b[0m \u001b[0mre\u001b[0m\u001b[0;34m.\u001b[0m\u001b[0mcompile\u001b[0m\u001b[0;34m(\u001b[0m\u001b[0;34m'[^\\x09\\x0A\\x0D\\x20-\\x7E\\x85\\xA0-\\uD7FF\\uE000-\\uFFFD]'\u001b[0m\u001b[0;34m)\u001b[0m\u001b[0;34m\u001b[0m\u001b[0m\n",
      "\u001b[0;32m~/.pyenv/versions/kf-pipelines-py3/lib/python3.5/site-packages/yaml/reader.py\u001b[0m in \u001b[0;36mupdate\u001b[0;34m(self, length)\u001b[0m\n\u001b[1;32m    163\u001b[0m                         \u001b[0mposition\u001b[0m \u001b[0;34m=\u001b[0m \u001b[0mexc\u001b[0m\u001b[0;34m.\u001b[0m\u001b[0mstart\u001b[0m\u001b[0;34m\u001b[0m\u001b[0m\n\u001b[1;32m    164\u001b[0m                     raise ReaderError(self.name, position, character,\n\u001b[0;32m--> 165\u001b[0;31m                             exc.encoding, exc.reason)\n\u001b[0m\u001b[1;32m    166\u001b[0m             \u001b[0;32melse\u001b[0m\u001b[0;34m:\u001b[0m\u001b[0;34m\u001b[0m\u001b[0m\n\u001b[1;32m    167\u001b[0m                 \u001b[0mdata\u001b[0m \u001b[0;34m=\u001b[0m \u001b[0mself\u001b[0m\u001b[0;34m.\u001b[0m\u001b[0mraw_buffer\u001b[0m\u001b[0;34m\u001b[0m\u001b[0m\n",
      "\u001b[0;31mReaderError\u001b[0m: unacceptable character #x008b: invalid start byte\n  in \"<file>\", position 1"
     ]
    }
   ],
   "source": [
    "load_component(url=url)"
   ]
  },
  {
   "cell_type": "code",
   "execution_count": 10,
   "metadata": {},
   "outputs": [
    {
     "ename": "ReaderError",
     "evalue": "unacceptable character #x008b: invalid start byte\n  in \"/Users/ryan/c/pipelines/backend/coin.tar.gz\", position 1",
     "output_type": "error",
     "traceback": [
      "\u001b[0;31m---------------------------------------------------------------------------\u001b[0m",
      "\u001b[0;31mUnicodeDecodeError\u001b[0m                        Traceback (most recent call last)",
      "\u001b[0;32m~/.pyenv/versions/kf-pipelines-py3/lib/python3.5/site-packages/yaml/reader.py\u001b[0m in \u001b[0;36mupdate\u001b[0;34m(self, length)\u001b[0m\n\u001b[1;32m    156\u001b[0m                     data, converted = self.raw_decode(self.raw_buffer,\n\u001b[0;32m--> 157\u001b[0;31m                             'strict', self.eof)\n\u001b[0m\u001b[1;32m    158\u001b[0m                 \u001b[0;32mexcept\u001b[0m \u001b[0mUnicodeDecodeError\u001b[0m \u001b[0;32mas\u001b[0m \u001b[0mexc\u001b[0m\u001b[0;34m:\u001b[0m\u001b[0;34m\u001b[0m\u001b[0m\n",
      "\u001b[0;31mUnicodeDecodeError\u001b[0m: 'utf-8' codec can't decode byte 0x8b in position 1: invalid start byte",
      "\nDuring handling of the above exception, another exception occurred:\n",
      "\u001b[0;31mReaderError\u001b[0m                               Traceback (most recent call last)",
      "\u001b[0;32m<ipython-input-10-a19da3ba8357>\u001b[0m in \u001b[0;36m<module>\u001b[0;34m\u001b[0m\n\u001b[0;32m----> 1\u001b[0;31m \u001b[0mload_component\u001b[0m\u001b[0;34m(\u001b[0m\u001b[0mfilename\u001b[0m\u001b[0;34m=\u001b[0m\u001b[0mfile\u001b[0m\u001b[0;34m)\u001b[0m\u001b[0;34m\u001b[0m\u001b[0m\n\u001b[0m",
      "\u001b[0;32m~/.pyenv/versions/kf-pipelines-py3/lib/python3.5/site-packages/kfp/components/_components.py\u001b[0m in \u001b[0;36mload_component\u001b[0;34m(filename, url, text)\u001b[0m\n\u001b[1;32m     53\u001b[0m         \u001b[0;32mraise\u001b[0m \u001b[0mValueError\u001b[0m\u001b[0;34m(\u001b[0m\u001b[0;34m'Need to specify exactly one source'\u001b[0m\u001b[0;34m)\u001b[0m\u001b[0;34m\u001b[0m\u001b[0m\n\u001b[1;32m     54\u001b[0m     \u001b[0;32mif\u001b[0m \u001b[0mfilename\u001b[0m\u001b[0;34m:\u001b[0m\u001b[0;34m\u001b[0m\u001b[0m\n\u001b[0;32m---> 55\u001b[0;31m         \u001b[0;32mreturn\u001b[0m \u001b[0mload_component_from_file\u001b[0m\u001b[0;34m(\u001b[0m\u001b[0mfilename\u001b[0m\u001b[0;34m)\u001b[0m\u001b[0;34m\u001b[0m\u001b[0m\n\u001b[0m\u001b[1;32m     56\u001b[0m     \u001b[0;32melif\u001b[0m \u001b[0murl\u001b[0m\u001b[0;34m:\u001b[0m\u001b[0;34m\u001b[0m\u001b[0m\n\u001b[1;32m     57\u001b[0m         \u001b[0;32mreturn\u001b[0m \u001b[0mload_component_from_url\u001b[0m\u001b[0;34m(\u001b[0m\u001b[0murl\u001b[0m\u001b[0;34m)\u001b[0m\u001b[0;34m\u001b[0m\u001b[0m\n",
      "\u001b[0;32m~/.pyenv/versions/kf-pipelines-py3/lib/python3.5/site-packages/kfp/components/_components.py\u001b[0m in \u001b[0;36mload_component_from_file\u001b[0;34m(filename)\u001b[0m\n\u001b[1;32m     95\u001b[0m         \u001b[0;32mraise\u001b[0m \u001b[0mTypeError\u001b[0m\u001b[0;34m\u001b[0m\u001b[0m\n\u001b[1;32m     96\u001b[0m     \u001b[0;32mwith\u001b[0m \u001b[0mopen\u001b[0m\u001b[0;34m(\u001b[0m\u001b[0mfilename\u001b[0m\u001b[0;34m,\u001b[0m \u001b[0;34m'rb'\u001b[0m\u001b[0;34m)\u001b[0m \u001b[0;32mas\u001b[0m \u001b[0mcomponent_stream\u001b[0m\u001b[0;34m:\u001b[0m\u001b[0;34m\u001b[0m\u001b[0m\n\u001b[0;32m---> 97\u001b[0;31m         \u001b[0;32mreturn\u001b[0m \u001b[0m_load_component_from_yaml_or_zip_stream\u001b[0m\u001b[0;34m(\u001b[0m\u001b[0mcomponent_stream\u001b[0m\u001b[0;34m,\u001b[0m \u001b[0mfilename\u001b[0m\u001b[0;34m)\u001b[0m\u001b[0;34m\u001b[0m\u001b[0m\n\u001b[0m\u001b[1;32m     98\u001b[0m \u001b[0;34m\u001b[0m\u001b[0m\n\u001b[1;32m     99\u001b[0m \u001b[0;34m\u001b[0m\u001b[0m\n",
      "\u001b[0;32m~/.pyenv/versions/kf-pipelines-py3/lib/python3.5/site-packages/kfp/components/_components.py\u001b[0m in \u001b[0;36m_load_component_from_yaml_or_zip_stream\u001b[0;34m(stream, component_filename)\u001b[0m\n\u001b[1;32m    136\u001b[0m     \u001b[0;32melse\u001b[0m\u001b[0;34m:\u001b[0m\u001b[0;34m\u001b[0m\u001b[0m\n\u001b[1;32m    137\u001b[0m         \u001b[0mstream\u001b[0m\u001b[0;34m.\u001b[0m\u001b[0mseek\u001b[0m\u001b[0;34m(\u001b[0m\u001b[0;36m0\u001b[0m\u001b[0;34m)\u001b[0m\u001b[0;34m\u001b[0m\u001b[0m\n\u001b[0;32m--> 138\u001b[0;31m         \u001b[0;32mreturn\u001b[0m \u001b[0m_create_task_factory_from_component_text\u001b[0m\u001b[0;34m(\u001b[0m\u001b[0mstream\u001b[0m\u001b[0;34m,\u001b[0m \u001b[0mcomponent_filename\u001b[0m\u001b[0;34m)\u001b[0m\u001b[0;34m\u001b[0m\u001b[0m\n\u001b[0m\u001b[1;32m    139\u001b[0m \u001b[0;34m\u001b[0m\u001b[0m\n\u001b[1;32m    140\u001b[0m \u001b[0;34m\u001b[0m\u001b[0m\n",
      "\u001b[0;32m~/.pyenv/versions/kf-pipelines-py3/lib/python3.5/site-packages/kfp/components/_components.py\u001b[0m in \u001b[0;36m_create_task_factory_from_component_text\u001b[0;34m(text_or_file, component_filename)\u001b[0m\n\u001b[1;32m    140\u001b[0m \u001b[0;34m\u001b[0m\u001b[0m\n\u001b[1;32m    141\u001b[0m \u001b[0;32mdef\u001b[0m \u001b[0m_create_task_factory_from_component_text\u001b[0m\u001b[0;34m(\u001b[0m\u001b[0mtext_or_file\u001b[0m\u001b[0;34m,\u001b[0m \u001b[0mcomponent_filename\u001b[0m\u001b[0;34m=\u001b[0m\u001b[0;32mNone\u001b[0m\u001b[0;34m)\u001b[0m\u001b[0;34m:\u001b[0m\u001b[0;34m\u001b[0m\u001b[0m\n\u001b[0;32m--> 142\u001b[0;31m     \u001b[0mcomponent_dict\u001b[0m \u001b[0;34m=\u001b[0m \u001b[0mload_yaml\u001b[0m\u001b[0;34m(\u001b[0m\u001b[0mtext_or_file\u001b[0m\u001b[0;34m)\u001b[0m\u001b[0;34m\u001b[0m\u001b[0m\n\u001b[0m\u001b[1;32m    143\u001b[0m     \u001b[0;32mreturn\u001b[0m \u001b[0m_create_task_factory_from_component_dict\u001b[0m\u001b[0;34m(\u001b[0m\u001b[0mcomponent_dict\u001b[0m\u001b[0;34m,\u001b[0m \u001b[0mcomponent_filename\u001b[0m\u001b[0;34m)\u001b[0m\u001b[0;34m\u001b[0m\u001b[0m\n\u001b[1;32m    144\u001b[0m \u001b[0;34m\u001b[0m\u001b[0m\n",
      "\u001b[0;32m~/.pyenv/versions/kf-pipelines-py3/lib/python3.5/site-packages/kfp/components/_yaml_utils.py\u001b[0m in \u001b[0;36mload_yaml\u001b[0;34m(stream)\u001b[0m\n\u001b[1;32m     29\u001b[0m             construct_mapping)\n\u001b[1;32m     30\u001b[0m         \u001b[0;32mreturn\u001b[0m \u001b[0myaml\u001b[0m\u001b[0;34m.\u001b[0m\u001b[0mload\u001b[0m\u001b[0;34m(\u001b[0m\u001b[0mstream\u001b[0m\u001b[0;34m,\u001b[0m \u001b[0mOrderedLoader\u001b[0m\u001b[0;34m)\u001b[0m\u001b[0;34m\u001b[0m\u001b[0m\n\u001b[0;32m---> 31\u001b[0;31m     \u001b[0;32mreturn\u001b[0m \u001b[0mordered_load\u001b[0m\u001b[0;34m(\u001b[0m\u001b[0mstream\u001b[0m\u001b[0;34m)\u001b[0m\u001b[0;34m\u001b[0m\u001b[0m\n\u001b[0m\u001b[1;32m     32\u001b[0m \u001b[0;34m\u001b[0m\u001b[0m\n\u001b[1;32m     33\u001b[0m \u001b[0;32mdef\u001b[0m \u001b[0mdump_yaml\u001b[0m\u001b[0;34m(\u001b[0m\u001b[0mdata\u001b[0m\u001b[0;34m)\u001b[0m\u001b[0;34m:\u001b[0m\u001b[0;34m\u001b[0m\u001b[0m\n",
      "\u001b[0;32m~/.pyenv/versions/kf-pipelines-py3/lib/python3.5/site-packages/kfp/components/_yaml_utils.py\u001b[0m in \u001b[0;36mordered_load\u001b[0;34m(stream, Loader, object_pairs_hook)\u001b[0m\n\u001b[1;32m     28\u001b[0m             \u001b[0myaml\u001b[0m\u001b[0;34m.\u001b[0m\u001b[0mresolver\u001b[0m\u001b[0;34m.\u001b[0m\u001b[0mBaseResolver\u001b[0m\u001b[0;34m.\u001b[0m\u001b[0mDEFAULT_MAPPING_TAG\u001b[0m\u001b[0;34m,\u001b[0m\u001b[0;34m\u001b[0m\u001b[0m\n\u001b[1;32m     29\u001b[0m             construct_mapping)\n\u001b[0;32m---> 30\u001b[0;31m         \u001b[0;32mreturn\u001b[0m \u001b[0myaml\u001b[0m\u001b[0;34m.\u001b[0m\u001b[0mload\u001b[0m\u001b[0;34m(\u001b[0m\u001b[0mstream\u001b[0m\u001b[0;34m,\u001b[0m \u001b[0mOrderedLoader\u001b[0m\u001b[0;34m)\u001b[0m\u001b[0;34m\u001b[0m\u001b[0m\n\u001b[0m\u001b[1;32m     31\u001b[0m     \u001b[0;32mreturn\u001b[0m \u001b[0mordered_load\u001b[0m\u001b[0;34m(\u001b[0m\u001b[0mstream\u001b[0m\u001b[0;34m)\u001b[0m\u001b[0;34m\u001b[0m\u001b[0m\n\u001b[1;32m     32\u001b[0m \u001b[0;34m\u001b[0m\u001b[0m\n",
      "\u001b[0;32m~/.pyenv/versions/kf-pipelines-py3/lib/python3.5/site-packages/yaml/__init__.py\u001b[0m in \u001b[0;36mload\u001b[0;34m(stream, Loader)\u001b[0m\n\u001b[1;32m     68\u001b[0m     \u001b[0;32mand\u001b[0m \u001b[0mproduce\u001b[0m \u001b[0mthe\u001b[0m \u001b[0mcorresponding\u001b[0m \u001b[0mPython\u001b[0m \u001b[0mobject\u001b[0m\u001b[0;34m.\u001b[0m\u001b[0;34m\u001b[0m\u001b[0m\n\u001b[1;32m     69\u001b[0m     \"\"\"\n\u001b[0;32m---> 70\u001b[0;31m     \u001b[0mloader\u001b[0m \u001b[0;34m=\u001b[0m \u001b[0mLoader\u001b[0m\u001b[0;34m(\u001b[0m\u001b[0mstream\u001b[0m\u001b[0;34m)\u001b[0m\u001b[0;34m\u001b[0m\u001b[0m\n\u001b[0m\u001b[1;32m     71\u001b[0m     \u001b[0;32mtry\u001b[0m\u001b[0;34m:\u001b[0m\u001b[0;34m\u001b[0m\u001b[0m\n\u001b[1;32m     72\u001b[0m         \u001b[0;32mreturn\u001b[0m \u001b[0mloader\u001b[0m\u001b[0;34m.\u001b[0m\u001b[0mget_single_data\u001b[0m\u001b[0;34m(\u001b[0m\u001b[0;34m)\u001b[0m\u001b[0;34m\u001b[0m\u001b[0m\n",
      "\u001b[0;32m~/.pyenv/versions/kf-pipelines-py3/lib/python3.5/site-packages/yaml/loader.py\u001b[0m in \u001b[0;36m__init__\u001b[0;34m(self, stream)\u001b[0m\n\u001b[1;32m     32\u001b[0m \u001b[0;34m\u001b[0m\u001b[0m\n\u001b[1;32m     33\u001b[0m     \u001b[0;32mdef\u001b[0m \u001b[0m__init__\u001b[0m\u001b[0;34m(\u001b[0m\u001b[0mself\u001b[0m\u001b[0;34m,\u001b[0m \u001b[0mstream\u001b[0m\u001b[0;34m)\u001b[0m\u001b[0;34m:\u001b[0m\u001b[0;34m\u001b[0m\u001b[0m\n\u001b[0;32m---> 34\u001b[0;31m         \u001b[0mReader\u001b[0m\u001b[0;34m.\u001b[0m\u001b[0m__init__\u001b[0m\u001b[0;34m(\u001b[0m\u001b[0mself\u001b[0m\u001b[0;34m,\u001b[0m \u001b[0mstream\u001b[0m\u001b[0;34m)\u001b[0m\u001b[0;34m\u001b[0m\u001b[0m\n\u001b[0m\u001b[1;32m     35\u001b[0m         \u001b[0mScanner\u001b[0m\u001b[0;34m.\u001b[0m\u001b[0m__init__\u001b[0m\u001b[0;34m(\u001b[0m\u001b[0mself\u001b[0m\u001b[0;34m)\u001b[0m\u001b[0;34m\u001b[0m\u001b[0m\n\u001b[1;32m     36\u001b[0m         \u001b[0mParser\u001b[0m\u001b[0;34m.\u001b[0m\u001b[0m__init__\u001b[0m\u001b[0;34m(\u001b[0m\u001b[0mself\u001b[0m\u001b[0;34m)\u001b[0m\u001b[0;34m\u001b[0m\u001b[0m\n",
      "\u001b[0;32m~/.pyenv/versions/kf-pipelines-py3/lib/python3.5/site-packages/yaml/reader.py\u001b[0m in \u001b[0;36m__init__\u001b[0;34m(self, stream)\u001b[0m\n\u001b[1;32m     83\u001b[0m             \u001b[0mself\u001b[0m\u001b[0;34m.\u001b[0m\u001b[0meof\u001b[0m \u001b[0;34m=\u001b[0m \u001b[0;32mFalse\u001b[0m\u001b[0;34m\u001b[0m\u001b[0m\n\u001b[1;32m     84\u001b[0m             \u001b[0mself\u001b[0m\u001b[0;34m.\u001b[0m\u001b[0mraw_buffer\u001b[0m \u001b[0;34m=\u001b[0m \u001b[0;32mNone\u001b[0m\u001b[0;34m\u001b[0m\u001b[0m\n\u001b[0;32m---> 85\u001b[0;31m             \u001b[0mself\u001b[0m\u001b[0;34m.\u001b[0m\u001b[0mdetermine_encoding\u001b[0m\u001b[0;34m(\u001b[0m\u001b[0;34m)\u001b[0m\u001b[0;34m\u001b[0m\u001b[0m\n\u001b[0m\u001b[1;32m     86\u001b[0m \u001b[0;34m\u001b[0m\u001b[0m\n\u001b[1;32m     87\u001b[0m     \u001b[0;32mdef\u001b[0m \u001b[0mpeek\u001b[0m\u001b[0;34m(\u001b[0m\u001b[0mself\u001b[0m\u001b[0;34m,\u001b[0m \u001b[0mindex\u001b[0m\u001b[0;34m=\u001b[0m\u001b[0;36m0\u001b[0m\u001b[0;34m)\u001b[0m\u001b[0;34m:\u001b[0m\u001b[0;34m\u001b[0m\u001b[0m\n",
      "\u001b[0;32m~/.pyenv/versions/kf-pipelines-py3/lib/python3.5/site-packages/yaml/reader.py\u001b[0m in \u001b[0;36mdetermine_encoding\u001b[0;34m(self)\u001b[0m\n\u001b[1;32m    133\u001b[0m                 \u001b[0mself\u001b[0m\u001b[0;34m.\u001b[0m\u001b[0mraw_decode\u001b[0m \u001b[0;34m=\u001b[0m \u001b[0mcodecs\u001b[0m\u001b[0;34m.\u001b[0m\u001b[0mutf_8_decode\u001b[0m\u001b[0;34m\u001b[0m\u001b[0m\n\u001b[1;32m    134\u001b[0m                 \u001b[0mself\u001b[0m\u001b[0;34m.\u001b[0m\u001b[0mencoding\u001b[0m \u001b[0;34m=\u001b[0m \u001b[0;34m'utf-8'\u001b[0m\u001b[0;34m\u001b[0m\u001b[0m\n\u001b[0;32m--> 135\u001b[0;31m         \u001b[0mself\u001b[0m\u001b[0;34m.\u001b[0m\u001b[0mupdate\u001b[0m\u001b[0;34m(\u001b[0m\u001b[0;36m1\u001b[0m\u001b[0;34m)\u001b[0m\u001b[0;34m\u001b[0m\u001b[0m\n\u001b[0m\u001b[1;32m    136\u001b[0m \u001b[0;34m\u001b[0m\u001b[0m\n\u001b[1;32m    137\u001b[0m     \u001b[0mNON_PRINTABLE\u001b[0m \u001b[0;34m=\u001b[0m \u001b[0mre\u001b[0m\u001b[0;34m.\u001b[0m\u001b[0mcompile\u001b[0m\u001b[0;34m(\u001b[0m\u001b[0;34m'[^\\x09\\x0A\\x0D\\x20-\\x7E\\x85\\xA0-\\uD7FF\\uE000-\\uFFFD]'\u001b[0m\u001b[0;34m)\u001b[0m\u001b[0;34m\u001b[0m\u001b[0m\n",
      "\u001b[0;32m~/.pyenv/versions/kf-pipelines-py3/lib/python3.5/site-packages/yaml/reader.py\u001b[0m in \u001b[0;36mupdate\u001b[0;34m(self, length)\u001b[0m\n\u001b[1;32m    163\u001b[0m                         \u001b[0mposition\u001b[0m \u001b[0;34m=\u001b[0m \u001b[0mexc\u001b[0m\u001b[0;34m.\u001b[0m\u001b[0mstart\u001b[0m\u001b[0;34m\u001b[0m\u001b[0m\n\u001b[1;32m    164\u001b[0m                     raise ReaderError(self.name, position, character,\n\u001b[0;32m--> 165\u001b[0;31m                             exc.encoding, exc.reason)\n\u001b[0m\u001b[1;32m    166\u001b[0m             \u001b[0;32melse\u001b[0m\u001b[0;34m:\u001b[0m\u001b[0;34m\u001b[0m\u001b[0m\n\u001b[1;32m    167\u001b[0m                 \u001b[0mdata\u001b[0m \u001b[0;34m=\u001b[0m \u001b[0mself\u001b[0m\u001b[0;34m.\u001b[0m\u001b[0mraw_buffer\u001b[0m\u001b[0;34m\u001b[0m\u001b[0m\n",
      "\u001b[0;31mReaderError\u001b[0m: unacceptable character #x008b: invalid start byte\n  in \"/Users/ryan/c/pipelines/backend/coin.tar.gz\", position 1"
     ]
    }
   ],
   "source": [
    "load_component(filename=file)"
   ]
  },
  {
   "cell_type": "code",
   "execution_count": 5,
   "metadata": {},
   "outputs": [],
   "source": [
    "from zipfile import is_zipfile"
   ]
  },
  {
   "cell_type": "code",
   "execution_count": 11,
   "metadata": {},
   "outputs": [
    {
     "data": {
      "text/plain": [
       "(True, True)"
      ]
     },
     "execution_count": 11,
     "metadata": {},
     "output_type": "execute_result"
    }
   ],
   "source": [
    "is_tarfile(file[:-len('.gz')]), is_tarfile(file)"
   ]
  },
  {
   "cell_type": "code",
   "execution_count": 9,
   "metadata": {},
   "outputs": [
    {
     "ename": "AttributeError",
     "evalue": "'_io.BufferedReader' object has no attribute 'startswith'",
     "output_type": "error",
     "traceback": [
      "\u001b[0;31m---------------------------------------------------------------------------\u001b[0m",
      "\u001b[0;31mAttributeError\u001b[0m                            Traceback (most recent call last)",
      "\u001b[0;32m<ipython-input-9-2abf46f225c3>\u001b[0m in \u001b[0;36m<module>\u001b[0;34m\u001b[0m\n\u001b[1;32m      1\u001b[0m \u001b[0;32mwith\u001b[0m \u001b[0mopen\u001b[0m\u001b[0;34m(\u001b[0m\u001b[0mfile\u001b[0m\u001b[0;34m[\u001b[0m\u001b[0;34m:\u001b[0m\u001b[0;34m-\u001b[0m\u001b[0mlen\u001b[0m\u001b[0;34m(\u001b[0m\u001b[0;34m'.gz'\u001b[0m\u001b[0;34m)\u001b[0m\u001b[0;34m]\u001b[0m\u001b[0;34m,\u001b[0m \u001b[0;34m'rb'\u001b[0m\u001b[0;34m)\u001b[0m \u001b[0;32mas\u001b[0m \u001b[0mf\u001b[0m\u001b[0;34m:\u001b[0m\u001b[0;34m\u001b[0m\u001b[0m\n\u001b[0;32m----> 2\u001b[0;31m     \u001b[0mprint\u001b[0m\u001b[0;34m(\u001b[0m\u001b[0mis_tarfile\u001b[0m\u001b[0;34m(\u001b[0m\u001b[0mf\u001b[0m\u001b[0;34m)\u001b[0m\u001b[0;34m)\u001b[0m\u001b[0;34m\u001b[0m\u001b[0m\n\u001b[0m",
      "\u001b[0;32m~/.pyenv/versions/3.5.6/lib/python3.5/tarfile.py\u001b[0m in \u001b[0;36mis_tarfile\u001b[0;34m(name)\u001b[0m\n\u001b[1;32m   2448\u001b[0m     \"\"\"\n\u001b[1;32m   2449\u001b[0m     \u001b[0;32mtry\u001b[0m\u001b[0;34m:\u001b[0m\u001b[0;34m\u001b[0m\u001b[0m\n\u001b[0;32m-> 2450\u001b[0;31m         \u001b[0mt\u001b[0m \u001b[0;34m=\u001b[0m \u001b[0mopen\u001b[0m\u001b[0;34m(\u001b[0m\u001b[0mname\u001b[0m\u001b[0;34m)\u001b[0m\u001b[0;34m\u001b[0m\u001b[0m\n\u001b[0m\u001b[1;32m   2451\u001b[0m         \u001b[0mt\u001b[0m\u001b[0;34m.\u001b[0m\u001b[0mclose\u001b[0m\u001b[0;34m(\u001b[0m\u001b[0;34m)\u001b[0m\u001b[0;34m\u001b[0m\u001b[0m\n\u001b[1;32m   2452\u001b[0m         \u001b[0;32mreturn\u001b[0m \u001b[0;32mTrue\u001b[0m\u001b[0;34m\u001b[0m\u001b[0m\n",
      "\u001b[0;32m~/.pyenv/versions/3.5.6/lib/python3.5/tarfile.py\u001b[0m in \u001b[0;36mopen\u001b[0;34m(cls, name, mode, fileobj, bufsize, **kwargs)\u001b[0m\n\u001b[1;32m   1557\u001b[0m                     \u001b[0msaved_pos\u001b[0m \u001b[0;34m=\u001b[0m \u001b[0mfileobj\u001b[0m\u001b[0;34m.\u001b[0m\u001b[0mtell\u001b[0m\u001b[0;34m(\u001b[0m\u001b[0;34m)\u001b[0m\u001b[0;34m\u001b[0m\u001b[0m\n\u001b[1;32m   1558\u001b[0m                 \u001b[0;32mtry\u001b[0m\u001b[0;34m:\u001b[0m\u001b[0;34m\u001b[0m\u001b[0m\n\u001b[0;32m-> 1559\u001b[0;31m                     \u001b[0;32mreturn\u001b[0m \u001b[0mfunc\u001b[0m\u001b[0;34m(\u001b[0m\u001b[0mname\u001b[0m\u001b[0;34m,\u001b[0m \u001b[0;34m\"r\"\u001b[0m\u001b[0;34m,\u001b[0m \u001b[0mfileobj\u001b[0m\u001b[0;34m,\u001b[0m \u001b[0;34m**\u001b[0m\u001b[0mkwargs\u001b[0m\u001b[0;34m)\u001b[0m\u001b[0;34m\u001b[0m\u001b[0m\n\u001b[0m\u001b[1;32m   1560\u001b[0m                 \u001b[0;32mexcept\u001b[0m \u001b[0;34m(\u001b[0m\u001b[0mReadError\u001b[0m\u001b[0;34m,\u001b[0m \u001b[0mCompressionError\u001b[0m\u001b[0;34m)\u001b[0m \u001b[0;32mas\u001b[0m \u001b[0me\u001b[0m\u001b[0;34m:\u001b[0m\u001b[0;34m\u001b[0m\u001b[0m\n\u001b[1;32m   1561\u001b[0m                     \u001b[0;32mif\u001b[0m \u001b[0mfileobj\u001b[0m \u001b[0;32mis\u001b[0m \u001b[0;32mnot\u001b[0m \u001b[0;32mNone\u001b[0m\u001b[0;34m:\u001b[0m\u001b[0;34m\u001b[0m\u001b[0m\n",
      "\u001b[0;32m~/.pyenv/versions/3.5.6/lib/python3.5/tarfile.py\u001b[0m in \u001b[0;36mxzopen\u001b[0;34m(cls, name, mode, fileobj, preset, **kwargs)\u001b[0m\n\u001b[1;32m   1686\u001b[0m \u001b[0;34m\u001b[0m\u001b[0m\n\u001b[1;32m   1687\u001b[0m         \u001b[0;32mtry\u001b[0m\u001b[0;34m:\u001b[0m\u001b[0;34m\u001b[0m\u001b[0m\n\u001b[0;32m-> 1688\u001b[0;31m             \u001b[0mt\u001b[0m \u001b[0;34m=\u001b[0m \u001b[0mcls\u001b[0m\u001b[0;34m.\u001b[0m\u001b[0mtaropen\u001b[0m\u001b[0;34m(\u001b[0m\u001b[0mname\u001b[0m\u001b[0;34m,\u001b[0m \u001b[0mmode\u001b[0m\u001b[0;34m,\u001b[0m \u001b[0mfileobj\u001b[0m\u001b[0;34m,\u001b[0m \u001b[0;34m**\u001b[0m\u001b[0mkwargs\u001b[0m\u001b[0;34m)\u001b[0m\u001b[0;34m\u001b[0m\u001b[0m\n\u001b[0m\u001b[1;32m   1689\u001b[0m         \u001b[0;32mexcept\u001b[0m \u001b[0;34m(\u001b[0m\u001b[0mlzma\u001b[0m\u001b[0;34m.\u001b[0m\u001b[0mLZMAError\u001b[0m\u001b[0;34m,\u001b[0m \u001b[0mEOFError\u001b[0m\u001b[0;34m)\u001b[0m\u001b[0;34m:\u001b[0m\u001b[0;34m\u001b[0m\u001b[0m\n\u001b[1;32m   1690\u001b[0m             \u001b[0mfileobj\u001b[0m\u001b[0;34m.\u001b[0m\u001b[0mclose\u001b[0m\u001b[0;34m(\u001b[0m\u001b[0;34m)\u001b[0m\u001b[0;34m\u001b[0m\u001b[0m\n",
      "\u001b[0;32m~/.pyenv/versions/3.5.6/lib/python3.5/tarfile.py\u001b[0m in \u001b[0;36mtaropen\u001b[0;34m(cls, name, mode, fileobj, **kwargs)\u001b[0m\n\u001b[1;32m   1605\u001b[0m         \u001b[0;32mif\u001b[0m \u001b[0mmode\u001b[0m \u001b[0;32mnot\u001b[0m \u001b[0;32min\u001b[0m \u001b[0;34m(\u001b[0m\u001b[0;34m\"r\"\u001b[0m\u001b[0;34m,\u001b[0m \u001b[0;34m\"a\"\u001b[0m\u001b[0;34m,\u001b[0m \u001b[0;34m\"w\"\u001b[0m\u001b[0;34m,\u001b[0m \u001b[0;34m\"x\"\u001b[0m\u001b[0;34m)\u001b[0m\u001b[0;34m:\u001b[0m\u001b[0;34m\u001b[0m\u001b[0m\n\u001b[1;32m   1606\u001b[0m             \u001b[0;32mraise\u001b[0m \u001b[0mValueError\u001b[0m\u001b[0;34m(\u001b[0m\u001b[0;34m\"mode must be 'r', 'a', 'w' or 'x'\"\u001b[0m\u001b[0;34m)\u001b[0m\u001b[0;34m\u001b[0m\u001b[0m\n\u001b[0;32m-> 1607\u001b[0;31m         \u001b[0;32mreturn\u001b[0m \u001b[0mcls\u001b[0m\u001b[0;34m(\u001b[0m\u001b[0mname\u001b[0m\u001b[0;34m,\u001b[0m \u001b[0mmode\u001b[0m\u001b[0;34m,\u001b[0m \u001b[0mfileobj\u001b[0m\u001b[0;34m,\u001b[0m \u001b[0;34m**\u001b[0m\u001b[0mkwargs\u001b[0m\u001b[0;34m)\u001b[0m\u001b[0;34m\u001b[0m\u001b[0m\n\u001b[0m\u001b[1;32m   1608\u001b[0m \u001b[0;34m\u001b[0m\u001b[0m\n\u001b[1;32m   1609\u001b[0m     \u001b[0;34m@\u001b[0m\u001b[0mclassmethod\u001b[0m\u001b[0;34m\u001b[0m\u001b[0m\n",
      "\u001b[0;32m~/.pyenv/versions/3.5.6/lib/python3.5/tarfile.py\u001b[0m in \u001b[0;36m__init__\u001b[0;34m(self, name, mode, fileobj, format, tarinfo, dereference, ignore_zeros, encoding, errors, pax_headers, debug, errorlevel)\u001b[0m\n\u001b[1;32m   1430\u001b[0m                 \u001b[0mself\u001b[0m\u001b[0;34m.\u001b[0m\u001b[0m_mode\u001b[0m \u001b[0;34m=\u001b[0m \u001b[0mfileobj\u001b[0m\u001b[0;34m.\u001b[0m\u001b[0mmode\u001b[0m\u001b[0;34m\u001b[0m\u001b[0m\n\u001b[1;32m   1431\u001b[0m             \u001b[0mself\u001b[0m\u001b[0;34m.\u001b[0m\u001b[0m_extfileobj\u001b[0m \u001b[0;34m=\u001b[0m \u001b[0;32mTrue\u001b[0m\u001b[0;34m\u001b[0m\u001b[0m\n\u001b[0;32m-> 1432\u001b[0;31m         \u001b[0mself\u001b[0m\u001b[0;34m.\u001b[0m\u001b[0mname\u001b[0m \u001b[0;34m=\u001b[0m \u001b[0mos\u001b[0m\u001b[0;34m.\u001b[0m\u001b[0mpath\u001b[0m\u001b[0;34m.\u001b[0m\u001b[0mabspath\u001b[0m\u001b[0;34m(\u001b[0m\u001b[0mname\u001b[0m\u001b[0;34m)\u001b[0m \u001b[0;32mif\u001b[0m \u001b[0mname\u001b[0m \u001b[0;32melse\u001b[0m \u001b[0;32mNone\u001b[0m\u001b[0;34m\u001b[0m\u001b[0m\n\u001b[0m\u001b[1;32m   1433\u001b[0m         \u001b[0mself\u001b[0m\u001b[0;34m.\u001b[0m\u001b[0mfileobj\u001b[0m \u001b[0;34m=\u001b[0m \u001b[0mfileobj\u001b[0m\u001b[0;34m\u001b[0m\u001b[0m\n\u001b[1;32m   1434\u001b[0m \u001b[0;34m\u001b[0m\u001b[0m\n",
      "\u001b[0;32m~/.pyenv/versions/3.5.6/lib/python3.5/posixpath.py\u001b[0m in \u001b[0;36mabspath\u001b[0;34m(path)\u001b[0m\n\u001b[1;32m    356\u001b[0m \u001b[0;32mdef\u001b[0m \u001b[0mabspath\u001b[0m\u001b[0;34m(\u001b[0m\u001b[0mpath\u001b[0m\u001b[0;34m)\u001b[0m\u001b[0;34m:\u001b[0m\u001b[0;34m\u001b[0m\u001b[0m\n\u001b[1;32m    357\u001b[0m     \u001b[0;34m\"\"\"Return an absolute path.\"\"\"\u001b[0m\u001b[0;34m\u001b[0m\u001b[0m\n\u001b[0;32m--> 358\u001b[0;31m     \u001b[0;32mif\u001b[0m \u001b[0;32mnot\u001b[0m \u001b[0misabs\u001b[0m\u001b[0;34m(\u001b[0m\u001b[0mpath\u001b[0m\u001b[0;34m)\u001b[0m\u001b[0;34m:\u001b[0m\u001b[0;34m\u001b[0m\u001b[0m\n\u001b[0m\u001b[1;32m    359\u001b[0m         \u001b[0;32mif\u001b[0m \u001b[0misinstance\u001b[0m\u001b[0;34m(\u001b[0m\u001b[0mpath\u001b[0m\u001b[0;34m,\u001b[0m \u001b[0mbytes\u001b[0m\u001b[0;34m)\u001b[0m\u001b[0;34m:\u001b[0m\u001b[0;34m\u001b[0m\u001b[0m\n\u001b[1;32m    360\u001b[0m             \u001b[0mcwd\u001b[0m \u001b[0;34m=\u001b[0m \u001b[0mos\u001b[0m\u001b[0;34m.\u001b[0m\u001b[0mgetcwdb\u001b[0m\u001b[0;34m(\u001b[0m\u001b[0;34m)\u001b[0m\u001b[0;34m\u001b[0m\u001b[0m\n",
      "\u001b[0;32m~/.pyenv/versions/3.5.6/lib/python3.5/posixpath.py\u001b[0m in \u001b[0;36misabs\u001b[0;34m(s)\u001b[0m\n\u001b[1;32m     62\u001b[0m     \u001b[0;34m\"\"\"Test whether a path is absolute\"\"\"\u001b[0m\u001b[0;34m\u001b[0m\u001b[0m\n\u001b[1;32m     63\u001b[0m     \u001b[0msep\u001b[0m \u001b[0;34m=\u001b[0m \u001b[0m_get_sep\u001b[0m\u001b[0;34m(\u001b[0m\u001b[0ms\u001b[0m\u001b[0;34m)\u001b[0m\u001b[0;34m\u001b[0m\u001b[0m\n\u001b[0;32m---> 64\u001b[0;31m     \u001b[0;32mreturn\u001b[0m \u001b[0ms\u001b[0m\u001b[0;34m.\u001b[0m\u001b[0mstartswith\u001b[0m\u001b[0;34m(\u001b[0m\u001b[0msep\u001b[0m\u001b[0;34m)\u001b[0m\u001b[0;34m\u001b[0m\u001b[0m\n\u001b[0m\u001b[1;32m     65\u001b[0m \u001b[0;34m\u001b[0m\u001b[0m\n\u001b[1;32m     66\u001b[0m \u001b[0;34m\u001b[0m\u001b[0m\n",
      "\u001b[0;31mAttributeError\u001b[0m: '_io.BufferedReader' object has no attribute 'startswith'"
     ]
    }
   ],
   "source": [
    "with open(file[:-len('.gz')], 'rb') as f:\n",
    "    print(is_zipfile(f))"
   ]
  },
  {
   "cell_type": "code",
   "execution_count": 15,
   "metadata": {},
   "outputs": [
    {
     "ename": "InvalidSchema",
     "evalue": "No connection adapters were found for 'gs://ml-pipeline-playground/coin.tar.gz'",
     "output_type": "error",
     "traceback": [
      "\u001b[0;31m---------------------------------------------------------------------------\u001b[0m",
      "\u001b[0;31mInvalidSchema\u001b[0m                             Traceback (most recent call last)",
      "\u001b[0;32m<ipython-input-15-0d6acee3cef9>\u001b[0m in \u001b[0;36m<module>\u001b[0;34m\u001b[0m\n\u001b[0;32m----> 1\u001b[0;31m \u001b[0mGET\u001b[0m\u001b[0;34m(\u001b[0m\u001b[0murl\u001b[0m\u001b[0;34m)\u001b[0m\u001b[0;34m\u001b[0m\u001b[0m\n\u001b[0m",
      "\u001b[0;32m~/.pyenv/versions/kf-pipelines-py3/lib/python3.5/site-packages/requests/api.py\u001b[0m in \u001b[0;36mget\u001b[0;34m(url, params, **kwargs)\u001b[0m\n\u001b[1;32m     73\u001b[0m \u001b[0;34m\u001b[0m\u001b[0m\n\u001b[1;32m     74\u001b[0m     \u001b[0mkwargs\u001b[0m\u001b[0;34m.\u001b[0m\u001b[0msetdefault\u001b[0m\u001b[0;34m(\u001b[0m\u001b[0;34m'allow_redirects'\u001b[0m\u001b[0;34m,\u001b[0m \u001b[0;32mTrue\u001b[0m\u001b[0;34m)\u001b[0m\u001b[0;34m\u001b[0m\u001b[0m\n\u001b[0;32m---> 75\u001b[0;31m     \u001b[0;32mreturn\u001b[0m \u001b[0mrequest\u001b[0m\u001b[0;34m(\u001b[0m\u001b[0;34m'get'\u001b[0m\u001b[0;34m,\u001b[0m \u001b[0murl\u001b[0m\u001b[0;34m,\u001b[0m \u001b[0mparams\u001b[0m\u001b[0;34m=\u001b[0m\u001b[0mparams\u001b[0m\u001b[0;34m,\u001b[0m \u001b[0;34m**\u001b[0m\u001b[0mkwargs\u001b[0m\u001b[0;34m)\u001b[0m\u001b[0;34m\u001b[0m\u001b[0m\n\u001b[0m\u001b[1;32m     76\u001b[0m \u001b[0;34m\u001b[0m\u001b[0m\n\u001b[1;32m     77\u001b[0m \u001b[0;34m\u001b[0m\u001b[0m\n",
      "\u001b[0;32m~/.pyenv/versions/kf-pipelines-py3/lib/python3.5/site-packages/requests/api.py\u001b[0m in \u001b[0;36mrequest\u001b[0;34m(method, url, **kwargs)\u001b[0m\n\u001b[1;32m     58\u001b[0m     \u001b[0;31m# cases, and look like a memory leak in others.\u001b[0m\u001b[0;34m\u001b[0m\u001b[0;34m\u001b[0m\u001b[0m\n\u001b[1;32m     59\u001b[0m     \u001b[0;32mwith\u001b[0m \u001b[0msessions\u001b[0m\u001b[0;34m.\u001b[0m\u001b[0mSession\u001b[0m\u001b[0;34m(\u001b[0m\u001b[0;34m)\u001b[0m \u001b[0;32mas\u001b[0m \u001b[0msession\u001b[0m\u001b[0;34m:\u001b[0m\u001b[0;34m\u001b[0m\u001b[0m\n\u001b[0;32m---> 60\u001b[0;31m         \u001b[0;32mreturn\u001b[0m \u001b[0msession\u001b[0m\u001b[0;34m.\u001b[0m\u001b[0mrequest\u001b[0m\u001b[0;34m(\u001b[0m\u001b[0mmethod\u001b[0m\u001b[0;34m=\u001b[0m\u001b[0mmethod\u001b[0m\u001b[0;34m,\u001b[0m \u001b[0murl\u001b[0m\u001b[0;34m=\u001b[0m\u001b[0murl\u001b[0m\u001b[0;34m,\u001b[0m \u001b[0;34m**\u001b[0m\u001b[0mkwargs\u001b[0m\u001b[0;34m)\u001b[0m\u001b[0;34m\u001b[0m\u001b[0m\n\u001b[0m\u001b[1;32m     61\u001b[0m \u001b[0;34m\u001b[0m\u001b[0m\n\u001b[1;32m     62\u001b[0m \u001b[0;34m\u001b[0m\u001b[0m\n",
      "\u001b[0;32m~/.pyenv/versions/kf-pipelines-py3/lib/python3.5/site-packages/requests/sessions.py\u001b[0m in \u001b[0;36mrequest\u001b[0;34m(self, method, url, params, data, headers, cookies, files, auth, timeout, allow_redirects, proxies, hooks, stream, verify, cert, json)\u001b[0m\n\u001b[1;32m    531\u001b[0m         }\n\u001b[1;32m    532\u001b[0m         \u001b[0msend_kwargs\u001b[0m\u001b[0;34m.\u001b[0m\u001b[0mupdate\u001b[0m\u001b[0;34m(\u001b[0m\u001b[0msettings\u001b[0m\u001b[0;34m)\u001b[0m\u001b[0;34m\u001b[0m\u001b[0m\n\u001b[0;32m--> 533\u001b[0;31m         \u001b[0mresp\u001b[0m \u001b[0;34m=\u001b[0m \u001b[0mself\u001b[0m\u001b[0;34m.\u001b[0m\u001b[0msend\u001b[0m\u001b[0;34m(\u001b[0m\u001b[0mprep\u001b[0m\u001b[0;34m,\u001b[0m \u001b[0;34m**\u001b[0m\u001b[0msend_kwargs\u001b[0m\u001b[0;34m)\u001b[0m\u001b[0;34m\u001b[0m\u001b[0m\n\u001b[0m\u001b[1;32m    534\u001b[0m \u001b[0;34m\u001b[0m\u001b[0m\n\u001b[1;32m    535\u001b[0m         \u001b[0;32mreturn\u001b[0m \u001b[0mresp\u001b[0m\u001b[0;34m\u001b[0m\u001b[0m\n",
      "\u001b[0;32m~/.pyenv/versions/kf-pipelines-py3/lib/python3.5/site-packages/requests/sessions.py\u001b[0m in \u001b[0;36msend\u001b[0;34m(self, request, **kwargs)\u001b[0m\n\u001b[1;32m    638\u001b[0m \u001b[0;34m\u001b[0m\u001b[0m\n\u001b[1;32m    639\u001b[0m         \u001b[0;31m# Get the appropriate adapter to use\u001b[0m\u001b[0;34m\u001b[0m\u001b[0;34m\u001b[0m\u001b[0m\n\u001b[0;32m--> 640\u001b[0;31m         \u001b[0madapter\u001b[0m \u001b[0;34m=\u001b[0m \u001b[0mself\u001b[0m\u001b[0;34m.\u001b[0m\u001b[0mget_adapter\u001b[0m\u001b[0;34m(\u001b[0m\u001b[0murl\u001b[0m\u001b[0;34m=\u001b[0m\u001b[0mrequest\u001b[0m\u001b[0;34m.\u001b[0m\u001b[0murl\u001b[0m\u001b[0;34m)\u001b[0m\u001b[0;34m\u001b[0m\u001b[0m\n\u001b[0m\u001b[1;32m    641\u001b[0m \u001b[0;34m\u001b[0m\u001b[0m\n\u001b[1;32m    642\u001b[0m         \u001b[0;31m# Start time (approximately) of the request\u001b[0m\u001b[0;34m\u001b[0m\u001b[0;34m\u001b[0m\u001b[0m\n",
      "\u001b[0;32m~/.pyenv/versions/kf-pipelines-py3/lib/python3.5/site-packages/requests/sessions.py\u001b[0m in \u001b[0;36mget_adapter\u001b[0;34m(self, url)\u001b[0m\n\u001b[1;32m    729\u001b[0m \u001b[0;34m\u001b[0m\u001b[0m\n\u001b[1;32m    730\u001b[0m         \u001b[0;31m# Nothing matches :-/\u001b[0m\u001b[0;34m\u001b[0m\u001b[0;34m\u001b[0m\u001b[0m\n\u001b[0;32m--> 731\u001b[0;31m         \u001b[0;32mraise\u001b[0m \u001b[0mInvalidSchema\u001b[0m\u001b[0;34m(\u001b[0m\u001b[0;34m\"No connection adapters were found for '%s'\"\u001b[0m \u001b[0;34m%\u001b[0m \u001b[0murl\u001b[0m\u001b[0;34m)\u001b[0m\u001b[0;34m\u001b[0m\u001b[0m\n\u001b[0m\u001b[1;32m    732\u001b[0m \u001b[0;34m\u001b[0m\u001b[0m\n\u001b[1;32m    733\u001b[0m     \u001b[0;32mdef\u001b[0m \u001b[0mclose\u001b[0m\u001b[0;34m(\u001b[0m\u001b[0mself\u001b[0m\u001b[0;34m)\u001b[0m\u001b[0;34m:\u001b[0m\u001b[0;34m\u001b[0m\u001b[0m\n",
      "\u001b[0;31mInvalidSchema\u001b[0m: No connection adapters were found for 'gs://ml-pipeline-playground/coin.tar.gz'"
     ]
    }
   ],
   "source": [
    "GET(url)"
   ]
  },
  {
   "cell_type": "code",
   "execution_count": 19,
   "metadata": {},
   "outputs": [],
   "source": [
    "import kfp"
   ]
  },
  {
   "cell_type": "code",
   "execution_count": 20,
   "metadata": {},
   "outputs": [
    {
     "data": {
      "text/plain": [
       "'/Users/ryan/.pyenv/versions/kf-pipelines-py3/lib/python3.5/site-packages/kfp/__init__.py'"
      ]
     },
     "execution_count": 20,
     "metadata": {},
     "output_type": "execute_result"
    }
   ],
   "source": [
    "kfp.__file__"
   ]
  },
  {
   "cell_type": "code",
   "execution_count": 23,
   "metadata": {},
   "outputs": [
    {
     "data": {
      "text/plain": [
       "True"
      ]
     },
     "execution_count": 23,
     "metadata": {},
     "output_type": "execute_result"
    }
   ],
   "source": [
    "url.startswith('gs://')"
   ]
  },
  {
   "cell_type": "code",
   "execution_count": null,
   "metadata": {},
   "outputs": [],
   "source": []
  }
 ],
 "metadata": {
  "kernelspec": {
   "display_name": "kf-pipelines-py3",
   "language": "python",
   "name": "kf-pipelines-py3"
  },
  "language_info": {
   "codemirror_mode": {
    "name": "ipython",
    "version": 3
   },
   "file_extension": ".py",
   "mimetype": "text/x-python",
   "name": "python",
   "nbconvert_exporter": "python",
   "pygments_lexer": "ipython3",
   "version": "3.5.6"
  }
 },
 "nbformat": 4,
 "nbformat_minor": 2
}
