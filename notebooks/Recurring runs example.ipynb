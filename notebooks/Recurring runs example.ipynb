{
 "cells": [
  {
   "cell_type": "markdown",
   "metadata": {},
   "source": [
    "# Periodic download of IEX stock-ticker data"
   ]
  },
  {
   "cell_type": "markdown",
   "metadata": {},
   "source": [
    "## Read IEX API credentials from `~/.config/iex.ini`"
   ]
  },
  {
   "cell_type": "code",
   "execution_count": 2,
   "metadata": {},
   "outputs": [],
   "source": [
    "from pathlib import Path\n",
    "config_path = Path.home() / '.config' / 'iex.ini'\n",
    "\n",
    "from configparser import ConfigParser\n",
    "config = ConfigParser()\n",
    "config.read(str(config_path))\n",
    "iex_config = config['iex']\n",
    "\n",
    "api = 'https://cloud.iexapis.com'\n",
    "public_key = iex_config['public_key']\n",
    "secret_key = iex_config['secret_key']"
   ]
  },
  {
   "cell_type": "code",
   "execution_count": 3,
   "metadata": {},
   "outputs": [
    {
     "data": {
      "text/plain": [
       "505"
      ]
     },
     "execution_count": 3,
     "metadata": {},
     "output_type": "execute_result"
    }
   ],
   "source": [
    "tickers = sorted(\"MMM ABT ABBV ABMD ACN ATVI ADBE AMD AAP AES AMG AFL A APD AKAM ALK ALB ARE ALXN ALGN ALLE AGN ADS LNT ALL GOOGL GOOG MO AMZN AMCR AEE AAL AEP AXP AIG AMT AWK AMP ABC AME AMGN APH ADI ANSS ANTM AON AOS APA AIV AAPL AMAT APTV ADM ARNC ANET AJG AIZ ATO T ADSK ADP AZO AVB AVY BKR BLL BAC BK BAX BBT BDX BRK.B BBY BIIB BLK HRB BA BKNG BWA BXP BSX BMY AVGO BR BF.B CHRW COG CDNS CPB COF CPRI CAH KMX CCL CAT CBOE CBRE CBS CDW CE CELG CNC CNP CTL CERN CF SCHW CHTR CVX CMG CB CHD CI XEC CINF CTAS CSCO C CFG CTXS CLX CME CMS KO CTSH CL CMCSA CMA CAG CXO COP ED STZ COO CPRT GLW CTVA COST COTY CCI CSX CMI CVS DHI DHR DRI DVA DE DAL XRAY DVN FANG DLR DFS DISCA DISCK DISH DG DLTR D DOV DOW DTE DUK DRE DD DXC ETFC EMN ETN EBAY ECL EIX EW EA EMR ETR EOG EFX EQIX EQR ESS EL EVRG ES RE EXC EXPE EXPD EXR XOM FFIV FB FAST FRT FDX FIS FITB FE FRC FISV FLT FLIR FLS FMC F FTNT FTV FBHS FOXA FOX BEN FCX GPS GRMN IT GD GE GIS GM GPC GILD GL GPN GS GWW HAL HBI HOG HIG HAS HCA HCP HP HSIC HSY HES HPE HLT HFC HOLX HD HON HRL HST HPQ HUM HBAN HII IEX IDXX INFO ITW ILMN IR INTC ICE IBM INCY IP IPG IFF INTU ISRG IVZ IPGP IQV IRM JKHY JEC JBHT SJM JNJ JCI JPM JNPR KSU K KEY KEYS KMB KIM KMI KLAC KSS KHC KR LB LHX LH LRCX LW LVS LEG LDOS LEN LLY LNC LIN LKQ LMT L LOW LYB MTB MAC M MRO MPC MKTX MAR MMC MLM MAS MA MKC MXIM MCD MCK MDT MRK MET MTD MGM MCHP MU MSFT MAA MHK TAP MDLZ MNST MCO MS MOS MSI MSCI MYL NDAQ NOV NTAP NFLX NWL NEM NWSA NWS NEE NLSN NKE NI NBL JWN NSC NTRS NOC NCLH NRG NUE NVDA NVR ORLY OXY OMC OKE ORCL PCAR PKG PH PAYX PYPL PNR PBCT PEP PKI PRGO PFE PM PSX PNW PXD PNC PPG PPL PFG PG PGR PLD PRU PEG PSA PHM PVH QRVO PWR QCOM DGX RL RJF RTN O REG REGN RF RSG RMD RHI ROK ROL ROP ROST RCL CRM SBAC SLB STX SEE SRE SHW SPG SWKS SLG SNA SO LUV SPGI SWK SBUX STT SYK STI SIVB SYMC SYF SNPS SYY TMUS TROW TTWO TPR TGT TEL FTI TFX TXN TXT TMO TIF TWTR TJX TSCO TDG TRV TRIP TSN UDR ULTA USB UAA UA UNP UAL UNH UPS URI UTX UHS UNM VFC VLO VAR VTR VRSN VRSK VZ VRTX VIAB V VNO VMC WAB WMT WBA DIS WM WAT WEC WCG WFC WELL WDC WU WRK WY WHR WMB WLTW WYNN XEL XRX XLNX XYL YUM ZBH ZION ZTS\".split(\" \"))\n",
    "len(tickers)"
   ]
  },
  {
   "cell_type": "code",
   "execution_count": 4,
   "metadata": {},
   "outputs": [
    {
     "data": {
      "text/plain": [
       "datetime.date(2019, 10, 27)"
      ]
     },
     "execution_count": 4,
     "metadata": {},
     "output_type": "execute_result"
    }
   ],
   "source": [
    "from datetime import datetime\n",
    "from dateutil.parser import parse\n",
    "from datetime import timedelta as Δ\n",
    "\n",
    "time = datetime.now\n",
    "now = time()\n",
    "today = now.date()\n",
    "today"
   ]
  },
  {
   "cell_type": "code",
   "execution_count": 5,
   "metadata": {},
   "outputs": [],
   "source": [
    "data_dir = Path.cwd() / 'data'\n",
    "data_dir.mkdir(parents=True, exist_ok=True)"
   ]
  },
  {
   "cell_type": "code",
   "execution_count": 6,
   "metadata": {},
   "outputs": [],
   "source": [
    "from sys import executable as python\n",
    "!{python} -m pip install -Uq requests\n",
    "from requests import get as GET"
   ]
  },
  {
   "cell_type": "code",
   "execution_count": 7,
   "metadata": {},
   "outputs": [],
   "source": [
    "import json\n",
    "\n",
    "def fetch(date_str, ticker):\n",
    "    out_path = data_dir / ('%s-%s' % (date_str, ticker))\n",
    "    if out_path.exists():\n",
    "        return True\n",
    "\n",
    "    print('Fetching data for %s from %s' % (ticker, date_str))\n",
    "\n",
    "    url = f'https://cloud.iexapis.com/stable/stock/{ticker}/chart/date/{date_str}?token={secret_key}'\n",
    "    resp = GET(url)\n",
    "    resp.raise_for_status()\n",
    "    with out_path.open('wb') as f:\n",
    "        f.write(resp.content)\n",
    "\n",
    "    data = json.loads(resp.content)\n",
    "    if data:\n",
    "        return True\n",
    "\n",
    "    return False"
   ]
  },
  {
   "cell_type": "code",
   "execution_count": 85,
   "metadata": {},
   "outputs": [
    {
     "name": "stdout",
     "output_type": "stream",
     "text": [
      "CPU times: user 1.89 s, sys: 547 ms, total: 2.43 s\n",
      "Wall time: 2.07 s\n"
     ]
    }
   ],
   "source": [
    "%%time\n",
    "from concurrent.futures import ThreadPoolExecutor\n",
    "\n",
    "end_date = today\n",
    "start_date = datetime(2019, 8, 1).date()\n",
    "N = 32\n",
    "\n",
    "def get_dates(start_date, end_date, step=1):\n",
    "    date = start_date\n",
    "    while date != end_date:\n",
    "        if date.weekday() <= 4:\n",
    "            yield date\n",
    "        date += Δ(days=step)\n",
    "\n",
    "dates = list(get_dates(start_date, end_date))\n",
    "\n",
    "for date in dates:\n",
    "    date_str = date.strftime('%Y%m%d')\n",
    "    \n",
    "    with ThreadPoolExecutor(max_workers = N) as p:\n",
    "        results = p.map(lambda ticker: fetch(date_str, ticker), tickers)\n",
    "    \n",
    "    found_data = True in results\n",
    "    if not found_data:\n",
    "        print('No data found for %s; breaking' % date)"
   ]
  },
  {
   "cell_type": "code",
   "execution_count": 11,
   "metadata": {},
   "outputs": [],
   "source": [
    "!{python} -m pip install -Uq pandas\n",
    "from pandas import DataFrame as DF, read_csv, read_json\n",
    "import pandas as pd"
   ]
  },
  {
   "cell_type": "code",
   "execution_count": 12,
   "metadata": {},
   "outputs": [],
   "source": [
    "def load_data(date, ticker):\n",
    "    date_str = date.strftime('%Y%m%d')\n",
    "    out_path = data_dir / ('%s-%s' % (date_str, ticker))\n",
    "    if not out_path.exists():\n",
    "        return None\n",
    "    data = read_json(str(out_path))\n",
    "    data['ticker'] = ticker\n",
    "    return data"
   ]
  },
  {
   "cell_type": "code",
   "execution_count": 301,
   "metadata": {},
   "outputs": [],
   "source": [
    "minutes = 390  # [9:30am,4:00pm)"
   ]
  },
  {
   "cell_type": "code",
   "execution_count": 306,
   "metadata": {},
   "outputs": [],
   "source": [
    "def load_data_arr(date, ticker):\n",
    "    date_str = date.strftime('%Y%m%d')\n",
    "    out_path = data_dir / ('%s-%s' % (date_str, ticker))\n",
    "    arr = zeros((minutes, len(features)))\n",
    "    arr[:] = nan\n",
    "    if not out_path.exists():\n",
    "        return arr\n",
    "    df = read_json(out_path)\n",
    "    if df.empty:\n",
    "        return arr\n",
    "    arr = df[features].values\n",
    "    assert arr.shape == (minutes, len(features))\n",
    "    return arr"
   ]
  },
  {
   "cell_type": "code",
   "execution_count": 314,
   "metadata": {
    "scrolled": true
   },
   "outputs": [],
   "source": [
    "def load_date_arr(date):\n",
    "    arr = np.array([ \n",
    "        load_data_arr(start_date, ticker) \n",
    "        for ticker in tickers \n",
    "    ]) \\\n",
    "    .reshape((\n",
    "        minutes, \n",
    "        len(tickers), \n",
    "        len(features),\n",
    "    ))\n",
    "    assert arr.shape == (minutes, num_tickers, len(features))\n",
    "    return arr"
   ]
  },
  {
   "cell_type": "code",
   "execution_count": 315,
   "metadata": {},
   "outputs": [],
   "source": [
    "all = \\\n",
    "    np.array(\n",
    "        Parallel(n_jobs=8)(delayed(load_date_arr)(date) for date in dates)\n",
    "    )"
   ]
  },
  {
   "cell_type": "code",
   "execution_count": 316,
   "metadata": {},
   "outputs": [
    {
     "data": {
      "text/plain": [
       "(62, 390, 505, 8)"
      ]
     },
     "execution_count": 316,
     "metadata": {},
     "output_type": "execute_result"
    }
   ],
   "source": [
    "shape =  all.shape; shape"
   ]
  },
  {
   "cell_type": "code",
   "execution_count": 333,
   "metadata": {},
   "outputs": [
    {
     "data": {
      "text/plain": [
       "(24180, 505, 8)"
      ]
     },
     "execution_count": 333,
     "metadata": {},
     "output_type": "execute_result"
    }
   ],
   "source": [
    "all = all.reshape(shape[0] * shape[1], *shape[2:]); all.shape"
   ]
  },
  {
   "cell_type": "code",
   "execution_count": 13,
   "metadata": {},
   "outputs": [],
   "source": [
    "!{python} -m pip install -Uq joblib\n",
    "from joblib import Parallel, delayed"
   ]
  },
  {
   "cell_type": "code",
   "execution_count": 53,
   "metadata": {},
   "outputs": [],
   "source": [
    "def clean_data(df):\n",
    "    df['datetime'] = (df['date'].dt.strftime('%Y-%m-%d') + ' ' + df['minute']).apply(lambda s: datetime.strptime(s, '%Y-%m-%d %H:%M'))\n",
    "\n",
    "    df.drop(columns=[ 'date', 'minute', 'label', 'changeOverTime', 'marketChangeOverTime', ], inplace=True)\n",
    "\n",
    "    cols = list(df.columns)\n",
    "    cols.remove('datetime')\n",
    "    cols.remove('ticker')\n",
    "    cols.remove('open')\n",
    "    cols.remove('close')\n",
    "    cols = [ 'datetime', 'ticker', 'open', 'close', ] + cols\n",
    "    df = df.reindex(columns=cols)\n",
    "\n",
    "    return df    "
   ]
  },
  {
   "cell_type": "code",
   "execution_count": 282,
   "metadata": {},
   "outputs": [
    {
     "data": {
      "text/plain": [
       "61.0"
      ]
     },
     "execution_count": 282,
     "metadata": {},
     "output_type": "execute_result"
    }
   ],
   "source": [
    "len(minutes) / 390"
   ]
  },
  {
   "cell_type": "code",
   "execution_count": 54,
   "metadata": {},
   "outputs": [],
   "source": [
    "def make_date_csv(date):\n",
    "    date_str = date.strftime('%Y%m%d')\n",
    "    date_path = data_dir / ('%s.csv.gz' % date_str)\n",
    "    if date_path.exists():\n",
    "        print('Found %s; skipping' % date_path)\n",
    "        return None\n",
    "\n",
    "    print('Loading prices for %s' % date)\n",
    "    dfs = [\n",
    "        df\n",
    "        for df in Parallel(n_jobs=8)(delayed(lambda t: load_data(*t))((date, ticker)) for ticker in tickers)\n",
    "        if not df.empty\n",
    "    ]\n",
    "    if not dfs:\n",
    "        print('%s: no data found' % date)\n",
    "        return None\n",
    "\n",
    "    df = pd.concat(dfs)\n",
    "    df = clean_data(df)\n",
    "\n",
    "    print('Writing: %s' % date_path)\n",
    "    df.to_csv(date_path, index=False)\n",
    "    print('Done')"
   ]
  },
  {
   "cell_type": "code",
   "execution_count": 55,
   "metadata": {
    "scrolled": false
   },
   "outputs": [
    {
     "name": "stdout",
     "output_type": "stream",
     "text": [
      "CPU times: user 598 ms, sys: 79.8 ms, total: 677 ms\n",
      "Wall time: 5min 42s\n"
     ]
    }
   ],
   "source": [
    "%%time\n",
    "Parallel(n_jobs=8)(delayed(make_date_csv)(date) for date in dates); None"
   ]
  },
  {
   "cell_type": "code",
   "execution_count": null,
   "metadata": {},
   "outputs": [],
   "source": [
    "for date in dates:\n",
    "    for minute in range(390):\n",
    "        for ticker in tickers:\n",
    "            "
   ]
  },
  {
   "cell_type": "code",
   "execution_count": 68,
   "metadata": {},
   "outputs": [
    {
     "name": "stdout",
     "output_type": "stream",
     "text": [
      "CPU times: user 5.38 s, sys: 7.22 s, total: 12.6 s\n",
      "Wall time: 16.9 s\n"
     ]
    },
    {
     "data": {
      "text/plain": [
       "datetime                11913720\n",
       "ticker                  11913720\n",
       "open                     7358232\n",
       "close                    7358232\n",
       "high                     7358232\n",
       "low                      7358232\n",
       "average                  7358232\n",
       "volume                  11912614\n",
       "notional                11912614\n",
       "numberOfTrades          11912614\n",
       "marketOpen              11345025\n",
       "marketClose             11345025\n",
       "marketHigh              11345025\n",
       "marketLow               11345025\n",
       "marketAverage           11345025\n",
       "marketVolume            11912614\n",
       "marketNotional          11912614\n",
       "marketNumberOfTrades    11912614\n",
       "dtype: int64"
      ]
     },
     "execution_count": 68,
     "metadata": {},
     "output_type": "execute_result"
    }
   ],
   "source": [
    "%%time\n",
    "def load_date_csv(date):\n",
    "    date_str = date.strftime('%Y%m%d')\n",
    "    date_path = data_dir / ('%s.csv.gz' % date_str)\n",
    "    if not date_path.exists():\n",
    "        return None\n",
    "\n",
    "    df = read_csv(date_path)\n",
    "\n",
    "    cols = [ 'open', 'close', 'high', 'low', 'average', 'volume', 'notional', 'numberOfTrades' ]\n",
    "    cols += [\n",
    "        ('market%s%s' % (col[0].upper(), col[1:]))\n",
    "        for col in cols\n",
    "    ]\n",
    "    cols = [ 'datetime', 'ticker' ] + cols\n",
    "    df = df.reindex(columns=cols)\n",
    "\n",
    "    return df\n",
    "\n",
    "dfs = Parallel(n_jobs=8)(delayed(load_date_csv)(date) for date in dates)\n",
    "df = pd.concat(dfs)\n",
    "df.count()"
   ]
  },
  {
   "cell_type": "code",
   "execution_count": 69,
   "metadata": {
    "scrolled": false
   },
   "outputs": [
    {
     "data": {
      "text/html": [
       "<div>\n",
       "<style scoped>\n",
       "    .dataframe tbody tr th:only-of-type {\n",
       "        vertical-align: middle;\n",
       "    }\n",
       "\n",
       "    .dataframe tbody tr th {\n",
       "        vertical-align: top;\n",
       "    }\n",
       "\n",
       "    .dataframe thead th {\n",
       "        text-align: right;\n",
       "    }\n",
       "</style>\n",
       "<table border=\"1\" class=\"dataframe\">\n",
       "  <thead>\n",
       "    <tr style=\"text-align: right;\">\n",
       "      <th></th>\n",
       "      <th>datetime</th>\n",
       "      <th>ticker</th>\n",
       "      <th>open</th>\n",
       "      <th>close</th>\n",
       "      <th>high</th>\n",
       "      <th>low</th>\n",
       "      <th>average</th>\n",
       "      <th>volume</th>\n",
       "      <th>notional</th>\n",
       "      <th>numberOfTrades</th>\n",
       "      <th>marketOpen</th>\n",
       "      <th>marketClose</th>\n",
       "      <th>marketHigh</th>\n",
       "      <th>marketLow</th>\n",
       "      <th>marketAverage</th>\n",
       "      <th>marketVolume</th>\n",
       "      <th>marketNotional</th>\n",
       "      <th>marketNumberOfTrades</th>\n",
       "    </tr>\n",
       "  </thead>\n",
       "  <tbody>\n",
       "    <tr>\n",
       "      <th>0</th>\n",
       "      <td>2019-08-01 09:30:00</td>\n",
       "      <td>AAL</td>\n",
       "      <td>30.400</td>\n",
       "      <td>30.380</td>\n",
       "      <td>30.400</td>\n",
       "      <td>30.380</td>\n",
       "      <td>30.387</td>\n",
       "      <td>300.0</td>\n",
       "      <td>9116.000</td>\n",
       "      <td>3.0</td>\n",
       "      <td>30.430</td>\n",
       "      <td>30.525</td>\n",
       "      <td>30.525</td>\n",
       "      <td>30.280</td>\n",
       "      <td>30.411</td>\n",
       "      <td>67173.0</td>\n",
       "      <td>2.042809e+06</td>\n",
       "      <td>148.0</td>\n",
       "    </tr>\n",
       "    <tr>\n",
       "      <th>1</th>\n",
       "      <td>2019-08-01 09:31:00</td>\n",
       "      <td>AAL</td>\n",
       "      <td>30.385</td>\n",
       "      <td>30.320</td>\n",
       "      <td>30.385</td>\n",
       "      <td>30.320</td>\n",
       "      <td>30.352</td>\n",
       "      <td>200.0</td>\n",
       "      <td>6070.500</td>\n",
       "      <td>2.0</td>\n",
       "      <td>30.470</td>\n",
       "      <td>30.320</td>\n",
       "      <td>30.470</td>\n",
       "      <td>30.320</td>\n",
       "      <td>30.381</td>\n",
       "      <td>18813.0</td>\n",
       "      <td>5.715578e+05</td>\n",
       "      <td>85.0</td>\n",
       "    </tr>\n",
       "    <tr>\n",
       "      <th>2</th>\n",
       "      <td>2019-08-01 09:32:00</td>\n",
       "      <td>AAL</td>\n",
       "      <td>30.410</td>\n",
       "      <td>30.460</td>\n",
       "      <td>30.460</td>\n",
       "      <td>30.405</td>\n",
       "      <td>30.425</td>\n",
       "      <td>2900.0</td>\n",
       "      <td>88233.000</td>\n",
       "      <td>11.0</td>\n",
       "      <td>30.320</td>\n",
       "      <td>30.440</td>\n",
       "      <td>30.477</td>\n",
       "      <td>30.320</td>\n",
       "      <td>30.432</td>\n",
       "      <td>40149.0</td>\n",
       "      <td>1.221800e+06</td>\n",
       "      <td>198.0</td>\n",
       "    </tr>\n",
       "    <tr>\n",
       "      <th>3</th>\n",
       "      <td>2019-08-01 09:33:00</td>\n",
       "      <td>AAL</td>\n",
       "      <td>30.370</td>\n",
       "      <td>30.370</td>\n",
       "      <td>30.370</td>\n",
       "      <td>30.370</td>\n",
       "      <td>30.370</td>\n",
       "      <td>10.0</td>\n",
       "      <td>303.700</td>\n",
       "      <td>1.0</td>\n",
       "      <td>30.440</td>\n",
       "      <td>30.360</td>\n",
       "      <td>30.440</td>\n",
       "      <td>30.360</td>\n",
       "      <td>30.387</td>\n",
       "      <td>5256.0</td>\n",
       "      <td>1.597126e+05</td>\n",
       "      <td>33.0</td>\n",
       "    </tr>\n",
       "    <tr>\n",
       "      <th>4</th>\n",
       "      <td>2019-08-01 09:34:00</td>\n",
       "      <td>AAL</td>\n",
       "      <td>30.405</td>\n",
       "      <td>30.385</td>\n",
       "      <td>30.425</td>\n",
       "      <td>30.385</td>\n",
       "      <td>30.414</td>\n",
       "      <td>2800.0</td>\n",
       "      <td>85160.000</td>\n",
       "      <td>10.0</td>\n",
       "      <td>30.370</td>\n",
       "      <td>30.390</td>\n",
       "      <td>30.440</td>\n",
       "      <td>30.360</td>\n",
       "      <td>30.392</td>\n",
       "      <td>20080.0</td>\n",
       "      <td>6.102805e+05</td>\n",
       "      <td>128.0</td>\n",
       "    </tr>\n",
       "    <tr>\n",
       "      <th>...</th>\n",
       "      <td>...</td>\n",
       "      <td>...</td>\n",
       "      <td>...</td>\n",
       "      <td>...</td>\n",
       "      <td>...</td>\n",
       "      <td>...</td>\n",
       "      <td>...</td>\n",
       "      <td>...</td>\n",
       "      <td>...</td>\n",
       "      <td>...</td>\n",
       "      <td>...</td>\n",
       "      <td>...</td>\n",
       "      <td>...</td>\n",
       "      <td>...</td>\n",
       "      <td>...</td>\n",
       "      <td>...</td>\n",
       "      <td>...</td>\n",
       "      <td>...</td>\n",
       "    </tr>\n",
       "    <tr>\n",
       "      <th>196945</th>\n",
       "      <td>2019-10-25 15:55:00</td>\n",
       "      <td>ZTS</td>\n",
       "      <td>124.290</td>\n",
       "      <td>124.290</td>\n",
       "      <td>124.290</td>\n",
       "      <td>124.290</td>\n",
       "      <td>124.290</td>\n",
       "      <td>100.0</td>\n",
       "      <td>12429.000</td>\n",
       "      <td>1.0</td>\n",
       "      <td>124.245</td>\n",
       "      <td>124.260</td>\n",
       "      <td>124.290</td>\n",
       "      <td>124.245</td>\n",
       "      <td>124.268</td>\n",
       "      <td>9108.0</td>\n",
       "      <td>1.131836e+06</td>\n",
       "      <td>82.0</td>\n",
       "    </tr>\n",
       "    <tr>\n",
       "      <th>196946</th>\n",
       "      <td>2019-10-25 15:56:00</td>\n",
       "      <td>ZTS</td>\n",
       "      <td>124.270</td>\n",
       "      <td>124.300</td>\n",
       "      <td>124.330</td>\n",
       "      <td>124.270</td>\n",
       "      <td>124.305</td>\n",
       "      <td>400.0</td>\n",
       "      <td>49722.000</td>\n",
       "      <td>4.0</td>\n",
       "      <td>124.260</td>\n",
       "      <td>124.320</td>\n",
       "      <td>124.340</td>\n",
       "      <td>124.260</td>\n",
       "      <td>124.298</td>\n",
       "      <td>6224.0</td>\n",
       "      <td>7.736294e+05</td>\n",
       "      <td>53.0</td>\n",
       "    </tr>\n",
       "    <tr>\n",
       "      <th>196947</th>\n",
       "      <td>2019-10-25 15:57:00</td>\n",
       "      <td>ZTS</td>\n",
       "      <td>124.330</td>\n",
       "      <td>124.370</td>\n",
       "      <td>124.380</td>\n",
       "      <td>124.330</td>\n",
       "      <td>124.366</td>\n",
       "      <td>450.0</td>\n",
       "      <td>55964.790</td>\n",
       "      <td>7.0</td>\n",
       "      <td>124.310</td>\n",
       "      <td>124.360</td>\n",
       "      <td>124.380</td>\n",
       "      <td>124.310</td>\n",
       "      <td>124.339</td>\n",
       "      <td>10671.0</td>\n",
       "      <td>1.326819e+06</td>\n",
       "      <td>84.0</td>\n",
       "    </tr>\n",
       "    <tr>\n",
       "      <th>196948</th>\n",
       "      <td>2019-10-25 15:58:00</td>\n",
       "      <td>ZTS</td>\n",
       "      <td>124.370</td>\n",
       "      <td>124.405</td>\n",
       "      <td>124.405</td>\n",
       "      <td>124.370</td>\n",
       "      <td>124.384</td>\n",
       "      <td>804.0</td>\n",
       "      <td>100005.020</td>\n",
       "      <td>9.0</td>\n",
       "      <td>124.370</td>\n",
       "      <td>124.430</td>\n",
       "      <td>124.430</td>\n",
       "      <td>124.360</td>\n",
       "      <td>124.386</td>\n",
       "      <td>7517.0</td>\n",
       "      <td>9.350066e+05</td>\n",
       "      <td>70.0</td>\n",
       "    </tr>\n",
       "    <tr>\n",
       "      <th>196949</th>\n",
       "      <td>2019-10-25 15:59:00</td>\n",
       "      <td>ZTS</td>\n",
       "      <td>124.410</td>\n",
       "      <td>124.390</td>\n",
       "      <td>124.420</td>\n",
       "      <td>124.380</td>\n",
       "      <td>124.403</td>\n",
       "      <td>990.0</td>\n",
       "      <td>123159.305</td>\n",
       "      <td>11.0</td>\n",
       "      <td>124.410</td>\n",
       "      <td>124.300</td>\n",
       "      <td>124.430</td>\n",
       "      <td>124.280</td>\n",
       "      <td>124.382</td>\n",
       "      <td>44447.0</td>\n",
       "      <td>5.528407e+06</td>\n",
       "      <td>254.0</td>\n",
       "    </tr>\n",
       "  </tbody>\n",
       "</table>\n",
       "<p>11913720 rows × 18 columns</p>\n",
       "</div>"
      ],
      "text/plain": [
       "                   datetime ticker     open    close     high      low  \\\n",
       "0       2019-08-01 09:30:00    AAL   30.400   30.380   30.400   30.380   \n",
       "1       2019-08-01 09:31:00    AAL   30.385   30.320   30.385   30.320   \n",
       "2       2019-08-01 09:32:00    AAL   30.410   30.460   30.460   30.405   \n",
       "3       2019-08-01 09:33:00    AAL   30.370   30.370   30.370   30.370   \n",
       "4       2019-08-01 09:34:00    AAL   30.405   30.385   30.425   30.385   \n",
       "...                     ...    ...      ...      ...      ...      ...   \n",
       "196945  2019-10-25 15:55:00    ZTS  124.290  124.290  124.290  124.290   \n",
       "196946  2019-10-25 15:56:00    ZTS  124.270  124.300  124.330  124.270   \n",
       "196947  2019-10-25 15:57:00    ZTS  124.330  124.370  124.380  124.330   \n",
       "196948  2019-10-25 15:58:00    ZTS  124.370  124.405  124.405  124.370   \n",
       "196949  2019-10-25 15:59:00    ZTS  124.410  124.390  124.420  124.380   \n",
       "\n",
       "        average  volume    notional  numberOfTrades  marketOpen  marketClose  \\\n",
       "0        30.387   300.0    9116.000             3.0      30.430       30.525   \n",
       "1        30.352   200.0    6070.500             2.0      30.470       30.320   \n",
       "2        30.425  2900.0   88233.000            11.0      30.320       30.440   \n",
       "3        30.370    10.0     303.700             1.0      30.440       30.360   \n",
       "4        30.414  2800.0   85160.000            10.0      30.370       30.390   \n",
       "...         ...     ...         ...             ...         ...          ...   \n",
       "196945  124.290   100.0   12429.000             1.0     124.245      124.260   \n",
       "196946  124.305   400.0   49722.000             4.0     124.260      124.320   \n",
       "196947  124.366   450.0   55964.790             7.0     124.310      124.360   \n",
       "196948  124.384   804.0  100005.020             9.0     124.370      124.430   \n",
       "196949  124.403   990.0  123159.305            11.0     124.410      124.300   \n",
       "\n",
       "        marketHigh  marketLow  marketAverage  marketVolume  marketNotional  \\\n",
       "0           30.525     30.280         30.411       67173.0    2.042809e+06   \n",
       "1           30.470     30.320         30.381       18813.0    5.715578e+05   \n",
       "2           30.477     30.320         30.432       40149.0    1.221800e+06   \n",
       "3           30.440     30.360         30.387        5256.0    1.597126e+05   \n",
       "4           30.440     30.360         30.392       20080.0    6.102805e+05   \n",
       "...            ...        ...            ...           ...             ...   \n",
       "196945     124.290    124.245        124.268        9108.0    1.131836e+06   \n",
       "196946     124.340    124.260        124.298        6224.0    7.736294e+05   \n",
       "196947     124.380    124.310        124.339       10671.0    1.326819e+06   \n",
       "196948     124.430    124.360        124.386        7517.0    9.350066e+05   \n",
       "196949     124.430    124.280        124.382       44447.0    5.528407e+06   \n",
       "\n",
       "        marketNumberOfTrades  \n",
       "0                      148.0  \n",
       "1                       85.0  \n",
       "2                      198.0  \n",
       "3                       33.0  \n",
       "4                      128.0  \n",
       "...                      ...  \n",
       "196945                  82.0  \n",
       "196946                  53.0  \n",
       "196947                  84.0  \n",
       "196948                  70.0  \n",
       "196949                 254.0  \n",
       "\n",
       "[11913720 rows x 18 columns]"
      ]
     },
     "execution_count": 69,
     "metadata": {},
     "output_type": "execute_result"
    }
   ],
   "source": [
    "df"
   ]
  },
  {
   "cell_type": "code",
   "execution_count": 70,
   "metadata": {},
   "outputs": [],
   "source": [
    "!{python} -m pip install -Uq tensorflow\n",
    "import tensorflow as tf\n",
    "from tensorflow.keras import layers"
   ]
  },
  {
   "cell_type": "code",
   "execution_count": 71,
   "metadata": {},
   "outputs": [],
   "source": [
    "from tensorflow.keras import Sequential\n",
    "from tensorflow.keras.layers import Dense, SimpleRNN"
   ]
  },
  {
   "cell_type": "code",
   "execution_count": 75,
   "metadata": {},
   "outputs": [],
   "source": [
    "model = Sequential([\n",
    "    SimpleRNN(128, input_shape=(504,8)),\n",
    "    Dense(1),\n",
    "])"
   ]
  },
  {
   "cell_type": "code",
   "execution_count": 76,
   "metadata": {},
   "outputs": [],
   "source": [
    "model.build()"
   ]
  },
  {
   "cell_type": "code",
   "execution_count": 77,
   "metadata": {},
   "outputs": [
    {
     "name": "stdout",
     "output_type": "stream",
     "text": [
      "Model: \"sequential_1\"\n",
      "_________________________________________________________________\n",
      "Layer (type)                 Output Shape              Param #   \n",
      "=================================================================\n",
      "simple_rnn_1 (SimpleRNN)     (None, 128)               17536     \n",
      "_________________________________________________________________\n",
      "dense_1 (Dense)              (None, 1)                 129       \n",
      "=================================================================\n",
      "Total params: 17,665\n",
      "Trainable params: 17,665\n",
      "Non-trainable params: 0\n",
      "_________________________________________________________________\n"
     ]
    }
   ],
   "source": [
    "model.summary()"
   ]
  },
  {
   "cell_type": "code",
   "execution_count": 78,
   "metadata": {},
   "outputs": [
    {
     "name": "stdout",
     "output_type": "stream",
     "text": [
      "Downloading data from https://storage.googleapis.com/tensorflow/tf-keras-datasets/mnist.npz\n",
      "11493376/11490434 [==============================] - 1s 0us/step\n"
     ]
    }
   ],
   "source": [
    "mnist = tf.keras.datasets.mnist\n",
    "\n",
    "(x_train, y_train), (x_test, y_test) = mnist.load_data()\n",
    "x_train, x_test = x_train / 255.0, x_test / 255.0\n",
    "sample, sample_label = x_train[0], y_train[0]"
   ]
  },
  {
   "cell_type": "code",
   "execution_count": 80,
   "metadata": {},
   "outputs": [
    {
     "data": {
      "text/plain": [
       "(60000, 28, 28)"
      ]
     },
     "execution_count": 80,
     "metadata": {},
     "output_type": "execute_result"
    }
   ],
   "source": [
    "x_train.shape"
   ]
  },
  {
   "cell_type": "code",
   "execution_count": 82,
   "metadata": {},
   "outputs": [],
   "source": [
    "bd = df.groupby('datetime')"
   ]
  },
  {
   "cell_type": "code",
   "execution_count": 86,
   "metadata": {},
   "outputs": [],
   "source": [
    "!{python} -m pip install -Uq numpy\n",
    "import numpy as np"
   ]
  },
  {
   "cell_type": "code",
   "execution_count": 98,
   "metadata": {},
   "outputs": [],
   "source": [
    "num_tickers = len(tickers)"
   ]
  },
  {
   "cell_type": "code",
   "execution_count": 99,
   "metadata": {},
   "outputs": [],
   "source": [
    "features = [ 'open', 'close', 'high', 'low', 'average', 'volume', 'notional', 'numberOfTrades' ]\n",
    "cols = [ 'datetime', 'ticker' ] + features"
   ]
  },
  {
   "cell_type": "code",
   "execution_count": 100,
   "metadata": {},
   "outputs": [],
   "source": [
    "data = df[cols]\n",
    "shape = (len(minutes), num_tickers, len(features))\n",
    "time_points = np.zeros(shape)"
   ]
  },
  {
   "cell_type": "code",
   "execution_count": 101,
   "metadata": {},
   "outputs": [],
   "source": [
    "minutes = sorted(df['datetime'].unique())"
   ]
  },
  {
   "cell_type": "code",
   "execution_count": 103,
   "metadata": {},
   "outputs": [],
   "source": [
    "minute_idx, minute = list(enumerate(minutes))[0]"
   ]
  },
  {
   "cell_type": "code",
   "execution_count": 104,
   "metadata": {},
   "outputs": [],
   "source": [
    "time_point = np.zeros(shape[1:])"
   ]
  },
  {
   "cell_type": "code",
   "execution_count": 105,
   "metadata": {},
   "outputs": [],
   "source": [
    "ticker_idx, ticker = list(enumerate(tickers))[0]"
   ]
  },
  {
   "cell_type": "code",
   "execution_count": 107,
   "metadata": {},
   "outputs": [],
   "source": [
    "minute_df = data[data['datetime'] == minute]"
   ]
  },
  {
   "cell_type": "code",
   "execution_count": 116,
   "metadata": {},
   "outputs": [],
   "source": [
    "d = minute_df[minute_df['ticker'] == ticker]"
   ]
  },
  {
   "cell_type": "code",
   "execution_count": 110,
   "metadata": {},
   "outputs": [
    {
     "data": {
      "text/plain": [
       "'2019-08-01 09:30:00'"
      ]
     },
     "execution_count": 110,
     "metadata": {},
     "output_type": "execute_result"
    }
   ],
   "source": [
    "minute"
   ]
  },
  {
   "cell_type": "code",
   "execution_count": 115,
   "metadata": {},
   "outputs": [],
   "source": [
    "ticker = 'AAL'"
   ]
  },
  {
   "cell_type": "code",
   "execution_count": 117,
   "metadata": {},
   "outputs": [
    {
     "data": {
      "text/html": [
       "<div>\n",
       "<style scoped>\n",
       "    .dataframe tbody tr th:only-of-type {\n",
       "        vertical-align: middle;\n",
       "    }\n",
       "\n",
       "    .dataframe tbody tr th {\n",
       "        vertical-align: top;\n",
       "    }\n",
       "\n",
       "    .dataframe thead th {\n",
       "        text-align: right;\n",
       "    }\n",
       "</style>\n",
       "<table border=\"1\" class=\"dataframe\">\n",
       "  <thead>\n",
       "    <tr style=\"text-align: right;\">\n",
       "      <th></th>\n",
       "      <th>datetime</th>\n",
       "      <th>ticker</th>\n",
       "      <th>open</th>\n",
       "      <th>close</th>\n",
       "      <th>high</th>\n",
       "      <th>low</th>\n",
       "      <th>average</th>\n",
       "      <th>volume</th>\n",
       "      <th>notional</th>\n",
       "      <th>numberOfTrades</th>\n",
       "    </tr>\n",
       "  </thead>\n",
       "  <tbody>\n",
       "    <tr>\n",
       "      <th>0</th>\n",
       "      <td>2019-08-01 09:30:00</td>\n",
       "      <td>AAL</td>\n",
       "      <td>30.4</td>\n",
       "      <td>30.38</td>\n",
       "      <td>30.4</td>\n",
       "      <td>30.38</td>\n",
       "      <td>30.387</td>\n",
       "      <td>300.0</td>\n",
       "      <td>9116.0</td>\n",
       "      <td>3.0</td>\n",
       "    </tr>\n",
       "  </tbody>\n",
       "</table>\n",
       "</div>"
      ],
      "text/plain": [
       "              datetime ticker  open  close  high    low  average  volume  \\\n",
       "0  2019-08-01 09:30:00    AAL  30.4  30.38  30.4  30.38   30.387   300.0   \n",
       "\n",
       "   notional  numberOfTrades  \n",
       "0    9116.0             3.0  "
      ]
     },
     "execution_count": 117,
     "metadata": {},
     "output_type": "execute_result"
    }
   ],
   "source": [
    "d"
   ]
  },
  {
   "cell_type": "code",
   "execution_count": 131,
   "metadata": {},
   "outputs": [
    {
     "ename": "ValueError",
     "evalue": "Can't cast from structure to non-structure, except if the structure only has a single field.",
     "output_type": "error",
     "traceback": [
      "\u001b[0;31m---------------------------------------------------------------------------\u001b[0m",
      "\u001b[0;31mValueError\u001b[0m                                Traceback (most recent call last)",
      "\u001b[0;32m<ipython-input-131-e1c0f228122a>\u001b[0m in \u001b[0;36m<module>\u001b[0;34m\u001b[0m\n\u001b[0;32m----> 1\u001b[0;31m \u001b[0mtime_point\u001b[0m\u001b[0;34m[\u001b[0m\u001b[0;36m0\u001b[0m\u001b[0;34m]\u001b[0m \u001b[0;34m=\u001b[0m \u001b[0mlist\u001b[0m\u001b[0;34m(\u001b[0m\u001b[0md\u001b[0m\u001b[0;34m[\u001b[0m\u001b[0mfeatures\u001b[0m\u001b[0;34m]\u001b[0m\u001b[0;34m.\u001b[0m\u001b[0mto_records\u001b[0m\u001b[0;34m(\u001b[0m\u001b[0mindex\u001b[0m\u001b[0;34m=\u001b[0m\u001b[0;32mFalse\u001b[0m\u001b[0;34m)\u001b[0m\u001b[0;34m)\u001b[0m\u001b[0;34m[\u001b[0m\u001b[0;36m0\u001b[0m\u001b[0;34m]\u001b[0m\u001b[0;34m\u001b[0m\u001b[0;34m\u001b[0m\u001b[0m\n\u001b[0m",
      "\u001b[0;31mValueError\u001b[0m: Can't cast from structure to non-structure, except if the structure only has a single field."
     ]
    }
   ],
   "source": [
    "time_point[0] = list(d[features].to_records(index=False))[0]"
   ]
  },
  {
   "cell_type": "code",
   "execution_count": 123,
   "metadata": {},
   "outputs": [],
   "source": [
    "target = 'AAPL'"
   ]
  },
  {
   "cell_type": "code",
   "execution_count": 127,
   "metadata": {},
   "outputs": [],
   "source": [
    "time_point = np.zeros(shape[1:])"
   ]
  },
  {
   "cell_type": "code",
   "execution_count": 128,
   "metadata": {},
   "outputs": [
    {
     "data": {
      "text/plain": [
       "array([[0., 0., 0., ..., 0., 0., 0.],\n",
       "       [0., 0., 0., ..., 0., 0., 0.],\n",
       "       [0., 0., 0., ..., 0., 0., 0.],\n",
       "       ...,\n",
       "       [0., 0., 0., ..., 0., 0., 0.],\n",
       "       [0., 0., 0., ..., 0., 0., 0.],\n",
       "       [0., 0., 0., ..., 0., 0., 0.]])"
      ]
     },
     "execution_count": 128,
     "metadata": {},
     "output_type": "execute_result"
    }
   ],
   "source": [
    "time_point"
   ]
  },
  {
   "cell_type": "code",
   "execution_count": 130,
   "metadata": {},
   "outputs": [],
   "source": [
    "time_point[0] = [0] * 8"
   ]
  },
  {
   "cell_type": "code",
   "execution_count": 278,
   "metadata": {},
   "outputs": [],
   "source": [
    "from numpy import zeros, nan, empty"
   ]
  },
  {
   "cell_type": "code",
   "execution_count": 274,
   "metadata": {},
   "outputs": [],
   "source": [
    "def get_minute_arr(df, minute):\n",
    "    pass\n",
    "\n",
    "def get_day_df(date):\n",
    "    date_str = date.strftime('%Y%m%d')\n",
    "    path = data_dir / ('%s.csv.gz' % date_str)\n",
    "    if not path.exists():\n",
    "        return None\n",
    "    df = read_csv(path)\n",
    "    return df\n",
    "\n",
    "def get_day_arr(date):\n",
    "    n = zeros(len(minutes), len(tickers), len(features))\n",
    "    n[:] = nan\n",
    "    d = get_day_df(date)[cols]\n",
    "    n = d[features].values\n",
    "    assert n.shape == (390 * 424, 8), \"Date %s: %s\" % (date, n.shape)\n",
    "    return n.reshape((390, 424, 8))"
   ]
  },
  {
   "cell_type": "code",
   "execution_count": 275,
   "metadata": {},
   "outputs": [
    {
     "ename": "AssertionError",
     "evalue": "Date 2019-08-02: (150540, 8)",
     "output_type": "error",
     "traceback": [
      "\u001b[0;31m---------------------------------------------------------------------------\u001b[0m",
      "\u001b[0;31mAssertionError\u001b[0m                            Traceback (most recent call last)",
      "\u001b[0;32m<ipython-input-275-78b394f495c8>\u001b[0m in \u001b[0;36m<module>\u001b[0;34m\u001b[0m\n\u001b[1;32m      2\u001b[0m     \u001b[0mget_day_arr\u001b[0m\u001b[0;34m(\u001b[0m\u001b[0mdate\u001b[0m\u001b[0;34m)\u001b[0m\u001b[0;34m\u001b[0m\u001b[0;34m\u001b[0m\u001b[0m\n\u001b[1;32m      3\u001b[0m     \u001b[0;32mfor\u001b[0m \u001b[0mdate\u001b[0m \u001b[0;32min\u001b[0m\u001b[0;34m\u001b[0m\u001b[0;34m\u001b[0m\u001b[0m\n\u001b[0;32m----> 4\u001b[0;31m     \u001b[0mdates\u001b[0m\u001b[0;34m\u001b[0m\u001b[0;34m\u001b[0m\u001b[0m\n\u001b[0m\u001b[1;32m      5\u001b[0m ])\n",
      "\u001b[0;32m<ipython-input-275-78b394f495c8>\u001b[0m in \u001b[0;36m<listcomp>\u001b[0;34m(.0)\u001b[0m\n\u001b[1;32m      1\u001b[0m np.array([\n\u001b[1;32m      2\u001b[0m     \u001b[0mget_day_arr\u001b[0m\u001b[0;34m(\u001b[0m\u001b[0mdate\u001b[0m\u001b[0;34m)\u001b[0m\u001b[0;34m\u001b[0m\u001b[0;34m\u001b[0m\u001b[0m\n\u001b[0;32m----> 3\u001b[0;31m     \u001b[0;32mfor\u001b[0m \u001b[0mdate\u001b[0m \u001b[0;32min\u001b[0m\u001b[0;34m\u001b[0m\u001b[0;34m\u001b[0m\u001b[0m\n\u001b[0m\u001b[1;32m      4\u001b[0m     \u001b[0mdates\u001b[0m\u001b[0;34m\u001b[0m\u001b[0;34m\u001b[0m\u001b[0m\n\u001b[1;32m      5\u001b[0m ])\n",
      "\u001b[0;32m<ipython-input-274-cb58643e7b5d>\u001b[0m in \u001b[0;36mget_day_arr\u001b[0;34m(date)\u001b[0m\n\u001b[1;32m     13\u001b[0m     \u001b[0md\u001b[0m \u001b[0;34m=\u001b[0m \u001b[0mget_day_df\u001b[0m\u001b[0;34m(\u001b[0m\u001b[0mdate\u001b[0m\u001b[0;34m)\u001b[0m\u001b[0;34m[\u001b[0m\u001b[0mcols\u001b[0m\u001b[0;34m]\u001b[0m\u001b[0;34m\u001b[0m\u001b[0;34m\u001b[0m\u001b[0m\n\u001b[1;32m     14\u001b[0m     \u001b[0mn\u001b[0m \u001b[0;34m=\u001b[0m \u001b[0md\u001b[0m\u001b[0;34m[\u001b[0m\u001b[0mfeatures\u001b[0m\u001b[0;34m]\u001b[0m\u001b[0;34m.\u001b[0m\u001b[0mvalues\u001b[0m\u001b[0;34m\u001b[0m\u001b[0;34m\u001b[0m\u001b[0m\n\u001b[0;32m---> 15\u001b[0;31m     \u001b[0;32massert\u001b[0m \u001b[0mn\u001b[0m\u001b[0;34m.\u001b[0m\u001b[0mshape\u001b[0m \u001b[0;34m==\u001b[0m \u001b[0;34m(\u001b[0m\u001b[0;36m390\u001b[0m \u001b[0;34m*\u001b[0m \u001b[0;36m424\u001b[0m\u001b[0;34m,\u001b[0m \u001b[0;36m8\u001b[0m\u001b[0;34m)\u001b[0m\u001b[0;34m,\u001b[0m \u001b[0;34m\"Date %s: %s\"\u001b[0m \u001b[0;34m%\u001b[0m \u001b[0;34m(\u001b[0m\u001b[0mdate\u001b[0m\u001b[0;34m,\u001b[0m \u001b[0mn\u001b[0m\u001b[0;34m.\u001b[0m\u001b[0mshape\u001b[0m\u001b[0;34m)\u001b[0m\u001b[0;34m\u001b[0m\u001b[0;34m\u001b[0m\u001b[0m\n\u001b[0m\u001b[1;32m     16\u001b[0m     \u001b[0;32mreturn\u001b[0m \u001b[0mn\u001b[0m\u001b[0;34m.\u001b[0m\u001b[0mreshape\u001b[0m\u001b[0;34m(\u001b[0m\u001b[0;34m(\u001b[0m\u001b[0;36m390\u001b[0m\u001b[0;34m,\u001b[0m \u001b[0;36m424\u001b[0m\u001b[0;34m,\u001b[0m \u001b[0;36m8\u001b[0m\u001b[0;34m)\u001b[0m\u001b[0;34m)\u001b[0m\u001b[0;34m\u001b[0m\u001b[0;34m\u001b[0m\u001b[0m\n",
      "\u001b[0;31mAssertionError\u001b[0m: Date 2019-08-02: (150540, 8)"
     ]
    }
   ],
   "source": [
    "np.array([\n",
    "    get_day_arr(date)\n",
    "    for date in\n",
    "    dates\n",
    "])"
   ]
  },
  {
   "cell_type": "code",
   "execution_count": 276,
   "metadata": {},
   "outputs": [
    {
     "data": {
      "text/plain": [
       "386.0"
      ]
     },
     "execution_count": 276,
     "metadata": {},
     "output_type": "execute_result"
    }
   ],
   "source": [
    "150540 / 390"
   ]
  },
  {
   "cell_type": "code",
   "execution_count": 261,
   "metadata": {},
   "outputs": [],
   "source": [
    "d = get_day_df(start_date)[cols]"
   ]
  },
  {
   "cell_type": "code",
   "execution_count": 256,
   "metadata": {},
   "outputs": [
    {
     "data": {
      "text/plain": [
       "array([[3.0400000e+01, 3.0380000e+01, 3.0400000e+01, ..., 3.0000000e+02,\n",
       "        9.1160000e+03, 3.0000000e+00],\n",
       "       [3.0385000e+01, 3.0320000e+01, 3.0385000e+01, ..., 2.0000000e+02,\n",
       "        6.0705000e+03, 2.0000000e+00],\n",
       "       [3.0410000e+01, 3.0460000e+01, 3.0460000e+01, ..., 2.9000000e+03,\n",
       "        8.8233000e+04, 1.1000000e+01],\n",
       "       ...,\n",
       "       [1.1559000e+02, 1.1561000e+02, 1.1564000e+02, ..., 4.5300000e+02,\n",
       "        5.2372310e+04, 7.0000000e+00],\n",
       "       [1.1563000e+02, 1.1563000e+02, 1.1563000e+02, ..., 1.4500000e+02,\n",
       "        1.6766350e+04, 2.0000000e+00],\n",
       "       [1.1563000e+02, 1.1575000e+02, 1.1576000e+02, ..., 8.2900000e+02,\n",
       "        9.5924195e+04, 1.1000000e+01]])"
      ]
     },
     "execution_count": 256,
     "metadata": {},
     "output_type": "execute_result"
    }
   ],
   "source": [
    "n = d[features].values; n.shape; n"
   ]
  },
  {
   "cell_type": "code",
   "execution_count": 257,
   "metadata": {
    "scrolled": true
   },
   "outputs": [
    {
     "data": {
      "text/plain": [
       "(165360, 8)"
      ]
     },
     "execution_count": 257,
     "metadata": {},
     "output_type": "execute_result"
    }
   ],
   "source": [
    "n.shape"
   ]
  },
  {
   "cell_type": "code",
   "execution_count": 258,
   "metadata": {},
   "outputs": [
    {
     "data": {
      "text/plain": [
       "array([[[3.04000000e+01, 3.03800000e+01, 3.04000000e+01, ...,\n",
       "         3.00000000e+02, 9.11600000e+03, 3.00000000e+00],\n",
       "        [3.03850000e+01, 3.03200000e+01, 3.03850000e+01, ...,\n",
       "         2.00000000e+02, 6.07050000e+03, 2.00000000e+00],\n",
       "        [3.04100000e+01, 3.04600000e+01, 3.04600000e+01, ...,\n",
       "         2.90000000e+03, 8.82330000e+04, 1.10000000e+01],\n",
       "        ...,\n",
       "        [           nan,            nan,            nan, ...,\n",
       "         0.00000000e+00, 0.00000000e+00, 0.00000000e+00],\n",
       "        [           nan,            nan,            nan, ...,\n",
       "         0.00000000e+00, 0.00000000e+00, 0.00000000e+00],\n",
       "        [1.50630000e+02, 1.50630000e+02, 1.50630000e+02, ...,\n",
       "         4.00000000e+02, 6.02520000e+04, 1.00000000e+00]],\n",
       "\n",
       "       [[1.50600000e+02, 1.50600000e+02, 1.50600000e+02, ...,\n",
       "         3.00000000e+02, 4.51800000e+04, 1.00000000e+00],\n",
       "        [1.50600000e+02, 1.50600000e+02, 1.50600000e+02, ...,\n",
       "         2.00000000e+02, 3.01200000e+04, 1.00000000e+00],\n",
       "        [           nan,            nan,            nan, ...,\n",
       "         0.00000000e+00, 0.00000000e+00, 0.00000000e+00],\n",
       "        ...,\n",
       "        [2.16590000e+02, 2.16615000e+02, 2.16630000e+02, ...,\n",
       "         4.66800000e+03, 1.01098215e+06, 5.10000000e+01],\n",
       "        [2.16690000e+02, 2.16680000e+02, 2.16750000e+02, ...,\n",
       "         1.25400000e+03, 2.71735150e+05, 1.70000000e+01],\n",
       "        [2.16680000e+02, 2.16790000e+02, 2.16800000e+02, ...,\n",
       "         1.77600000e+03, 3.84831040e+05, 2.50000000e+01]],\n",
       "\n",
       "       [[2.16660000e+02, 2.16550000e+02, 2.16660000e+02, ...,\n",
       "         2.75300000e+03, 5.96191760e+05, 3.50000000e+01],\n",
       "        [2.16580000e+02, 2.16505000e+02, 2.16600000e+02, ...,\n",
       "         2.40800000e+03, 5.21427000e+05, 2.70000000e+01],\n",
       "        [2.16500000e+02, 2.16535000e+02, 2.16610000e+02, ...,\n",
       "         2.56000000e+03, 5.54379170e+05, 2.80000000e+01],\n",
       "        ...,\n",
       "        [6.68300000e+01, 6.68100000e+01, 6.68300000e+01, ...,\n",
       "         3.79000000e+02, 2.53229900e+04, 4.00000000e+00],\n",
       "        [6.68000000e+01, 6.68000000e+01, 6.68000000e+01, ...,\n",
       "         4.76000000e+02, 3.17968000e+04, 6.00000000e+00],\n",
       "        [6.67900000e+01, 6.68400000e+01, 6.68400000e+01, ...,\n",
       "         1.05800000e+03, 7.06943900e+04, 9.00000000e+00]],\n",
       "\n",
       "       ...,\n",
       "\n",
       "       [[1.16950000e+02, 1.16950000e+02, 1.16950000e+02, ...,\n",
       "         1.00000000e+02, 1.16950000e+04, 1.00000000e+00],\n",
       "        [           nan,            nan,            nan, ...,\n",
       "         0.00000000e+00, 0.00000000e+00, 0.00000000e+00],\n",
       "        [           nan,            nan,            nan, ...,\n",
       "         0.00000000e+00, 0.00000000e+00, 0.00000000e+00],\n",
       "        ...,\n",
       "        [1.37610000e+02, 1.37690000e+02, 1.37690000e+02, ...,\n",
       "         5.24000000e+02, 7.21186250e+04, 9.00000000e+00],\n",
       "        [1.37710000e+02, 1.37815000e+02, 1.37815000e+02, ...,\n",
       "         1.00000000e+03, 1.37771000e+05, 9.00000000e+00],\n",
       "        [1.37750000e+02, 1.37760000e+02, 1.37760000e+02, ...,\n",
       "         2.00000000e+02, 2.75510000e+04, 2.00000000e+00]],\n",
       "\n",
       "       [[1.37750000e+02, 1.37750000e+02, 1.37760000e+02, ...,\n",
       "         5.00000000e+02, 6.88740000e+04, 5.00000000e+00],\n",
       "        [1.37740000e+02, 1.37670000e+02, 1.37740000e+02, ...,\n",
       "         5.00000000e+02, 6.88505200e+04, 6.00000000e+00],\n",
       "        [1.37710000e+02, 1.37575000e+02, 1.37770000e+02, ...,\n",
       "         9.00000000e+02, 1.23885500e+05, 8.00000000e+00],\n",
       "        ...,\n",
       "        [4.30500000e+01, 4.30500000e+01, 4.30500000e+01, ...,\n",
       "         1.00000000e+02, 4.30500000e+03, 1.00000000e+00],\n",
       "        [4.30800000e+01, 4.31200000e+01, 4.31200000e+01, ...,\n",
       "         2.00000000e+02, 8.62000000e+03, 2.00000000e+00],\n",
       "        [4.30900000e+01, 4.31450000e+01, 4.31450000e+01, ...,\n",
       "         3.00000000e+02, 1.29380000e+04, 2.00000000e+00]],\n",
       "\n",
       "       [[4.31200000e+01, 4.31200000e+01, 4.31200000e+01, ...,\n",
       "         4.00000000e+02, 1.72480000e+04, 2.00000000e+00],\n",
       "        [4.31600000e+01, 4.31600000e+01, 4.31600000e+01, ...,\n",
       "         6.00000000e+01, 2.58960000e+03, 1.00000000e+00],\n",
       "        [4.31500000e+01, 4.31700000e+01, 4.31700000e+01, ...,\n",
       "         3.00000000e+02, 1.29480000e+04, 3.00000000e+00],\n",
       "        ...,\n",
       "        [1.15590000e+02, 1.15610000e+02, 1.15640000e+02, ...,\n",
       "         4.53000000e+02, 5.23723100e+04, 7.00000000e+00],\n",
       "        [1.15630000e+02, 1.15630000e+02, 1.15630000e+02, ...,\n",
       "         1.45000000e+02, 1.67663500e+04, 2.00000000e+00],\n",
       "        [1.15630000e+02, 1.15750000e+02, 1.15760000e+02, ...,\n",
       "         8.29000000e+02, 9.59241950e+04, 1.10000000e+01]]])"
      ]
     },
     "execution_count": 258,
     "metadata": {},
     "output_type": "execute_result"
    }
   ],
   "source": [
    "n.reshape((390, 424, 8))"
   ]
  },
  {
   "cell_type": "code",
   "execution_count": 222,
   "metadata": {},
   "outputs": [],
   "source": [
    "d['features'] = d[features].values.tolist()"
   ]
  },
  {
   "cell_type": "code",
   "execution_count": 223,
   "metadata": {},
   "outputs": [],
   "source": [
    "d = d.drop(columns=features)"
   ]
  },
  {
   "cell_type": "code",
   "execution_count": 262,
   "metadata": {},
   "outputs": [
    {
     "data": {
      "text/html": [
       "<div>\n",
       "<style scoped>\n",
       "    .dataframe tbody tr th:only-of-type {\n",
       "        vertical-align: middle;\n",
       "    }\n",
       "\n",
       "    .dataframe tbody tr th {\n",
       "        vertical-align: top;\n",
       "    }\n",
       "\n",
       "    .dataframe thead th {\n",
       "        text-align: right;\n",
       "    }\n",
       "</style>\n",
       "<table border=\"1\" class=\"dataframe\">\n",
       "  <thead>\n",
       "    <tr style=\"text-align: right;\">\n",
       "      <th></th>\n",
       "      <th>datetime</th>\n",
       "      <th>ticker</th>\n",
       "      <th>open</th>\n",
       "      <th>close</th>\n",
       "      <th>high</th>\n",
       "      <th>low</th>\n",
       "      <th>average</th>\n",
       "      <th>volume</th>\n",
       "      <th>notional</th>\n",
       "      <th>numberOfTrades</th>\n",
       "    </tr>\n",
       "  </thead>\n",
       "  <tbody>\n",
       "    <tr>\n",
       "      <th>0</th>\n",
       "      <td>2019-08-01 09:30:00</td>\n",
       "      <td>AAL</td>\n",
       "      <td>30.400</td>\n",
       "      <td>30.380</td>\n",
       "      <td>30.400</td>\n",
       "      <td>30.380</td>\n",
       "      <td>30.387</td>\n",
       "      <td>300.0</td>\n",
       "      <td>9116.000</td>\n",
       "      <td>3.0</td>\n",
       "    </tr>\n",
       "    <tr>\n",
       "      <th>1</th>\n",
       "      <td>2019-08-01 09:31:00</td>\n",
       "      <td>AAL</td>\n",
       "      <td>30.385</td>\n",
       "      <td>30.320</td>\n",
       "      <td>30.385</td>\n",
       "      <td>30.320</td>\n",
       "      <td>30.352</td>\n",
       "      <td>200.0</td>\n",
       "      <td>6070.500</td>\n",
       "      <td>2.0</td>\n",
       "    </tr>\n",
       "    <tr>\n",
       "      <th>2</th>\n",
       "      <td>2019-08-01 09:32:00</td>\n",
       "      <td>AAL</td>\n",
       "      <td>30.410</td>\n",
       "      <td>30.460</td>\n",
       "      <td>30.460</td>\n",
       "      <td>30.405</td>\n",
       "      <td>30.425</td>\n",
       "      <td>2900.0</td>\n",
       "      <td>88233.000</td>\n",
       "      <td>11.0</td>\n",
       "    </tr>\n",
       "    <tr>\n",
       "      <th>3</th>\n",
       "      <td>2019-08-01 09:33:00</td>\n",
       "      <td>AAL</td>\n",
       "      <td>30.370</td>\n",
       "      <td>30.370</td>\n",
       "      <td>30.370</td>\n",
       "      <td>30.370</td>\n",
       "      <td>30.370</td>\n",
       "      <td>10.0</td>\n",
       "      <td>303.700</td>\n",
       "      <td>1.0</td>\n",
       "    </tr>\n",
       "    <tr>\n",
       "      <th>4</th>\n",
       "      <td>2019-08-01 09:34:00</td>\n",
       "      <td>AAL</td>\n",
       "      <td>30.405</td>\n",
       "      <td>30.385</td>\n",
       "      <td>30.425</td>\n",
       "      <td>30.385</td>\n",
       "      <td>30.414</td>\n",
       "      <td>2800.0</td>\n",
       "      <td>85160.000</td>\n",
       "      <td>10.0</td>\n",
       "    </tr>\n",
       "    <tr>\n",
       "      <th>...</th>\n",
       "      <td>...</td>\n",
       "      <td>...</td>\n",
       "      <td>...</td>\n",
       "      <td>...</td>\n",
       "      <td>...</td>\n",
       "      <td>...</td>\n",
       "      <td>...</td>\n",
       "      <td>...</td>\n",
       "      <td>...</td>\n",
       "      <td>...</td>\n",
       "    </tr>\n",
       "    <tr>\n",
       "      <th>165355</th>\n",
       "      <td>2019-08-01 15:55:00</td>\n",
       "      <td>ZTS</td>\n",
       "      <td>115.400</td>\n",
       "      <td>115.400</td>\n",
       "      <td>115.400</td>\n",
       "      <td>115.400</td>\n",
       "      <td>115.400</td>\n",
       "      <td>107.0</td>\n",
       "      <td>12347.800</td>\n",
       "      <td>2.0</td>\n",
       "    </tr>\n",
       "    <tr>\n",
       "      <th>165356</th>\n",
       "      <td>2019-08-01 15:56:00</td>\n",
       "      <td>ZTS</td>\n",
       "      <td>115.455</td>\n",
       "      <td>115.455</td>\n",
       "      <td>115.455</td>\n",
       "      <td>115.455</td>\n",
       "      <td>115.455</td>\n",
       "      <td>100.0</td>\n",
       "      <td>11545.500</td>\n",
       "      <td>1.0</td>\n",
       "    </tr>\n",
       "    <tr>\n",
       "      <th>165357</th>\n",
       "      <td>2019-08-01 15:57:00</td>\n",
       "      <td>ZTS</td>\n",
       "      <td>115.590</td>\n",
       "      <td>115.610</td>\n",
       "      <td>115.640</td>\n",
       "      <td>115.580</td>\n",
       "      <td>115.612</td>\n",
       "      <td>453.0</td>\n",
       "      <td>52372.310</td>\n",
       "      <td>7.0</td>\n",
       "    </tr>\n",
       "    <tr>\n",
       "      <th>165358</th>\n",
       "      <td>2019-08-01 15:58:00</td>\n",
       "      <td>ZTS</td>\n",
       "      <td>115.630</td>\n",
       "      <td>115.630</td>\n",
       "      <td>115.630</td>\n",
       "      <td>115.630</td>\n",
       "      <td>115.630</td>\n",
       "      <td>145.0</td>\n",
       "      <td>16766.350</td>\n",
       "      <td>2.0</td>\n",
       "    </tr>\n",
       "    <tr>\n",
       "      <th>165359</th>\n",
       "      <td>2019-08-01 15:59:00</td>\n",
       "      <td>ZTS</td>\n",
       "      <td>115.630</td>\n",
       "      <td>115.750</td>\n",
       "      <td>115.760</td>\n",
       "      <td>115.610</td>\n",
       "      <td>115.711</td>\n",
       "      <td>829.0</td>\n",
       "      <td>95924.195</td>\n",
       "      <td>11.0</td>\n",
       "    </tr>\n",
       "  </tbody>\n",
       "</table>\n",
       "<p>165360 rows × 10 columns</p>\n",
       "</div>"
      ],
      "text/plain": [
       "                   datetime ticker     open    close     high      low  \\\n",
       "0       2019-08-01 09:30:00    AAL   30.400   30.380   30.400   30.380   \n",
       "1       2019-08-01 09:31:00    AAL   30.385   30.320   30.385   30.320   \n",
       "2       2019-08-01 09:32:00    AAL   30.410   30.460   30.460   30.405   \n",
       "3       2019-08-01 09:33:00    AAL   30.370   30.370   30.370   30.370   \n",
       "4       2019-08-01 09:34:00    AAL   30.405   30.385   30.425   30.385   \n",
       "...                     ...    ...      ...      ...      ...      ...   \n",
       "165355  2019-08-01 15:55:00    ZTS  115.400  115.400  115.400  115.400   \n",
       "165356  2019-08-01 15:56:00    ZTS  115.455  115.455  115.455  115.455   \n",
       "165357  2019-08-01 15:57:00    ZTS  115.590  115.610  115.640  115.580   \n",
       "165358  2019-08-01 15:58:00    ZTS  115.630  115.630  115.630  115.630   \n",
       "165359  2019-08-01 15:59:00    ZTS  115.630  115.750  115.760  115.610   \n",
       "\n",
       "        average  volume   notional  numberOfTrades  \n",
       "0        30.387   300.0   9116.000             3.0  \n",
       "1        30.352   200.0   6070.500             2.0  \n",
       "2        30.425  2900.0  88233.000            11.0  \n",
       "3        30.370    10.0    303.700             1.0  \n",
       "4        30.414  2800.0  85160.000            10.0  \n",
       "...         ...     ...        ...             ...  \n",
       "165355  115.400   107.0  12347.800             2.0  \n",
       "165356  115.455   100.0  11545.500             1.0  \n",
       "165357  115.612   453.0  52372.310             7.0  \n",
       "165358  115.630   145.0  16766.350             2.0  \n",
       "165359  115.711   829.0  95924.195            11.0  \n",
       "\n",
       "[165360 rows x 10 columns]"
      ]
     },
     "execution_count": 262,
     "metadata": {},
     "output_type": "execute_result"
    }
   ],
   "source": [
    "d"
   ]
  },
  {
   "cell_type": "code",
   "execution_count": 264,
   "metadata": {},
   "outputs": [
    {
     "data": {
      "text/html": [
       "<div>\n",
       "<style scoped>\n",
       "    .dataframe tbody tr th:only-of-type {\n",
       "        vertical-align: middle;\n",
       "    }\n",
       "\n",
       "    .dataframe tbody tr th {\n",
       "        vertical-align: top;\n",
       "    }\n",
       "\n",
       "    .dataframe thead th {\n",
       "        text-align: right;\n",
       "    }\n",
       "</style>\n",
       "<table border=\"1\" class=\"dataframe\">\n",
       "  <thead>\n",
       "    <tr style=\"text-align: right;\">\n",
       "      <th></th>\n",
       "      <th></th>\n",
       "      <th>open</th>\n",
       "      <th>close</th>\n",
       "      <th>high</th>\n",
       "      <th>low</th>\n",
       "      <th>average</th>\n",
       "      <th>volume</th>\n",
       "      <th>notional</th>\n",
       "      <th>numberOfTrades</th>\n",
       "    </tr>\n",
       "    <tr>\n",
       "      <th>datetime</th>\n",
       "      <th>ticker</th>\n",
       "      <th></th>\n",
       "      <th></th>\n",
       "      <th></th>\n",
       "      <th></th>\n",
       "      <th></th>\n",
       "      <th></th>\n",
       "      <th></th>\n",
       "      <th></th>\n",
       "    </tr>\n",
       "  </thead>\n",
       "  <tbody>\n",
       "    <tr>\n",
       "      <th rowspan=\"5\" valign=\"top\">2019-08-01 09:30:00</th>\n",
       "      <th>AAL</th>\n",
       "      <td>30.400</td>\n",
       "      <td>30.380</td>\n",
       "      <td>30.400</td>\n",
       "      <td>30.380</td>\n",
       "      <td>30.387</td>\n",
       "      <td>300.0</td>\n",
       "      <td>9116.000</td>\n",
       "      <td>3.0</td>\n",
       "    </tr>\n",
       "    <tr>\n",
       "      <th>AAP</th>\n",
       "      <td>150.875</td>\n",
       "      <td>150.650</td>\n",
       "      <td>150.875</td>\n",
       "      <td>150.650</td>\n",
       "      <td>150.762</td>\n",
       "      <td>200.0</td>\n",
       "      <td>30152.500</td>\n",
       "      <td>2.0</td>\n",
       "    </tr>\n",
       "    <tr>\n",
       "      <th>AAPL</th>\n",
       "      <td>214.070</td>\n",
       "      <td>214.770</td>\n",
       "      <td>214.980</td>\n",
       "      <td>214.070</td>\n",
       "      <td>214.718</td>\n",
       "      <td>8564.0</td>\n",
       "      <td>1838848.750</td>\n",
       "      <td>61.0</td>\n",
       "    </tr>\n",
       "    <tr>\n",
       "      <th>ABBV</th>\n",
       "      <td>66.975</td>\n",
       "      <td>66.975</td>\n",
       "      <td>66.975</td>\n",
       "      <td>66.975</td>\n",
       "      <td>66.975</td>\n",
       "      <td>58.0</td>\n",
       "      <td>3884.550</td>\n",
       "      <td>1.0</td>\n",
       "    </tr>\n",
       "    <tr>\n",
       "      <th>ABC</th>\n",
       "      <td>NaN</td>\n",
       "      <td>NaN</td>\n",
       "      <td>NaN</td>\n",
       "      <td>NaN</td>\n",
       "      <td>NaN</td>\n",
       "      <td>0.0</td>\n",
       "      <td>0.000</td>\n",
       "      <td>0.0</td>\n",
       "    </tr>\n",
       "    <tr>\n",
       "      <th>...</th>\n",
       "      <th>...</th>\n",
       "      <td>...</td>\n",
       "      <td>...</td>\n",
       "      <td>...</td>\n",
       "      <td>...</td>\n",
       "      <td>...</td>\n",
       "      <td>...</td>\n",
       "      <td>...</td>\n",
       "      <td>...</td>\n",
       "    </tr>\n",
       "    <tr>\n",
       "      <th rowspan=\"5\" valign=\"top\">2019-08-01 15:59:00</th>\n",
       "      <th>XYL</th>\n",
       "      <td>78.750</td>\n",
       "      <td>78.850</td>\n",
       "      <td>78.865</td>\n",
       "      <td>78.740</td>\n",
       "      <td>78.785</td>\n",
       "      <td>700.0</td>\n",
       "      <td>55149.500</td>\n",
       "      <td>7.0</td>\n",
       "    </tr>\n",
       "    <tr>\n",
       "      <th>YUM</th>\n",
       "      <td>116.970</td>\n",
       "      <td>116.860</td>\n",
       "      <td>117.030</td>\n",
       "      <td>116.860</td>\n",
       "      <td>116.950</td>\n",
       "      <td>2139.0</td>\n",
       "      <td>250156.180</td>\n",
       "      <td>26.0</td>\n",
       "    </tr>\n",
       "    <tr>\n",
       "      <th>ZBH</th>\n",
       "      <td>137.360</td>\n",
       "      <td>137.500</td>\n",
       "      <td>137.500</td>\n",
       "      <td>137.340</td>\n",
       "      <td>137.459</td>\n",
       "      <td>3621.0</td>\n",
       "      <td>497739.405</td>\n",
       "      <td>37.0</td>\n",
       "    </tr>\n",
       "    <tr>\n",
       "      <th>ZION</th>\n",
       "      <td>42.955</td>\n",
       "      <td>42.955</td>\n",
       "      <td>42.980</td>\n",
       "      <td>42.945</td>\n",
       "      <td>42.961</td>\n",
       "      <td>1833.0</td>\n",
       "      <td>78748.010</td>\n",
       "      <td>26.0</td>\n",
       "    </tr>\n",
       "    <tr>\n",
       "      <th>ZTS</th>\n",
       "      <td>115.630</td>\n",
       "      <td>115.750</td>\n",
       "      <td>115.760</td>\n",
       "      <td>115.610</td>\n",
       "      <td>115.711</td>\n",
       "      <td>829.0</td>\n",
       "      <td>95924.195</td>\n",
       "      <td>11.0</td>\n",
       "    </tr>\n",
       "  </tbody>\n",
       "</table>\n",
       "<p>165360 rows × 8 columns</p>\n",
       "</div>"
      ],
      "text/plain": [
       "                               open    close     high      low  average  \\\n",
       "datetime            ticker                                                \n",
       "2019-08-01 09:30:00 AAL      30.400   30.380   30.400   30.380   30.387   \n",
       "                    AAP     150.875  150.650  150.875  150.650  150.762   \n",
       "                    AAPL    214.070  214.770  214.980  214.070  214.718   \n",
       "                    ABBV     66.975   66.975   66.975   66.975   66.975   \n",
       "                    ABC         NaN      NaN      NaN      NaN      NaN   \n",
       "...                             ...      ...      ...      ...      ...   \n",
       "2019-08-01 15:59:00 XYL      78.750   78.850   78.865   78.740   78.785   \n",
       "                    YUM     116.970  116.860  117.030  116.860  116.950   \n",
       "                    ZBH     137.360  137.500  137.500  137.340  137.459   \n",
       "                    ZION     42.955   42.955   42.980   42.945   42.961   \n",
       "                    ZTS     115.630  115.750  115.760  115.610  115.711   \n",
       "\n",
       "                            volume     notional  numberOfTrades  \n",
       "datetime            ticker                                       \n",
       "2019-08-01 09:30:00 AAL      300.0     9116.000             3.0  \n",
       "                    AAP      200.0    30152.500             2.0  \n",
       "                    AAPL    8564.0  1838848.750            61.0  \n",
       "                    ABBV      58.0     3884.550             1.0  \n",
       "                    ABC        0.0        0.000             0.0  \n",
       "...                            ...          ...             ...  \n",
       "2019-08-01 15:59:00 XYL      700.0    55149.500             7.0  \n",
       "                    YUM     2139.0   250156.180            26.0  \n",
       "                    ZBH     3621.0   497739.405            37.0  \n",
       "                    ZION    1833.0    78748.010            26.0  \n",
       "                    ZTS      829.0    95924.195            11.0  \n",
       "\n",
       "[165360 rows x 8 columns]"
      ]
     },
     "execution_count": 264,
     "metadata": {},
     "output_type": "execute_result"
    }
   ],
   "source": [
    "g = d.groupby(['datetime', 'ticker'])[features].first(); g"
   ]
  },
  {
   "cell_type": "code",
   "execution_count": 265,
   "metadata": {},
   "outputs": [
    {
     "data": {
      "text/plain": [
       "array([[3.04000000e+01, 3.03800000e+01, 3.04000000e+01, ...,\n",
       "        3.00000000e+02, 9.11600000e+03, 3.00000000e+00],\n",
       "       [1.50875000e+02, 1.50650000e+02, 1.50875000e+02, ...,\n",
       "        2.00000000e+02, 3.01525000e+04, 2.00000000e+00],\n",
       "       [2.14070000e+02, 2.14770000e+02, 2.14980000e+02, ...,\n",
       "        8.56400000e+03, 1.83884875e+06, 6.10000000e+01],\n",
       "       ...,\n",
       "       [1.37360000e+02, 1.37500000e+02, 1.37500000e+02, ...,\n",
       "        3.62100000e+03, 4.97739405e+05, 3.70000000e+01],\n",
       "       [4.29550000e+01, 4.29550000e+01, 4.29800000e+01, ...,\n",
       "        1.83300000e+03, 7.87480100e+04, 2.60000000e+01],\n",
       "       [1.15630000e+02, 1.15750000e+02, 1.15760000e+02, ...,\n",
       "        8.29000000e+02, 9.59241950e+04, 1.10000000e+01]])"
      ]
     },
     "execution_count": 265,
     "metadata": {},
     "output_type": "execute_result"
    }
   ],
   "source": [
    "g.values"
   ]
  },
  {
   "cell_type": "code",
   "execution_count": 266,
   "metadata": {},
   "outputs": [
    {
     "data": {
      "text/plain": [
       "(165360, 8)"
      ]
     },
     "execution_count": 266,
     "metadata": {},
     "output_type": "execute_result"
    }
   ],
   "source": [
    "g.values.shape"
   ]
  },
  {
   "cell_type": "code",
   "execution_count": 267,
   "metadata": {},
   "outputs": [
    {
     "data": {
      "text/html": [
       "<div>\n",
       "<style scoped>\n",
       "    .dataframe tbody tr th:only-of-type {\n",
       "        vertical-align: middle;\n",
       "    }\n",
       "\n",
       "    .dataframe tbody tr th {\n",
       "        vertical-align: top;\n",
       "    }\n",
       "\n",
       "    .dataframe thead tr th {\n",
       "        text-align: left;\n",
       "    }\n",
       "\n",
       "    .dataframe thead tr:last-of-type th {\n",
       "        text-align: right;\n",
       "    }\n",
       "</style>\n",
       "<table border=\"1\" class=\"dataframe\">\n",
       "  <thead>\n",
       "    <tr>\n",
       "      <th></th>\n",
       "      <th colspan=\"10\" halign=\"left\">open</th>\n",
       "      <th>...</th>\n",
       "      <th colspan=\"10\" halign=\"left\">numberOfTrades</th>\n",
       "    </tr>\n",
       "    <tr>\n",
       "      <th>ticker</th>\n",
       "      <th>AAL</th>\n",
       "      <th>AAP</th>\n",
       "      <th>AAPL</th>\n",
       "      <th>ABBV</th>\n",
       "      <th>ABC</th>\n",
       "      <th>ABMD</th>\n",
       "      <th>ABT</th>\n",
       "      <th>ACN</th>\n",
       "      <th>ADBE</th>\n",
       "      <th>ADI</th>\n",
       "      <th>...</th>\n",
       "      <th>XEC</th>\n",
       "      <th>XEL</th>\n",
       "      <th>XLNX</th>\n",
       "      <th>XRAY</th>\n",
       "      <th>XRX</th>\n",
       "      <th>XYL</th>\n",
       "      <th>YUM</th>\n",
       "      <th>ZBH</th>\n",
       "      <th>ZION</th>\n",
       "      <th>ZTS</th>\n",
       "    </tr>\n",
       "    <tr>\n",
       "      <th>datetime</th>\n",
       "      <th></th>\n",
       "      <th></th>\n",
       "      <th></th>\n",
       "      <th></th>\n",
       "      <th></th>\n",
       "      <th></th>\n",
       "      <th></th>\n",
       "      <th></th>\n",
       "      <th></th>\n",
       "      <th></th>\n",
       "      <th></th>\n",
       "      <th></th>\n",
       "      <th></th>\n",
       "      <th></th>\n",
       "      <th></th>\n",
       "      <th></th>\n",
       "      <th></th>\n",
       "      <th></th>\n",
       "      <th></th>\n",
       "      <th></th>\n",
       "      <th></th>\n",
       "    </tr>\n",
       "  </thead>\n",
       "  <tbody>\n",
       "    <tr>\n",
       "      <th>2019-08-01 09:30:00</th>\n",
       "      <td>30.400</td>\n",
       "      <td>150.875</td>\n",
       "      <td>214.070</td>\n",
       "      <td>66.975</td>\n",
       "      <td>NaN</td>\n",
       "      <td>223.705</td>\n",
       "      <td>87.155</td>\n",
       "      <td>193.785</td>\n",
       "      <td>298.995</td>\n",
       "      <td>117.265</td>\n",
       "      <td>...</td>\n",
       "      <td>0.0</td>\n",
       "      <td>2.0</td>\n",
       "      <td>9.0</td>\n",
       "      <td>1.0</td>\n",
       "      <td>6.0</td>\n",
       "      <td>0.0</td>\n",
       "      <td>0.0</td>\n",
       "      <td>2.0</td>\n",
       "      <td>0.0</td>\n",
       "      <td>9.0</td>\n",
       "    </tr>\n",
       "    <tr>\n",
       "      <th>2019-08-01 09:31:00</th>\n",
       "      <td>30.385</td>\n",
       "      <td>NaN</td>\n",
       "      <td>214.820</td>\n",
       "      <td>66.950</td>\n",
       "      <td>93.090</td>\n",
       "      <td>217.125</td>\n",
       "      <td>87.105</td>\n",
       "      <td>NaN</td>\n",
       "      <td>299.340</td>\n",
       "      <td>NaN</td>\n",
       "      <td>...</td>\n",
       "      <td>0.0</td>\n",
       "      <td>4.0</td>\n",
       "      <td>2.0</td>\n",
       "      <td>1.0</td>\n",
       "      <td>0.0</td>\n",
       "      <td>0.0</td>\n",
       "      <td>0.0</td>\n",
       "      <td>4.0</td>\n",
       "      <td>1.0</td>\n",
       "      <td>3.0</td>\n",
       "    </tr>\n",
       "    <tr>\n",
       "      <th>2019-08-01 09:32:00</th>\n",
       "      <td>30.410</td>\n",
       "      <td>150.230</td>\n",
       "      <td>215.510</td>\n",
       "      <td>67.020</td>\n",
       "      <td>92.795</td>\n",
       "      <td>215.500</td>\n",
       "      <td>87.080</td>\n",
       "      <td>193.530</td>\n",
       "      <td>299.290</td>\n",
       "      <td>117.880</td>\n",
       "      <td>...</td>\n",
       "      <td>1.0</td>\n",
       "      <td>2.0</td>\n",
       "      <td>1.0</td>\n",
       "      <td>1.0</td>\n",
       "      <td>2.0</td>\n",
       "      <td>0.0</td>\n",
       "      <td>0.0</td>\n",
       "      <td>1.0</td>\n",
       "      <td>0.0</td>\n",
       "      <td>3.0</td>\n",
       "    </tr>\n",
       "    <tr>\n",
       "      <th>2019-08-01 09:33:00</th>\n",
       "      <td>30.370</td>\n",
       "      <td>150.385</td>\n",
       "      <td>215.550</td>\n",
       "      <td>67.060</td>\n",
       "      <td>93.410</td>\n",
       "      <td>218.255</td>\n",
       "      <td>86.850</td>\n",
       "      <td>NaN</td>\n",
       "      <td>299.360</td>\n",
       "      <td>117.860</td>\n",
       "      <td>...</td>\n",
       "      <td>6.0</td>\n",
       "      <td>1.0</td>\n",
       "      <td>2.0</td>\n",
       "      <td>5.0</td>\n",
       "      <td>0.0</td>\n",
       "      <td>1.0</td>\n",
       "      <td>1.0</td>\n",
       "      <td>1.0</td>\n",
       "      <td>2.0</td>\n",
       "      <td>1.0</td>\n",
       "    </tr>\n",
       "    <tr>\n",
       "      <th>2019-08-01 09:34:00</th>\n",
       "      <td>30.405</td>\n",
       "      <td>150.320</td>\n",
       "      <td>215.430</td>\n",
       "      <td>67.100</td>\n",
       "      <td>93.445</td>\n",
       "      <td>220.250</td>\n",
       "      <td>87.110</td>\n",
       "      <td>NaN</td>\n",
       "      <td>301.630</td>\n",
       "      <td>NaN</td>\n",
       "      <td>...</td>\n",
       "      <td>3.0</td>\n",
       "      <td>1.0</td>\n",
       "      <td>7.0</td>\n",
       "      <td>3.0</td>\n",
       "      <td>1.0</td>\n",
       "      <td>2.0</td>\n",
       "      <td>4.0</td>\n",
       "      <td>0.0</td>\n",
       "      <td>0.0</td>\n",
       "      <td>1.0</td>\n",
       "    </tr>\n",
       "    <tr>\n",
       "      <th>...</th>\n",
       "      <td>...</td>\n",
       "      <td>...</td>\n",
       "      <td>...</td>\n",
       "      <td>...</td>\n",
       "      <td>...</td>\n",
       "      <td>...</td>\n",
       "      <td>...</td>\n",
       "      <td>...</td>\n",
       "      <td>...</td>\n",
       "      <td>...</td>\n",
       "      <td>...</td>\n",
       "      <td>...</td>\n",
       "      <td>...</td>\n",
       "      <td>...</td>\n",
       "      <td>...</td>\n",
       "      <td>...</td>\n",
       "      <td>...</td>\n",
       "      <td>...</td>\n",
       "      <td>...</td>\n",
       "      <td>...</td>\n",
       "      <td>...</td>\n",
       "    </tr>\n",
       "    <tr>\n",
       "      <th>2019-08-01 15:55:00</th>\n",
       "      <td>29.780</td>\n",
       "      <td>149.770</td>\n",
       "      <td>207.545</td>\n",
       "      <td>65.670</td>\n",
       "      <td>91.530</td>\n",
       "      <td>203.820</td>\n",
       "      <td>85.730</td>\n",
       "      <td>194.025</td>\n",
       "      <td>298.000</td>\n",
       "      <td>114.465</td>\n",
       "      <td>...</td>\n",
       "      <td>10.0</td>\n",
       "      <td>25.0</td>\n",
       "      <td>30.0</td>\n",
       "      <td>71.0</td>\n",
       "      <td>24.0</td>\n",
       "      <td>8.0</td>\n",
       "      <td>29.0</td>\n",
       "      <td>10.0</td>\n",
       "      <td>15.0</td>\n",
       "      <td>2.0</td>\n",
       "    </tr>\n",
       "    <tr>\n",
       "      <th>2019-08-01 15:56:00</th>\n",
       "      <td>29.825</td>\n",
       "      <td>149.915</td>\n",
       "      <td>207.650</td>\n",
       "      <td>65.670</td>\n",
       "      <td>91.390</td>\n",
       "      <td>204.390</td>\n",
       "      <td>85.770</td>\n",
       "      <td>194.090</td>\n",
       "      <td>298.150</td>\n",
       "      <td>114.600</td>\n",
       "      <td>...</td>\n",
       "      <td>14.0</td>\n",
       "      <td>16.0</td>\n",
       "      <td>9.0</td>\n",
       "      <td>39.0</td>\n",
       "      <td>14.0</td>\n",
       "      <td>9.0</td>\n",
       "      <td>24.0</td>\n",
       "      <td>14.0</td>\n",
       "      <td>15.0</td>\n",
       "      <td>1.0</td>\n",
       "    </tr>\n",
       "    <tr>\n",
       "      <th>2019-08-01 15:57:00</th>\n",
       "      <td>29.875</td>\n",
       "      <td>150.050</td>\n",
       "      <td>207.750</td>\n",
       "      <td>65.745</td>\n",
       "      <td>91.490</td>\n",
       "      <td>204.830</td>\n",
       "      <td>85.910</td>\n",
       "      <td>194.310</td>\n",
       "      <td>298.390</td>\n",
       "      <td>114.630</td>\n",
       "      <td>...</td>\n",
       "      <td>8.0</td>\n",
       "      <td>19.0</td>\n",
       "      <td>14.0</td>\n",
       "      <td>48.0</td>\n",
       "      <td>26.0</td>\n",
       "      <td>4.0</td>\n",
       "      <td>15.0</td>\n",
       "      <td>13.0</td>\n",
       "      <td>15.0</td>\n",
       "      <td>7.0</td>\n",
       "    </tr>\n",
       "    <tr>\n",
       "      <th>2019-08-01 15:58:00</th>\n",
       "      <td>29.875</td>\n",
       "      <td>150.020</td>\n",
       "      <td>207.875</td>\n",
       "      <td>65.695</td>\n",
       "      <td>91.520</td>\n",
       "      <td>204.815</td>\n",
       "      <td>85.890</td>\n",
       "      <td>194.340</td>\n",
       "      <td>298.115</td>\n",
       "      <td>114.520</td>\n",
       "      <td>...</td>\n",
       "      <td>10.0</td>\n",
       "      <td>19.0</td>\n",
       "      <td>16.0</td>\n",
       "      <td>22.0</td>\n",
       "      <td>31.0</td>\n",
       "      <td>7.0</td>\n",
       "      <td>15.0</td>\n",
       "      <td>13.0</td>\n",
       "      <td>26.0</td>\n",
       "      <td>2.0</td>\n",
       "    </tr>\n",
       "    <tr>\n",
       "      <th>2019-08-01 15:59:00</th>\n",
       "      <td>29.900</td>\n",
       "      <td>150.090</td>\n",
       "      <td>208.275</td>\n",
       "      <td>65.720</td>\n",
       "      <td>91.610</td>\n",
       "      <td>203.770</td>\n",
       "      <td>85.965</td>\n",
       "      <td>194.350</td>\n",
       "      <td>298.430</td>\n",
       "      <td>114.570</td>\n",
       "      <td>...</td>\n",
       "      <td>7.0</td>\n",
       "      <td>27.0</td>\n",
       "      <td>51.0</td>\n",
       "      <td>21.0</td>\n",
       "      <td>26.0</td>\n",
       "      <td>7.0</td>\n",
       "      <td>26.0</td>\n",
       "      <td>37.0</td>\n",
       "      <td>26.0</td>\n",
       "      <td>11.0</td>\n",
       "    </tr>\n",
       "  </tbody>\n",
       "</table>\n",
       "<p>390 rows × 3392 columns</p>\n",
       "</div>"
      ],
      "text/plain": [
       "                       open                                             \\\n",
       "ticker                  AAL      AAP     AAPL    ABBV     ABC     ABMD   \n",
       "datetime                                                                 \n",
       "2019-08-01 09:30:00  30.400  150.875  214.070  66.975     NaN  223.705   \n",
       "2019-08-01 09:31:00  30.385      NaN  214.820  66.950  93.090  217.125   \n",
       "2019-08-01 09:32:00  30.410  150.230  215.510  67.020  92.795  215.500   \n",
       "2019-08-01 09:33:00  30.370  150.385  215.550  67.060  93.410  218.255   \n",
       "2019-08-01 09:34:00  30.405  150.320  215.430  67.100  93.445  220.250   \n",
       "...                     ...      ...      ...     ...     ...      ...   \n",
       "2019-08-01 15:55:00  29.780  149.770  207.545  65.670  91.530  203.820   \n",
       "2019-08-01 15:56:00  29.825  149.915  207.650  65.670  91.390  204.390   \n",
       "2019-08-01 15:57:00  29.875  150.050  207.750  65.745  91.490  204.830   \n",
       "2019-08-01 15:58:00  29.875  150.020  207.875  65.695  91.520  204.815   \n",
       "2019-08-01 15:59:00  29.900  150.090  208.275  65.720  91.610  203.770   \n",
       "\n",
       "                                                        ... numberOfTrades  \\\n",
       "ticker                  ABT      ACN     ADBE      ADI  ...            XEC   \n",
       "datetime                                                ...                  \n",
       "2019-08-01 09:30:00  87.155  193.785  298.995  117.265  ...            0.0   \n",
       "2019-08-01 09:31:00  87.105      NaN  299.340      NaN  ...            0.0   \n",
       "2019-08-01 09:32:00  87.080  193.530  299.290  117.880  ...            1.0   \n",
       "2019-08-01 09:33:00  86.850      NaN  299.360  117.860  ...            6.0   \n",
       "2019-08-01 09:34:00  87.110      NaN  301.630      NaN  ...            3.0   \n",
       "...                     ...      ...      ...      ...  ...            ...   \n",
       "2019-08-01 15:55:00  85.730  194.025  298.000  114.465  ...           10.0   \n",
       "2019-08-01 15:56:00  85.770  194.090  298.150  114.600  ...           14.0   \n",
       "2019-08-01 15:57:00  85.910  194.310  298.390  114.630  ...            8.0   \n",
       "2019-08-01 15:58:00  85.890  194.340  298.115  114.520  ...           10.0   \n",
       "2019-08-01 15:59:00  85.965  194.350  298.430  114.570  ...            7.0   \n",
       "\n",
       "                                                                          \n",
       "ticker                XEL  XLNX  XRAY   XRX  XYL   YUM   ZBH  ZION   ZTS  \n",
       "datetime                                                                  \n",
       "2019-08-01 09:30:00   2.0   9.0   1.0   6.0  0.0   0.0   2.0   0.0   9.0  \n",
       "2019-08-01 09:31:00   4.0   2.0   1.0   0.0  0.0   0.0   4.0   1.0   3.0  \n",
       "2019-08-01 09:32:00   2.0   1.0   1.0   2.0  0.0   0.0   1.0   0.0   3.0  \n",
       "2019-08-01 09:33:00   1.0   2.0   5.0   0.0  1.0   1.0   1.0   2.0   1.0  \n",
       "2019-08-01 09:34:00   1.0   7.0   3.0   1.0  2.0   4.0   0.0   0.0   1.0  \n",
       "...                   ...   ...   ...   ...  ...   ...   ...   ...   ...  \n",
       "2019-08-01 15:55:00  25.0  30.0  71.0  24.0  8.0  29.0  10.0  15.0   2.0  \n",
       "2019-08-01 15:56:00  16.0   9.0  39.0  14.0  9.0  24.0  14.0  15.0   1.0  \n",
       "2019-08-01 15:57:00  19.0  14.0  48.0  26.0  4.0  15.0  13.0  15.0   7.0  \n",
       "2019-08-01 15:58:00  19.0  16.0  22.0  31.0  7.0  15.0  13.0  26.0   2.0  \n",
       "2019-08-01 15:59:00  27.0  51.0  21.0  26.0  7.0  26.0  37.0  26.0  11.0  \n",
       "\n",
       "[390 rows x 3392 columns]"
      ]
     },
     "execution_count": 267,
     "metadata": {},
     "output_type": "execute_result"
    }
   ],
   "source": [
    "u = g.unstack(); u"
   ]
  },
  {
   "cell_type": "code",
   "execution_count": 268,
   "metadata": {},
   "outputs": [
    {
     "data": {
      "text/plain": [
       "(390, 3392)"
      ]
     },
     "execution_count": 268,
     "metadata": {},
     "output_type": "execute_result"
    }
   ],
   "source": [
    "u.values.shape"
   ]
  },
  {
   "cell_type": "code",
   "execution_count": 237,
   "metadata": {
    "scrolled": false
   },
   "outputs": [
    {
     "ename": "ValueError",
     "evalue": "setting an array element with a sequence.",
     "output_type": "error",
     "traceback": [
      "\u001b[0;31m---------------------------------------------------------------------------\u001b[0m",
      "\u001b[0;31mValueError\u001b[0m                                Traceback (most recent call last)",
      "\u001b[0;32m<ipython-input-237-baef694c6ce1>\u001b[0m in \u001b[0;36m<module>\u001b[0;34m\u001b[0m\n\u001b[0;32m----> 1\u001b[0;31m \u001b[0mnp\u001b[0m\u001b[0;34m.\u001b[0m\u001b[0mvectorize\u001b[0m\u001b[0;34m(\u001b[0m\u001b[0mnp\u001b[0m\u001b[0;34m.\u001b[0m\u001b[0marray\u001b[0m\u001b[0;34m)\u001b[0m\u001b[0;34m(\u001b[0m\u001b[0mu\u001b[0m\u001b[0;34m.\u001b[0m\u001b[0mvalues\u001b[0m\u001b[0;34m)\u001b[0m\u001b[0;34m\u001b[0m\u001b[0;34m\u001b[0m\u001b[0m\n\u001b[0m",
      "\u001b[0;32m~/.pyenv/versions/notebooks-3.7.4/lib/python3.7/site-packages/numpy/lib/function_base.py\u001b[0m in \u001b[0;36m__call__\u001b[0;34m(self, *args, **kwargs)\u001b[0m\n\u001b[1;32m   2089\u001b[0m             \u001b[0mvargs\u001b[0m\u001b[0;34m.\u001b[0m\u001b[0mextend\u001b[0m\u001b[0;34m(\u001b[0m\u001b[0;34m[\u001b[0m\u001b[0mkwargs\u001b[0m\u001b[0;34m[\u001b[0m\u001b[0m_n\u001b[0m\u001b[0;34m]\u001b[0m \u001b[0;32mfor\u001b[0m \u001b[0m_n\u001b[0m \u001b[0;32min\u001b[0m \u001b[0mnames\u001b[0m\u001b[0;34m]\u001b[0m\u001b[0;34m)\u001b[0m\u001b[0;34m\u001b[0m\u001b[0;34m\u001b[0m\u001b[0m\n\u001b[1;32m   2090\u001b[0m \u001b[0;34m\u001b[0m\u001b[0m\n\u001b[0;32m-> 2091\u001b[0;31m         \u001b[0;32mreturn\u001b[0m \u001b[0mself\u001b[0m\u001b[0;34m.\u001b[0m\u001b[0m_vectorize_call\u001b[0m\u001b[0;34m(\u001b[0m\u001b[0mfunc\u001b[0m\u001b[0;34m=\u001b[0m\u001b[0mfunc\u001b[0m\u001b[0;34m,\u001b[0m \u001b[0margs\u001b[0m\u001b[0;34m=\u001b[0m\u001b[0mvargs\u001b[0m\u001b[0;34m)\u001b[0m\u001b[0;34m\u001b[0m\u001b[0;34m\u001b[0m\u001b[0m\n\u001b[0m\u001b[1;32m   2092\u001b[0m \u001b[0;34m\u001b[0m\u001b[0m\n\u001b[1;32m   2093\u001b[0m     \u001b[0;32mdef\u001b[0m \u001b[0m_get_ufunc_and_otypes\u001b[0m\u001b[0;34m(\u001b[0m\u001b[0mself\u001b[0m\u001b[0;34m,\u001b[0m \u001b[0mfunc\u001b[0m\u001b[0;34m,\u001b[0m \u001b[0margs\u001b[0m\u001b[0;34m)\u001b[0m\u001b[0;34m:\u001b[0m\u001b[0;34m\u001b[0m\u001b[0;34m\u001b[0m\u001b[0m\n",
      "\u001b[0;32m~/.pyenv/versions/notebooks-3.7.4/lib/python3.7/site-packages/numpy/lib/function_base.py\u001b[0m in \u001b[0;36m_vectorize_call\u001b[0;34m(self, func, args)\u001b[0m\n\u001b[1;32m   2168\u001b[0m \u001b[0;34m\u001b[0m\u001b[0m\n\u001b[1;32m   2169\u001b[0m             \u001b[0;32mif\u001b[0m \u001b[0mufunc\u001b[0m\u001b[0;34m.\u001b[0m\u001b[0mnout\u001b[0m \u001b[0;34m==\u001b[0m \u001b[0;36m1\u001b[0m\u001b[0;34m:\u001b[0m\u001b[0;34m\u001b[0m\u001b[0;34m\u001b[0m\u001b[0m\n\u001b[0;32m-> 2170\u001b[0;31m                 \u001b[0mres\u001b[0m \u001b[0;34m=\u001b[0m \u001b[0marray\u001b[0m\u001b[0;34m(\u001b[0m\u001b[0moutputs\u001b[0m\u001b[0;34m,\u001b[0m \u001b[0mcopy\u001b[0m\u001b[0;34m=\u001b[0m\u001b[0;32mFalse\u001b[0m\u001b[0;34m,\u001b[0m \u001b[0msubok\u001b[0m\u001b[0;34m=\u001b[0m\u001b[0;32mTrue\u001b[0m\u001b[0;34m,\u001b[0m \u001b[0mdtype\u001b[0m\u001b[0;34m=\u001b[0m\u001b[0motypes\u001b[0m\u001b[0;34m[\u001b[0m\u001b[0;36m0\u001b[0m\u001b[0;34m]\u001b[0m\u001b[0;34m)\u001b[0m\u001b[0;34m\u001b[0m\u001b[0;34m\u001b[0m\u001b[0m\n\u001b[0m\u001b[1;32m   2171\u001b[0m             \u001b[0;32melse\u001b[0m\u001b[0;34m:\u001b[0m\u001b[0;34m\u001b[0m\u001b[0;34m\u001b[0m\u001b[0m\n\u001b[1;32m   2172\u001b[0m                 res = tuple([array(x, copy=False, subok=True, dtype=t)\n",
      "\u001b[0;31mValueError\u001b[0m: setting an array element with a sequence."
     ]
    }
   ],
   "source": [
    "np.vectorize(np.array)(u.values)"
   ]
  },
  {
   "cell_type": "code",
   "execution_count": 253,
   "metadata": {},
   "outputs": [
    {
     "data": {
      "text/plain": [
       "array([list([30.4, 30.38, 30.4, 30.38, 30.386999999999997, 300.0, 9116.0, 3.0]),\n",
       "       list([30.385, 30.32, 30.385, 30.32, 30.351999999999997, 200.0, 6070.5, 2.0]),\n",
       "       list([30.41, 30.46, 30.46, 30.405, 30.425, 2900.0, 88233.0, 11.0]),\n",
       "       ...,\n",
       "       list([115.59, 115.61, 115.64, 115.58, 115.61200000000001, 453.0, 52372.31, 7.0]),\n",
       "       list([115.63, 115.63, 115.63, 115.63, 115.63, 145.0, 16766.35, 2.0]),\n",
       "       list([115.63, 115.75, 115.76, 115.61, 115.711, 829.0, 95924.195, 11.0])],\n",
       "      dtype=object)"
      ]
     },
     "execution_count": 253,
     "metadata": {},
     "output_type": "execute_result"
    }
   ],
   "source": [
    "d['features'].values.flatten()"
   ]
  },
  {
   "cell_type": "code",
   "execution_count": 245,
   "metadata": {},
   "outputs": [
    {
     "data": {
      "text/plain": [
       "(390, 424)"
      ]
     },
     "execution_count": 245,
     "metadata": {},
     "output_type": "execute_result"
    }
   ],
   "source": [
    "u.values.shape"
   ]
  },
  {
   "cell_type": "code",
   "execution_count": 244,
   "metadata": {},
   "outputs": [
    {
     "data": {
      "text/plain": [
       "(165360,)"
      ]
     },
     "execution_count": 244,
     "metadata": {},
     "output_type": "execute_result"
    }
   ],
   "source": [
    "np.hstack(u.values).shape"
   ]
  },
  {
   "cell_type": "code",
   "execution_count": 239,
   "metadata": {},
   "outputs": [
    {
     "data": {
      "text/plain": [
       "(390, 424)"
      ]
     },
     "execution_count": 239,
     "metadata": {},
     "output_type": "execute_result"
    }
   ],
   "source": [
    "np.matrix(u.values).shape"
   ]
  },
  {
   "cell_type": "code",
   "execution_count": 133,
   "metadata": {},
   "outputs": [
    {
     "ename": "KeyboardInterrupt",
     "evalue": "",
     "output_type": "error",
     "traceback": [
      "\u001b[0;31m---------------------------------------------------------------------------\u001b[0m",
      "\u001b[0;31mKeyboardInterrupt\u001b[0m                         Traceback (most recent call last)",
      "\u001b[0;32m<ipython-input-133-69fd554ec6d1>\u001b[0m in \u001b[0;36m<module>\u001b[0;34m\u001b[0m\n\u001b[1;32m     19\u001b[0m     \u001b[0;32mreturn\u001b[0m \u001b[0mtime_point\u001b[0m\u001b[0;34m\u001b[0m\u001b[0;34m\u001b[0m\u001b[0m\n\u001b[1;32m     20\u001b[0m \u001b[0;34m\u001b[0m\u001b[0m\n\u001b[0;32m---> 21\u001b[0;31m \u001b[0mtime_points\u001b[0m \u001b[0;34m=\u001b[0m \u001b[0mParallel\u001b[0m\u001b[0;34m(\u001b[0m\u001b[0mn_jobs\u001b[0m\u001b[0;34m=\u001b[0m\u001b[0;36m8\u001b[0m\u001b[0;34m)\u001b[0m\u001b[0;34m(\u001b[0m\u001b[0mdelayed\u001b[0m\u001b[0;34m(\u001b[0m\u001b[0mget_time_point\u001b[0m\u001b[0;34m)\u001b[0m\u001b[0;34m(\u001b[0m\u001b[0mminute\u001b[0m\u001b[0;34m)\u001b[0m \u001b[0;32mfor\u001b[0m \u001b[0mminute\u001b[0m \u001b[0;32min\u001b[0m \u001b[0mminutes\u001b[0m\u001b[0;34m)\u001b[0m\u001b[0;34m\u001b[0m\u001b[0;34m\u001b[0m\u001b[0m\n\u001b[0m",
      "\u001b[0;32m~/.pyenv/versions/notebooks-3.7.4/lib/python3.7/site-packages/joblib/parallel.py\u001b[0m in \u001b[0;36m__call__\u001b[0;34m(self, iterable)\u001b[0m\n\u001b[1;32m   1014\u001b[0m \u001b[0;34m\u001b[0m\u001b[0m\n\u001b[1;32m   1015\u001b[0m             \u001b[0;32mwith\u001b[0m \u001b[0mself\u001b[0m\u001b[0;34m.\u001b[0m\u001b[0m_backend\u001b[0m\u001b[0;34m.\u001b[0m\u001b[0mretrieval_context\u001b[0m\u001b[0;34m(\u001b[0m\u001b[0;34m)\u001b[0m\u001b[0;34m:\u001b[0m\u001b[0;34m\u001b[0m\u001b[0;34m\u001b[0m\u001b[0m\n\u001b[0;32m-> 1016\u001b[0;31m                 \u001b[0mself\u001b[0m\u001b[0;34m.\u001b[0m\u001b[0mretrieve\u001b[0m\u001b[0;34m(\u001b[0m\u001b[0;34m)\u001b[0m\u001b[0;34m\u001b[0m\u001b[0;34m\u001b[0m\u001b[0m\n\u001b[0m\u001b[1;32m   1017\u001b[0m             \u001b[0;31m# Make sure that we get a last message telling us we are done\u001b[0m\u001b[0;34m\u001b[0m\u001b[0;34m\u001b[0m\u001b[0;34m\u001b[0m\u001b[0m\n\u001b[1;32m   1018\u001b[0m             \u001b[0melapsed_time\u001b[0m \u001b[0;34m=\u001b[0m \u001b[0mtime\u001b[0m\u001b[0;34m.\u001b[0m\u001b[0mtime\u001b[0m\u001b[0;34m(\u001b[0m\u001b[0;34m)\u001b[0m \u001b[0;34m-\u001b[0m \u001b[0mself\u001b[0m\u001b[0;34m.\u001b[0m\u001b[0m_start_time\u001b[0m\u001b[0;34m\u001b[0m\u001b[0;34m\u001b[0m\u001b[0m\n",
      "\u001b[0;32m~/.pyenv/versions/notebooks-3.7.4/lib/python3.7/site-packages/joblib/parallel.py\u001b[0m in \u001b[0;36mretrieve\u001b[0;34m(self)\u001b[0m\n\u001b[1;32m    906\u001b[0m             \u001b[0;32mtry\u001b[0m\u001b[0;34m:\u001b[0m\u001b[0;34m\u001b[0m\u001b[0;34m\u001b[0m\u001b[0m\n\u001b[1;32m    907\u001b[0m                 \u001b[0;32mif\u001b[0m \u001b[0mgetattr\u001b[0m\u001b[0;34m(\u001b[0m\u001b[0mself\u001b[0m\u001b[0;34m.\u001b[0m\u001b[0m_backend\u001b[0m\u001b[0;34m,\u001b[0m \u001b[0;34m'supports_timeout'\u001b[0m\u001b[0;34m,\u001b[0m \u001b[0;32mFalse\u001b[0m\u001b[0;34m)\u001b[0m\u001b[0;34m:\u001b[0m\u001b[0;34m\u001b[0m\u001b[0;34m\u001b[0m\u001b[0m\n\u001b[0;32m--> 908\u001b[0;31m                     \u001b[0mself\u001b[0m\u001b[0;34m.\u001b[0m\u001b[0m_output\u001b[0m\u001b[0;34m.\u001b[0m\u001b[0mextend\u001b[0m\u001b[0;34m(\u001b[0m\u001b[0mjob\u001b[0m\u001b[0;34m.\u001b[0m\u001b[0mget\u001b[0m\u001b[0;34m(\u001b[0m\u001b[0mtimeout\u001b[0m\u001b[0;34m=\u001b[0m\u001b[0mself\u001b[0m\u001b[0;34m.\u001b[0m\u001b[0mtimeout\u001b[0m\u001b[0;34m)\u001b[0m\u001b[0;34m)\u001b[0m\u001b[0;34m\u001b[0m\u001b[0;34m\u001b[0m\u001b[0m\n\u001b[0m\u001b[1;32m    909\u001b[0m                 \u001b[0;32melse\u001b[0m\u001b[0;34m:\u001b[0m\u001b[0;34m\u001b[0m\u001b[0;34m\u001b[0m\u001b[0m\n\u001b[1;32m    910\u001b[0m                     \u001b[0mself\u001b[0m\u001b[0;34m.\u001b[0m\u001b[0m_output\u001b[0m\u001b[0;34m.\u001b[0m\u001b[0mextend\u001b[0m\u001b[0;34m(\u001b[0m\u001b[0mjob\u001b[0m\u001b[0;34m.\u001b[0m\u001b[0mget\u001b[0m\u001b[0;34m(\u001b[0m\u001b[0;34m)\u001b[0m\u001b[0;34m)\u001b[0m\u001b[0;34m\u001b[0m\u001b[0;34m\u001b[0m\u001b[0m\n",
      "\u001b[0;32m~/.pyenv/versions/notebooks-3.7.4/lib/python3.7/site-packages/joblib/_parallel_backends.py\u001b[0m in \u001b[0;36mwrap_future_result\u001b[0;34m(future, timeout)\u001b[0m\n\u001b[1;32m    552\u001b[0m         AsyncResults.get from multiprocessing.\"\"\"\n\u001b[1;32m    553\u001b[0m         \u001b[0;32mtry\u001b[0m\u001b[0;34m:\u001b[0m\u001b[0;34m\u001b[0m\u001b[0;34m\u001b[0m\u001b[0m\n\u001b[0;32m--> 554\u001b[0;31m             \u001b[0;32mreturn\u001b[0m \u001b[0mfuture\u001b[0m\u001b[0;34m.\u001b[0m\u001b[0mresult\u001b[0m\u001b[0;34m(\u001b[0m\u001b[0mtimeout\u001b[0m\u001b[0;34m=\u001b[0m\u001b[0mtimeout\u001b[0m\u001b[0;34m)\u001b[0m\u001b[0;34m\u001b[0m\u001b[0;34m\u001b[0m\u001b[0m\n\u001b[0m\u001b[1;32m    555\u001b[0m         \u001b[0;32mexcept\u001b[0m \u001b[0mLokyTimeoutError\u001b[0m\u001b[0;34m:\u001b[0m\u001b[0;34m\u001b[0m\u001b[0;34m\u001b[0m\u001b[0m\n\u001b[1;32m    556\u001b[0m             \u001b[0;32mraise\u001b[0m \u001b[0mTimeoutError\u001b[0m\u001b[0;34m(\u001b[0m\u001b[0;34m)\u001b[0m\u001b[0;34m\u001b[0m\u001b[0;34m\u001b[0m\u001b[0m\n",
      "\u001b[0;32m~/.pyenv/versions/3.7.4/lib/python3.7/concurrent/futures/_base.py\u001b[0m in \u001b[0;36mresult\u001b[0;34m(self, timeout)\u001b[0m\n\u001b[1;32m    428\u001b[0m                 \u001b[0;32mreturn\u001b[0m \u001b[0mself\u001b[0m\u001b[0;34m.\u001b[0m\u001b[0m__get_result\u001b[0m\u001b[0;34m(\u001b[0m\u001b[0;34m)\u001b[0m\u001b[0;34m\u001b[0m\u001b[0;34m\u001b[0m\u001b[0m\n\u001b[1;32m    429\u001b[0m \u001b[0;34m\u001b[0m\u001b[0m\n\u001b[0;32m--> 430\u001b[0;31m             \u001b[0mself\u001b[0m\u001b[0;34m.\u001b[0m\u001b[0m_condition\u001b[0m\u001b[0;34m.\u001b[0m\u001b[0mwait\u001b[0m\u001b[0;34m(\u001b[0m\u001b[0mtimeout\u001b[0m\u001b[0;34m)\u001b[0m\u001b[0;34m\u001b[0m\u001b[0;34m\u001b[0m\u001b[0m\n\u001b[0m\u001b[1;32m    431\u001b[0m \u001b[0;34m\u001b[0m\u001b[0m\n\u001b[1;32m    432\u001b[0m             \u001b[0;32mif\u001b[0m \u001b[0mself\u001b[0m\u001b[0;34m.\u001b[0m\u001b[0m_state\u001b[0m \u001b[0;32min\u001b[0m \u001b[0;34m[\u001b[0m\u001b[0mCANCELLED\u001b[0m\u001b[0;34m,\u001b[0m \u001b[0mCANCELLED_AND_NOTIFIED\u001b[0m\u001b[0;34m]\u001b[0m\u001b[0;34m:\u001b[0m\u001b[0;34m\u001b[0m\u001b[0;34m\u001b[0m\u001b[0m\n",
      "\u001b[0;32m~/.pyenv/versions/3.7.4/lib/python3.7/threading.py\u001b[0m in \u001b[0;36mwait\u001b[0;34m(self, timeout)\u001b[0m\n\u001b[1;32m    294\u001b[0m         \u001b[0;32mtry\u001b[0m\u001b[0;34m:\u001b[0m    \u001b[0;31m# restore state no matter what (e.g., KeyboardInterrupt)\u001b[0m\u001b[0;34m\u001b[0m\u001b[0;34m\u001b[0m\u001b[0m\n\u001b[1;32m    295\u001b[0m             \u001b[0;32mif\u001b[0m \u001b[0mtimeout\u001b[0m \u001b[0;32mis\u001b[0m \u001b[0;32mNone\u001b[0m\u001b[0;34m:\u001b[0m\u001b[0;34m\u001b[0m\u001b[0;34m\u001b[0m\u001b[0m\n\u001b[0;32m--> 296\u001b[0;31m                 \u001b[0mwaiter\u001b[0m\u001b[0;34m.\u001b[0m\u001b[0macquire\u001b[0m\u001b[0;34m(\u001b[0m\u001b[0;34m)\u001b[0m\u001b[0;34m\u001b[0m\u001b[0;34m\u001b[0m\u001b[0m\n\u001b[0m\u001b[1;32m    297\u001b[0m                 \u001b[0mgotit\u001b[0m \u001b[0;34m=\u001b[0m \u001b[0;32mTrue\u001b[0m\u001b[0;34m\u001b[0m\u001b[0;34m\u001b[0m\u001b[0m\n\u001b[1;32m    298\u001b[0m             \u001b[0;32melse\u001b[0m\u001b[0;34m:\u001b[0m\u001b[0;34m\u001b[0m\u001b[0;34m\u001b[0m\u001b[0m\n",
      "\u001b[0;31mKeyboardInterrupt\u001b[0m: "
     ]
    }
   ],
   "source": [
    "def get_time_point(minute):\n",
    "    minute_df = data[data['datetime'] == minute]\n",
    "\n",
    "    time_point = np.zeros(shape[1:])\n",
    "\n",
    "    for ticker_idx, ticker in enumerate(tickers):\n",
    "        d = minute_df[minute_df['ticker'] == ticker]\n",
    "        quotes = list(d[features].to_records(index=False))\n",
    "        if not quotes:\n",
    "            continue\n",
    "        if len(quotes) > 1:\n",
    "            raise Exception('Multiple quotes for %s %s: %s' % (minute, ticker, str(quotes)))\n",
    "        quote = list(quotes[0])\n",
    "        assert len(quote) == shape[-1]\n",
    "        time_point[ticker_idx] = quote\n",
    "    \n",
    "    return time_point\n",
    "\n",
    "time_points = Parallel(n_jobs=8)(delayed(get_time_point)(minute) for minute in minutes)"
   ]
  },
  {
   "cell_type": "code",
   "execution_count": 96,
   "metadata": {},
   "outputs": [
    {
     "data": {
      "text/plain": [
       "0         2019-08-01 09:30:00\n",
       "1         2019-08-01 09:31:00\n",
       "2         2019-08-01 09:32:00\n",
       "3         2019-08-01 09:33:00\n",
       "4         2019-08-01 09:34:00\n",
       "                 ...         \n",
       "196945    2019-10-25 15:55:00\n",
       "196946    2019-10-25 15:56:00\n",
       "196947    2019-10-25 15:57:00\n",
       "196948    2019-10-25 15:58:00\n",
       "196949    2019-10-25 15:59:00\n",
       "Name: datetime, Length: 11913720, dtype: object"
      ]
     },
     "execution_count": 96,
     "metadata": {},
     "output_type": "execute_result"
    }
   ],
   "source": [
    "df['datetime']"
   ]
  },
  {
   "cell_type": "code",
   "execution_count": 94,
   "metadata": {},
   "outputs": [
    {
     "data": {
      "text/plain": [
       "23790"
      ]
     },
     "execution_count": 94,
     "metadata": {},
     "output_type": "execute_result"
    }
   ],
   "source": [
    "len(minutes)"
   ]
  },
  {
   "cell_type": "code",
   "execution_count": 95,
   "metadata": {},
   "outputs": [
    {
     "data": {
      "text/plain": [
       "['2019-08-01 09:30:00',\n",
       " '2019-08-01 09:31:00',\n",
       " '2019-08-01 09:32:00',\n",
       " '2019-08-01 09:33:00',\n",
       " '2019-08-01 09:34:00',\n",
       " '2019-08-01 09:35:00',\n",
       " '2019-08-01 09:36:00',\n",
       " '2019-08-01 09:37:00',\n",
       " '2019-08-01 09:38:00',\n",
       " '2019-08-01 09:39:00']"
      ]
     },
     "execution_count": 95,
     "metadata": {},
     "output_type": "execute_result"
    }
   ],
   "source": [
    "minutes[:10]"
   ]
  },
  {
   "cell_type": "code",
   "execution_count": null,
   "metadata": {},
   "outputs": [],
   "source": []
  }
 ],
 "metadata": {
  "kernelspec": {
   "display_name": "notebooks-3.7.4",
   "language": "python",
   "name": "notebooks-3.7.4"
  },
  "language_info": {
   "codemirror_mode": {
    "name": "ipython",
    "version": 3
   },
   "file_extension": ".py",
   "mimetype": "text/x-python",
   "name": "python",
   "nbconvert_exporter": "python",
   "pygments_lexer": "ipython3",
   "version": "3.7.4"
  }
 },
 "nbformat": 4,
 "nbformat_minor": 2
}
