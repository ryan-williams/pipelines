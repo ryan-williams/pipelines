{
 "cells": [
  {
   "cell_type": "markdown",
   "metadata": {},
   "source": [
    "# Periodic download of IEX stock-ticker data"
   ]
  },
  {
   "cell_type": "markdown",
   "metadata": {},
   "source": [
    "## Read IEX API credentials from `~/.config/iex.ini`"
   ]
  },
  {
   "cell_type": "code",
   "execution_count": 1,
   "metadata": {},
   "outputs": [],
   "source": [
    "from pathlib import Path\n",
    "config_path = Path.home() / '.config' / 'iex.ini'\n",
    "\n",
    "from configparser import ConfigParser\n",
    "config = ConfigParser()\n",
    "config.read(str(config_path))\n",
    "iex_config = config['iex']\n",
    "\n",
    "api = 'https://cloud.iexapis.com'\n",
    "public_key = iex_config['public_key']\n",
    "secret_key = iex_config['secret_key']"
   ]
  },
  {
   "cell_type": "code",
   "execution_count": 2,
   "metadata": {},
   "outputs": [
    {
     "data": {
      "text/plain": [
       "1"
      ]
     },
     "execution_count": 2,
     "metadata": {},
     "output_type": "execute_result"
    }
   ],
   "source": [
    "# tickers = sorted(\"MMM ABT ABBV ABMD ACN ATVI ADBE AMD AAP AES AMG AFL A APD AKAM ALK ALB ARE ALXN ALGN ALLE AGN ADS LNT ALL GOOGL GOOG MO AMZN AMCR AEE AAL AEP AXP AIG AMT AWK AMP ABC AME AMGN APH ADI ANSS ANTM AON AOS APA AIV AAPL AMAT APTV ADM ARNC ANET AJG AIZ ATO T ADSK ADP AZO AVB AVY BKR BLL BAC BK BAX BBT BDX BRK.B BBY BIIB BLK HRB BA BKNG BWA BXP BSX BMY AVGO BR BF.B CHRW COG CDNS CPB COF CPRI CAH KMX CCL CAT CBOE CBRE CBS CDW CE CELG CNC CNP CTL CERN CF SCHW CHTR CVX CMG CB CHD CI XEC CINF CTAS CSCO C CFG CTXS CLX CME CMS KO CTSH CL CMCSA CMA CAG CXO COP ED STZ COO CPRT GLW CTVA COST COTY CCI CSX CMI CVS DHI DHR DRI DVA DE DAL XRAY DVN FANG DLR DFS DISCA DISCK DISH DG DLTR D DOV DOW DTE DUK DRE DD DXC ETFC EMN ETN EBAY ECL EIX EW EA EMR ETR EOG EFX EQIX EQR ESS EL EVRG ES RE EXC EXPE EXPD EXR XOM FFIV FB FAST FRT FDX FIS FITB FE FRC FISV FLT FLIR FLS FMC F FTNT FTV FBHS FOXA FOX BEN FCX GPS GRMN IT GD GE GIS GM GPC GILD GL GPN GS GWW HAL HBI HOG HIG HAS HCA HCP HP HSIC HSY HES HPE HLT HFC HOLX HD HON HRL HST HPQ HUM HBAN HII IEX IDXX INFO ITW ILMN IR INTC ICE IBM INCY IP IPG IFF INTU ISRG IVZ IPGP IQV IRM JKHY JEC JBHT SJM JNJ JCI JPM JNPR KSU K KEY KEYS KMB KIM KMI KLAC KSS KHC KR LB LHX LH LRCX LW LVS LEG LDOS LEN LLY LNC LIN LKQ LMT L LOW LYB MTB MAC M MRO MPC MKTX MAR MMC MLM MAS MA MKC MXIM MCD MCK MDT MRK MET MTD MGM MCHP MU MSFT MAA MHK TAP MDLZ MNST MCO MS MOS MSI MSCI MYL NDAQ NOV NTAP NFLX NWL NEM NWSA NWS NEE NLSN NKE NI NBL JWN NSC NTRS NOC NCLH NRG NUE NVDA NVR ORLY OXY OMC OKE ORCL PCAR PKG PH PAYX PYPL PNR PBCT PEP PKI PRGO PFE PM PSX PNW PXD PNC PPG PPL PFG PG PGR PLD PRU PEG PSA PHM PVH QRVO PWR QCOM DGX RL RJF RTN O REG REGN RF RSG RMD RHI ROK ROL ROP ROST RCL CRM SBAC SLB STX SEE SRE SHW SPG SWKS SLG SNA SO LUV SPGI SWK SBUX STT SYK STI SIVB SYMC SYF SNPS SYY TMUS TROW TTWO TPR TGT TEL FTI TFX TXN TXT TMO TIF TWTR TJX TSCO TDG TRV TRIP TSN UDR ULTA USB UAA UA UNP UAL UNH UPS URI UTX UHS UNM VFC VLO VAR VTR VRSN VRSK VZ VRTX VIAB V VNO VMC WAB WMT WBA DIS WM WAT WEC WCG WFC WELL WDC WU WRK WY WHR WMB WLTW WYNN XEL XRX XLNX XYL YUM ZBH ZION ZTS\".split(\" \"))\n",
    "# aapl = tickers.index('AAPL'); aapl\n",
    "ticker = 'AAPL'\n",
    "tickers = [ticker]\n",
    "num_tickers = len(tickers)\n",
    "num_tickers"
   ]
  },
  {
   "cell_type": "code",
   "execution_count": 3,
   "metadata": {},
   "outputs": [
    {
     "data": {
      "text/plain": [
       "'2019-11-03'"
      ]
     },
     "execution_count": 3,
     "metadata": {},
     "output_type": "execute_result"
    }
   ],
   "source": [
    "from datetime import datetime as dt, timedelta as Δ\n",
    "from dateutil.parser import parse\n",
    "\n",
    "strptime = dt.strptime\n",
    "time = dt.now\n",
    "now = time()\n",
    "today = now.date()\n",
    "today.strftime('%Y-%m-%d')"
   ]
  },
  {
   "cell_type": "code",
   "execution_count": 4,
   "metadata": {},
   "outputs": [],
   "source": [
    "data_dir = Path.cwd() / 'data'\n",
    "data_dir.mkdir(parents=True, exist_ok=True)"
   ]
  },
  {
   "cell_type": "code",
   "execution_count": 5,
   "metadata": {},
   "outputs": [],
   "source": [
    "from sys import executable as python\n",
    "!{python} -m pip install -Uq requests\n",
    "from requests import get as GET"
   ]
  },
  {
   "cell_type": "code",
   "execution_count": 6,
   "metadata": {},
   "outputs": [],
   "source": [
    "import json\n",
    "\n",
    "def fetch(date, ticker, refetch_empty=False):\n",
    "    date_str = date.strftime('%Y%m%d')\n",
    "    out_path = data_dir / ('%s-%s' % (date_str, ticker))\n",
    "    refetch = False\n",
    "    if out_path.exists():\n",
    "        if refetch_empty:\n",
    "            with out_path.open('r') as f:\n",
    "                data = json.load(f)\n",
    "                if not data:\n",
    "                    refetch = True\n",
    "                    print('Re-fetching data for %s from %s' % (ticker, date_str))\n",
    "                else:\n",
    "                    return True\n",
    "        else:\n",
    "            return True\n",
    "    else:\n",
    "        print('Fetching data for %s from %s' % (ticker, date_str))\n",
    "\n",
    "    url = f'https://cloud.iexapis.com/stable/stock/{ticker}/chart/date/{date_str}?token={secret_key}'\n",
    "    resp = GET(url)\n",
    "    resp.raise_for_status()\n",
    "    with out_path.open('wb') as f:\n",
    "        f.write(resp.content)\n",
    "\n",
    "    data = json.loads(resp.content)\n",
    "    if data:\n",
    "        if refetch:\n",
    "            print('Re-fetch found data for %s %s' % (date_str, ticker))\n",
    "        return True\n",
    "\n",
    "    return False"
   ]
  },
  {
   "cell_type": "code",
   "execution_count": 8,
   "metadata": {
    "scrolled": true
   },
   "outputs": [
    {
     "name": "stdout",
     "output_type": "stream",
     "text": [
      "CPU times: user 14 ms, sys: 6.43 ms, total: 20.5 ms\n",
      "Wall time: 16.7 ms\n"
     ]
    }
   ],
   "source": [
    "%%time\n",
    "from concurrent.futures import ThreadPoolExecutor\n",
    "\n",
    "end_date = today\n",
    "start_date = dt(2019, 4, 1).date()\n",
    "N = 32\n",
    "refetch_empty = False\n",
    "\n",
    "def get_dates(start_date, end_date, step=1):\n",
    "    date = start_date\n",
    "    while date != end_date:\n",
    "        if date.weekday() <= 4:\n",
    "            yield date\n",
    "        date += Δ(days=step)\n",
    "\n",
    "dates = list(get_dates(start_date, end_date))\n",
    "\n",
    "with ThreadPoolExecutor(max_workers = N) as p:\n",
    "    results = p.map(\n",
    "        lambda t: fetch(t[0], t[1], refetch_empty=refetch_empty), \n",
    "        [ (date, ticker) for date in dates for ticker in tickers ]\n",
    "    )\n",
    "    \n",
    "    found_data = True in results\n",
    "    if not found_data:\n",
    "        print('No data found for %s' % date)"
   ]
  },
  {
   "cell_type": "code",
   "execution_count": 9,
   "metadata": {},
   "outputs": [],
   "source": [
    "!{python} -m pip install -Uq pandas\n",
    "from pandas import concat, DataFrame as DF, read_csv, read_json\n",
    "import pandas as pd"
   ]
  },
  {
   "cell_type": "code",
   "execution_count": 10,
   "metadata": {},
   "outputs": [],
   "source": [
    "minutes = 390  # [9:30am,4:00pm)"
   ]
  },
  {
   "cell_type": "code",
   "execution_count": 11,
   "metadata": {},
   "outputs": [],
   "source": [
    "features = [ 'open', 'close', 'high', 'low', 'average', 'volume', 'notional', 'numberOfTrades' ]\n",
    "num_features = len(features)"
   ]
  },
  {
   "cell_type": "code",
   "execution_count": 12,
   "metadata": {},
   "outputs": [],
   "source": [
    "def load_data_arr(date, ticker):\n",
    "    date_str = date.strftime('%Y%m%d')\n",
    "    out_path = data_dir / ('%s-%s' % (date_str, ticker))\n",
    "    if not out_path.exists():\n",
    "        arr = zeros((minutes, len(features)))\n",
    "        arr[:] = nan\n",
    "        return arr\n",
    "    df = read_json(out_path)\n",
    "    if df.empty:\n",
    "        arr = zeros((minutes, len(features)))\n",
    "        arr[:] = nan\n",
    "        return arr\n",
    "    arr = df[features].values\n",
    "    assert arr.shape == (minutes, len(features))\n",
    "    return arr"
   ]
  },
  {
   "cell_type": "code",
   "execution_count": 13,
   "metadata": {},
   "outputs": [],
   "source": [
    "!{python} -m pip install -Uq joblib matplotlib numpy scipy\n",
    "import numpy as np\n",
    "from numpy import array, nan, zeros, count_nonzero as cnz, isnan as na, mean, std, unique\n",
    "from numpy.random import shuffle, permutation\n",
    "from joblib import Parallel, delayed\n",
    "from scipy.stats import describe"
   ]
  },
  {
   "cell_type": "code",
   "execution_count": 14,
   "metadata": {
    "scrolled": true
   },
   "outputs": [],
   "source": [
    "def load_date_arr(date):\n",
    "    arr = array([ \n",
    "        load_data_arr(start_date, ticker) \n",
    "        for ticker in tickers \n",
    "    ]) \\\n",
    "    .reshape((\n",
    "        minutes, \n",
    "        len(tickers), \n",
    "        len(features),\n",
    "    ))\n",
    "    assert arr.shape == (minutes, num_tickers, len(features))\n",
    "    return arr"
   ]
  },
  {
   "cell_type": "code",
   "execution_count": 15,
   "metadata": {},
   "outputs": [],
   "source": [
    "def load_ticker_date_df(date, ticker):\n",
    "    date_str = date.strftime('%Y%m%d')\n",
    "    out_path = data_dir / ('%s-%s' % (date_str, ticker))\n",
    "    if not out_path.exists():\n",
    "        return None\n",
    "    df = read_json(out_path)\n",
    "    if df.empty:\n",
    "        return None\n",
    "    df['datetime'] = df['date'].apply(lambda d: d.strftime('%Y-%m-%d')) + ' ' + df['minute']\n",
    "    df.drop(columns=['date', 'minute'])\n",
    "    df = df[['datetime'] + features]\n",
    "    df['datetime'] = df['datetime'].apply(lambda s: strptime(s, '%Y-%m-%d %H:%M'))\n",
    "    return df"
   ]
  },
  {
   "cell_type": "code",
   "execution_count": 16,
   "metadata": {},
   "outputs": [],
   "source": [
    "def load_ticker_df(ticker, N=None, limit=None):\n",
    "    if limit is None:\n",
    "        ds = dates\n",
    "    else:\n",
    "        ds = dates[:limit]\n",
    "\n",
    "    if N is None:\n",
    "        df = concat([ load_ticker_date_df(date, ticker) for date in ds ])\n",
    "    else:\n",
    "        df = concat(Parallel(n_jobs=N)( delayed(load_ticker_date_df)(date, ticker) for date in ds ))\n",
    "    \n",
    "    df.set_index('datetime', inplace=True)\n",
    "    df.sort_index(inplace=True)\n",
    "\n",
    "    for col in features:\n",
    "        df[col] = df[col].apply(lambda n: nan if n < 0 else n)\n",
    "\n",
    "    return df"
   ]
  },
  {
   "cell_type": "code",
   "execution_count": 156,
   "metadata": {},
   "outputs": [
    {
     "name": "stdout",
     "output_type": "stream",
     "text": [
      "CPU times: user 4.58 s, sys: 86.3 ms, total: 4.67 s\n",
      "Wall time: 5.05 s\n"
     ]
    },
    {
     "data": {
      "text/html": [
       "<div>\n",
       "<style scoped>\n",
       "    .dataframe tbody tr th:only-of-type {\n",
       "        vertical-align: middle;\n",
       "    }\n",
       "\n",
       "    .dataframe tbody tr th {\n",
       "        vertical-align: top;\n",
       "    }\n",
       "\n",
       "    .dataframe thead th {\n",
       "        text-align: right;\n",
       "    }\n",
       "</style>\n",
       "<table border=\"1\" class=\"dataframe\">\n",
       "  <thead>\n",
       "    <tr style=\"text-align: right;\">\n",
       "      <th></th>\n",
       "      <th>open</th>\n",
       "      <th>close</th>\n",
       "      <th>high</th>\n",
       "      <th>low</th>\n",
       "      <th>average</th>\n",
       "      <th>volume</th>\n",
       "      <th>notional</th>\n",
       "      <th>numberOfTrades</th>\n",
       "    </tr>\n",
       "    <tr>\n",
       "      <th>datetime</th>\n",
       "      <th></th>\n",
       "      <th></th>\n",
       "      <th></th>\n",
       "      <th></th>\n",
       "      <th></th>\n",
       "      <th></th>\n",
       "      <th></th>\n",
       "      <th></th>\n",
       "    </tr>\n",
       "  </thead>\n",
       "  <tbody>\n",
       "    <tr>\n",
       "      <th>2019-04-01 09:30:00</th>\n",
       "      <td>191.645</td>\n",
       "      <td>190.650</td>\n",
       "      <td>191.645</td>\n",
       "      <td>190.60</td>\n",
       "      <td>191.189</td>\n",
       "      <td>4320</td>\n",
       "      <td>825935.940</td>\n",
       "      <td>44</td>\n",
       "    </tr>\n",
       "    <tr>\n",
       "      <th>2019-04-01 09:31:00</th>\n",
       "      <td>190.700</td>\n",
       "      <td>190.980</td>\n",
       "      <td>190.980</td>\n",
       "      <td>190.64</td>\n",
       "      <td>190.761</td>\n",
       "      <td>3246</td>\n",
       "      <td>619210.510</td>\n",
       "      <td>32</td>\n",
       "    </tr>\n",
       "    <tr>\n",
       "      <th>2019-04-01 09:32:00</th>\n",
       "      <td>191.060</td>\n",
       "      <td>190.930</td>\n",
       "      <td>191.090</td>\n",
       "      <td>190.78</td>\n",
       "      <td>190.951</td>\n",
       "      <td>2253</td>\n",
       "      <td>430211.740</td>\n",
       "      <td>30</td>\n",
       "    </tr>\n",
       "    <tr>\n",
       "      <th>2019-04-01 09:33:00</th>\n",
       "      <td>190.980</td>\n",
       "      <td>190.830</td>\n",
       "      <td>191.010</td>\n",
       "      <td>190.76</td>\n",
       "      <td>190.946</td>\n",
       "      <td>2241</td>\n",
       "      <td>427911.290</td>\n",
       "      <td>27</td>\n",
       "    </tr>\n",
       "    <tr>\n",
       "      <th>2019-04-01 09:34:00</th>\n",
       "      <td>190.760</td>\n",
       "      <td>190.700</td>\n",
       "      <td>190.760</td>\n",
       "      <td>190.60</td>\n",
       "      <td>190.666</td>\n",
       "      <td>1069</td>\n",
       "      <td>203822.465</td>\n",
       "      <td>12</td>\n",
       "    </tr>\n",
       "    <tr>\n",
       "      <th>...</th>\n",
       "      <td>...</td>\n",
       "      <td>...</td>\n",
       "      <td>...</td>\n",
       "      <td>...</td>\n",
       "      <td>...</td>\n",
       "      <td>...</td>\n",
       "      <td>...</td>\n",
       "      <td>...</td>\n",
       "    </tr>\n",
       "    <tr>\n",
       "      <th>2019-11-01 15:55:00</th>\n",
       "      <td>255.350</td>\n",
       "      <td>255.540</td>\n",
       "      <td>255.620</td>\n",
       "      <td>255.29</td>\n",
       "      <td>255.528</td>\n",
       "      <td>4917</td>\n",
       "      <td>1256432.140</td>\n",
       "      <td>36</td>\n",
       "    </tr>\n",
       "    <tr>\n",
       "      <th>2019-11-01 15:56:00</th>\n",
       "      <td>255.530</td>\n",
       "      <td>255.730</td>\n",
       "      <td>255.750</td>\n",
       "      <td>255.52</td>\n",
       "      <td>255.616</td>\n",
       "      <td>4788</td>\n",
       "      <td>1223891.590</td>\n",
       "      <td>42</td>\n",
       "    </tr>\n",
       "    <tr>\n",
       "      <th>2019-11-01 15:57:00</th>\n",
       "      <td>255.740</td>\n",
       "      <td>255.730</td>\n",
       "      <td>255.880</td>\n",
       "      <td>255.73</td>\n",
       "      <td>255.822</td>\n",
       "      <td>3798</td>\n",
       "      <td>971613.530</td>\n",
       "      <td>38</td>\n",
       "    </tr>\n",
       "    <tr>\n",
       "      <th>2019-11-01 15:58:00</th>\n",
       "      <td>255.730</td>\n",
       "      <td>255.665</td>\n",
       "      <td>255.780</td>\n",
       "      <td>255.61</td>\n",
       "      <td>255.661</td>\n",
       "      <td>8396</td>\n",
       "      <td>2146526.195</td>\n",
       "      <td>88</td>\n",
       "    </tr>\n",
       "    <tr>\n",
       "      <th>2019-11-01 15:59:00</th>\n",
       "      <td>255.665</td>\n",
       "      <td>255.880</td>\n",
       "      <td>255.880</td>\n",
       "      <td>255.65</td>\n",
       "      <td>255.743</td>\n",
       "      <td>11754</td>\n",
       "      <td>3006000.545</td>\n",
       "      <td>72</td>\n",
       "    </tr>\n",
       "  </tbody>\n",
       "</table>\n",
       "<p>56367 rows × 8 columns</p>\n",
       "</div>"
      ],
      "text/plain": [
       "                        open    close     high     low  average  volume  \\\n",
       "datetime                                                                  \n",
       "2019-04-01 09:30:00  191.645  190.650  191.645  190.60  191.189    4320   \n",
       "2019-04-01 09:31:00  190.700  190.980  190.980  190.64  190.761    3246   \n",
       "2019-04-01 09:32:00  191.060  190.930  191.090  190.78  190.951    2253   \n",
       "2019-04-01 09:33:00  190.980  190.830  191.010  190.76  190.946    2241   \n",
       "2019-04-01 09:34:00  190.760  190.700  190.760  190.60  190.666    1069   \n",
       "...                      ...      ...      ...     ...      ...     ...   \n",
       "2019-11-01 15:55:00  255.350  255.540  255.620  255.29  255.528    4917   \n",
       "2019-11-01 15:56:00  255.530  255.730  255.750  255.52  255.616    4788   \n",
       "2019-11-01 15:57:00  255.740  255.730  255.880  255.73  255.822    3798   \n",
       "2019-11-01 15:58:00  255.730  255.665  255.780  255.61  255.661    8396   \n",
       "2019-11-01 15:59:00  255.665  255.880  255.880  255.65  255.743   11754   \n",
       "\n",
       "                        notional  numberOfTrades  \n",
       "datetime                                          \n",
       "2019-04-01 09:30:00   825935.940              44  \n",
       "2019-04-01 09:31:00   619210.510              32  \n",
       "2019-04-01 09:32:00   430211.740              30  \n",
       "2019-04-01 09:33:00   427911.290              27  \n",
       "2019-04-01 09:34:00   203822.465              12  \n",
       "...                          ...             ...  \n",
       "2019-11-01 15:55:00  1256432.140              36  \n",
       "2019-11-01 15:56:00  1223891.590              42  \n",
       "2019-11-01 15:57:00   971613.530              38  \n",
       "2019-11-01 15:58:00  2146526.195              88  \n",
       "2019-11-01 15:59:00  3006000.545              72  \n",
       "\n",
       "[56367 rows x 8 columns]"
      ]
     },
     "execution_count": 156,
     "metadata": {},
     "output_type": "execute_result"
    }
   ],
   "source": [
    "%%time\n",
    "aapl = load_ticker_df('AAPL'); aapl"
   ]
  },
  {
   "cell_type": "code",
   "execution_count": 157,
   "metadata": {},
   "outputs": [
    {
     "data": {
      "text/plain": [
       "open              55577\n",
       "close             55577\n",
       "high              55577\n",
       "low               55577\n",
       "average           55577\n",
       "volume            56367\n",
       "notional          56367\n",
       "numberOfTrades    56367\n",
       "dtype: int64"
      ]
     },
     "execution_count": 157,
     "metadata": {},
     "output_type": "execute_result"
    }
   ],
   "source": [
    "aapl.count()"
   ]
  },
  {
   "cell_type": "code",
   "execution_count": 158,
   "metadata": {},
   "outputs": [
    {
     "data": {
      "text/html": [
       "<div>\n",
       "<style scoped>\n",
       "    .dataframe tbody tr th:only-of-type {\n",
       "        vertical-align: middle;\n",
       "    }\n",
       "\n",
       "    .dataframe tbody tr th {\n",
       "        vertical-align: top;\n",
       "    }\n",
       "\n",
       "    .dataframe thead th {\n",
       "        text-align: right;\n",
       "    }\n",
       "</style>\n",
       "<table border=\"1\" class=\"dataframe\">\n",
       "  <thead>\n",
       "    <tr style=\"text-align: right;\">\n",
       "      <th></th>\n",
       "      <th>open</th>\n",
       "      <th>close</th>\n",
       "      <th>high</th>\n",
       "      <th>low</th>\n",
       "      <th>average</th>\n",
       "      <th>volume</th>\n",
       "      <th>notional</th>\n",
       "      <th>numberOfTrades</th>\n",
       "    </tr>\n",
       "    <tr>\n",
       "      <th>datetime</th>\n",
       "      <th></th>\n",
       "      <th></th>\n",
       "      <th></th>\n",
       "      <th></th>\n",
       "      <th></th>\n",
       "      <th></th>\n",
       "      <th></th>\n",
       "      <th></th>\n",
       "    </tr>\n",
       "  </thead>\n",
       "  <tbody>\n",
       "    <tr>\n",
       "      <th>2019-04-02 13:29:00</th>\n",
       "      <td>NaN</td>\n",
       "      <td>NaN</td>\n",
       "      <td>NaN</td>\n",
       "      <td>NaN</td>\n",
       "      <td>NaN</td>\n",
       "      <td>0</td>\n",
       "      <td>0.0</td>\n",
       "      <td>0</td>\n",
       "    </tr>\n",
       "    <tr>\n",
       "      <th>2019-04-05 13:36:00</th>\n",
       "      <td>NaN</td>\n",
       "      <td>NaN</td>\n",
       "      <td>NaN</td>\n",
       "      <td>NaN</td>\n",
       "      <td>NaN</td>\n",
       "      <td>0</td>\n",
       "      <td>0.0</td>\n",
       "      <td>0</td>\n",
       "    </tr>\n",
       "    <tr>\n",
       "      <th>2019-04-05 14:29:00</th>\n",
       "      <td>NaN</td>\n",
       "      <td>NaN</td>\n",
       "      <td>NaN</td>\n",
       "      <td>NaN</td>\n",
       "      <td>NaN</td>\n",
       "      <td>0</td>\n",
       "      <td>0.0</td>\n",
       "      <td>0</td>\n",
       "    </tr>\n",
       "    <tr>\n",
       "      <th>2019-04-15 13:33:00</th>\n",
       "      <td>NaN</td>\n",
       "      <td>NaN</td>\n",
       "      <td>NaN</td>\n",
       "      <td>NaN</td>\n",
       "      <td>NaN</td>\n",
       "      <td>0</td>\n",
       "      <td>0.0</td>\n",
       "      <td>0</td>\n",
       "    </tr>\n",
       "    <tr>\n",
       "      <th>2019-04-16 13:39:00</th>\n",
       "      <td>NaN</td>\n",
       "      <td>NaN</td>\n",
       "      <td>NaN</td>\n",
       "      <td>NaN</td>\n",
       "      <td>NaN</td>\n",
       "      <td>0</td>\n",
       "      <td>0.0</td>\n",
       "      <td>0</td>\n",
       "    </tr>\n",
       "    <tr>\n",
       "      <th>...</th>\n",
       "      <td>...</td>\n",
       "      <td>...</td>\n",
       "      <td>...</td>\n",
       "      <td>...</td>\n",
       "      <td>...</td>\n",
       "      <td>...</td>\n",
       "      <td>...</td>\n",
       "      <td>...</td>\n",
       "    </tr>\n",
       "    <tr>\n",
       "      <th>2019-11-01 12:46:00</th>\n",
       "      <td>NaN</td>\n",
       "      <td>NaN</td>\n",
       "      <td>NaN</td>\n",
       "      <td>NaN</td>\n",
       "      <td>NaN</td>\n",
       "      <td>0</td>\n",
       "      <td>0.0</td>\n",
       "      <td>0</td>\n",
       "    </tr>\n",
       "    <tr>\n",
       "      <th>2019-11-01 13:24:00</th>\n",
       "      <td>NaN</td>\n",
       "      <td>NaN</td>\n",
       "      <td>NaN</td>\n",
       "      <td>NaN</td>\n",
       "      <td>NaN</td>\n",
       "      <td>0</td>\n",
       "      <td>0.0</td>\n",
       "      <td>0</td>\n",
       "    </tr>\n",
       "    <tr>\n",
       "      <th>2019-11-01 13:29:00</th>\n",
       "      <td>NaN</td>\n",
       "      <td>NaN</td>\n",
       "      <td>NaN</td>\n",
       "      <td>NaN</td>\n",
       "      <td>NaN</td>\n",
       "      <td>0</td>\n",
       "      <td>0.0</td>\n",
       "      <td>0</td>\n",
       "    </tr>\n",
       "    <tr>\n",
       "      <th>2019-11-01 13:45:00</th>\n",
       "      <td>NaN</td>\n",
       "      <td>NaN</td>\n",
       "      <td>NaN</td>\n",
       "      <td>NaN</td>\n",
       "      <td>NaN</td>\n",
       "      <td>0</td>\n",
       "      <td>0.0</td>\n",
       "      <td>0</td>\n",
       "    </tr>\n",
       "    <tr>\n",
       "      <th>2019-11-01 14:37:00</th>\n",
       "      <td>NaN</td>\n",
       "      <td>NaN</td>\n",
       "      <td>NaN</td>\n",
       "      <td>NaN</td>\n",
       "      <td>NaN</td>\n",
       "      <td>0</td>\n",
       "      <td>0.0</td>\n",
       "      <td>0</td>\n",
       "    </tr>\n",
       "  </tbody>\n",
       "</table>\n",
       "<p>790 rows × 8 columns</p>\n",
       "</div>"
      ],
      "text/plain": [
       "                     open  close  high  low  average  volume  notional  \\\n",
       "datetime                                                                 \n",
       "2019-04-02 13:29:00   NaN    NaN   NaN  NaN      NaN       0       0.0   \n",
       "2019-04-05 13:36:00   NaN    NaN   NaN  NaN      NaN       0       0.0   \n",
       "2019-04-05 14:29:00   NaN    NaN   NaN  NaN      NaN       0       0.0   \n",
       "2019-04-15 13:33:00   NaN    NaN   NaN  NaN      NaN       0       0.0   \n",
       "2019-04-16 13:39:00   NaN    NaN   NaN  NaN      NaN       0       0.0   \n",
       "...                   ...    ...   ...  ...      ...     ...       ...   \n",
       "2019-11-01 12:46:00   NaN    NaN   NaN  NaN      NaN       0       0.0   \n",
       "2019-11-01 13:24:00   NaN    NaN   NaN  NaN      NaN       0       0.0   \n",
       "2019-11-01 13:29:00   NaN    NaN   NaN  NaN      NaN       0       0.0   \n",
       "2019-11-01 13:45:00   NaN    NaN   NaN  NaN      NaN       0       0.0   \n",
       "2019-11-01 14:37:00   NaN    NaN   NaN  NaN      NaN       0       0.0   \n",
       "\n",
       "                     numberOfTrades  \n",
       "datetime                             \n",
       "2019-04-02 13:29:00               0  \n",
       "2019-04-05 13:36:00               0  \n",
       "2019-04-05 14:29:00               0  \n",
       "2019-04-15 13:33:00               0  \n",
       "2019-04-16 13:39:00               0  \n",
       "...                             ...  \n",
       "2019-11-01 12:46:00               0  \n",
       "2019-11-01 13:24:00               0  \n",
       "2019-11-01 13:29:00               0  \n",
       "2019-11-01 13:45:00               0  \n",
       "2019-11-01 14:37:00               0  \n",
       "\n",
       "[790 rows x 8 columns]"
      ]
     },
     "execution_count": 158,
     "metadata": {},
     "output_type": "execute_result"
    }
   ],
   "source": [
    "nan_idxs = aapl.isna().any(axis=1); nan_idxs\n",
    "nans = aapl[nan_idxs]\n",
    "nans"
   ]
  },
  {
   "cell_type": "code",
   "execution_count": 159,
   "metadata": {},
   "outputs": [
    {
     "data": {
      "text/plain": [
       "[nan,\n",
       " 190.65,\n",
       " 190.98,\n",
       " 190.93,\n",
       " 190.83,\n",
       " 190.7,\n",
       " 190.85,\n",
       " 190.77,\n",
       " 190.71,\n",
       " 190.3,\n",
       " 190.34,\n",
       " 190.53,\n",
       " 190.07,\n",
       " 190.13,\n",
       " 190.2,\n",
       " 190.35,\n",
       " 190.12,\n",
       " 190.19,\n",
       " 190.27,\n",
       " 190.13,\n",
       " 190.27,\n",
       " 190.24,\n",
       " 190.365,\n",
       " 190.34,\n",
       " 190.165,\n",
       " 189.72,\n",
       " 189.95,\n",
       " 190.19,\n",
       " 190.2,\n",
       " 190.17,\n",
       " 190.15,\n",
       " 190.35,\n",
       " 190.37,\n",
       " 190.3,\n",
       " 190.41,\n",
       " 190.09,\n",
       " 189.92,\n",
       " 189.57,\n",
       " 189.02,\n",
       " 189.09,\n",
       " 189.24,\n",
       " 188.95,\n",
       " 188.8,\n",
       " 189.1,\n",
       " 188.98,\n",
       " 189.115,\n",
       " 189.28,\n",
       " 189.35,\n",
       " 189.37,\n",
       " 189.29,\n",
       " 189.39,\n",
       " 189.17,\n",
       " 189.09,\n",
       " 189.11,\n",
       " 189.15,\n",
       " 188.86,\n",
       " 188.85,\n",
       " 188.79,\n",
       " 188.64,\n",
       " 188.76,\n",
       " 188.945,\n",
       " 188.99,\n",
       " 188.83,\n",
       " 188.9,\n",
       " 188.795,\n",
       " 188.875,\n",
       " 188.73,\n",
       " 188.805,\n",
       " 188.735,\n",
       " 188.64,\n",
       " 188.7,\n",
       " 188.69,\n",
       " 188.6,\n",
       " 188.68,\n",
       " 188.54,\n",
       " 188.475,\n",
       " 188.62,\n",
       " 188.74,\n",
       " 188.84,\n",
       " 188.83,\n",
       " 188.95,\n",
       " 188.915,\n",
       " 189.05,\n",
       " 189.02,\n",
       " 189.02,\n",
       " 189.21,\n",
       " 189.29,\n",
       " 189.44,\n",
       " 189.41,\n",
       " 189.35,\n",
       " 189.4,\n",
       " 189.5,\n",
       " 189.47,\n",
       " 189.84,\n",
       " 190.09,\n",
       " 190.0,\n",
       " 190.085,\n",
       " 190.285,\n",
       " 190.25,\n",
       " 190.265,\n",
       " 190.19,\n",
       " 190.13,\n",
       " 190.13,\n",
       " 190.2,\n",
       " 190.21,\n",
       " 190.15,\n",
       " 190.11,\n",
       " 190.16,\n",
       " 190.09,\n",
       " 190.08,\n",
       " 189.94,\n",
       " 189.97,\n",
       " 189.95,\n",
       " 189.99,\n",
       " 190.18,\n",
       " 190.05,\n",
       " 190.2,\n",
       " 190.18,\n",
       " 190.27,\n",
       " 190.13,\n",
       " 190.17,\n",
       " 190.18,\n",
       " 190.13,\n",
       " 190.15,\n",
       " 190.19,\n",
       " 189.97,\n",
       " 189.92,\n",
       " 189.93,\n",
       " 189.96,\n",
       " 190.04,\n",
       " 189.98,\n",
       " 189.97,\n",
       " 189.92,\n",
       " 189.9,\n",
       " 189.85,\n",
       " 189.73,\n",
       " 189.84,\n",
       " 189.94,\n",
       " 189.95,\n",
       " 190.05,\n",
       " 190.13,\n",
       " 190.11,\n",
       " 190.16,\n",
       " 190.12,\n",
       " 190.21,\n",
       " 189.98,\n",
       " 190.085,\n",
       " 190.09,\n",
       " 190.1,\n",
       " 190.175,\n",
       " 190.18,\n",
       " 190.17,\n",
       " 190.185,\n",
       " 190.29,\n",
       " 190.4,\n",
       " 190.36,\n",
       " 190.26,\n",
       " 190.37,\n",
       " 190.11,\n",
       " 189.98,\n",
       " 189.92,\n",
       " 189.96,\n",
       " 190.09,\n",
       " 190.11,\n",
       " 190.13,\n",
       " 190.03,\n",
       " 190.07,\n",
       " 190.14,\n",
       " 190.15,\n",
       " 190.17,\n",
       " 190.15,\n",
       " 190.13,\n",
       " 190.105,\n",
       " 190.08,\n",
       " 190.15,\n",
       " 190.105,\n",
       " 190.055,\n",
       " 190.1,\n",
       " 190.15,\n",
       " 190.205,\n",
       " 190.255,\n",
       " 190.24,\n",
       " 190.26,\n",
       " 190.23,\n",
       " 190.2,\n",
       " 190.23,\n",
       " 190.28,\n",
       " 190.3,\n",
       " 190.34,\n",
       " 190.28,\n",
       " 190.26,\n",
       " 190.29,\n",
       " 190.235,\n",
       " 190.22,\n",
       " 190.15,\n",
       " 190.21,\n",
       " 190.17,\n",
       " 190.28,\n",
       " 190.26,\n",
       " 190.26,\n",
       " 190.29,\n",
       " 190.3,\n",
       " 190.25,\n",
       " 190.28,\n",
       " 190.32,\n",
       " 190.28,\n",
       " 190.27,\n",
       " 190.29,\n",
       " 190.36,\n",
       " 190.53,\n",
       " 190.55,\n",
       " 190.55,\n",
       " 190.58,\n",
       " 190.6,\n",
       " 190.64,\n",
       " 190.63,\n",
       " 190.54,\n",
       " 190.47,\n",
       " 190.4,\n",
       " 190.365,\n",
       " 190.33,\n",
       " 190.29,\n",
       " 190.24,\n",
       " 190.28,\n",
       " 190.285,\n",
       " 190.17,\n",
       " 190.21,\n",
       " 189.985,\n",
       " 190.06,\n",
       " 190.19,\n",
       " 190.075,\n",
       " 190.1,\n",
       " 190.15,\n",
       " 190.14,\n",
       " 190.17,\n",
       " 190.185,\n",
       " 190.17,\n",
       " 190.22,\n",
       " 190.19,\n",
       " 190.21,\n",
       " 190.22,\n",
       " 190.16,\n",
       " 190.17,\n",
       " 190.22,\n",
       " 190.31,\n",
       " 190.39,\n",
       " 190.3,\n",
       " 190.34,\n",
       " 190.37,\n",
       " 190.28,\n",
       " 190.33,\n",
       " 190.36,\n",
       " 190.38,\n",
       " 190.35,\n",
       " 190.41,\n",
       " 190.37,\n",
       " 190.39,\n",
       " 190.54,\n",
       " 190.57,\n",
       " 190.51,\n",
       " 190.51,\n",
       " 190.53,\n",
       " 190.53,\n",
       " 190.59,\n",
       " 190.63,\n",
       " 190.6,\n",
       " 190.68,\n",
       " 190.74,\n",
       " 190.72,\n",
       " 190.7,\n",
       " 190.73,\n",
       " 190.76,\n",
       " 190.8,\n",
       " 190.77,\n",
       " 190.58,\n",
       " 190.585,\n",
       " 190.54,\n",
       " 190.58,\n",
       " 190.62,\n",
       " 190.625,\n",
       " 190.61,\n",
       " 190.64,\n",
       " 190.66,\n",
       " 190.645,\n",
       " 190.635,\n",
       " 190.59,\n",
       " 190.585,\n",
       " 190.51,\n",
       " 190.55,\n",
       " 190.49,\n",
       " 190.49,\n",
       " 190.59,\n",
       " 190.59,\n",
       " 190.65,\n",
       " 190.66,\n",
       " 190.63,\n",
       " 190.7,\n",
       " 190.73,\n",
       " 190.79,\n",
       " 190.66,\n",
       " 190.61,\n",
       " 190.72,\n",
       " 190.72,\n",
       " 190.77,\n",
       " 190.7,\n",
       " 190.74,\n",
       " 190.72,\n",
       " 190.61,\n",
       " 190.61,\n",
       " 190.645,\n",
       " 190.655,\n",
       " 190.75,\n",
       " 190.72,\n",
       " 190.78,\n",
       " 190.73,\n",
       " 190.735,\n",
       " 190.68,\n",
       " 190.81,\n",
       " 190.85,\n",
       " 190.87,\n",
       " 190.785,\n",
       " 190.83,\n",
       " 190.77,\n",
       " 190.79,\n",
       " 190.79,\n",
       " 190.79,\n",
       " 190.85,\n",
       " 190.88,\n",
       " 190.98,\n",
       " 191.01,\n",
       " 191.09,\n",
       " 190.98,\n",
       " 191.05,\n",
       " 191.09,\n",
       " 191.12,\n",
       " 191.08,\n",
       " 191.06,\n",
       " 191.05,\n",
       " 191.04,\n",
       " 191.01,\n",
       " 190.95,\n",
       " 190.81,\n",
       " 190.84,\n",
       " 190.92,\n",
       " 190.83,\n",
       " 190.92,\n",
       " 190.92,\n",
       " 190.99,\n",
       " 190.97,\n",
       " 191.06,\n",
       " 191.065,\n",
       " 190.97,\n",
       " 191.035,\n",
       " 191.03,\n",
       " 191.02,\n",
       " 191.01,\n",
       " 191.01,\n",
       " 191.02,\n",
       " 191.045,\n",
       " 191.03,\n",
       " 191.13,\n",
       " 191.13,\n",
       " 191.1,\n",
       " 191.11,\n",
       " 191.0,\n",
       " 191.035,\n",
       " 191.04,\n",
       " 191.01,\n",
       " 191.04,\n",
       " 190.98,\n",
       " 191.0,\n",
       " 191.035,\n",
       " 191.045,\n",
       " 191.0,\n",
       " 191.135,\n",
       " 191.09,\n",
       " 191.14,\n",
       " 191.13,\n",
       " 191.015,\n",
       " 190.96,\n",
       " 191.05,\n",
       " 191.06,\n",
       " 191.05,\n",
       " 191.08,\n",
       " 191.135,\n",
       " 191.16,\n",
       " 191.32,\n",
       " 191.29,\n",
       " 191.225,\n",
       " 191.17,\n",
       " 191.26,\n",
       " 191.37,\n",
       " 191.54,\n",
       " 192.09,\n",
       " 191.96,\n",
       " 192.24,\n",
       " 192.35,\n",
       " 192.59,\n",
       " 192.73,\n",
       " 192.77,\n",
       " 192.53,\n",
       " 192.6,\n",
       " 192.51,\n",
       " 192.52,\n",
       " 192.4,\n",
       " 192.42,\n",
       " 192.44,\n",
       " 192.8,\n",
       " 192.87,\n",
       " 192.95,\n",
       " 192.91,\n",
       " 192.67,\n",
       " 192.82,\n",
       " 192.73,\n",
       " 192.76,\n",
       " 192.46,\n",
       " 192.16,\n",
       " 192.09,\n",
       " 191.94,\n",
       " 191.84,\n",
       " 191.72,\n",
       " 191.88,\n",
       " 191.7,\n",
       " 191.84,\n",
       " 191.96,\n",
       " 192.1,\n",
       " 192.19,\n",
       " 192.24,\n",
       " 192.42,\n",
       " 192.43,\n",
       " 192.53,\n",
       " 192.31,\n",
       " 192.42,\n",
       " 192.47,\n",
       " 192.56,\n",
       " 192.66,\n",
       " 192.64,\n",
       " 192.66,\n",
       " 192.66,\n",
       " 192.73,\n",
       " 192.715,\n",
       " 192.7,\n",
       " 192.81,\n",
       " 192.855,\n",
       " 192.77,\n",
       " 192.72,\n",
       " 192.89,\n",
       " 192.92,\n",
       " 192.79,\n",
       " 192.76,\n",
       " 192.81,\n",
       " 192.76,\n",
       " 192.8,\n",
       " 192.71,\n",
       " 192.75,\n",
       " 192.78,\n",
       " 192.79,\n",
       " 192.54,\n",
       " 192.63,\n",
       " 192.48,\n",
       " 192.54,\n",
       " 192.54,\n",
       " 192.56,\n",
       " 192.53,\n",
       " 192.65,\n",
       " 192.57,\n",
       " 192.53,\n",
       " 192.55,\n",
       " 192.65,\n",
       " 192.52,\n",
       " 192.59,\n",
       " 192.69,\n",
       " 192.77,\n",
       " 192.73,\n",
       " 192.78,\n",
       " 192.69,\n",
       " 192.71,\n",
       " 192.63,\n",
       " 192.67,\n",
       " 192.73,\n",
       " 192.78,\n",
       " 192.82,\n",
       " 192.73,\n",
       " 192.61,\n",
       " 192.43,\n",
       " 192.37,\n",
       " 192.31,\n",
       " 192.3,\n",
       " 192.31,\n",
       " 192.41,\n",
       " 192.3,\n",
       " 192.28,\n",
       " 192.3,\n",
       " 192.3,\n",
       " 192.15,\n",
       " 192.19,\n",
       " 192.25,\n",
       " 192.38,\n",
       " 192.435,\n",
       " 192.44,\n",
       " 192.44,\n",
       " 192.39,\n",
       " 192.43,\n",
       " 192.46,\n",
       " 192.365,\n",
       " 192.4,\n",
       " 192.4,\n",
       " 192.46,\n",
       " 192.43,\n",
       " 192.41,\n",
       " 192.4,\n",
       " 192.39,\n",
       " 192.405,\n",
       " 192.485,\n",
       " 192.435,\n",
       " 192.42,\n",
       " 192.43,\n",
       " 192.455,\n",
       " 192.45,\n",
       " 192.495,\n",
       " 192.47,\n",
       " 192.49,\n",
       " 192.51,\n",
       " 192.56,\n",
       " 192.5,\n",
       " 192.56,\n",
       " 192.63,\n",
       " 192.69,\n",
       " 192.63,\n",
       " 192.62,\n",
       " 192.6,\n",
       " 192.61,\n",
       " 192.63,\n",
       " 192.64,\n",
       " 192.61,\n",
       " 192.68,\n",
       " 192.64,\n",
       " 192.61,\n",
       " 192.6,\n",
       " 192.56,\n",
       " 192.585,\n",
       " 192.56,\n",
       " 192.61,\n",
       " 192.64,\n",
       " 192.68,\n",
       " 192.64,\n",
       " 192.58,\n",
       " 192.55,\n",
       " 192.63,\n",
       " 192.6,\n",
       " 192.57,\n",
       " 192.62,\n",
       " 192.61,\n",
       " 192.625,\n",
       " 192.61,\n",
       " 192.68,\n",
       " 192.66,\n",
       " 192.66,\n",
       " 192.65,\n",
       " 192.64,\n",
       " 192.65,\n",
       " 192.71,\n",
       " 192.81,\n",
       " 192.74,\n",
       " 192.71,\n",
       " 192.68,\n",
       " 192.735,\n",
       " 192.75,\n",
       " 192.82,\n",
       " 192.82,\n",
       " 192.88,\n",
       " 192.87,\n",
       " 192.89,\n",
       " 192.88,\n",
       " 192.94,\n",
       " 192.95,\n",
       " 192.98,\n",
       " 192.97,\n",
       " 192.92,\n",
       " 192.925,\n",
       " 192.95,\n",
       " 192.93,\n",
       " 192.93,\n",
       " 192.925,\n",
       " 192.76,\n",
       " 192.73,\n",
       " 192.7,\n",
       " 192.76,\n",
       " 192.81,\n",
       " 192.85,\n",
       " 192.82,\n",
       " 192.79,\n",
       " 192.81,\n",
       " 192.79,\n",
       " 192.835,\n",
       " 192.88,\n",
       " 192.79,\n",
       " 192.78,\n",
       " 192.805,\n",
       " 192.795,\n",
       " 192.84,\n",
       " 192.81,\n",
       " 192.78,\n",
       " 192.66,\n",
       " 192.735,\n",
       " 192.79,\n",
       " 192.78,\n",
       " 192.82,\n",
       " 192.78,\n",
       " 192.9,\n",
       " 192.86,\n",
       " 192.85,\n",
       " 192.87,\n",
       " 192.85,\n",
       " 192.88,\n",
       " 192.875,\n",
       " 192.87,\n",
       " 192.88,\n",
       " 192.84,\n",
       " 192.845,\n",
       " 192.875,\n",
       " 192.88,\n",
       " 192.92,\n",
       " 192.92,\n",
       " 192.92,\n",
       " 192.96,\n",
       " 192.925,\n",
       " 192.995,\n",
       " 192.99,\n",
       " 193.0,\n",
       " 193.0,\n",
       " 193.08,\n",
       " 193.08,\n",
       " 193.08,\n",
       " 193.125,\n",
       " 193.21,\n",
       " 193.24,\n",
       " 193.19,\n",
       " 193.17,\n",
       " 193.19,\n",
       " 193.14,\n",
       " 193.15,\n",
       " 193.22,\n",
       " 193.21,\n",
       " 193.22,\n",
       " 193.19,\n",
       " 193.36,\n",
       " 193.41,\n",
       " 193.44,\n",
       " 193.455,\n",
       " 193.49,\n",
       " 193.53,\n",
       " 193.49,\n",
       " 193.48,\n",
       " 193.52,\n",
       " 193.75,\n",
       " 193.79,\n",
       " 193.69,\n",
       " 193.69,\n",
       " 193.63,\n",
       " 193.63,\n",
       " 193.76,\n",
       " 193.75,\n",
       " 193.62,\n",
       " 193.62,\n",
       " 193.75,\n",
       " 193.74,\n",
       " 193.79,\n",
       " 193.67,\n",
       " 193.76,\n",
       " 193.64,\n",
       " 193.585,\n",
       " 193.56,\n",
       " 193.59,\n",
       " 193.51,\n",
       " 193.54,\n",
       " 193.5,\n",
       " 193.53,\n",
       " 193.54,\n",
       " 193.53,\n",
       " 193.49,\n",
       " 193.52,\n",
       " 193.485,\n",
       " 193.43,\n",
       " 193.47,\n",
       " 193.4,\n",
       " 193.39,\n",
       " 193.38,\n",
       " 193.37,\n",
       " 193.45,\n",
       " 193.52,\n",
       " 193.54,\n",
       " 193.535,\n",
       " 193.6,\n",
       " 193.56,\n",
       " 193.565,\n",
       " 193.65,\n",
       " 193.68,\n",
       " 193.67,\n",
       " 193.695,\n",
       " 193.68,\n",
       " 193.62,\n",
       " 193.67,\n",
       " 193.65,\n",
       " 193.595,\n",
       " 193.61,\n",
       " 193.67,\n",
       " 193.65,\n",
       " 193.68,\n",
       " 193.73,\n",
       " 193.69,\n",
       " 193.75,\n",
       " 193.77,\n",
       " 193.78,\n",
       " 193.73,\n",
       " 193.73,\n",
       " 193.82,\n",
       " 193.88,\n",
       " 193.875,\n",
       " 193.93,\n",
       " 193.97,\n",
       " 193.99,\n",
       " 194.15,\n",
       " 194.24,\n",
       " 194.17,\n",
       " 194.285,\n",
       " 194.2,\n",
       " 194.13,\n",
       " 194.11,\n",
       " 194.05,\n",
       " 193.96,\n",
       " 193.96,\n",
       " 194.04,\n",
       " 193.91,\n",
       " 193.99,\n",
       " 194.03,\n",
       " 194.01,\n",
       " 194.03,\n",
       " 193.94,\n",
       " 193.94,\n",
       " 193.98,\n",
       " 193.94,\n",
       " 193.975,\n",
       " 193.97,\n",
       " 194.03,\n",
       " 194.115,\n",
       " 194.07,\n",
       " 194.08,\n",
       " 194.1,\n",
       " 194.1,\n",
       " 193.99,\n",
       " 194.025,\n",
       " 194.095,\n",
       " 194.05,\n",
       " 194.14,\n",
       " 194.08,\n",
       " 194.11,\n",
       " 194.21,\n",
       " 194.25,\n",
       " 194.315,\n",
       " 194.24,\n",
       " 194.34,\n",
       " 194.32,\n",
       " 194.38,\n",
       " 194.38,\n",
       " 194.34,\n",
       " 194.32,\n",
       " 194.28,\n",
       " 194.285,\n",
       " 194.31,\n",
       " 194.36,\n",
       " 194.34,\n",
       " 194.29,\n",
       " 194.3,\n",
       " 194.36,\n",
       " 194.38,\n",
       " 194.34,\n",
       " 194.31,\n",
       " 194.37,\n",
       " 194.45,\n",
       " 194.06,\n",
       " 193.15,\n",
       " 193.61,\n",
       " 193.75,\n",
       " 193.94,\n",
       " 194.1,\n",
       " 194.41,\n",
       " 194.67,\n",
       " 194.82,\n",
       " 194.735,\n",
       " 194.87,\n",
       " 194.89,\n",
       " 194.56,\n",
       " 194.8,\n",
       " 194.92,\n",
       " 194.935,\n",
       " 194.78,\n",
       " 194.95,\n",
       " 195.16,\n",
       " 195.15,\n",
       " 194.795,\n",
       " 194.87,\n",
       " 194.47,\n",
       " 194.35,\n",
       " 194.47,\n",
       " 194.46,\n",
       " 194.52,\n",
       " 194.55,\n",
       " 194.84,\n",
       " 194.82,\n",
       " 194.85,\n",
       " 194.66,\n",
       " 194.56,\n",
       " 194.62,\n",
       " 194.64,\n",
       " 194.56,\n",
       " 194.72,\n",
       " 194.57,\n",
       " 194.73,\n",
       " 194.77,\n",
       " 194.85,\n",
       " 194.945,\n",
       " 195.35,\n",
       " 195.31,\n",
       " 195.44,\n",
       " 195.54,\n",
       " 195.57,\n",
       " 195.53,\n",
       " 195.68,\n",
       " 195.73,\n",
       " 195.68,\n",
       " 195.78,\n",
       " 195.82,\n",
       " 195.89,\n",
       " 195.92,\n",
       " 195.8,\n",
       " 195.69,\n",
       " 195.82,\n",
       " 195.83,\n",
       " 195.93,\n",
       " 195.91,\n",
       " 195.73,\n",
       " 195.85,\n",
       " 195.9,\n",
       " 195.99,\n",
       " 195.96,\n",
       " 195.91,\n",
       " 195.9,\n",
       " 195.84,\n",
       " 195.9,\n",
       " 195.95,\n",
       " 195.94,\n",
       " 195.96,\n",
       " 195.86,\n",
       " 195.79,\n",
       " 195.83,\n",
       " 195.83,\n",
       " 195.84,\n",
       " 195.79,\n",
       " 195.7,\n",
       " 195.57,\n",
       " 195.72,\n",
       " 195.72,\n",
       " 195.78,\n",
       " 195.85,\n",
       " 195.9,\n",
       " 195.94,\n",
       " 195.97,\n",
       " 195.95,\n",
       " 195.92,\n",
       " 196.05,\n",
       " 196.2,\n",
       " 196.2,\n",
       " 196.22,\n",
       " 196.37,\n",
       " 196.45,\n",
       " 196.37,\n",
       " 196.32,\n",
       " 196.27,\n",
       " 196.25,\n",
       " 196.29,\n",
       " 196.37,\n",
       " 196.425,\n",
       " 196.35,\n",
       " 196.32,\n",
       " 196.37,\n",
       " 196.38,\n",
       " 196.22,\n",
       " 196.21,\n",
       " 196.29,\n",
       " 196.16,\n",
       " 196.08,\n",
       " 195.925,\n",
       " 196.0,\n",
       " 195.95,\n",
       " 195.92,\n",
       " 195.9,\n",
       " 195.81,\n",
       " 195.92,\n",
       " 195.96,\n",
       " 195.94,\n",
       " 196.07,\n",
       " 196.0,\n",
       " 196.13,\n",
       " 196.1,\n",
       " 196.17,\n",
       " 196.09,\n",
       " 195.96,\n",
       " 196.07,\n",
       " 195.97,\n",
       " 195.95,\n",
       " 195.95,\n",
       " 195.94,\n",
       " 195.93,\n",
       " 195.84,\n",
       " 195.86,\n",
       " 195.94,\n",
       " 195.89,\n",
       " 195.96,\n",
       " 195.945,\n",
       " 196.03,\n",
       " 195.98,\n",
       " 196.02,\n",
       " 196.23,\n",
       " 196.21,\n",
       " 196.36,\n",
       " 196.35,\n",
       " 196.37,\n",
       " 196.36,\n",
       " 196.335,\n",
       " 196.28,\n",
       " 196.28,\n",
       " 196.31,\n",
       " 196.3,\n",
       " 196.32,\n",
       " 196.32,\n",
       " 196.34,\n",
       " 196.325,\n",
       " 196.35,\n",
       " 196.34,\n",
       " 196.36,\n",
       " 196.37,\n",
       " 196.3,\n",
       " 196.25,\n",
       " 196.2,\n",
       " 196.08,\n",
       " 196.13,\n",
       " 196.05,\n",
       " 196.07,\n",
       " 196.06,\n",
       " 196.07,\n",
       " 196.1,\n",
       " 196.03,\n",
       " 196.065,\n",
       " 196.13,\n",
       " 196.07,\n",
       " 196.05,\n",
       " 196.11,\n",
       " 196.17,\n",
       " 196.135,\n",
       " 196.09,\n",
       " 196.09,\n",
       " 195.94,\n",
       " 195.99,\n",
       " 195.99,\n",
       " 196.01,\n",
       " 195.97,\n",
       " 195.98,\n",
       " 195.92,\n",
       " 195.97,\n",
       " 196.06,\n",
       " 196.02,\n",
       " 195.94,\n",
       " 195.95,\n",
       " 195.97,\n",
       " 195.885,\n",
       " 195.83,\n",
       " 195.75,\n",
       " 195.76,\n",
       " 195.73,\n",
       " 195.7,\n",
       " 195.66,\n",
       " 195.665,\n",
       " 195.72,\n",
       " 195.63,\n",
       " 195.64,\n",
       " 195.61,\n",
       " 195.64,\n",
       " 195.605,\n",
       " 195.58,\n",
       " 195.56,\n",
       " 195.69,\n",
       " 195.73,\n",
       " 195.73,\n",
       " 195.76,\n",
       " 195.77,\n",
       " 195.85,\n",
       " 195.85,\n",
       " 195.79,\n",
       " 195.75,\n",
       " ...]"
      ]
     },
     "execution_count": 159,
     "metadata": {},
     "output_type": "execute_result"
    }
   ],
   "source": [
    "last_valid_idx = -1\n",
    "last_close = nan\n",
    "last_closes = []\n",
    "for idx, valid in enumerate(~nan_idxs):\n",
    "    last_closes.append(last_close)\n",
    "    if valid:\n",
    "        last_valid_idx = idx\n",
    "        last_close = aapl['close'].iloc[idx]\n",
    "last_closes"
   ]
  },
  {
   "cell_type": "code",
   "execution_count": 160,
   "metadata": {},
   "outputs": [
    {
     "data": {
      "text/html": [
       "<div>\n",
       "<style scoped>\n",
       "    .dataframe tbody tr th:only-of-type {\n",
       "        vertical-align: middle;\n",
       "    }\n",
       "\n",
       "    .dataframe tbody tr th {\n",
       "        vertical-align: top;\n",
       "    }\n",
       "\n",
       "    .dataframe thead th {\n",
       "        text-align: right;\n",
       "    }\n",
       "</style>\n",
       "<table border=\"1\" class=\"dataframe\">\n",
       "  <thead>\n",
       "    <tr style=\"text-align: right;\">\n",
       "      <th></th>\n",
       "      <th>open</th>\n",
       "      <th>close</th>\n",
       "      <th>high</th>\n",
       "      <th>low</th>\n",
       "      <th>average</th>\n",
       "      <th>volume</th>\n",
       "      <th>notional</th>\n",
       "      <th>numberOfTrades</th>\n",
       "      <th>prev_close</th>\n",
       "    </tr>\n",
       "    <tr>\n",
       "      <th>datetime</th>\n",
       "      <th></th>\n",
       "      <th></th>\n",
       "      <th></th>\n",
       "      <th></th>\n",
       "      <th></th>\n",
       "      <th></th>\n",
       "      <th></th>\n",
       "      <th></th>\n",
       "      <th></th>\n",
       "    </tr>\n",
       "  </thead>\n",
       "  <tbody>\n",
       "    <tr>\n",
       "      <th>2019-04-01 09:30:00</th>\n",
       "      <td>191.645</td>\n",
       "      <td>190.650</td>\n",
       "      <td>191.645</td>\n",
       "      <td>190.60</td>\n",
       "      <td>191.189</td>\n",
       "      <td>4320</td>\n",
       "      <td>825935.940</td>\n",
       "      <td>44</td>\n",
       "      <td>NaN</td>\n",
       "    </tr>\n",
       "    <tr>\n",
       "      <th>2019-04-01 09:31:00</th>\n",
       "      <td>190.700</td>\n",
       "      <td>190.980</td>\n",
       "      <td>190.980</td>\n",
       "      <td>190.64</td>\n",
       "      <td>190.761</td>\n",
       "      <td>3246</td>\n",
       "      <td>619210.510</td>\n",
       "      <td>32</td>\n",
       "      <td>190.650</td>\n",
       "    </tr>\n",
       "    <tr>\n",
       "      <th>2019-04-01 09:32:00</th>\n",
       "      <td>191.060</td>\n",
       "      <td>190.930</td>\n",
       "      <td>191.090</td>\n",
       "      <td>190.78</td>\n",
       "      <td>190.951</td>\n",
       "      <td>2253</td>\n",
       "      <td>430211.740</td>\n",
       "      <td>30</td>\n",
       "      <td>190.980</td>\n",
       "    </tr>\n",
       "    <tr>\n",
       "      <th>2019-04-01 09:33:00</th>\n",
       "      <td>190.980</td>\n",
       "      <td>190.830</td>\n",
       "      <td>191.010</td>\n",
       "      <td>190.76</td>\n",
       "      <td>190.946</td>\n",
       "      <td>2241</td>\n",
       "      <td>427911.290</td>\n",
       "      <td>27</td>\n",
       "      <td>190.930</td>\n",
       "    </tr>\n",
       "    <tr>\n",
       "      <th>2019-04-01 09:34:00</th>\n",
       "      <td>190.760</td>\n",
       "      <td>190.700</td>\n",
       "      <td>190.760</td>\n",
       "      <td>190.60</td>\n",
       "      <td>190.666</td>\n",
       "      <td>1069</td>\n",
       "      <td>203822.465</td>\n",
       "      <td>12</td>\n",
       "      <td>190.830</td>\n",
       "    </tr>\n",
       "    <tr>\n",
       "      <th>...</th>\n",
       "      <td>...</td>\n",
       "      <td>...</td>\n",
       "      <td>...</td>\n",
       "      <td>...</td>\n",
       "      <td>...</td>\n",
       "      <td>...</td>\n",
       "      <td>...</td>\n",
       "      <td>...</td>\n",
       "      <td>...</td>\n",
       "    </tr>\n",
       "    <tr>\n",
       "      <th>2019-11-01 15:55:00</th>\n",
       "      <td>255.350</td>\n",
       "      <td>255.540</td>\n",
       "      <td>255.620</td>\n",
       "      <td>255.29</td>\n",
       "      <td>255.528</td>\n",
       "      <td>4917</td>\n",
       "      <td>1256432.140</td>\n",
       "      <td>36</td>\n",
       "      <td>255.300</td>\n",
       "    </tr>\n",
       "    <tr>\n",
       "      <th>2019-11-01 15:56:00</th>\n",
       "      <td>255.530</td>\n",
       "      <td>255.730</td>\n",
       "      <td>255.750</td>\n",
       "      <td>255.52</td>\n",
       "      <td>255.616</td>\n",
       "      <td>4788</td>\n",
       "      <td>1223891.590</td>\n",
       "      <td>42</td>\n",
       "      <td>255.540</td>\n",
       "    </tr>\n",
       "    <tr>\n",
       "      <th>2019-11-01 15:57:00</th>\n",
       "      <td>255.740</td>\n",
       "      <td>255.730</td>\n",
       "      <td>255.880</td>\n",
       "      <td>255.73</td>\n",
       "      <td>255.822</td>\n",
       "      <td>3798</td>\n",
       "      <td>971613.530</td>\n",
       "      <td>38</td>\n",
       "      <td>255.730</td>\n",
       "    </tr>\n",
       "    <tr>\n",
       "      <th>2019-11-01 15:58:00</th>\n",
       "      <td>255.730</td>\n",
       "      <td>255.665</td>\n",
       "      <td>255.780</td>\n",
       "      <td>255.61</td>\n",
       "      <td>255.661</td>\n",
       "      <td>8396</td>\n",
       "      <td>2146526.195</td>\n",
       "      <td>88</td>\n",
       "      <td>255.730</td>\n",
       "    </tr>\n",
       "    <tr>\n",
       "      <th>2019-11-01 15:59:00</th>\n",
       "      <td>255.665</td>\n",
       "      <td>255.880</td>\n",
       "      <td>255.880</td>\n",
       "      <td>255.65</td>\n",
       "      <td>255.743</td>\n",
       "      <td>11754</td>\n",
       "      <td>3006000.545</td>\n",
       "      <td>72</td>\n",
       "      <td>255.665</td>\n",
       "    </tr>\n",
       "  </tbody>\n",
       "</table>\n",
       "<p>56367 rows × 9 columns</p>\n",
       "</div>"
      ],
      "text/plain": [
       "                        open    close     high     low  average  volume  \\\n",
       "datetime                                                                  \n",
       "2019-04-01 09:30:00  191.645  190.650  191.645  190.60  191.189    4320   \n",
       "2019-04-01 09:31:00  190.700  190.980  190.980  190.64  190.761    3246   \n",
       "2019-04-01 09:32:00  191.060  190.930  191.090  190.78  190.951    2253   \n",
       "2019-04-01 09:33:00  190.980  190.830  191.010  190.76  190.946    2241   \n",
       "2019-04-01 09:34:00  190.760  190.700  190.760  190.60  190.666    1069   \n",
       "...                      ...      ...      ...     ...      ...     ...   \n",
       "2019-11-01 15:55:00  255.350  255.540  255.620  255.29  255.528    4917   \n",
       "2019-11-01 15:56:00  255.530  255.730  255.750  255.52  255.616    4788   \n",
       "2019-11-01 15:57:00  255.740  255.730  255.880  255.73  255.822    3798   \n",
       "2019-11-01 15:58:00  255.730  255.665  255.780  255.61  255.661    8396   \n",
       "2019-11-01 15:59:00  255.665  255.880  255.880  255.65  255.743   11754   \n",
       "\n",
       "                        notional  numberOfTrades  prev_close  \n",
       "datetime                                                      \n",
       "2019-04-01 09:30:00   825935.940              44         NaN  \n",
       "2019-04-01 09:31:00   619210.510              32     190.650  \n",
       "2019-04-01 09:32:00   430211.740              30     190.980  \n",
       "2019-04-01 09:33:00   427911.290              27     190.930  \n",
       "2019-04-01 09:34:00   203822.465              12     190.830  \n",
       "...                          ...             ...         ...  \n",
       "2019-11-01 15:55:00  1256432.140              36     255.300  \n",
       "2019-11-01 15:56:00  1223891.590              42     255.540  \n",
       "2019-11-01 15:57:00   971613.530              38     255.730  \n",
       "2019-11-01 15:58:00  2146526.195              88     255.730  \n",
       "2019-11-01 15:59:00  3006000.545              72     255.665  \n",
       "\n",
       "[56367 rows x 9 columns]"
      ]
     },
     "execution_count": 160,
     "metadata": {},
     "output_type": "execute_result"
    }
   ],
   "source": [
    "aapl['prev_close'] = last_closes\n",
    "aapl"
   ]
  },
  {
   "cell_type": "code",
   "execution_count": 161,
   "metadata": {},
   "outputs": [
    {
     "data": {
      "text/plain": [
       "open              55577\n",
       "close             55577\n",
       "high              55577\n",
       "low               55577\n",
       "average           55577\n",
       "volume            56367\n",
       "notional          56367\n",
       "numberOfTrades    56367\n",
       "prev_close        56366\n",
       "dtype: int64"
      ]
     },
     "execution_count": 161,
     "metadata": {},
     "output_type": "execute_result"
    }
   ],
   "source": [
    "aapl.count()"
   ]
  },
  {
   "cell_type": "code",
   "execution_count": 182,
   "metadata": {},
   "outputs": [
    {
     "name": "stderr",
     "output_type": "stream",
     "text": [
      "/Users/ryan/.pyenv/versions/notebooks-3.7.4/lib/python3.7/site-packages/ipykernel_launcher.py:9: UserWarning: Boolean Series key will be reindexed to match DataFrame index.\n",
      "  if __name__ == '__main__':\n"
     ]
    },
    {
     "data": {
      "text/html": [
       "<div>\n",
       "<style scoped>\n",
       "    .dataframe tbody tr th:only-of-type {\n",
       "        vertical-align: middle;\n",
       "    }\n",
       "\n",
       "    .dataframe tbody tr th {\n",
       "        vertical-align: top;\n",
       "    }\n",
       "\n",
       "    .dataframe thead th {\n",
       "        text-align: right;\n",
       "    }\n",
       "</style>\n",
       "<table border=\"1\" class=\"dataframe\">\n",
       "  <thead>\n",
       "    <tr style=\"text-align: right;\">\n",
       "      <th></th>\n",
       "      <th>open</th>\n",
       "      <th>close</th>\n",
       "      <th>high</th>\n",
       "      <th>low</th>\n",
       "      <th>average</th>\n",
       "    </tr>\n",
       "    <tr>\n",
       "      <th>datetime</th>\n",
       "      <th></th>\n",
       "      <th></th>\n",
       "      <th></th>\n",
       "      <th></th>\n",
       "      <th></th>\n",
       "    </tr>\n",
       "  </thead>\n",
       "  <tbody>\n",
       "    <tr>\n",
       "      <th>2019-04-02 13:29:00</th>\n",
       "      <td>0.0</td>\n",
       "      <td>0.0</td>\n",
       "      <td>0.0</td>\n",
       "      <td>0.0</td>\n",
       "      <td>0.0</td>\n",
       "    </tr>\n",
       "    <tr>\n",
       "      <th>2019-04-05 13:36:00</th>\n",
       "      <td>0.0</td>\n",
       "      <td>0.0</td>\n",
       "      <td>0.0</td>\n",
       "      <td>0.0</td>\n",
       "      <td>0.0</td>\n",
       "    </tr>\n",
       "    <tr>\n",
       "      <th>2019-04-05 14:29:00</th>\n",
       "      <td>0.0</td>\n",
       "      <td>0.0</td>\n",
       "      <td>0.0</td>\n",
       "      <td>0.0</td>\n",
       "      <td>0.0</td>\n",
       "    </tr>\n",
       "    <tr>\n",
       "      <th>2019-04-15 13:33:00</th>\n",
       "      <td>0.0</td>\n",
       "      <td>0.0</td>\n",
       "      <td>0.0</td>\n",
       "      <td>0.0</td>\n",
       "      <td>0.0</td>\n",
       "    </tr>\n",
       "    <tr>\n",
       "      <th>2019-04-16 13:39:00</th>\n",
       "      <td>0.0</td>\n",
       "      <td>0.0</td>\n",
       "      <td>0.0</td>\n",
       "      <td>0.0</td>\n",
       "      <td>0.0</td>\n",
       "    </tr>\n",
       "    <tr>\n",
       "      <th>...</th>\n",
       "      <td>...</td>\n",
       "      <td>...</td>\n",
       "      <td>...</td>\n",
       "      <td>...</td>\n",
       "      <td>...</td>\n",
       "    </tr>\n",
       "    <tr>\n",
       "      <th>2019-11-01 12:46:00</th>\n",
       "      <td>0.0</td>\n",
       "      <td>0.0</td>\n",
       "      <td>0.0</td>\n",
       "      <td>0.0</td>\n",
       "      <td>0.0</td>\n",
       "    </tr>\n",
       "    <tr>\n",
       "      <th>2019-11-01 13:24:00</th>\n",
       "      <td>0.0</td>\n",
       "      <td>0.0</td>\n",
       "      <td>0.0</td>\n",
       "      <td>0.0</td>\n",
       "      <td>0.0</td>\n",
       "    </tr>\n",
       "    <tr>\n",
       "      <th>2019-11-01 13:29:00</th>\n",
       "      <td>0.0</td>\n",
       "      <td>0.0</td>\n",
       "      <td>0.0</td>\n",
       "      <td>0.0</td>\n",
       "      <td>0.0</td>\n",
       "    </tr>\n",
       "    <tr>\n",
       "      <th>2019-11-01 13:45:00</th>\n",
       "      <td>0.0</td>\n",
       "      <td>0.0</td>\n",
       "      <td>0.0</td>\n",
       "      <td>0.0</td>\n",
       "      <td>0.0</td>\n",
       "    </tr>\n",
       "    <tr>\n",
       "      <th>2019-11-01 14:37:00</th>\n",
       "      <td>0.0</td>\n",
       "      <td>0.0</td>\n",
       "      <td>0.0</td>\n",
       "      <td>0.0</td>\n",
       "      <td>0.0</td>\n",
       "    </tr>\n",
       "  </tbody>\n",
       "</table>\n",
       "<p>790 rows × 5 columns</p>\n",
       "</div>"
      ],
      "text/plain": [
       "                     open  close  high  low  average\n",
       "datetime                                            \n",
       "2019-04-02 13:29:00   0.0    0.0   0.0  0.0      0.0\n",
       "2019-04-05 13:36:00   0.0    0.0   0.0  0.0      0.0\n",
       "2019-04-05 14:29:00   0.0    0.0   0.0  0.0      0.0\n",
       "2019-04-15 13:33:00   0.0    0.0   0.0  0.0      0.0\n",
       "2019-04-16 13:39:00   0.0    0.0   0.0  0.0      0.0\n",
       "...                   ...    ...   ...  ...      ...\n",
       "2019-11-01 12:46:00   0.0    0.0   0.0  0.0      0.0\n",
       "2019-11-01 13:24:00   0.0    0.0   0.0  0.0      0.0\n",
       "2019-11-01 13:29:00   0.0    0.0   0.0  0.0      0.0\n",
       "2019-11-01 13:45:00   0.0    0.0   0.0  0.0      0.0\n",
       "2019-11-01 14:37:00   0.0    0.0   0.0  0.0      0.0\n",
       "\n",
       "[790 rows x 5 columns]"
      ]
     },
     "execution_count": 182,
     "metadata": {},
     "output_type": "execute_result"
    }
   ],
   "source": [
    "nan_cols = [ 'open', 'close', 'high', 'low', 'average' ]\n",
    "lg = aapl.copy()\n",
    "for col in nan_cols:\n",
    "    lg[col].fillna(lg.prev_close, inplace=True)\n",
    "    lg[col] = np.log(lg[col] / aapl.prev_close)\n",
    "\n",
    "lg.drop(columns='prev_close', inplace=True)\n",
    "lg.dropna(how='any', inplace=True)\n",
    "lg[nan_cols][nan_idxs]"
   ]
  },
  {
   "cell_type": "code",
   "execution_count": 183,
   "metadata": {},
   "outputs": [
    {
     "data": {
      "text/plain": [
       "open              56366\n",
       "close             56366\n",
       "high              56366\n",
       "low               56366\n",
       "average           56366\n",
       "volume            56366\n",
       "notional          56366\n",
       "numberOfTrades    56366\n",
       "dtype: int64"
      ]
     },
     "execution_count": 183,
     "metadata": {},
     "output_type": "execute_result"
    }
   ],
   "source": [
    "lg.count()"
   ]
  },
  {
   "cell_type": "code",
   "execution_count": 184,
   "metadata": {},
   "outputs": [
    {
     "data": {
      "text/html": [
       "<div>\n",
       "<style scoped>\n",
       "    .dataframe tbody tr th:only-of-type {\n",
       "        vertical-align: middle;\n",
       "    }\n",
       "\n",
       "    .dataframe tbody tr th {\n",
       "        vertical-align: top;\n",
       "    }\n",
       "\n",
       "    .dataframe thead th {\n",
       "        text-align: right;\n",
       "    }\n",
       "</style>\n",
       "<table border=\"1\" class=\"dataframe\">\n",
       "  <thead>\n",
       "    <tr style=\"text-align: right;\">\n",
       "      <th></th>\n",
       "      <th>open</th>\n",
       "      <th>close</th>\n",
       "      <th>hi</th>\n",
       "      <th>lo</th>\n",
       "      <th>avg</th>\n",
       "      <th>trades</th>\n",
       "      <th>avgVol</th>\n",
       "      <th>next_close</th>\n",
       "    </tr>\n",
       "    <tr>\n",
       "      <th>datetime</th>\n",
       "      <th></th>\n",
       "      <th></th>\n",
       "      <th></th>\n",
       "      <th></th>\n",
       "      <th></th>\n",
       "      <th></th>\n",
       "      <th></th>\n",
       "      <th></th>\n",
       "    </tr>\n",
       "  </thead>\n",
       "  <tbody>\n",
       "    <tr>\n",
       "      <th>2019-04-01 09:31:00</th>\n",
       "      <td>0.000262</td>\n",
       "      <td>0.001729</td>\n",
       "      <td>0.001729</td>\n",
       "      <td>-0.000052</td>\n",
       "      <td>0.000582</td>\n",
       "      <td>5.656854</td>\n",
       "      <td>4.629253</td>\n",
       "      <td>-0.000262</td>\n",
       "    </tr>\n",
       "    <tr>\n",
       "      <th>2019-04-01 09:32:00</th>\n",
       "      <td>0.000419</td>\n",
       "      <td>-0.000262</td>\n",
       "      <td>0.000576</td>\n",
       "      <td>-0.001048</td>\n",
       "      <td>-0.000152</td>\n",
       "      <td>5.477226</td>\n",
       "      <td>4.332048</td>\n",
       "      <td>-0.000524</td>\n",
       "    </tr>\n",
       "    <tr>\n",
       "      <th>2019-04-01 09:33:00</th>\n",
       "      <td>0.000262</td>\n",
       "      <td>-0.000524</td>\n",
       "      <td>0.000419</td>\n",
       "      <td>-0.000891</td>\n",
       "      <td>0.000084</td>\n",
       "      <td>5.196152</td>\n",
       "      <td>4.430817</td>\n",
       "      <td>-0.000681</td>\n",
       "    </tr>\n",
       "    <tr>\n",
       "      <th>2019-04-01 09:34:00</th>\n",
       "      <td>-0.000367</td>\n",
       "      <td>-0.000681</td>\n",
       "      <td>-0.000367</td>\n",
       "      <td>-0.001206</td>\n",
       "      <td>-0.000860</td>\n",
       "      <td>3.464102</td>\n",
       "      <td>4.500735</td>\n",
       "      <td>0.000786</td>\n",
       "    </tr>\n",
       "    <tr>\n",
       "      <th>2019-04-01 09:35:00</th>\n",
       "      <td>0.000577</td>\n",
       "      <td>0.000786</td>\n",
       "      <td>0.001153</td>\n",
       "      <td>0.000315</td>\n",
       "      <td>0.000776</td>\n",
       "      <td>5.744563</td>\n",
       "      <td>5.002725</td>\n",
       "      <td>-0.000419</td>\n",
       "    </tr>\n",
       "    <tr>\n",
       "      <th>...</th>\n",
       "      <td>...</td>\n",
       "      <td>...</td>\n",
       "      <td>...</td>\n",
       "      <td>...</td>\n",
       "      <td>...</td>\n",
       "      <td>...</td>\n",
       "      <td>...</td>\n",
       "      <td>...</td>\n",
       "    </tr>\n",
       "    <tr>\n",
       "      <th>2019-11-01 15:54:00</th>\n",
       "      <td>-0.000078</td>\n",
       "      <td>0.000313</td>\n",
       "      <td>0.000548</td>\n",
       "      <td>-0.000333</td>\n",
       "      <td>0.000184</td>\n",
       "      <td>6.082763</td>\n",
       "      <td>4.565755</td>\n",
       "      <td>0.000940</td>\n",
       "    </tr>\n",
       "    <tr>\n",
       "      <th>2019-11-01 15:55:00</th>\n",
       "      <td>0.000196</td>\n",
       "      <td>0.000940</td>\n",
       "      <td>0.001253</td>\n",
       "      <td>-0.000039</td>\n",
       "      <td>0.000893</td>\n",
       "      <td>6.000000</td>\n",
       "      <td>4.924230</td>\n",
       "      <td>0.000743</td>\n",
       "    </tr>\n",
       "    <tr>\n",
       "      <th>2019-11-01 15:56:00</th>\n",
       "      <td>-0.000039</td>\n",
       "      <td>0.000743</td>\n",
       "      <td>0.000821</td>\n",
       "      <td>-0.000078</td>\n",
       "      <td>0.000297</td>\n",
       "      <td>6.480741</td>\n",
       "      <td>4.744932</td>\n",
       "      <td>0.000000</td>\n",
       "    </tr>\n",
       "    <tr>\n",
       "      <th>2019-11-01 15:57:00</th>\n",
       "      <td>0.000039</td>\n",
       "      <td>0.000000</td>\n",
       "      <td>0.000586</td>\n",
       "      <td>0.000000</td>\n",
       "      <td>0.000360</td>\n",
       "      <td>6.164414</td>\n",
       "      <td>4.614599</td>\n",
       "      <td>-0.000254</td>\n",
       "    </tr>\n",
       "    <tr>\n",
       "      <th>2019-11-01 15:58:00</th>\n",
       "      <td>0.000000</td>\n",
       "      <td>-0.000254</td>\n",
       "      <td>0.000195</td>\n",
       "      <td>-0.000469</td>\n",
       "      <td>-0.000270</td>\n",
       "      <td>9.380832</td>\n",
       "      <td>4.568601</td>\n",
       "      <td>0.000841</td>\n",
       "    </tr>\n",
       "  </tbody>\n",
       "</table>\n",
       "<p>56365 rows × 8 columns</p>\n",
       "</div>"
      ],
      "text/plain": [
       "                         open     close        hi        lo       avg  \\\n",
       "datetime                                                                \n",
       "2019-04-01 09:31:00  0.000262  0.001729  0.001729 -0.000052  0.000582   \n",
       "2019-04-01 09:32:00  0.000419 -0.000262  0.000576 -0.001048 -0.000152   \n",
       "2019-04-01 09:33:00  0.000262 -0.000524  0.000419 -0.000891  0.000084   \n",
       "2019-04-01 09:34:00 -0.000367 -0.000681 -0.000367 -0.001206 -0.000860   \n",
       "2019-04-01 09:35:00  0.000577  0.000786  0.001153  0.000315  0.000776   \n",
       "...                       ...       ...       ...       ...       ...   \n",
       "2019-11-01 15:54:00 -0.000078  0.000313  0.000548 -0.000333  0.000184   \n",
       "2019-11-01 15:55:00  0.000196  0.000940  0.001253 -0.000039  0.000893   \n",
       "2019-11-01 15:56:00 -0.000039  0.000743  0.000821 -0.000078  0.000297   \n",
       "2019-11-01 15:57:00  0.000039  0.000000  0.000586  0.000000  0.000360   \n",
       "2019-11-01 15:58:00  0.000000 -0.000254  0.000195 -0.000469 -0.000270   \n",
       "\n",
       "                       trades    avgVol  next_close  \n",
       "datetime                                             \n",
       "2019-04-01 09:31:00  5.656854  4.629253   -0.000262  \n",
       "2019-04-01 09:32:00  5.477226  4.332048   -0.000524  \n",
       "2019-04-01 09:33:00  5.196152  4.430817   -0.000681  \n",
       "2019-04-01 09:34:00  3.464102  4.500735    0.000786  \n",
       "2019-04-01 09:35:00  5.744563  5.002725   -0.000419  \n",
       "...                       ...       ...         ...  \n",
       "2019-11-01 15:54:00  6.082763  4.565755    0.000940  \n",
       "2019-11-01 15:55:00  6.000000  4.924230    0.000743  \n",
       "2019-11-01 15:56:00  6.480741  4.744932    0.000000  \n",
       "2019-11-01 15:57:00  6.164414  4.614599   -0.000254  \n",
       "2019-11-01 15:58:00  9.380832  4.568601    0.000841  \n",
       "\n",
       "[56365 rows x 8 columns]"
      ]
     },
     "execution_count": 184,
     "metadata": {},
     "output_type": "execute_result"
    }
   ],
   "source": [
    "lg.drop(columns=[ 'volume', 'notional', 'numberOfTrades' ], inplace=True)\n",
    "lg['trades'] = np.sqrt(aapl.numberOfTrades)\n",
    "lg['avgVol'] = np.log(1 + (aapl.volume / aapl.numberOfTrades).fillna(0))\n",
    "lg.rename(columns={'average': 'avg', 'high': 'hi', 'low': 'lo'}, inplace=True)\n",
    "lg['next_close'] = lg.close.shift(-1)\n",
    "lg.dropna(how='any', inplace=True)\n",
    "lg"
   ]
  },
  {
   "cell_type": "code",
   "execution_count": 168,
   "metadata": {},
   "outputs": [
    {
     "data": {
      "text/plain": [
       "(0.8986286302269059, 0.10137136977309419)"
      ]
     },
     "execution_count": 168,
     "metadata": {},
     "output_type": "execute_result"
    }
   ],
   "source": [
    "from random import random, seed\n",
    "validation_split = 0.1\n",
    "\n",
    "# decide whether a given minute should be treated as a validation (otherwise: training) test case\n",
    "# seed PRNG so that this info is stable over time, and we never train on samples marked for \"validation\"\n",
    "def get_validation_flag(dt):\n",
    "    seed(int(dt.strftime('%Y%m%d%H%M')))\n",
    "    return random() < validation_split\n",
    "\n",
    "vfs = aapl.index.to_series().apply(get_validation_flag); vfs\n",
    "nt, nv = vfs[~vfs].count(), vfs[vfs].count()\n",
    "n = nt + nv\n",
    "nt / n, nv / n"
   ]
  },
  {
   "cell_type": "code",
   "execution_count": 191,
   "metadata": {},
   "outputs": [
    {
     "name": "stderr",
     "output_type": "stream",
     "text": [
      "/Users/ryan/.pyenv/versions/notebooks-3.7.4/lib/python3.7/site-packages/ipykernel_launcher.py:1: UserWarning: Boolean Series key will be reindexed to match DataFrame index.\n",
      "  \"\"\"Entry point for launching an IPython kernel.\n",
      "/Users/ryan/.pyenv/versions/notebooks-3.7.4/lib/python3.7/site-packages/ipykernel_launcher.py:2: UserWarning: Boolean Series key will be reindexed to match DataFrame index.\n",
      "  \n"
     ]
    },
    {
     "data": {
      "text/html": [
       "<div>\n",
       "<style scoped>\n",
       "    .dataframe tbody tr th:only-of-type {\n",
       "        vertical-align: middle;\n",
       "    }\n",
       "\n",
       "    .dataframe tbody tr th {\n",
       "        vertical-align: top;\n",
       "    }\n",
       "\n",
       "    .dataframe thead th {\n",
       "        text-align: right;\n",
       "    }\n",
       "</style>\n",
       "<table border=\"1\" class=\"dataframe\">\n",
       "  <thead>\n",
       "    <tr style=\"text-align: right;\">\n",
       "      <th></th>\n",
       "      <th>μ</th>\n",
       "      <th>σ</th>\n",
       "    </tr>\n",
       "  </thead>\n",
       "  <tbody>\n",
       "    <tr>\n",
       "      <th>open</th>\n",
       "      <td>0.000008</td>\n",
       "      <td>0.000628</td>\n",
       "    </tr>\n",
       "    <tr>\n",
       "      <th>close</th>\n",
       "      <td>0.000004</td>\n",
       "      <td>0.000848</td>\n",
       "    </tr>\n",
       "    <tr>\n",
       "      <th>hi</th>\n",
       "      <td>0.000284</td>\n",
       "      <td>0.000757</td>\n",
       "    </tr>\n",
       "    <tr>\n",
       "      <th>lo</th>\n",
       "      <td>-0.000277</td>\n",
       "      <td>0.000793</td>\n",
       "    </tr>\n",
       "    <tr>\n",
       "      <th>avg</th>\n",
       "      <td>0.000008</td>\n",
       "      <td>0.000735</td>\n",
       "    </tr>\n",
       "    <tr>\n",
       "      <th>trades</th>\n",
       "      <td>3.716125</td>\n",
       "      <td>1.791973</td>\n",
       "    </tr>\n",
       "    <tr>\n",
       "      <th>avgVol</th>\n",
       "      <td>4.404496</td>\n",
       "      <td>0.749121</td>\n",
       "    </tr>\n",
       "    <tr>\n",
       "      <th>next_close</th>\n",
       "      <td>0.000004</td>\n",
       "      <td>0.000871</td>\n",
       "    </tr>\n",
       "  </tbody>\n",
       "</table>\n",
       "</div>"
      ],
      "text/plain": [
       "                   μ         σ\n",
       "open        0.000008  0.000628\n",
       "close       0.000004  0.000848\n",
       "hi          0.000284  0.000757\n",
       "lo         -0.000277  0.000793\n",
       "avg         0.000008  0.000735\n",
       "trades      3.716125  1.791973\n",
       "avgVol      4.404496  0.749121\n",
       "next_close  0.000004  0.000871"
      ]
     },
     "execution_count": 191,
     "metadata": {},
     "output_type": "execute_result"
    }
   ],
   "source": [
    "lg_t = lg[~vfs]\n",
    "lg_v = lg[ vfs]\n",
    "means = lg_t.mean(axis=0).rename('μ')\n",
    "stddevs = lg_t.std(axis=0).rename('σ')\n",
    "concat([ means, stddevs ], axis=1)"
   ]
  },
  {
   "cell_type": "code",
   "execution_count": 193,
   "metadata": {},
   "outputs": [
    {
     "name": "stderr",
     "output_type": "stream",
     "text": [
      "/Users/ryan/.pyenv/versions/notebooks-3.7.4/lib/python3.7/site-packages/ipykernel_launcher.py:5: UserWarning: Boolean Series key will be reindexed to match DataFrame index.\n",
      "  \"\"\"\n",
      "/Users/ryan/.pyenv/versions/notebooks-3.7.4/lib/python3.7/site-packages/ipykernel_launcher.py:6: UserWarning: Boolean Series key will be reindexed to match DataFrame index.\n",
      "  \n"
     ]
    },
    {
     "data": {
      "text/html": [
       "<div>\n",
       "<style scoped>\n",
       "    .dataframe tbody tr th:only-of-type {\n",
       "        vertical-align: middle;\n",
       "    }\n",
       "\n",
       "    .dataframe tbody tr th {\n",
       "        vertical-align: top;\n",
       "    }\n",
       "\n",
       "    .dataframe thead th {\n",
       "        text-align: right;\n",
       "    }\n",
       "</style>\n",
       "<table border=\"1\" class=\"dataframe\">\n",
       "  <thead>\n",
       "    <tr style=\"text-align: right;\">\n",
       "      <th></th>\n",
       "      <th>trn_μ</th>\n",
       "      <th>trn_σ</th>\n",
       "      <th>val_μ</th>\n",
       "      <th>val_σ</th>\n",
       "      <th>μ</th>\n",
       "      <th>σ</th>\n",
       "    </tr>\n",
       "  </thead>\n",
       "  <tbody>\n",
       "    <tr>\n",
       "      <th>open</th>\n",
       "      <td>-1.830438e-16</td>\n",
       "      <td>1.0</td>\n",
       "      <td>0.008846</td>\n",
       "      <td>1.256577</td>\n",
       "      <td>0.000897</td>\n",
       "      <td>1.028919</td>\n",
       "    </tr>\n",
       "    <tr>\n",
       "      <th>close</th>\n",
       "      <td>1.420224e-16</td>\n",
       "      <td>1.0</td>\n",
       "      <td>0.008795</td>\n",
       "      <td>1.151217</td>\n",
       "      <td>0.000892</td>\n",
       "      <td>1.016347</td>\n",
       "    </tr>\n",
       "    <tr>\n",
       "      <th>hi</th>\n",
       "      <td>1.138742e-15</td>\n",
       "      <td>1.0</td>\n",
       "      <td>0.017563</td>\n",
       "      <td>1.223153</td>\n",
       "      <td>0.001780</td>\n",
       "      <td>1.024839</td>\n",
       "    </tr>\n",
       "    <tr>\n",
       "      <th>lo</th>\n",
       "      <td>-3.436155e-15</td>\n",
       "      <td>1.0</td>\n",
       "      <td>0.003394</td>\n",
       "      <td>1.115656</td>\n",
       "      <td>0.000344</td>\n",
       "      <td>1.012317</td>\n",
       "    </tr>\n",
       "    <tr>\n",
       "      <th>avg</th>\n",
       "      <td>6.711621e-18</td>\n",
       "      <td>1.0</td>\n",
       "      <td>0.010794</td>\n",
       "      <td>1.167755</td>\n",
       "      <td>0.001094</td>\n",
       "      <td>1.018259</td>\n",
       "    </tr>\n",
       "    <tr>\n",
       "      <th>trades</th>\n",
       "      <td>4.206237e-13</td>\n",
       "      <td>1.0</td>\n",
       "      <td>0.013656</td>\n",
       "      <td>1.015576</td>\n",
       "      <td>0.001384</td>\n",
       "      <td>1.001589</td>\n",
       "    </tr>\n",
       "    <tr>\n",
       "      <th>avgVol</th>\n",
       "      <td>5.897275e-13</td>\n",
       "      <td>1.0</td>\n",
       "      <td>-0.005247</td>\n",
       "      <td>1.001019</td>\n",
       "      <td>-0.000532</td>\n",
       "      <td>1.000096</td>\n",
       "    </tr>\n",
       "    <tr>\n",
       "      <th>next_close</th>\n",
       "      <td>-1.679045e-16</td>\n",
       "      <td>1.0</td>\n",
       "      <td>0.008066</td>\n",
       "      <td>0.893534</td>\n",
       "      <td>0.000818</td>\n",
       "      <td>0.989724</td>\n",
       "    </tr>\n",
       "  </tbody>\n",
       "</table>\n",
       "</div>"
      ],
      "text/plain": [
       "                   trn_μ  trn_σ     val_μ     val_σ         μ         σ\n",
       "open       -1.830438e-16    1.0  0.008846  1.256577  0.000897  1.028919\n",
       "close       1.420224e-16    1.0  0.008795  1.151217  0.000892  1.016347\n",
       "hi          1.138742e-15    1.0  0.017563  1.223153  0.001780  1.024839\n",
       "lo         -3.436155e-15    1.0  0.003394  1.115656  0.000344  1.012317\n",
       "avg         6.711621e-18    1.0  0.010794  1.167755  0.001094  1.018259\n",
       "trades      4.206237e-13    1.0  0.013656  1.015576  0.001384  1.001589\n",
       "avgVol      5.897275e-13    1.0 -0.005247  1.001019 -0.000532  1.000096\n",
       "next_close -1.679045e-16    1.0  0.008066  0.893534  0.000818  0.989724"
      ]
     },
     "execution_count": 193,
     "metadata": {},
     "output_type": "execute_result"
    }
   ],
   "source": [
    "normed = lg.copy()\n",
    "for col in normed.columns:\n",
    "    normed[col] = (normed[col] - means[col]) / stddevs[col]\n",
    "\n",
    "trn = normed[~vfs]\n",
    "val = normed[ vfs]\n",
    "concat([\n",
    "    trn.mean(axis=0).rename('trn_μ'),\n",
    "    trn.std(axis=0).rename('trn_σ'),\n",
    "    val.mean(axis=0).rename('val_μ'),\n",
    "    val.std(axis=0).rename('val_σ'),\n",
    "    normed.mean(axis=0).rename('μ'),\n",
    "    normed.std(axis=0).rename('σ'),\n",
    "], axis=1)"
   ]
  },
  {
   "cell_type": "code",
   "execution_count": null,
   "metadata": {},
   "outputs": [],
   "source": [
    "cols = features + [ 'next_close' ]\n",
    "trn = aapl[~aapl.validation][cols]\n",
    "val = aapl[ aapl.validation][cols]\n",
    "stats = \\\n",
    "    concat(\n",
    "        [ \n",
    "            trn.mean(axis=0).rename('mean'), \n",
    "            trn.std(axis=0).rename('stddev') \n",
    "        ], \n",
    "        axis=1\n",
    "    ) \\\n",
    "    .transpose(copy=True)\n",
    "\n",
    "means = stats.loc['mean']\n",
    "stddevs = stats.loc['stddev']\n",
    "\n",
    "stats"
   ]
  },
  {
   "cell_type": "code",
   "execution_count": 117,
   "metadata": {},
   "outputs": [],
   "source": [
    "aapl['avgVolume'] = aapl.volume / aapl.numberOfTrades\n",
    "aapl['avgNotional'] = aapl.notional / aapl.numberOfTrades / aapl.average"
   ]
  },
  {
   "cell_type": "code",
   "execution_count": 88,
   "metadata": {},
   "outputs": [
    {
     "name": "stderr",
     "output_type": "stream",
     "text": [
      "/Users/ryan/.pyenv/versions/notebooks-3.7.4/lib/python3.7/site-packages/pandas/core/series.py:856: RuntimeWarning: divide by zero encountered in log\n",
      "  result = getattr(ufunc, method)(*inputs, **kwargs)\n"
     ]
    }
   ],
   "source": [
    "aapl.numberOfTrades = 2*np.sqrt(aapl.numberOfTrades + 3/8)\n",
    "aapl.volume = np.log(aapl.volume)\n",
    "aapl.notional = np.log(aapl.notional)"
   ]
  },
  {
   "cell_type": "code",
   "execution_count": 43,
   "metadata": {},
   "outputs": [
    {
     "data": {
      "text/html": [
       "<div>\n",
       "<style scoped>\n",
       "    .dataframe tbody tr th:only-of-type {\n",
       "        vertical-align: middle;\n",
       "    }\n",
       "\n",
       "    .dataframe tbody tr th {\n",
       "        vertical-align: top;\n",
       "    }\n",
       "\n",
       "    .dataframe thead th {\n",
       "        text-align: right;\n",
       "    }\n",
       "</style>\n",
       "<table border=\"1\" class=\"dataframe\">\n",
       "  <thead>\n",
       "    <tr style=\"text-align: right;\">\n",
       "      <th></th>\n",
       "      <th>mean</th>\n",
       "      <th>std</th>\n",
       "    </tr>\n",
       "  </thead>\n",
       "  <tbody>\n",
       "    <tr>\n",
       "      <th>open</th>\n",
       "      <td>0.000009</td>\n",
       "      <td>0.000646</td>\n",
       "    </tr>\n",
       "    <tr>\n",
       "      <th>close</th>\n",
       "      <td>0.000005</td>\n",
       "      <td>0.000862</td>\n",
       "    </tr>\n",
       "    <tr>\n",
       "      <th>high</th>\n",
       "      <td>0.000285</td>\n",
       "      <td>0.000776</td>\n",
       "    </tr>\n",
       "    <tr>\n",
       "      <th>low</th>\n",
       "      <td>-0.000276</td>\n",
       "      <td>0.000802</td>\n",
       "    </tr>\n",
       "    <tr>\n",
       "      <th>average</th>\n",
       "      <td>0.000009</td>\n",
       "      <td>0.000749</td>\n",
       "    </tr>\n",
       "    <tr>\n",
       "      <th>volume</th>\n",
       "      <td>1751.279654</td>\n",
       "      <td>3160.715511</td>\n",
       "    </tr>\n",
       "    <tr>\n",
       "      <th>notional</th>\n",
       "      <td>358045.979314</td>\n",
       "      <td>669032.061133</td>\n",
       "    </tr>\n",
       "    <tr>\n",
       "      <th>numberOfTrades</th>\n",
       "      <td>17.050332</td>\n",
       "      <td>18.308183</td>\n",
       "    </tr>\n",
       "  </tbody>\n",
       "</table>\n",
       "</div>"
      ],
      "text/plain": [
       "                         mean            std\n",
       "open                 0.000009       0.000646\n",
       "close                0.000005       0.000862\n",
       "high                 0.000285       0.000776\n",
       "low                 -0.000276       0.000802\n",
       "average              0.000009       0.000749\n",
       "volume            1751.279654    3160.715511\n",
       "notional        358045.979314  669032.061133\n",
       "numberOfTrades      17.050332      18.308183"
      ]
     },
     "execution_count": 43,
     "metadata": {},
     "output_type": "execute_result"
    }
   ],
   "source": [
    "concat([ aapl.mean(axis=0).rename('mean'), aapl.std(axis=0).rename('std') ], axis=1)"
   ]
  },
  {
   "cell_type": "code",
   "execution_count": 66,
   "metadata": {},
   "outputs": [
    {
     "data": {
      "text/plain": [
       "datetime\n",
       "2019-04-01 09:31:00   -12.699977\n",
       "2019-04-01 09:32:00          NaN\n",
       "2019-04-01 09:33:00   -14.639109\n",
       "2019-04-01 09:34:00          NaN\n",
       "2019-04-01 09:35:00   -12.413109\n",
       "                         ...    \n",
       "2019-11-01 15:55:00   -12.564628\n",
       "2019-11-01 15:56:00   -13.664228\n",
       "2019-11-01 15:57:00   -13.474752\n",
       "2019-11-01 15:58:00          NaN\n",
       "2019-11-01 15:59:00   -13.639239\n",
       "Length: 56366, dtype: float64"
      ]
     },
     "execution_count": 66,
     "metadata": {},
     "output_type": "execute_result"
    }
   ],
   "source": [
    "np.log(aapl.average / (aapl.notional / aapl.volume)).dropna()"
   ]
  },
  {
   "cell_type": "code",
   "execution_count": 67,
   "metadata": {},
   "outputs": [],
   "source": [
    "n = aapl.numberOfTrades\n",
    "at = np.sqrt(n+3/8)*2"
   ]
  },
  {
   "cell_type": "code",
   "execution_count": 68,
   "metadata": {},
   "outputs": [
    {
     "data": {
      "text/plain": [
       "(17.050331760281022, 18.308183189456013)"
      ]
     },
     "execution_count": 68,
     "metadata": {},
     "output_type": "execute_result"
    }
   ],
   "source": [
    "n.mean(), n.std()"
   ]
  },
  {
   "cell_type": "code",
   "execution_count": 69,
   "metadata": {},
   "outputs": [
    {
     "data": {
      "text/plain": [
       "(7.573957362366743, 3.512366123030434)"
      ]
     },
     "execution_count": 69,
     "metadata": {},
     "output_type": "execute_result"
    }
   ],
   "source": [
    "at.mean(), at.std()"
   ]
  },
  {
   "cell_type": "code",
   "execution_count": 73,
   "metadata": {},
   "outputs": [
    {
     "data": {
      "text/plain": [
       "DescribeResult(nobs=56366, minmax=(0, 470), mean=17.050331760281022, variance=335.1895716986798, skewness=4.22763093700614, kurtosis=39.23777480192121)"
      ]
     },
     "execution_count": 73,
     "metadata": {},
     "output_type": "execute_result"
    }
   ],
   "source": [
    "describe(n)"
   ]
  },
  {
   "cell_type": "code",
   "execution_count": 72,
   "metadata": {},
   "outputs": [
    {
     "data": {
      "text/plain": [
       "DescribeResult(nobs=56366, minmax=(1.224744871391589, 43.376260788592646), mean=7.573957362366743, variance=12.336715782211842, skewness=1.2807409979164992, kurtosis=3.591496810873477)"
      ]
     },
     "execution_count": 72,
     "metadata": {},
     "output_type": "execute_result"
    }
   ],
   "source": [
    "describe(at)"
   ]
  },
  {
   "cell_type": "code",
   "execution_count": 104,
   "metadata": {},
   "outputs": [
    {
     "data": {
      "text/plain": [
       "DescribeResult(nobs=56366, minmax=(0, 470), mean=17.050331760281022, variance=335.1895716986798, skewness=4.22763093700614, kurtosis=39.23777480192121)"
      ]
     },
     "execution_count": 104,
     "metadata": {},
     "output_type": "execute_result"
    }
   ],
   "source": [
    "describe(aapl.numberOfTrades)"
   ]
  },
  {
   "cell_type": "code",
   "execution_count": 119,
   "metadata": {},
   "outputs": [
    {
     "data": {
      "text/plain": [
       "DescribeResult(nobs=55577, minmax=(0.9999976018379515, 37549.98057586837), mean=100.10958750694473, variance=73293.61377892568, skewness=95.19548000929716, kurtosis=10532.277160006553)"
      ]
     },
     "execution_count": 119,
     "metadata": {},
     "output_type": "execute_result"
    }
   ],
   "source": [
    "describe(aapl.avgNotional.dropna())"
   ]
  },
  {
   "cell_type": "code",
   "execution_count": 104,
   "metadata": {},
   "outputs": [
    {
     "data": {
      "text/plain": [
       "DescribeResult(nobs=56366, minmax=(0, 470), mean=17.050331760281022, variance=335.1895716986798, skewness=4.22763093700614, kurtosis=39.23777480192121)"
      ]
     },
     "execution_count": 104,
     "metadata": {},
     "output_type": "execute_result"
    }
   ],
   "source": [
    "describe(aapl.numberOfTrades)"
   ]
  },
  {
   "cell_type": "code",
   "execution_count": 121,
   "metadata": {},
   "outputs": [
    {
     "data": {
      "text/plain": [
       "Series([], Name: avgVolume, dtype: float64)"
      ]
     },
     "execution_count": 121,
     "metadata": {},
     "output_type": "execute_result"
    }
   ],
   "source": [
    "aapl.avgVolume[aapl.avgVolume == 0]"
   ]
  },
  {
   "cell_type": "code",
   "execution_count": 122,
   "metadata": {},
   "outputs": [],
   "source": [
    "aapl.avgVolume.fillna(0, inplace=True)"
   ]
  },
  {
   "cell_type": "code",
   "execution_count": 120,
   "metadata": {},
   "outputs": [
    {
     "data": {
      "text/plain": [
       "DescribeResult(nobs=55577, minmax=(1.0, 37550.0), mean=100.1095670608824, variance=73293.61779824518, skewness=95.19551247020952, kurtosis=10532.285752374855)"
      ]
     },
     "execution_count": 120,
     "metadata": {},
     "output_type": "execute_result"
    }
   ],
   "source": [
    "describe(aapl.axvgVolume.dropna())"
   ]
  },
  {
   "cell_type": "code",
   "execution_count": 125,
   "metadata": {},
   "outputs": [
    {
     "data": {
      "text/plain": [
       "<matplotlib.axes._subplots.AxesSubplot at 0x18406a7d0>"
      ]
     },
     "execution_count": 125,
     "metadata": {},
     "output_type": "execute_result"
    },
    {
     "data": {
      "image/png": "[encoded data removed]",
      "text/plain": [
       "<Figure size 432x288 with 1 Axes>"
      ]
     },
     "metadata": {
      "needs_background": "light"
     },
     "output_type": "display_data"
    }
   ],
   "source": [
    "aapl.avgVolume.plot(kind='hist', bins=100, loglog=True)"
   ]
  },
  {
   "cell_type": "code",
   "execution_count": 144,
   "metadata": {},
   "outputs": [],
   "source": [
    "av = av.loc[av > 0]"
   ]
  },
  {
   "cell_type": "code",
   "execution_count": 126,
   "metadata": {},
   "outputs": [],
   "source": [
    "av = aapl.avgVolume"
   ]
  },
  {
   "cell_type": "code",
   "execution_count": 141,
   "metadata": {},
   "outputs": [
    {
     "data": {
      "text/plain": [
       "datetime\n",
       "2019-04-02 13:29:00    0.0\n",
       "2019-04-05 13:36:00    0.0\n",
       "2019-04-05 14:29:00    0.0\n",
       "2019-04-15 13:33:00    0.0\n",
       "2019-04-16 13:39:00    0.0\n",
       "                      ... \n",
       "2019-11-01 12:46:00    0.0\n",
       "2019-11-01 13:24:00    0.0\n",
       "2019-11-01 13:29:00    0.0\n",
       "2019-11-01 13:45:00    0.0\n",
       "2019-11-01 14:37:00    0.0\n",
       "Name: avgVolume, Length: 790, dtype: float64"
      ]
     },
     "execution_count": 141,
     "metadata": {},
     "output_type": "execute_result"
    }
   ],
   "source": [
    "av[av == 0]"
   ]
  },
  {
   "cell_type": "code",
   "execution_count": 145,
   "metadata": {},
   "outputs": [
    {
     "data": {
      "text/plain": [
       "(DescribeResult(nobs=55577, minmax=(1.0, 193.77822375076101), mean=9.584271697403004, variance=8.251451560061255, skewness=16.673988122242726, kurtosis=807.4332982052475),\n",
       " DescribeResult(nobs=55577, minmax=(0.6931471805599453, 10.533455287996134), mean=4.466715293256196, variance=0.289625082817358, skewness=-2.1017363918323535, kurtosis=16.945182124553863),\n",
       " DescribeResult(nobs=55577, minmax=(2.0670241223168593, 6.605590144111617), mean=4.392204861909396, variance=0.0753989807022269, skewness=-3.7199164967863863, kurtosis=27.70041079047571))"
      ]
     },
     "execution_count": 145,
     "metadata": {},
     "output_type": "execute_result"
    }
   ],
   "source": [
    "describe(np.sqrt(av)), describe(np.log(av+1)), describe(2*np.sqrt(np.log(av+1) + 3/8))"
   ]
  },
  {
   "cell_type": "code",
   "execution_count": 129,
   "metadata": {},
   "outputs": [
    {
     "data": {
      "text/plain": [
       "DescribeResult(nobs=56367, minmax=(0.0, 193.77822375076101), mean=9.449945324863249, variance=9.405202396516474, skewness=13.213609218737515, kurtosis=615.6922481147267)"
      ]
     },
     "execution_count": 129,
     "metadata": {},
     "output_type": "execute_result"
    }
   ],
   "source": [
    "describe(np.sqrt(av))"
   ]
  },
  {
   "cell_type": "code",
   "execution_count": 128,
   "metadata": {},
   "outputs": [
    {
     "data": {
      "text/plain": [
       "DescribeResult(nobs=56367, minmax=(0.0, 10.533455287996134), mean=4.4041129713005756, variance=0.5612784200536695, skewness=-3.487236399827864, kurtosis=18.738566631211075)"
      ]
     },
     "execution_count": 128,
     "metadata": {},
     "output_type": "execute_result"
    }
   ],
   "source": [
    "describe(np.log(av+1))"
   ]
  },
  {
   "cell_type": "code",
   "execution_count": 133,
   "metadata": {},
   "outputs": [
    {
     "data": {
      "text/plain": [
       "DescribeResult(nobs=56367, minmax=(1.224744871391589, 6.605590144111617), mean=4.347811983230221, variance=0.21298662225141307, skewness=-5.014332600434115, kurtosis=29.908327364900295)"
      ]
     },
     "execution_count": 133,
     "metadata": {},
     "output_type": "execute_result"
    }
   ],
   "source": [
    "describe(2*np.sqrt(np.log(av+1) + 3/8))"
   ]
  },
  {
   "cell_type": "code",
   "execution_count": 135,
   "metadata": {},
   "outputs": [
    {
     "data": {
      "text/plain": [
       "DescribeResult(nobs=56367, minmax=(0.0, 447.82585901218346), mean=36.20257323787397, variance=440.70673523290276, skewness=2.3277254409765837, kurtosis=21.48437345844377)"
      ]
     },
     "execution_count": 135,
     "metadata": {},
     "output_type": "execute_result"
    }
   ],
   "source": [
    "describe(np.sqrt(aapl.volume))"
   ]
  },
  {
   "cell_type": "code",
   "execution_count": 138,
   "metadata": {},
   "outputs": [
    {
     "data": {
      "text/plain": [
       "DescribeResult(nobs=56367, minmax=(0.0, 12.208813884898058), mean=6.805949793012276, variance=2.0359092888014794, skewness=-1.9619123155622449, kurtosis=7.24791536117254)"
      ]
     },
     "execution_count": 138,
     "metadata": {},
     "output_type": "execute_result"
    }
   ],
   "source": [
    "describe(np.log(aapl.volume+1))"
   ]
  },
  {
   "cell_type": "code",
   "execution_count": 139,
   "metadata": {},
   "outputs": [
    {
     "data": {
      "text/plain": [
       "DescribeResult(nobs=56367, minmax=(0.0, 3.494111315470367), mean=2.5787828129972556, variance=0.15583176099430437, skewness=-4.342082723396391, kurtosis=24.599072322525778)"
      ]
     },
     "execution_count": 139,
     "metadata": {},
     "output_type": "execute_result"
    }
   ],
   "source": [
    "describe(np.sqrt(np.log(aapl.volume+1)))"
   ]
  },
  {
   "cell_type": "code",
   "execution_count": 130,
   "metadata": {},
   "outputs": [
    {
     "data": {
      "text/plain": [
       "<matplotlib.axes._subplots.AxesSubplot at 0x184ac1050>"
      ]
     },
     "execution_count": 130,
     "metadata": {},
     "output_type": "execute_result"
    },
    {
     "data": {
      "image/png": "[encoded data removed]",
      "text/plain": [
       "<Figure size 432x288 with 1 Axes>"
      ]
     },
     "metadata": {
      "needs_background": "light"
     },
     "output_type": "display_data"
    }
   ],
   "source": [
    "np.sqrt(av).plot(kind='hist', bins=100, logy=True)"
   ]
  },
  {
   "cell_type": "code",
   "execution_count": 132,
   "metadata": {},
   "outputs": [
    {
     "data": {
      "text/plain": [
       "<matplotlib.axes._subplots.AxesSubplot at 0x18538ce90>"
      ]
     },
     "execution_count": 132,
     "metadata": {},
     "output_type": "execute_result"
    },
    {
     "data": {
      "image/png": "[encoded data removed]",
      "text/plain": [
       "<Figure size 432x288 with 1 Axes>"
      ]
     },
     "metadata": {
      "needs_background": "light"
     },
     "output_type": "display_data"
    }
   ],
   "source": [
    "np.log(av+1).plot(kind='hist', bins=100, logy=True)"
   ]
  },
  {
   "cell_type": "code",
   "execution_count": 147,
   "metadata": {},
   "outputs": [
    {
     "data": {
      "text/plain": [
       "<matplotlib.axes._subplots.AxesSubplot at 0x185de3950>"
      ]
     },
     "execution_count": 147,
     "metadata": {},
     "output_type": "execute_result"
    },
    {
     "data": {
      "image/png": "[encoded data removed]",
      "text/plain": [
       "<Figure size 432x288 with 1 Axes>"
      ]
     },
     "metadata": {
      "needs_background": "light"
     },
     "output_type": "display_data"
    }
   ],
   "source": [
    "np.sqrt(np.sqrt(av)).plot(kind='hist', bins=100, logy=True)"
   ]
  },
  {
   "cell_type": "code",
   "execution_count": 131,
   "metadata": {},
   "outputs": [
    {
     "data": {
      "text/plain": [
       "<matplotlib.axes._subplots.AxesSubplot at 0x184f1b590>"
      ]
     },
     "execution_count": 131,
     "metadata": {},
     "output_type": "execute_result"
    },
    {
     "data": {
      "image/png": "[encoded data removed]",
      "text/plain": [
       "<Figure size 432x288 with 1 Axes>"
      ]
     },
     "metadata": {
      "needs_background": "light"
     },
     "output_type": "display_data"
    }
   ],
   "source": [
    "np.sqrt(np.log(av+1)).plot(kind='hist', bins=100, logy=True)"
   ]
  },
  {
   "cell_type": "code",
   "execution_count": 70,
   "metadata": {},
   "outputs": [
    {
     "data": {
      "text/plain": [
       "<matplotlib.axes._subplots.AxesSubplot at 0x1759aa6d0>"
      ]
     },
     "execution_count": 70,
     "metadata": {},
     "output_type": "execute_result"
    },
    {
     "data": {
      "image/png": "[encoded data removed]",
      "text/plain": [
       "<Figure size 432x288 with 1 Axes>"
      ]
     },
     "metadata": {
      "needs_background": "light"
     },
     "output_type": "display_data"
    }
   ],
   "source": [
    "at.plot(kind='hist', bins=100)"
   ]
  },
  {
   "cell_type": "code",
   "execution_count": null,
   "metadata": {},
   "outputs": [],
   "source": []
  },
  {
   "cell_type": "code",
   "execution_count": 53,
   "metadata": {},
   "outputs": [
    {
     "data": {
      "text/plain": [
       "<matplotlib.axes._subplots.AxesSubplot at 0x17356e750>"
      ]
     },
     "execution_count": 53,
     "metadata": {},
     "output_type": "execute_result"
    },
    {
     "data": {
      "image/png": "[encoded data removed]",
      "text/plain": [
       "<Figure size 432x288 with 1 Axes>"
      ]
     },
     "metadata": {
      "needs_background": "light"
     },
     "output_type": "display_data"
    }
   ],
   "source": [
    "aapl.open.plot(kind='hist', bins=100, logy=True)"
   ]
  },
  {
   "cell_type": "code",
   "execution_count": 54,
   "metadata": {},
   "outputs": [
    {
     "data": {
      "text/plain": [
       "<matplotlib.axes._subplots.AxesSubplot at 0x1738ea210>"
      ]
     },
     "execution_count": 54,
     "metadata": {},
     "output_type": "execute_result"
    },
    {
     "data": {
      "image/png": "[encoded data removed]",
      "text/plain": [
       "<Figure size 432x288 with 1 Axes>"
      ]
     },
     "metadata": {
      "needs_background": "light"
     },
     "output_type": "display_data"
    }
   ],
   "source": [
    "aapl.volume.plot(kind='hist', bins=100, loglog=True)"
   ]
  },
  {
   "cell_type": "code",
   "execution_count": 55,
   "metadata": {},
   "outputs": [
    {
     "data": {
      "text/plain": [
       "<matplotlib.axes._subplots.AxesSubplot at 0x120061290>"
      ]
     },
     "execution_count": 55,
     "metadata": {},
     "output_type": "execute_result"
    },
    {
     "data": {
      "image/png": "[encoded data removed]",
      "text/plain": [
       "<Figure size 432x288 with 1 Axes>"
      ]
     },
     "metadata": {
      "needs_background": "light"
     },
     "output_type": "display_data"
    }
   ],
   "source": [
    "aapl.numberOfTrades.plot(kind='hist', bins=100)"
   ]
  },
  {
   "cell_type": "code",
   "execution_count": 56,
   "metadata": {},
   "outputs": [
    {
     "data": {
      "text/plain": [
       "<matplotlib.axes._subplots.AxesSubplot at 0x173d95310>"
      ]
     },
     "execution_count": 56,
     "metadata": {},
     "output_type": "execute_result"
    },
    {
     "data": {
      "image/png": "[encoded data removed]",
      "text/plain": [
       "<Figure size 432x288 with 1 Axes>"
      ]
     },
     "metadata": {
      "needs_background": "light"
     },
     "output_type": "display_data"
    }
   ],
   "source": [
    "aapl.notional.plot(kind='hist', bins=100, loglog=True)"
   ]
  },
  {
   "cell_type": "code",
   "execution_count": 57,
   "metadata": {},
   "outputs": [
    {
     "data": {
      "text/plain": [
       "open              56366\n",
       "close             56366\n",
       "high              56366\n",
       "low               56366\n",
       "average           56366\n",
       "volume            56366\n",
       "notional          56366\n",
       "numberOfTrades    56366\n",
       "dtype: int64"
      ]
     },
     "execution_count": 57,
     "metadata": {},
     "output_type": "execute_result"
    }
   ],
   "source": [
    "aapl.count()"
   ]
  },
  {
   "cell_type": "code",
   "execution_count": null,
   "metadata": {},
   "outputs": [],
   "source": [
    "next_avgs = aapl[['close']]\n",
    "next_avgs['datetime'] = next_avgs.index\n",
    "next_avgs['datetime'] = next_avgs['datetime'].apply(lambda dt: dt - Δ(minutes=1))\n",
    "next_avgs.set_index('datetime', inplace=True)\n",
    "next_avgs.rename(columns={'close': 'next_close'}, inplace=True)\n",
    "next_avgs"
   ]
  },
  {
   "cell_type": "code",
   "execution_count": null,
   "metadata": {},
   "outputs": [],
   "source": [
    "aapl = aapl.merge(next_avgs, how='left', left_index=True, right_index=True).dropna(subset=['next_close']); aapl"
   ]
  },
  {
   "cell_type": "code",
   "execution_count": null,
   "metadata": {},
   "outputs": [],
   "source": [
    "aapl.count()"
   ]
  },
  {
   "cell_type": "code",
   "execution_count": null,
   "metadata": {},
   "outputs": [],
   "source": [
    "aapl['validation'] = vfs; aapl"
   ]
  },
  {
   "cell_type": "code",
   "execution_count": null,
   "metadata": {},
   "outputs": [],
   "source": [
    "aapl.to_csv(data_dir / 'aapl.csv')"
   ]
  },
  {
   "cell_type": "code",
   "execution_count": null,
   "metadata": {},
   "outputs": [],
   "source": [
    "cols = features + [ 'next_close' ]\n",
    "trn = aapl[~aapl.validation][cols]\n",
    "val = aapl[ aapl.validation][cols]\n",
    "stats = \\\n",
    "    concat(\n",
    "        [ \n",
    "            trn.mean(axis=0).rename('mean'), \n",
    "            trn.std(axis=0).rename('stddev') \n",
    "        ], \n",
    "        axis=1\n",
    "    ) \\\n",
    "    .transpose(copy=True)\n",
    "\n",
    "means = stats.loc['mean']\n",
    "stddevs = stats.loc['stddev']\n",
    "\n",
    "stats"
   ]
  },
  {
   "cell_type": "code",
   "execution_count": null,
   "metadata": {},
   "outputs": [],
   "source": [
    "normed = (aapl[cols] - means[cols]) / stddevs[cols]; normed"
   ]
  },
  {
   "cell_type": "code",
   "execution_count": null,
   "metadata": {},
   "outputs": [],
   "source": [
    "concat(\n",
    "    [ \n",
    "        normed[~aapl.validation].mean(axis=0).rename('train_mean'), \n",
    "        normed[~aapl.validation].std(axis=0).rename('train_stddev'),\n",
    "        normed[ aapl.validation].mean(axis=0).rename('val_mean'), \n",
    "        normed[ aapl.validation].std(axis=0).rename('val_stddev'),\n",
    "        normed                  .mean(axis=0).rename('mean'), \n",
    "        normed                  .std(axis=0).rename('stddev'),\n",
    "    ], \n",
    "    axis=1\n",
    ")"
   ]
  },
  {
   "cell_type": "code",
   "execution_count": null,
   "metadata": {},
   "outputs": [],
   "source": [
    "window = 30\n",
    "\n",
    "def make_windowed_array(feature):        \n",
    "    col = normed[feature]\n",
    "    df = concat([ col.shift(lag) for lag in reversed(range(window)) ], axis=1)\n",
    "    return df.values\n",
    "\n",
    "array([ make_windowed_array for feature in features ])[(window-1):]"
   ]
  },
  {
   "cell_type": "code",
   "execution_count": null,
   "metadata": {},
   "outputs": [],
   "source": [
    "normed"
   ]
  },
  {
   "cell_type": "code",
   "execution_count": null,
   "metadata": {},
   "outputs": [],
   "source": []
  },
  {
   "cell_type": "markdown",
   "metadata": {},
   "source": [
    "## Window size: 20"
   ]
  },
  {
   "cell_type": "code",
   "execution_count": null,
   "metadata": {
    "scrolled": true
   },
   "outputs": [],
   "source": [
    "aapl = array([ load_data_arr(date, ticker) for date in dates ]); aapl.shape"
   ]
  },
  {
   "cell_type": "code",
   "execution_count": null,
   "metadata": {},
   "outputs": [],
   "source": [
    "shape = aapl.shape\n",
    "aapl = aapl.reshape((shape[0] * shape[1], shape[2]))\n",
    "avg = features.index('average')\n",
    "avgs = aapl[:, avg]\n",
    "shape = aapl.shape; shape"
   ]
  },
  {
   "cell_type": "code",
   "execution_count": null,
   "metadata": {},
   "outputs": [],
   "source": [
    "y = np.roll(avgs, -1)\n",
    "y = y[:-1]\n",
    "x = aapl[:-1]\n",
    "x.shape, y.shape"
   ]
  },
  {
   "cell_type": "code",
   "execution_count": null,
   "metadata": {},
   "outputs": [],
   "source": [
    "window = 20\n",
    "n = x.shape[0]\n",
    "x = np.array([ x[i:(i+window)] for i in range(n-window+1) ])\n",
    "y = y[(window-1):]\n",
    "x.shape, y.shape"
   ]
  },
  {
   "cell_type": "code",
   "execution_count": null,
   "metadata": {},
   "outputs": [],
   "source": [
    "idxs = np.logical_and([ (cnz(na(row)) == 0) for row in x ], ~na(y))\n",
    "y = y[idxs]\n",
    "x = x[idxs]\n",
    "x.shape, y.shape"
   ]
  },
  {
   "cell_type": "code",
   "execution_count": null,
   "metadata": {},
   "outputs": [],
   "source": [
    "n = x.shape[0]"
   ]
  },
  {
   "cell_type": "code",
   "execution_count": null,
   "metadata": {},
   "outputs": [],
   "source": [
    "xa = x[:, -1, avg]\n",
    "xa[:10], y[:10]"
   ]
  },
  {
   "cell_type": "code",
   "execution_count": null,
   "metadata": {},
   "outputs": [],
   "source": [
    "cnz(xa > y), cnz(xa < y), cnz(xa == y)"
   ]
  },
  {
   "cell_type": "code",
   "execution_count": null,
   "metadata": {},
   "outputs": [],
   "source": [
    "(xa - y).max(), (xa - y).min()"
   ]
  },
  {
   "cell_type": "code",
   "execution_count": null,
   "metadata": {},
   "outputs": [],
   "source": [
    "mean((xa - y)**2)"
   ]
  },
  {
   "cell_type": "markdown",
   "metadata": {},
   "source": [
    "-------"
   ]
  },
  {
   "cell_type": "code",
   "execution_count": null,
   "metadata": {},
   "outputs": [],
   "source": [
    "ox = x.copy()\n",
    "oy = y.copy()"
   ]
  },
  {
   "cell_type": "code",
   "execution_count": null,
   "metadata": {},
   "outputs": [],
   "source": [
    "x = ox\n",
    "y = oy"
   ]
  },
  {
   "cell_type": "code",
   "execution_count": null,
   "metadata": {},
   "outputs": [],
   "source": [
    "perm = permutation(n); perm"
   ]
  },
  {
   "cell_type": "code",
   "execution_count": null,
   "metadata": {},
   "outputs": [],
   "source": [
    "x = x[perm]\n",
    "y = y[perm]"
   ]
  },
  {
   "cell_type": "code",
   "execution_count": null,
   "metadata": {
    "scrolled": true
   },
   "outputs": [],
   "source": [
    "val_split = 0.1\n",
    "tn = int((1 - val_split) * n)\n",
    "vn = n - tn\n",
    "tx = x[:tn]\n",
    "ty = y[:tn]\n",
    "vx = x[tn:]\n",
    "vy = y[tn:]\n",
    "[ a.shape for a in [tx,ty,vx,vy] ]"
   ]
  },
  {
   "cell_type": "code",
   "execution_count": null,
   "metadata": {},
   "outputs": [],
   "source": [
    "u = mean(tx[:, -1, :], axis=0)\n",
    "s = std(tx[:, -1, :], axis=0)\n",
    "x = (x - u) / s\n",
    "y = (y - u[avg]) / s[avg]\n",
    "mean(x[:, -1, :], axis=0), std(x[:, -1, :], axis=0), mean(y), std(y)"
   ]
  },
  {
   "cell_type": "code",
   "execution_count": null,
   "metadata": {
    "scrolled": true
   },
   "outputs": [],
   "source": [
    "val_split = 0.1\n",
    "tn = int((1 - val_split) * n)\n",
    "vn = n - tn\n",
    "tx = x[:tn]\n",
    "ty = y[:tn]\n",
    "vx = x[tn:]\n",
    "vy = y[tn:]\n",
    "[ a.shape for a in [tx,ty,vx,vy] ]"
   ]
  },
  {
   "cell_type": "code",
   "execution_count": null,
   "metadata": {},
   "outputs": [],
   "source": [
    "from tensorflow.keras.layers import Input, SimpleRNN, Dense\n",
    "from tensorflow.keras import Sequential"
   ]
  },
  {
   "cell_type": "code",
   "execution_count": null,
   "metadata": {},
   "outputs": [],
   "source": [
    "model = Sequential()\n",
    "model.add(SimpleRNN(4, input_shape=(window, len(features))))\n",
    "model.add(Dense(1))\n",
    "model.build()\n",
    "model.compile(loss='mae', optimizer='adam')\n",
    "model.summary()"
   ]
  },
  {
   "cell_type": "code",
   "execution_count": null,
   "metadata": {},
   "outputs": [],
   "source": [
    "px = model.predict(vx)\n",
    "px.max() - px.min(), x[:10, -1, 0], y[:10], px[:10, -1]"
   ]
  },
  {
   "cell_type": "code",
   "execution_count": null,
   "metadata": {},
   "outputs": [],
   "source": [
    "mean(abs(tx[:, -1, avg] - ty)), mean(abs(vx[:, -1, avg] - vy)), mean(abs(x[:, -1, avg] - y))"
   ]
  },
  {
   "cell_type": "code",
   "execution_count": null,
   "metadata": {
    "scrolled": true
   },
   "outputs": [],
   "source": [
    "%%time\n",
    "model.fit(x, y, \n",
    "          validation_split=0.1,\n",
    "          batch_size=n,\n",
    "          epochs=100000)\n",
    "\n",
    "px = model.predict(x)\n",
    "res = np.swapaxes(array([x[:10, -1, 0], y[:10], px[:10, -1]]), 0, 1)\n",
    "px.max() - px.min(), res"
   ]
  },
  {
   "cell_type": "code",
   "execution_count": null,
   "metadata": {},
   "outputs": [],
   "source": [
    "w = model.get_weights(); w, [ l.shape for l in w ]"
   ]
  },
  {
   "cell_type": "code",
   "execution_count": null,
   "metadata": {},
   "outputs": [],
   "source": [
    "describe(ty)"
   ]
  }
 ],
 "metadata": {
  "kernelspec": {
   "display_name": "notebooks-3.7.4",
   "language": "python",
   "name": "notebooks-3.7.4"
  },
  "language_info": {
   "codemirror_mode": {
    "name": "ipython",
    "version": 3
   },
   "file_extension": ".py",
   "mimetype": "text/x-python",
   "name": "python",
   "nbconvert_exporter": "python",
   "pygments_lexer": "ipython3",
   "version": "3.7.4"
  }
 },
 "nbformat": 4,
 "nbformat_minor": 2
}
